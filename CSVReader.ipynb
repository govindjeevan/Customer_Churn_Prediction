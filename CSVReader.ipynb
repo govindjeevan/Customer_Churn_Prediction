{
 "cells": [
  {
   "cell_type": "code",
   "execution_count": 1,
   "metadata": {},
   "outputs": [],
   "source": [
    "import csv\n",
    "\n",
    "\n",
    "def read_csv(filepath):\n",
    "    \"\"\"\n",
    "    This function reads the example dataset from a CSV file and returns a\n",
    "    list of lists.\n",
    "    \"\"\"\n",
    "    data = []\n",
    "\n",
    "    with open(filepath) as fd:\n",
    "        reader = csv.reader(fd, delimiter=',')\n",
    "\n",
    "        for row in reader:\n",
    "            row = [int(row[0]), row[1], row[2], int(row[3]), row[4],\n",
    "                   row[5], row[6], row[7], row[8], int(row[9]),\n",
    "                   int(row[10]), int(row[11]), row[12], row[13]]\n",
    "            data.append(list(map(lambda x: x.strip() if isinstance(x, str) else x, row)))\n",
    "\n",
    "    return data"
   ]
  },
  {
   "cell_type": "code",
   "execution_count": null,
   "metadata": {},
   "outputs": [],
   "source": []
  }
 ],
 "metadata": {
  "kernelspec": {
   "display_name": "Python 3",
   "language": "python",
   "name": "python3"
  },
  "language_info": {
   "codemirror_mode": {
    "name": "ipython",
    "version": 3
   },
   "file_extension": ".py",
   "mimetype": "text/x-python",
   "name": "python",
   "nbconvert_exporter": "python",
   "pygments_lexer": "ipython3",
   "version": "3.7.3"
  }
 },
 "nbformat": 4,
 "nbformat_minor": 2
}
