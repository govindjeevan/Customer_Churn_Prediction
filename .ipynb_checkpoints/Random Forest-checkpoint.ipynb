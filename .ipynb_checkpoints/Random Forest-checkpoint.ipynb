{
 "cells": [
  {
   "cell_type": "code",
   "execution_count": 1,
   "metadata": {},
   "outputs": [
    {
     "data": {
      "text/html": [
       "        <script type=\"text/javascript\">\n",
       "        window.PlotlyConfig = {MathJaxConfig: 'local'};\n",
       "        if (window.MathJax) {MathJax.Hub.Config({SVG: {font: \"STIX-Web\"}});}\n",
       "        if (typeof require !== 'undefined') {\n",
       "        require.undef(\"plotly\");\n",
       "        requirejs.config({\n",
       "            paths: {\n",
       "                'plotly': ['https://cdn.plot.ly/plotly-latest.min']\n",
       "            }\n",
       "        });\n",
       "        require(['plotly'], function(Plotly) {\n",
       "            window._Plotly = Plotly;\n",
       "        });\n",
       "        }\n",
       "        </script>\n",
       "        "
      ]
     },
     "metadata": {},
     "output_type": "display_data"
    },
    {
     "name": "stdout",
     "output_type": "stream",
     "text": [
      "Rows     :  7043\n",
      "Columns  :  21\n",
      "Rows     :  7032\n"
     ]
    },
    {
     "data": {
      "application/vnd.plotly.v1+json": {
       "config": {
        "linkText": "Export to plot.ly",
        "plotlyServerURL": "https://plot.ly",
        "showLink": false
       },
       "data": [
        {
         "domain": {
          "x": [
           0,
           0.48
          ]
         },
         "hole": 0.6,
         "hoverinfo": "label+percent+name",
         "labels": [
          "Female",
          "Male"
         ],
         "marker": {
          "line": {
           "color": "rgb(243,243,243)",
           "width": 2
          }
         },
         "name": "Churn Customers",
         "type": "pie",
         "values": [
          939,
          930
         ]
        },
        {
         "domain": {
          "x": [
           0.52,
           1
          ]
         },
         "hole": 0.6,
         "hoverinfo": "label+percent+name",
         "labels": [
          "Male",
          "Female"
         ],
         "marker": {
          "line": {
           "color": "rgb(243,243,243)",
           "width": 2
          }
         },
         "name": "Non churn customers",
         "type": "pie",
         "values": [
          2619,
          2544
         ]
        }
       ],
       "layout": {
        "annotations": [
         {
          "font": {
           "size": 13
          },
          "showarrow": false,
          "text": "churn customers",
          "x": 0.15,
          "y": 0.5
         },
         {
          "font": {
           "size": 13
          },
          "showarrow": false,
          "text": "Non churn customers",
          "x": 0.88,
          "y": 0.5
         }
        ],
        "paper_bgcolor": "rgb(243,243,243)",
        "plot_bgcolor": "rgb(243,243,243)",
        "template": {
         "data": {
          "bar": [
           {
            "error_x": {
             "color": "#2a3f5f"
            },
            "error_y": {
             "color": "#2a3f5f"
            },
            "marker": {
             "line": {
              "color": "#E5ECF6",
              "width": 0.5
             }
            },
            "type": "bar"
           }
          ],
          "barpolar": [
           {
            "marker": {
             "line": {
              "color": "#E5ECF6",
              "width": 0.5
             }
            },
            "type": "barpolar"
           }
          ],
          "carpet": [
           {
            "aaxis": {
             "endlinecolor": "#2a3f5f",
             "gridcolor": "white",
             "linecolor": "white",
             "minorgridcolor": "white",
             "startlinecolor": "#2a3f5f"
            },
            "baxis": {
             "endlinecolor": "#2a3f5f",
             "gridcolor": "white",
             "linecolor": "white",
             "minorgridcolor": "white",
             "startlinecolor": "#2a3f5f"
            },
            "type": "carpet"
           }
          ],
          "choropleth": [
           {
            "colorbar": {
             "outlinewidth": 0,
             "ticks": ""
            },
            "type": "choropleth"
           }
          ],
          "contour": [
           {
            "colorbar": {
             "outlinewidth": 0,
             "ticks": ""
            },
            "colorscale": [
             [
              0,
              "#0d0887"
             ],
             [
              0.1111111111111111,
              "#46039f"
             ],
             [
              0.2222222222222222,
              "#7201a8"
             ],
             [
              0.3333333333333333,
              "#9c179e"
             ],
             [
              0.4444444444444444,
              "#bd3786"
             ],
             [
              0.5555555555555556,
              "#d8576b"
             ],
             [
              0.6666666666666666,
              "#ed7953"
             ],
             [
              0.7777777777777778,
              "#fb9f3a"
             ],
             [
              0.8888888888888888,
              "#fdca26"
             ],
             [
              1,
              "#f0f921"
             ]
            ],
            "type": "contour"
           }
          ],
          "contourcarpet": [
           {
            "colorbar": {
             "outlinewidth": 0,
             "ticks": ""
            },
            "type": "contourcarpet"
           }
          ],
          "heatmap": [
           {
            "colorbar": {
             "outlinewidth": 0,
             "ticks": ""
            },
            "colorscale": [
             [
              0,
              "#0d0887"
             ],
             [
              0.1111111111111111,
              "#46039f"
             ],
             [
              0.2222222222222222,
              "#7201a8"
             ],
             [
              0.3333333333333333,
              "#9c179e"
             ],
             [
              0.4444444444444444,
              "#bd3786"
             ],
             [
              0.5555555555555556,
              "#d8576b"
             ],
             [
              0.6666666666666666,
              "#ed7953"
             ],
             [
              0.7777777777777778,
              "#fb9f3a"
             ],
             [
              0.8888888888888888,
              "#fdca26"
             ],
             [
              1,
              "#f0f921"
             ]
            ],
            "type": "heatmap"
           }
          ],
          "heatmapgl": [
           {
            "colorbar": {
             "outlinewidth": 0,
             "ticks": ""
            },
            "colorscale": [
             [
              0,
              "#0d0887"
             ],
             [
              0.1111111111111111,
              "#46039f"
             ],
             [
              0.2222222222222222,
              "#7201a8"
             ],
             [
              0.3333333333333333,
              "#9c179e"
             ],
             [
              0.4444444444444444,
              "#bd3786"
             ],
             [
              0.5555555555555556,
              "#d8576b"
             ],
             [
              0.6666666666666666,
              "#ed7953"
             ],
             [
              0.7777777777777778,
              "#fb9f3a"
             ],
             [
              0.8888888888888888,
              "#fdca26"
             ],
             [
              1,
              "#f0f921"
             ]
            ],
            "type": "heatmapgl"
           }
          ],
          "histogram": [
           {
            "marker": {
             "colorbar": {
              "outlinewidth": 0,
              "ticks": ""
             }
            },
            "type": "histogram"
           }
          ],
          "histogram2d": [
           {
            "colorbar": {
             "outlinewidth": 0,
             "ticks": ""
            },
            "colorscale": [
             [
              0,
              "#0d0887"
             ],
             [
              0.1111111111111111,
              "#46039f"
             ],
             [
              0.2222222222222222,
              "#7201a8"
             ],
             [
              0.3333333333333333,
              "#9c179e"
             ],
             [
              0.4444444444444444,
              "#bd3786"
             ],
             [
              0.5555555555555556,
              "#d8576b"
             ],
             [
              0.6666666666666666,
              "#ed7953"
             ],
             [
              0.7777777777777778,
              "#fb9f3a"
             ],
             [
              0.8888888888888888,
              "#fdca26"
             ],
             [
              1,
              "#f0f921"
             ]
            ],
            "type": "histogram2d"
           }
          ],
          "histogram2dcontour": [
           {
            "colorbar": {
             "outlinewidth": 0,
             "ticks": ""
            },
            "colorscale": [
             [
              0,
              "#0d0887"
             ],
             [
              0.1111111111111111,
              "#46039f"
             ],
             [
              0.2222222222222222,
              "#7201a8"
             ],
             [
              0.3333333333333333,
              "#9c179e"
             ],
             [
              0.4444444444444444,
              "#bd3786"
             ],
             [
              0.5555555555555556,
              "#d8576b"
             ],
             [
              0.6666666666666666,
              "#ed7953"
             ],
             [
              0.7777777777777778,
              "#fb9f3a"
             ],
             [
              0.8888888888888888,
              "#fdca26"
             ],
             [
              1,
              "#f0f921"
             ]
            ],
            "type": "histogram2dcontour"
           }
          ],
          "mesh3d": [
           {
            "colorbar": {
             "outlinewidth": 0,
             "ticks": ""
            },
            "type": "mesh3d"
           }
          ],
          "parcoords": [
           {
            "line": {
             "colorbar": {
              "outlinewidth": 0,
              "ticks": ""
             }
            },
            "type": "parcoords"
           }
          ],
          "scatter": [
           {
            "marker": {
             "colorbar": {
              "outlinewidth": 0,
              "ticks": ""
             }
            },
            "type": "scatter"
           }
          ],
          "scatter3d": [
           {
            "line": {
             "colorbar": {
              "outlinewidth": 0,
              "ticks": ""
             }
            },
            "marker": {
             "colorbar": {
              "outlinewidth": 0,
              "ticks": ""
             }
            },
            "type": "scatter3d"
           }
          ],
          "scattercarpet": [
           {
            "marker": {
             "colorbar": {
              "outlinewidth": 0,
              "ticks": ""
             }
            },
            "type": "scattercarpet"
           }
          ],
          "scattergeo": [
           {
            "marker": {
             "colorbar": {
              "outlinewidth": 0,
              "ticks": ""
             }
            },
            "type": "scattergeo"
           }
          ],
          "scattergl": [
           {
            "marker": {
             "colorbar": {
              "outlinewidth": 0,
              "ticks": ""
             }
            },
            "type": "scattergl"
           }
          ],
          "scattermapbox": [
           {
            "marker": {
             "colorbar": {
              "outlinewidth": 0,
              "ticks": ""
             }
            },
            "type": "scattermapbox"
           }
          ],
          "scatterpolar": [
           {
            "marker": {
             "colorbar": {
              "outlinewidth": 0,
              "ticks": ""
             }
            },
            "type": "scatterpolar"
           }
          ],
          "scatterpolargl": [
           {
            "marker": {
             "colorbar": {
              "outlinewidth": 0,
              "ticks": ""
             }
            },
            "type": "scatterpolargl"
           }
          ],
          "scatterternary": [
           {
            "marker": {
             "colorbar": {
              "outlinewidth": 0,
              "ticks": ""
             }
            },
            "type": "scatterternary"
           }
          ],
          "surface": [
           {
            "colorbar": {
             "outlinewidth": 0,
             "ticks": ""
            },
            "colorscale": [
             [
              0,
              "#0d0887"
             ],
             [
              0.1111111111111111,
              "#46039f"
             ],
             [
              0.2222222222222222,
              "#7201a8"
             ],
             [
              0.3333333333333333,
              "#9c179e"
             ],
             [
              0.4444444444444444,
              "#bd3786"
             ],
             [
              0.5555555555555556,
              "#d8576b"
             ],
             [
              0.6666666666666666,
              "#ed7953"
             ],
             [
              0.7777777777777778,
              "#fb9f3a"
             ],
             [
              0.8888888888888888,
              "#fdca26"
             ],
             [
              1,
              "#f0f921"
             ]
            ],
            "type": "surface"
           }
          ],
          "table": [
           {
            "cells": {
             "fill": {
              "color": "#EBF0F8"
             },
             "line": {
              "color": "white"
             }
            },
            "header": {
             "fill": {
              "color": "#C8D4E3"
             },
             "line": {
              "color": "white"
             }
            },
            "type": "table"
           }
          ]
         },
         "layout": {
          "annotationdefaults": {
           "arrowcolor": "#2a3f5f",
           "arrowhead": 0,
           "arrowwidth": 1
          },
          "colorscale": {
           "diverging": [
            [
             0,
             "#8e0152"
            ],
            [
             0.1,
             "#c51b7d"
            ],
            [
             0.2,
             "#de77ae"
            ],
            [
             0.3,
             "#f1b6da"
            ],
            [
             0.4,
             "#fde0ef"
            ],
            [
             0.5,
             "#f7f7f7"
            ],
            [
             0.6,
             "#e6f5d0"
            ],
            [
             0.7,
             "#b8e186"
            ],
            [
             0.8,
             "#7fbc41"
            ],
            [
             0.9,
             "#4d9221"
            ],
            [
             1,
             "#276419"
            ]
           ],
           "sequential": [
            [
             0,
             "#0d0887"
            ],
            [
             0.1111111111111111,
             "#46039f"
            ],
            [
             0.2222222222222222,
             "#7201a8"
            ],
            [
             0.3333333333333333,
             "#9c179e"
            ],
            [
             0.4444444444444444,
             "#bd3786"
            ],
            [
             0.5555555555555556,
             "#d8576b"
            ],
            [
             0.6666666666666666,
             "#ed7953"
            ],
            [
             0.7777777777777778,
             "#fb9f3a"
            ],
            [
             0.8888888888888888,
             "#fdca26"
            ],
            [
             1,
             "#f0f921"
            ]
           ],
           "sequentialminus": [
            [
             0,
             "#0d0887"
            ],
            [
             0.1111111111111111,
             "#46039f"
            ],
            [
             0.2222222222222222,
             "#7201a8"
            ],
            [
             0.3333333333333333,
             "#9c179e"
            ],
            [
             0.4444444444444444,
             "#bd3786"
            ],
            [
             0.5555555555555556,
             "#d8576b"
            ],
            [
             0.6666666666666666,
             "#ed7953"
            ],
            [
             0.7777777777777778,
             "#fb9f3a"
            ],
            [
             0.8888888888888888,
             "#fdca26"
            ],
            [
             1,
             "#f0f921"
            ]
           ]
          },
          "colorway": [
           "#636efa",
           "#EF553B",
           "#00cc96",
           "#ab63fa",
           "#FFA15A",
           "#19d3f3",
           "#FF6692",
           "#B6E880",
           "#FF97FF",
           "#FECB52"
          ],
          "font": {
           "color": "#2a3f5f"
          },
          "geo": {
           "bgcolor": "white",
           "lakecolor": "white",
           "landcolor": "#E5ECF6",
           "showlakes": true,
           "showland": true,
           "subunitcolor": "white"
          },
          "hoverlabel": {
           "align": "left"
          },
          "hovermode": "closest",
          "mapbox": {
           "style": "light"
          },
          "paper_bgcolor": "white",
          "plot_bgcolor": "#E5ECF6",
          "polar": {
           "angularaxis": {
            "gridcolor": "white",
            "linecolor": "white",
            "ticks": ""
           },
           "bgcolor": "#E5ECF6",
           "radialaxis": {
            "gridcolor": "white",
            "linecolor": "white",
            "ticks": ""
           }
          },
          "scene": {
           "xaxis": {
            "backgroundcolor": "#E5ECF6",
            "gridcolor": "white",
            "gridwidth": 2,
            "linecolor": "white",
            "showbackground": true,
            "ticks": "",
            "zerolinecolor": "white"
           },
           "yaxis": {
            "backgroundcolor": "#E5ECF6",
            "gridcolor": "white",
            "gridwidth": 2,
            "linecolor": "white",
            "showbackground": true,
            "ticks": "",
            "zerolinecolor": "white"
           },
           "zaxis": {
            "backgroundcolor": "#E5ECF6",
            "gridcolor": "white",
            "gridwidth": 2,
            "linecolor": "white",
            "showbackground": true,
            "ticks": "",
            "zerolinecolor": "white"
           }
          },
          "shapedefaults": {
           "line": {
            "color": "#2a3f5f"
           }
          },
          "ternary": {
           "aaxis": {
            "gridcolor": "white",
            "linecolor": "white",
            "ticks": ""
           },
           "baxis": {
            "gridcolor": "white",
            "linecolor": "white",
            "ticks": ""
           },
           "bgcolor": "#E5ECF6",
           "caxis": {
            "gridcolor": "white",
            "linecolor": "white",
            "ticks": ""
           }
          },
          "title": {
           "x": 0.05
          },
          "xaxis": {
           "automargin": true,
           "gridcolor": "white",
           "linecolor": "white",
           "ticks": "",
           "zerolinecolor": "white",
           "zerolinewidth": 2
          },
          "yaxis": {
           "automargin": true,
           "gridcolor": "white",
           "linecolor": "white",
           "ticks": "",
           "zerolinecolor": "white",
           "zerolinewidth": 2
          }
         }
        },
        "title": {
         "text": "gender distribution in customer attrition "
        }
       }
      },
      "text/html": [
       "<div>\n",
       "        \n",
       "        \n",
       "            <div id=\"6fbe8f7a-5e64-49a4-bce2-4f299fd27d65\" class=\"plotly-graph-div\" style=\"height:525px; width:100%;\"></div>\n",
       "            <script type=\"text/javascript\">\n",
       "                require([\"plotly\"], function(Plotly) {\n",
       "                    window.PLOTLYENV=window.PLOTLYENV || {};\n",
       "                    \n",
       "                if (document.getElementById(\"6fbe8f7a-5e64-49a4-bce2-4f299fd27d65\")) {\n",
       "                    Plotly.newPlot(\n",
       "                        '6fbe8f7a-5e64-49a4-bce2-4f299fd27d65',\n",
       "                        [{\"domain\": {\"x\": [0, 0.48]}, \"hole\": 0.6, \"hoverinfo\": \"label+percent+name\", \"labels\": [\"Female\", \"Male\"], \"marker\": {\"line\": {\"color\": \"rgb(243,243,243)\", \"width\": 2}}, \"name\": \"Churn Customers\", \"type\": \"pie\", \"values\": [939, 930]}, {\"domain\": {\"x\": [0.52, 1]}, \"hole\": 0.6, \"hoverinfo\": \"label+percent+name\", \"labels\": [\"Male\", \"Female\"], \"marker\": {\"line\": {\"color\": \"rgb(243,243,243)\", \"width\": 2}}, \"name\": \"Non churn customers\", \"type\": \"pie\", \"values\": [2619, 2544]}],\n",
       "                        {\"annotations\": [{\"font\": {\"size\": 13}, \"showarrow\": false, \"text\": \"churn customers\", \"x\": 0.15, \"y\": 0.5}, {\"font\": {\"size\": 13}, \"showarrow\": false, \"text\": \"Non churn customers\", \"x\": 0.88, \"y\": 0.5}], \"paper_bgcolor\": \"rgb(243,243,243)\", \"plot_bgcolor\": \"rgb(243,243,243)\", \"template\": {\"data\": {\"bar\": [{\"error_x\": {\"color\": \"#2a3f5f\"}, \"error_y\": {\"color\": \"#2a3f5f\"}, \"marker\": {\"line\": {\"color\": \"#E5ECF6\", \"width\": 0.5}}, \"type\": \"bar\"}], \"barpolar\": [{\"marker\": {\"line\": {\"color\": \"#E5ECF6\", \"width\": 0.5}}, \"type\": \"barpolar\"}], \"carpet\": [{\"aaxis\": {\"endlinecolor\": \"#2a3f5f\", \"gridcolor\": \"white\", \"linecolor\": \"white\", \"minorgridcolor\": \"white\", \"startlinecolor\": \"#2a3f5f\"}, \"baxis\": {\"endlinecolor\": \"#2a3f5f\", \"gridcolor\": \"white\", \"linecolor\": \"white\", \"minorgridcolor\": \"white\", \"startlinecolor\": \"#2a3f5f\"}, \"type\": \"carpet\"}], \"choropleth\": [{\"colorbar\": {\"outlinewidth\": 0, \"ticks\": \"\"}, \"type\": \"choropleth\"}], \"contour\": [{\"colorbar\": {\"outlinewidth\": 0, \"ticks\": \"\"}, \"colorscale\": [[0.0, \"#0d0887\"], [0.1111111111111111, \"#46039f\"], [0.2222222222222222, \"#7201a8\"], [0.3333333333333333, \"#9c179e\"], [0.4444444444444444, \"#bd3786\"], [0.5555555555555556, \"#d8576b\"], [0.6666666666666666, \"#ed7953\"], [0.7777777777777778, \"#fb9f3a\"], [0.8888888888888888, \"#fdca26\"], [1.0, \"#f0f921\"]], \"type\": \"contour\"}], \"contourcarpet\": [{\"colorbar\": {\"outlinewidth\": 0, \"ticks\": \"\"}, \"type\": \"contourcarpet\"}], \"heatmap\": [{\"colorbar\": {\"outlinewidth\": 0, \"ticks\": \"\"}, \"colorscale\": [[0.0, \"#0d0887\"], [0.1111111111111111, \"#46039f\"], [0.2222222222222222, \"#7201a8\"], [0.3333333333333333, \"#9c179e\"], [0.4444444444444444, \"#bd3786\"], [0.5555555555555556, \"#d8576b\"], [0.6666666666666666, \"#ed7953\"], [0.7777777777777778, \"#fb9f3a\"], [0.8888888888888888, \"#fdca26\"], [1.0, \"#f0f921\"]], \"type\": \"heatmap\"}], \"heatmapgl\": [{\"colorbar\": {\"outlinewidth\": 0, \"ticks\": \"\"}, \"colorscale\": [[0.0, \"#0d0887\"], [0.1111111111111111, \"#46039f\"], [0.2222222222222222, \"#7201a8\"], [0.3333333333333333, \"#9c179e\"], [0.4444444444444444, \"#bd3786\"], [0.5555555555555556, \"#d8576b\"], [0.6666666666666666, \"#ed7953\"], [0.7777777777777778, \"#fb9f3a\"], [0.8888888888888888, \"#fdca26\"], [1.0, \"#f0f921\"]], \"type\": \"heatmapgl\"}], \"histogram\": [{\"marker\": {\"colorbar\": {\"outlinewidth\": 0, \"ticks\": \"\"}}, \"type\": \"histogram\"}], \"histogram2d\": [{\"colorbar\": {\"outlinewidth\": 0, \"ticks\": \"\"}, \"colorscale\": [[0.0, \"#0d0887\"], [0.1111111111111111, \"#46039f\"], [0.2222222222222222, \"#7201a8\"], [0.3333333333333333, \"#9c179e\"], [0.4444444444444444, \"#bd3786\"], [0.5555555555555556, \"#d8576b\"], [0.6666666666666666, \"#ed7953\"], [0.7777777777777778, \"#fb9f3a\"], [0.8888888888888888, \"#fdca26\"], [1.0, \"#f0f921\"]], \"type\": \"histogram2d\"}], \"histogram2dcontour\": [{\"colorbar\": {\"outlinewidth\": 0, \"ticks\": \"\"}, \"colorscale\": [[0.0, \"#0d0887\"], [0.1111111111111111, \"#46039f\"], [0.2222222222222222, \"#7201a8\"], [0.3333333333333333, \"#9c179e\"], [0.4444444444444444, \"#bd3786\"], [0.5555555555555556, \"#d8576b\"], [0.6666666666666666, \"#ed7953\"], [0.7777777777777778, \"#fb9f3a\"], [0.8888888888888888, \"#fdca26\"], [1.0, \"#f0f921\"]], \"type\": \"histogram2dcontour\"}], \"mesh3d\": [{\"colorbar\": {\"outlinewidth\": 0, \"ticks\": \"\"}, \"type\": \"mesh3d\"}], \"parcoords\": [{\"line\": {\"colorbar\": {\"outlinewidth\": 0, \"ticks\": \"\"}}, \"type\": \"parcoords\"}], \"scatter\": [{\"marker\": {\"colorbar\": {\"outlinewidth\": 0, \"ticks\": \"\"}}, \"type\": \"scatter\"}], \"scatter3d\": [{\"line\": {\"colorbar\": {\"outlinewidth\": 0, \"ticks\": \"\"}}, \"marker\": {\"colorbar\": {\"outlinewidth\": 0, \"ticks\": \"\"}}, \"type\": \"scatter3d\"}], \"scattercarpet\": [{\"marker\": {\"colorbar\": {\"outlinewidth\": 0, \"ticks\": \"\"}}, \"type\": \"scattercarpet\"}], \"scattergeo\": [{\"marker\": {\"colorbar\": {\"outlinewidth\": 0, \"ticks\": \"\"}}, \"type\": \"scattergeo\"}], \"scattergl\": [{\"marker\": {\"colorbar\": {\"outlinewidth\": 0, \"ticks\": \"\"}}, \"type\": \"scattergl\"}], \"scattermapbox\": [{\"marker\": {\"colorbar\": {\"outlinewidth\": 0, \"ticks\": \"\"}}, \"type\": \"scattermapbox\"}], \"scatterpolar\": [{\"marker\": {\"colorbar\": {\"outlinewidth\": 0, \"ticks\": \"\"}}, \"type\": \"scatterpolar\"}], \"scatterpolargl\": [{\"marker\": {\"colorbar\": {\"outlinewidth\": 0, \"ticks\": \"\"}}, \"type\": \"scatterpolargl\"}], \"scatterternary\": [{\"marker\": {\"colorbar\": {\"outlinewidth\": 0, \"ticks\": \"\"}}, \"type\": \"scatterternary\"}], \"surface\": [{\"colorbar\": {\"outlinewidth\": 0, \"ticks\": \"\"}, \"colorscale\": [[0.0, \"#0d0887\"], [0.1111111111111111, \"#46039f\"], [0.2222222222222222, \"#7201a8\"], [0.3333333333333333, \"#9c179e\"], [0.4444444444444444, \"#bd3786\"], [0.5555555555555556, \"#d8576b\"], [0.6666666666666666, \"#ed7953\"], [0.7777777777777778, \"#fb9f3a\"], [0.8888888888888888, \"#fdca26\"], [1.0, \"#f0f921\"]], \"type\": \"surface\"}], \"table\": [{\"cells\": {\"fill\": {\"color\": \"#EBF0F8\"}, \"line\": {\"color\": \"white\"}}, \"header\": {\"fill\": {\"color\": \"#C8D4E3\"}, \"line\": {\"color\": \"white\"}}, \"type\": \"table\"}]}, \"layout\": {\"annotationdefaults\": {\"arrowcolor\": \"#2a3f5f\", \"arrowhead\": 0, \"arrowwidth\": 1}, \"colorscale\": {\"diverging\": [[0, \"#8e0152\"], [0.1, \"#c51b7d\"], [0.2, \"#de77ae\"], [0.3, \"#f1b6da\"], [0.4, \"#fde0ef\"], [0.5, \"#f7f7f7\"], [0.6, \"#e6f5d0\"], [0.7, \"#b8e186\"], [0.8, \"#7fbc41\"], [0.9, \"#4d9221\"], [1, \"#276419\"]], \"sequential\": [[0.0, \"#0d0887\"], [0.1111111111111111, \"#46039f\"], [0.2222222222222222, \"#7201a8\"], [0.3333333333333333, \"#9c179e\"], [0.4444444444444444, \"#bd3786\"], [0.5555555555555556, \"#d8576b\"], [0.6666666666666666, \"#ed7953\"], [0.7777777777777778, \"#fb9f3a\"], [0.8888888888888888, \"#fdca26\"], [1.0, \"#f0f921\"]], \"sequentialminus\": [[0.0, \"#0d0887\"], [0.1111111111111111, \"#46039f\"], [0.2222222222222222, \"#7201a8\"], [0.3333333333333333, \"#9c179e\"], [0.4444444444444444, \"#bd3786\"], [0.5555555555555556, \"#d8576b\"], [0.6666666666666666, \"#ed7953\"], [0.7777777777777778, \"#fb9f3a\"], [0.8888888888888888, \"#fdca26\"], [1.0, \"#f0f921\"]]}, \"colorway\": [\"#636efa\", \"#EF553B\", \"#00cc96\", \"#ab63fa\", \"#FFA15A\", \"#19d3f3\", \"#FF6692\", \"#B6E880\", \"#FF97FF\", \"#FECB52\"], \"font\": {\"color\": \"#2a3f5f\"}, \"geo\": {\"bgcolor\": \"white\", \"lakecolor\": \"white\", \"landcolor\": \"#E5ECF6\", \"showlakes\": true, \"showland\": true, \"subunitcolor\": \"white\"}, \"hoverlabel\": {\"align\": \"left\"}, \"hovermode\": \"closest\", \"mapbox\": {\"style\": \"light\"}, \"paper_bgcolor\": \"white\", \"plot_bgcolor\": \"#E5ECF6\", \"polar\": {\"angularaxis\": {\"gridcolor\": \"white\", \"linecolor\": \"white\", \"ticks\": \"\"}, \"bgcolor\": \"#E5ECF6\", \"radialaxis\": {\"gridcolor\": \"white\", \"linecolor\": \"white\", \"ticks\": \"\"}}, \"scene\": {\"xaxis\": {\"backgroundcolor\": \"#E5ECF6\", \"gridcolor\": \"white\", \"gridwidth\": 2, \"linecolor\": \"white\", \"showbackground\": true, \"ticks\": \"\", \"zerolinecolor\": \"white\"}, \"yaxis\": {\"backgroundcolor\": \"#E5ECF6\", \"gridcolor\": \"white\", \"gridwidth\": 2, \"linecolor\": \"white\", \"showbackground\": true, \"ticks\": \"\", \"zerolinecolor\": \"white\"}, \"zaxis\": {\"backgroundcolor\": \"#E5ECF6\", \"gridcolor\": \"white\", \"gridwidth\": 2, \"linecolor\": \"white\", \"showbackground\": true, \"ticks\": \"\", \"zerolinecolor\": \"white\"}}, \"shapedefaults\": {\"line\": {\"color\": \"#2a3f5f\"}}, \"ternary\": {\"aaxis\": {\"gridcolor\": \"white\", \"linecolor\": \"white\", \"ticks\": \"\"}, \"baxis\": {\"gridcolor\": \"white\", \"linecolor\": \"white\", \"ticks\": \"\"}, \"bgcolor\": \"#E5ECF6\", \"caxis\": {\"gridcolor\": \"white\", \"linecolor\": \"white\", \"ticks\": \"\"}}, \"title\": {\"x\": 0.05}, \"xaxis\": {\"automargin\": true, \"gridcolor\": \"white\", \"linecolor\": \"white\", \"ticks\": \"\", \"zerolinecolor\": \"white\", \"zerolinewidth\": 2}, \"yaxis\": {\"automargin\": true, \"gridcolor\": \"white\", \"linecolor\": \"white\", \"ticks\": \"\", \"zerolinecolor\": \"white\", \"zerolinewidth\": 2}}}, \"title\": {\"text\": \"gender distribution in customer attrition \"}},\n",
       "                        {\"responsive\": true}\n",
       "                    ).then(function(){\n",
       "                            \n",
       "var gd = document.getElementById('6fbe8f7a-5e64-49a4-bce2-4f299fd27d65');\n",
       "var x = new MutationObserver(function (mutations, observer) {{\n",
       "        var display = window.getComputedStyle(gd).display;\n",
       "        if (!display || display === 'none') {{\n",
       "            console.log([gd, 'removed!']);\n",
       "            Plotly.purge(gd);\n",
       "            observer.disconnect();\n",
       "        }}\n",
       "}});\n",
       "\n",
       "// Listen for the removal of the full notebook cells\n",
       "var notebookContainer = gd.closest('#notebook-container');\n",
       "if (notebookContainer) {{\n",
       "    x.observe(notebookContainer, {childList: true});\n",
       "}}\n",
       "\n",
       "// Listen for the clearing of the current output cell\n",
       "var outputEl = gd.closest('.output');\n",
       "if (outputEl) {{\n",
       "    x.observe(outputEl, {childList: true});\n",
       "}}\n",
       "\n",
       "                        })\n",
       "                };\n",
       "                });\n",
       "            </script>\n",
       "        </div>"
      ]
     },
     "metadata": {},
     "output_type": "display_data"
    },
    {
     "data": {
      "application/vnd.plotly.v1+json": {
       "config": {
        "linkText": "Export to plot.ly",
        "plotlyServerURL": "https://plot.ly",
        "showLink": false
       },
       "data": [
        {
         "domain": {
          "x": [
           0,
           0.48
          ]
         },
         "hole": 0.6,
         "hoverinfo": "label+percent+name",
         "labels": [
          "No",
          "Yes"
         ],
         "marker": {
          "line": {
           "color": "rgb(243,243,243)",
           "width": 2
          }
         },
         "name": "Churn Customers",
         "type": "pie",
         "values": [
          1393,
          476
         ]
        },
        {
         "domain": {
          "x": [
           0.52,
           1
          ]
         },
         "hole": 0.6,
         "hoverinfo": "label+percent+name",
         "labels": [
          "No",
          "Yes"
         ],
         "marker": {
          "line": {
           "color": "rgb(243,243,243)",
           "width": 2
          }
         },
         "name": "Non churn customers",
         "type": "pie",
         "values": [
          4497,
          666
         ]
        }
       ],
       "layout": {
        "annotations": [
         {
          "font": {
           "size": 13
          },
          "showarrow": false,
          "text": "churn customers",
          "x": 0.15,
          "y": 0.5
         },
         {
          "font": {
           "size": 13
          },
          "showarrow": false,
          "text": "Non churn customers",
          "x": 0.88,
          "y": 0.5
         }
        ],
        "paper_bgcolor": "rgb(243,243,243)",
        "plot_bgcolor": "rgb(243,243,243)",
        "template": {
         "data": {
          "bar": [
           {
            "error_x": {
             "color": "#2a3f5f"
            },
            "error_y": {
             "color": "#2a3f5f"
            },
            "marker": {
             "line": {
              "color": "#E5ECF6",
              "width": 0.5
             }
            },
            "type": "bar"
           }
          ],
          "barpolar": [
           {
            "marker": {
             "line": {
              "color": "#E5ECF6",
              "width": 0.5
             }
            },
            "type": "barpolar"
           }
          ],
          "carpet": [
           {
            "aaxis": {
             "endlinecolor": "#2a3f5f",
             "gridcolor": "white",
             "linecolor": "white",
             "minorgridcolor": "white",
             "startlinecolor": "#2a3f5f"
            },
            "baxis": {
             "endlinecolor": "#2a3f5f",
             "gridcolor": "white",
             "linecolor": "white",
             "minorgridcolor": "white",
             "startlinecolor": "#2a3f5f"
            },
            "type": "carpet"
           }
          ],
          "choropleth": [
           {
            "colorbar": {
             "outlinewidth": 0,
             "ticks": ""
            },
            "type": "choropleth"
           }
          ],
          "contour": [
           {
            "colorbar": {
             "outlinewidth": 0,
             "ticks": ""
            },
            "colorscale": [
             [
              0,
              "#0d0887"
             ],
             [
              0.1111111111111111,
              "#46039f"
             ],
             [
              0.2222222222222222,
              "#7201a8"
             ],
             [
              0.3333333333333333,
              "#9c179e"
             ],
             [
              0.4444444444444444,
              "#bd3786"
             ],
             [
              0.5555555555555556,
              "#d8576b"
             ],
             [
              0.6666666666666666,
              "#ed7953"
             ],
             [
              0.7777777777777778,
              "#fb9f3a"
             ],
             [
              0.8888888888888888,
              "#fdca26"
             ],
             [
              1,
              "#f0f921"
             ]
            ],
            "type": "contour"
           }
          ],
          "contourcarpet": [
           {
            "colorbar": {
             "outlinewidth": 0,
             "ticks": ""
            },
            "type": "contourcarpet"
           }
          ],
          "heatmap": [
           {
            "colorbar": {
             "outlinewidth": 0,
             "ticks": ""
            },
            "colorscale": [
             [
              0,
              "#0d0887"
             ],
             [
              0.1111111111111111,
              "#46039f"
             ],
             [
              0.2222222222222222,
              "#7201a8"
             ],
             [
              0.3333333333333333,
              "#9c179e"
             ],
             [
              0.4444444444444444,
              "#bd3786"
             ],
             [
              0.5555555555555556,
              "#d8576b"
             ],
             [
              0.6666666666666666,
              "#ed7953"
             ],
             [
              0.7777777777777778,
              "#fb9f3a"
             ],
             [
              0.8888888888888888,
              "#fdca26"
             ],
             [
              1,
              "#f0f921"
             ]
            ],
            "type": "heatmap"
           }
          ],
          "heatmapgl": [
           {
            "colorbar": {
             "outlinewidth": 0,
             "ticks": ""
            },
            "colorscale": [
             [
              0,
              "#0d0887"
             ],
             [
              0.1111111111111111,
              "#46039f"
             ],
             [
              0.2222222222222222,
              "#7201a8"
             ],
             [
              0.3333333333333333,
              "#9c179e"
             ],
             [
              0.4444444444444444,
              "#bd3786"
             ],
             [
              0.5555555555555556,
              "#d8576b"
             ],
             [
              0.6666666666666666,
              "#ed7953"
             ],
             [
              0.7777777777777778,
              "#fb9f3a"
             ],
             [
              0.8888888888888888,
              "#fdca26"
             ],
             [
              1,
              "#f0f921"
             ]
            ],
            "type": "heatmapgl"
           }
          ],
          "histogram": [
           {
            "marker": {
             "colorbar": {
              "outlinewidth": 0,
              "ticks": ""
             }
            },
            "type": "histogram"
           }
          ],
          "histogram2d": [
           {
            "colorbar": {
             "outlinewidth": 0,
             "ticks": ""
            },
            "colorscale": [
             [
              0,
              "#0d0887"
             ],
             [
              0.1111111111111111,
              "#46039f"
             ],
             [
              0.2222222222222222,
              "#7201a8"
             ],
             [
              0.3333333333333333,
              "#9c179e"
             ],
             [
              0.4444444444444444,
              "#bd3786"
             ],
             [
              0.5555555555555556,
              "#d8576b"
             ],
             [
              0.6666666666666666,
              "#ed7953"
             ],
             [
              0.7777777777777778,
              "#fb9f3a"
             ],
             [
              0.8888888888888888,
              "#fdca26"
             ],
             [
              1,
              "#f0f921"
             ]
            ],
            "type": "histogram2d"
           }
          ],
          "histogram2dcontour": [
           {
            "colorbar": {
             "outlinewidth": 0,
             "ticks": ""
            },
            "colorscale": [
             [
              0,
              "#0d0887"
             ],
             [
              0.1111111111111111,
              "#46039f"
             ],
             [
              0.2222222222222222,
              "#7201a8"
             ],
             [
              0.3333333333333333,
              "#9c179e"
             ],
             [
              0.4444444444444444,
              "#bd3786"
             ],
             [
              0.5555555555555556,
              "#d8576b"
             ],
             [
              0.6666666666666666,
              "#ed7953"
             ],
             [
              0.7777777777777778,
              "#fb9f3a"
             ],
             [
              0.8888888888888888,
              "#fdca26"
             ],
             [
              1,
              "#f0f921"
             ]
            ],
            "type": "histogram2dcontour"
           }
          ],
          "mesh3d": [
           {
            "colorbar": {
             "outlinewidth": 0,
             "ticks": ""
            },
            "type": "mesh3d"
           }
          ],
          "parcoords": [
           {
            "line": {
             "colorbar": {
              "outlinewidth": 0,
              "ticks": ""
             }
            },
            "type": "parcoords"
           }
          ],
          "scatter": [
           {
            "marker": {
             "colorbar": {
              "outlinewidth": 0,
              "ticks": ""
             }
            },
            "type": "scatter"
           }
          ],
          "scatter3d": [
           {
            "line": {
             "colorbar": {
              "outlinewidth": 0,
              "ticks": ""
             }
            },
            "marker": {
             "colorbar": {
              "outlinewidth": 0,
              "ticks": ""
             }
            },
            "type": "scatter3d"
           }
          ],
          "scattercarpet": [
           {
            "marker": {
             "colorbar": {
              "outlinewidth": 0,
              "ticks": ""
             }
            },
            "type": "scattercarpet"
           }
          ],
          "scattergeo": [
           {
            "marker": {
             "colorbar": {
              "outlinewidth": 0,
              "ticks": ""
             }
            },
            "type": "scattergeo"
           }
          ],
          "scattergl": [
           {
            "marker": {
             "colorbar": {
              "outlinewidth": 0,
              "ticks": ""
             }
            },
            "type": "scattergl"
           }
          ],
          "scattermapbox": [
           {
            "marker": {
             "colorbar": {
              "outlinewidth": 0,
              "ticks": ""
             }
            },
            "type": "scattermapbox"
           }
          ],
          "scatterpolar": [
           {
            "marker": {
             "colorbar": {
              "outlinewidth": 0,
              "ticks": ""
             }
            },
            "type": "scatterpolar"
           }
          ],
          "scatterpolargl": [
           {
            "marker": {
             "colorbar": {
              "outlinewidth": 0,
              "ticks": ""
             }
            },
            "type": "scatterpolargl"
           }
          ],
          "scatterternary": [
           {
            "marker": {
             "colorbar": {
              "outlinewidth": 0,
              "ticks": ""
             }
            },
            "type": "scatterternary"
           }
          ],
          "surface": [
           {
            "colorbar": {
             "outlinewidth": 0,
             "ticks": ""
            },
            "colorscale": [
             [
              0,
              "#0d0887"
             ],
             [
              0.1111111111111111,
              "#46039f"
             ],
             [
              0.2222222222222222,
              "#7201a8"
             ],
             [
              0.3333333333333333,
              "#9c179e"
             ],
             [
              0.4444444444444444,
              "#bd3786"
             ],
             [
              0.5555555555555556,
              "#d8576b"
             ],
             [
              0.6666666666666666,
              "#ed7953"
             ],
             [
              0.7777777777777778,
              "#fb9f3a"
             ],
             [
              0.8888888888888888,
              "#fdca26"
             ],
             [
              1,
              "#f0f921"
             ]
            ],
            "type": "surface"
           }
          ],
          "table": [
           {
            "cells": {
             "fill": {
              "color": "#EBF0F8"
             },
             "line": {
              "color": "white"
             }
            },
            "header": {
             "fill": {
              "color": "#C8D4E3"
             },
             "line": {
              "color": "white"
             }
            },
            "type": "table"
           }
          ]
         },
         "layout": {
          "annotationdefaults": {
           "arrowcolor": "#2a3f5f",
           "arrowhead": 0,
           "arrowwidth": 1
          },
          "colorscale": {
           "diverging": [
            [
             0,
             "#8e0152"
            ],
            [
             0.1,
             "#c51b7d"
            ],
            [
             0.2,
             "#de77ae"
            ],
            [
             0.3,
             "#f1b6da"
            ],
            [
             0.4,
             "#fde0ef"
            ],
            [
             0.5,
             "#f7f7f7"
            ],
            [
             0.6,
             "#e6f5d0"
            ],
            [
             0.7,
             "#b8e186"
            ],
            [
             0.8,
             "#7fbc41"
            ],
            [
             0.9,
             "#4d9221"
            ],
            [
             1,
             "#276419"
            ]
           ],
           "sequential": [
            [
             0,
             "#0d0887"
            ],
            [
             0.1111111111111111,
             "#46039f"
            ],
            [
             0.2222222222222222,
             "#7201a8"
            ],
            [
             0.3333333333333333,
             "#9c179e"
            ],
            [
             0.4444444444444444,
             "#bd3786"
            ],
            [
             0.5555555555555556,
             "#d8576b"
            ],
            [
             0.6666666666666666,
             "#ed7953"
            ],
            [
             0.7777777777777778,
             "#fb9f3a"
            ],
            [
             0.8888888888888888,
             "#fdca26"
            ],
            [
             1,
             "#f0f921"
            ]
           ],
           "sequentialminus": [
            [
             0,
             "#0d0887"
            ],
            [
             0.1111111111111111,
             "#46039f"
            ],
            [
             0.2222222222222222,
             "#7201a8"
            ],
            [
             0.3333333333333333,
             "#9c179e"
            ],
            [
             0.4444444444444444,
             "#bd3786"
            ],
            [
             0.5555555555555556,
             "#d8576b"
            ],
            [
             0.6666666666666666,
             "#ed7953"
            ],
            [
             0.7777777777777778,
             "#fb9f3a"
            ],
            [
             0.8888888888888888,
             "#fdca26"
            ],
            [
             1,
             "#f0f921"
            ]
           ]
          },
          "colorway": [
           "#636efa",
           "#EF553B",
           "#00cc96",
           "#ab63fa",
           "#FFA15A",
           "#19d3f3",
           "#FF6692",
           "#B6E880",
           "#FF97FF",
           "#FECB52"
          ],
          "font": {
           "color": "#2a3f5f"
          },
          "geo": {
           "bgcolor": "white",
           "lakecolor": "white",
           "landcolor": "#E5ECF6",
           "showlakes": true,
           "showland": true,
           "subunitcolor": "white"
          },
          "hoverlabel": {
           "align": "left"
          },
          "hovermode": "closest",
          "mapbox": {
           "style": "light"
          },
          "paper_bgcolor": "white",
          "plot_bgcolor": "#E5ECF6",
          "polar": {
           "angularaxis": {
            "gridcolor": "white",
            "linecolor": "white",
            "ticks": ""
           },
           "bgcolor": "#E5ECF6",
           "radialaxis": {
            "gridcolor": "white",
            "linecolor": "white",
            "ticks": ""
           }
          },
          "scene": {
           "xaxis": {
            "backgroundcolor": "#E5ECF6",
            "gridcolor": "white",
            "gridwidth": 2,
            "linecolor": "white",
            "showbackground": true,
            "ticks": "",
            "zerolinecolor": "white"
           },
           "yaxis": {
            "backgroundcolor": "#E5ECF6",
            "gridcolor": "white",
            "gridwidth": 2,
            "linecolor": "white",
            "showbackground": true,
            "ticks": "",
            "zerolinecolor": "white"
           },
           "zaxis": {
            "backgroundcolor": "#E5ECF6",
            "gridcolor": "white",
            "gridwidth": 2,
            "linecolor": "white",
            "showbackground": true,
            "ticks": "",
            "zerolinecolor": "white"
           }
          },
          "shapedefaults": {
           "line": {
            "color": "#2a3f5f"
           }
          },
          "ternary": {
           "aaxis": {
            "gridcolor": "white",
            "linecolor": "white",
            "ticks": ""
           },
           "baxis": {
            "gridcolor": "white",
            "linecolor": "white",
            "ticks": ""
           },
           "bgcolor": "#E5ECF6",
           "caxis": {
            "gridcolor": "white",
            "linecolor": "white",
            "ticks": ""
           }
          },
          "title": {
           "x": 0.05
          },
          "xaxis": {
           "automargin": true,
           "gridcolor": "white",
           "linecolor": "white",
           "ticks": "",
           "zerolinecolor": "white",
           "zerolinewidth": 2
          },
          "yaxis": {
           "automargin": true,
           "gridcolor": "white",
           "linecolor": "white",
           "ticks": "",
           "zerolinecolor": "white",
           "zerolinewidth": 2
          }
         }
        },
        "title": {
         "text": "SeniorCitizen distribution in customer attrition "
        }
       }
      },
      "text/html": [
       "<div>\n",
       "        \n",
       "        \n",
       "            <div id=\"7ec05313-5360-4c11-948e-9fb50688f5bb\" class=\"plotly-graph-div\" style=\"height:525px; width:100%;\"></div>\n",
       "            <script type=\"text/javascript\">\n",
       "                require([\"plotly\"], function(Plotly) {\n",
       "                    window.PLOTLYENV=window.PLOTLYENV || {};\n",
       "                    \n",
       "                if (document.getElementById(\"7ec05313-5360-4c11-948e-9fb50688f5bb\")) {\n",
       "                    Plotly.newPlot(\n",
       "                        '7ec05313-5360-4c11-948e-9fb50688f5bb',\n",
       "                        [{\"domain\": {\"x\": [0, 0.48]}, \"hole\": 0.6, \"hoverinfo\": \"label+percent+name\", \"labels\": [\"No\", \"Yes\"], \"marker\": {\"line\": {\"color\": \"rgb(243,243,243)\", \"width\": 2}}, \"name\": \"Churn Customers\", \"type\": \"pie\", \"values\": [1393, 476]}, {\"domain\": {\"x\": [0.52, 1]}, \"hole\": 0.6, \"hoverinfo\": \"label+percent+name\", \"labels\": [\"No\", \"Yes\"], \"marker\": {\"line\": {\"color\": \"rgb(243,243,243)\", \"width\": 2}}, \"name\": \"Non churn customers\", \"type\": \"pie\", \"values\": [4497, 666]}],\n",
       "                        {\"annotations\": [{\"font\": {\"size\": 13}, \"showarrow\": false, \"text\": \"churn customers\", \"x\": 0.15, \"y\": 0.5}, {\"font\": {\"size\": 13}, \"showarrow\": false, \"text\": \"Non churn customers\", \"x\": 0.88, \"y\": 0.5}], \"paper_bgcolor\": \"rgb(243,243,243)\", \"plot_bgcolor\": \"rgb(243,243,243)\", \"template\": {\"data\": {\"bar\": [{\"error_x\": {\"color\": \"#2a3f5f\"}, \"error_y\": {\"color\": \"#2a3f5f\"}, \"marker\": {\"line\": {\"color\": \"#E5ECF6\", \"width\": 0.5}}, \"type\": \"bar\"}], \"barpolar\": [{\"marker\": {\"line\": {\"color\": \"#E5ECF6\", \"width\": 0.5}}, \"type\": \"barpolar\"}], \"carpet\": [{\"aaxis\": {\"endlinecolor\": \"#2a3f5f\", \"gridcolor\": \"white\", \"linecolor\": \"white\", \"minorgridcolor\": \"white\", \"startlinecolor\": \"#2a3f5f\"}, \"baxis\": {\"endlinecolor\": \"#2a3f5f\", \"gridcolor\": \"white\", \"linecolor\": \"white\", \"minorgridcolor\": \"white\", \"startlinecolor\": \"#2a3f5f\"}, \"type\": \"carpet\"}], \"choropleth\": [{\"colorbar\": {\"outlinewidth\": 0, \"ticks\": \"\"}, \"type\": \"choropleth\"}], \"contour\": [{\"colorbar\": {\"outlinewidth\": 0, \"ticks\": \"\"}, \"colorscale\": [[0.0, \"#0d0887\"], [0.1111111111111111, \"#46039f\"], [0.2222222222222222, \"#7201a8\"], [0.3333333333333333, \"#9c179e\"], [0.4444444444444444, \"#bd3786\"], [0.5555555555555556, \"#d8576b\"], [0.6666666666666666, \"#ed7953\"], [0.7777777777777778, \"#fb9f3a\"], [0.8888888888888888, \"#fdca26\"], [1.0, \"#f0f921\"]], \"type\": \"contour\"}], \"contourcarpet\": [{\"colorbar\": {\"outlinewidth\": 0, \"ticks\": \"\"}, \"type\": \"contourcarpet\"}], \"heatmap\": [{\"colorbar\": {\"outlinewidth\": 0, \"ticks\": \"\"}, \"colorscale\": [[0.0, \"#0d0887\"], [0.1111111111111111, \"#46039f\"], [0.2222222222222222, \"#7201a8\"], [0.3333333333333333, \"#9c179e\"], [0.4444444444444444, \"#bd3786\"], [0.5555555555555556, \"#d8576b\"], [0.6666666666666666, \"#ed7953\"], [0.7777777777777778, \"#fb9f3a\"], [0.8888888888888888, \"#fdca26\"], [1.0, \"#f0f921\"]], \"type\": \"heatmap\"}], \"heatmapgl\": [{\"colorbar\": {\"outlinewidth\": 0, \"ticks\": \"\"}, \"colorscale\": [[0.0, \"#0d0887\"], [0.1111111111111111, \"#46039f\"], [0.2222222222222222, \"#7201a8\"], [0.3333333333333333, \"#9c179e\"], [0.4444444444444444, \"#bd3786\"], [0.5555555555555556, \"#d8576b\"], [0.6666666666666666, \"#ed7953\"], [0.7777777777777778, \"#fb9f3a\"], [0.8888888888888888, \"#fdca26\"], [1.0, \"#f0f921\"]], \"type\": \"heatmapgl\"}], \"histogram\": [{\"marker\": {\"colorbar\": {\"outlinewidth\": 0, \"ticks\": \"\"}}, \"type\": \"histogram\"}], \"histogram2d\": [{\"colorbar\": {\"outlinewidth\": 0, \"ticks\": \"\"}, \"colorscale\": [[0.0, \"#0d0887\"], [0.1111111111111111, \"#46039f\"], [0.2222222222222222, \"#7201a8\"], [0.3333333333333333, \"#9c179e\"], [0.4444444444444444, \"#bd3786\"], [0.5555555555555556, \"#d8576b\"], [0.6666666666666666, \"#ed7953\"], [0.7777777777777778, \"#fb9f3a\"], [0.8888888888888888, \"#fdca26\"], [1.0, \"#f0f921\"]], \"type\": \"histogram2d\"}], \"histogram2dcontour\": [{\"colorbar\": {\"outlinewidth\": 0, \"ticks\": \"\"}, \"colorscale\": [[0.0, \"#0d0887\"], [0.1111111111111111, \"#46039f\"], [0.2222222222222222, \"#7201a8\"], [0.3333333333333333, \"#9c179e\"], [0.4444444444444444, \"#bd3786\"], [0.5555555555555556, \"#d8576b\"], [0.6666666666666666, \"#ed7953\"], [0.7777777777777778, \"#fb9f3a\"], [0.8888888888888888, \"#fdca26\"], [1.0, \"#f0f921\"]], \"type\": \"histogram2dcontour\"}], \"mesh3d\": [{\"colorbar\": {\"outlinewidth\": 0, \"ticks\": \"\"}, \"type\": \"mesh3d\"}], \"parcoords\": [{\"line\": {\"colorbar\": {\"outlinewidth\": 0, \"ticks\": \"\"}}, \"type\": \"parcoords\"}], \"scatter\": [{\"marker\": {\"colorbar\": {\"outlinewidth\": 0, \"ticks\": \"\"}}, \"type\": \"scatter\"}], \"scatter3d\": [{\"line\": {\"colorbar\": {\"outlinewidth\": 0, \"ticks\": \"\"}}, \"marker\": {\"colorbar\": {\"outlinewidth\": 0, \"ticks\": \"\"}}, \"type\": \"scatter3d\"}], \"scattercarpet\": [{\"marker\": {\"colorbar\": {\"outlinewidth\": 0, \"ticks\": \"\"}}, \"type\": \"scattercarpet\"}], \"scattergeo\": [{\"marker\": {\"colorbar\": {\"outlinewidth\": 0, \"ticks\": \"\"}}, \"type\": \"scattergeo\"}], \"scattergl\": [{\"marker\": {\"colorbar\": {\"outlinewidth\": 0, \"ticks\": \"\"}}, \"type\": \"scattergl\"}], \"scattermapbox\": [{\"marker\": {\"colorbar\": {\"outlinewidth\": 0, \"ticks\": \"\"}}, \"type\": \"scattermapbox\"}], \"scatterpolar\": [{\"marker\": {\"colorbar\": {\"outlinewidth\": 0, \"ticks\": \"\"}}, \"type\": \"scatterpolar\"}], \"scatterpolargl\": [{\"marker\": {\"colorbar\": {\"outlinewidth\": 0, \"ticks\": \"\"}}, \"type\": \"scatterpolargl\"}], \"scatterternary\": [{\"marker\": {\"colorbar\": {\"outlinewidth\": 0, \"ticks\": \"\"}}, \"type\": \"scatterternary\"}], \"surface\": [{\"colorbar\": {\"outlinewidth\": 0, \"ticks\": \"\"}, \"colorscale\": [[0.0, \"#0d0887\"], [0.1111111111111111, \"#46039f\"], [0.2222222222222222, \"#7201a8\"], [0.3333333333333333, \"#9c179e\"], [0.4444444444444444, \"#bd3786\"], [0.5555555555555556, \"#d8576b\"], [0.6666666666666666, \"#ed7953\"], [0.7777777777777778, \"#fb9f3a\"], [0.8888888888888888, \"#fdca26\"], [1.0, \"#f0f921\"]], \"type\": \"surface\"}], \"table\": [{\"cells\": {\"fill\": {\"color\": \"#EBF0F8\"}, \"line\": {\"color\": \"white\"}}, \"header\": {\"fill\": {\"color\": \"#C8D4E3\"}, \"line\": {\"color\": \"white\"}}, \"type\": \"table\"}]}, \"layout\": {\"annotationdefaults\": {\"arrowcolor\": \"#2a3f5f\", \"arrowhead\": 0, \"arrowwidth\": 1}, \"colorscale\": {\"diverging\": [[0, \"#8e0152\"], [0.1, \"#c51b7d\"], [0.2, \"#de77ae\"], [0.3, \"#f1b6da\"], [0.4, \"#fde0ef\"], [0.5, \"#f7f7f7\"], [0.6, \"#e6f5d0\"], [0.7, \"#b8e186\"], [0.8, \"#7fbc41\"], [0.9, \"#4d9221\"], [1, \"#276419\"]], \"sequential\": [[0.0, \"#0d0887\"], [0.1111111111111111, \"#46039f\"], [0.2222222222222222, \"#7201a8\"], [0.3333333333333333, \"#9c179e\"], [0.4444444444444444, \"#bd3786\"], [0.5555555555555556, \"#d8576b\"], [0.6666666666666666, \"#ed7953\"], [0.7777777777777778, \"#fb9f3a\"], [0.8888888888888888, \"#fdca26\"], [1.0, \"#f0f921\"]], \"sequentialminus\": [[0.0, \"#0d0887\"], [0.1111111111111111, \"#46039f\"], [0.2222222222222222, \"#7201a8\"], [0.3333333333333333, \"#9c179e\"], [0.4444444444444444, \"#bd3786\"], [0.5555555555555556, \"#d8576b\"], [0.6666666666666666, \"#ed7953\"], [0.7777777777777778, \"#fb9f3a\"], [0.8888888888888888, \"#fdca26\"], [1.0, \"#f0f921\"]]}, \"colorway\": [\"#636efa\", \"#EF553B\", \"#00cc96\", \"#ab63fa\", \"#FFA15A\", \"#19d3f3\", \"#FF6692\", \"#B6E880\", \"#FF97FF\", \"#FECB52\"], \"font\": {\"color\": \"#2a3f5f\"}, \"geo\": {\"bgcolor\": \"white\", \"lakecolor\": \"white\", \"landcolor\": \"#E5ECF6\", \"showlakes\": true, \"showland\": true, \"subunitcolor\": \"white\"}, \"hoverlabel\": {\"align\": \"left\"}, \"hovermode\": \"closest\", \"mapbox\": {\"style\": \"light\"}, \"paper_bgcolor\": \"white\", \"plot_bgcolor\": \"#E5ECF6\", \"polar\": {\"angularaxis\": {\"gridcolor\": \"white\", \"linecolor\": \"white\", \"ticks\": \"\"}, \"bgcolor\": \"#E5ECF6\", \"radialaxis\": {\"gridcolor\": \"white\", \"linecolor\": \"white\", \"ticks\": \"\"}}, \"scene\": {\"xaxis\": {\"backgroundcolor\": \"#E5ECF6\", \"gridcolor\": \"white\", \"gridwidth\": 2, \"linecolor\": \"white\", \"showbackground\": true, \"ticks\": \"\", \"zerolinecolor\": \"white\"}, \"yaxis\": {\"backgroundcolor\": \"#E5ECF6\", \"gridcolor\": \"white\", \"gridwidth\": 2, \"linecolor\": \"white\", \"showbackground\": true, \"ticks\": \"\", \"zerolinecolor\": \"white\"}, \"zaxis\": {\"backgroundcolor\": \"#E5ECF6\", \"gridcolor\": \"white\", \"gridwidth\": 2, \"linecolor\": \"white\", \"showbackground\": true, \"ticks\": \"\", \"zerolinecolor\": \"white\"}}, \"shapedefaults\": {\"line\": {\"color\": \"#2a3f5f\"}}, \"ternary\": {\"aaxis\": {\"gridcolor\": \"white\", \"linecolor\": \"white\", \"ticks\": \"\"}, \"baxis\": {\"gridcolor\": \"white\", \"linecolor\": \"white\", \"ticks\": \"\"}, \"bgcolor\": \"#E5ECF6\", \"caxis\": {\"gridcolor\": \"white\", \"linecolor\": \"white\", \"ticks\": \"\"}}, \"title\": {\"x\": 0.05}, \"xaxis\": {\"automargin\": true, \"gridcolor\": \"white\", \"linecolor\": \"white\", \"ticks\": \"\", \"zerolinecolor\": \"white\", \"zerolinewidth\": 2}, \"yaxis\": {\"automargin\": true, \"gridcolor\": \"white\", \"linecolor\": \"white\", \"ticks\": \"\", \"zerolinecolor\": \"white\", \"zerolinewidth\": 2}}}, \"title\": {\"text\": \"SeniorCitizen distribution in customer attrition \"}},\n",
       "                        {\"responsive\": true}\n",
       "                    ).then(function(){\n",
       "                            \n",
       "var gd = document.getElementById('7ec05313-5360-4c11-948e-9fb50688f5bb');\n",
       "var x = new MutationObserver(function (mutations, observer) {{\n",
       "        var display = window.getComputedStyle(gd).display;\n",
       "        if (!display || display === 'none') {{\n",
       "            console.log([gd, 'removed!']);\n",
       "            Plotly.purge(gd);\n",
       "            observer.disconnect();\n",
       "        }}\n",
       "}});\n",
       "\n",
       "// Listen for the removal of the full notebook cells\n",
       "var notebookContainer = gd.closest('#notebook-container');\n",
       "if (notebookContainer) {{\n",
       "    x.observe(notebookContainer, {childList: true});\n",
       "}}\n",
       "\n",
       "// Listen for the clearing of the current output cell\n",
       "var outputEl = gd.closest('.output');\n",
       "if (outputEl) {{\n",
       "    x.observe(outputEl, {childList: true});\n",
       "}}\n",
       "\n",
       "                        })\n",
       "                };\n",
       "                });\n",
       "            </script>\n",
       "        </div>"
      ]
     },
     "metadata": {},
     "output_type": "display_data"
    },
    {
     "data": {
      "application/vnd.plotly.v1+json": {
       "config": {
        "linkText": "Export to plot.ly",
        "plotlyServerURL": "https://plot.ly",
        "showLink": false
       },
       "data": [
        {
         "domain": {
          "x": [
           0,
           0.48
          ]
         },
         "hole": 0.6,
         "hoverinfo": "label+percent+name",
         "labels": [
          "Month-to-month",
          "One year",
          "Two year"
         ],
         "marker": {
          "line": {
           "color": "rgb(243,243,243)",
           "width": 2
          }
         },
         "name": "Churn Customers",
         "type": "pie",
         "values": [
          1655,
          166,
          48
         ]
        },
        {
         "domain": {
          "x": [
           0.52,
           1
          ]
         },
         "hole": 0.6,
         "hoverinfo": "label+percent+name",
         "labels": [
          "Month-to-month",
          "Two year",
          "One year"
         ],
         "marker": {
          "line": {
           "color": "rgb(243,243,243)",
           "width": 2
          }
         },
         "name": "Non churn customers",
         "type": "pie",
         "values": [
          2220,
          1637,
          1306
         ]
        }
       ],
       "layout": {
        "annotations": [
         {
          "font": {
           "size": 13
          },
          "showarrow": false,
          "text": "churn customers",
          "x": 0.15,
          "y": 0.5
         },
         {
          "font": {
           "size": 13
          },
          "showarrow": false,
          "text": "Non churn customers",
          "x": 0.88,
          "y": 0.5
         }
        ],
        "paper_bgcolor": "rgb(243,243,243)",
        "plot_bgcolor": "rgb(243,243,243)",
        "template": {
         "data": {
          "bar": [
           {
            "error_x": {
             "color": "#2a3f5f"
            },
            "error_y": {
             "color": "#2a3f5f"
            },
            "marker": {
             "line": {
              "color": "#E5ECF6",
              "width": 0.5
             }
            },
            "type": "bar"
           }
          ],
          "barpolar": [
           {
            "marker": {
             "line": {
              "color": "#E5ECF6",
              "width": 0.5
             }
            },
            "type": "barpolar"
           }
          ],
          "carpet": [
           {
            "aaxis": {
             "endlinecolor": "#2a3f5f",
             "gridcolor": "white",
             "linecolor": "white",
             "minorgridcolor": "white",
             "startlinecolor": "#2a3f5f"
            },
            "baxis": {
             "endlinecolor": "#2a3f5f",
             "gridcolor": "white",
             "linecolor": "white",
             "minorgridcolor": "white",
             "startlinecolor": "#2a3f5f"
            },
            "type": "carpet"
           }
          ],
          "choropleth": [
           {
            "colorbar": {
             "outlinewidth": 0,
             "ticks": ""
            },
            "type": "choropleth"
           }
          ],
          "contour": [
           {
            "colorbar": {
             "outlinewidth": 0,
             "ticks": ""
            },
            "colorscale": [
             [
              0,
              "#0d0887"
             ],
             [
              0.1111111111111111,
              "#46039f"
             ],
             [
              0.2222222222222222,
              "#7201a8"
             ],
             [
              0.3333333333333333,
              "#9c179e"
             ],
             [
              0.4444444444444444,
              "#bd3786"
             ],
             [
              0.5555555555555556,
              "#d8576b"
             ],
             [
              0.6666666666666666,
              "#ed7953"
             ],
             [
              0.7777777777777778,
              "#fb9f3a"
             ],
             [
              0.8888888888888888,
              "#fdca26"
             ],
             [
              1,
              "#f0f921"
             ]
            ],
            "type": "contour"
           }
          ],
          "contourcarpet": [
           {
            "colorbar": {
             "outlinewidth": 0,
             "ticks": ""
            },
            "type": "contourcarpet"
           }
          ],
          "heatmap": [
           {
            "colorbar": {
             "outlinewidth": 0,
             "ticks": ""
            },
            "colorscale": [
             [
              0,
              "#0d0887"
             ],
             [
              0.1111111111111111,
              "#46039f"
             ],
             [
              0.2222222222222222,
              "#7201a8"
             ],
             [
              0.3333333333333333,
              "#9c179e"
             ],
             [
              0.4444444444444444,
              "#bd3786"
             ],
             [
              0.5555555555555556,
              "#d8576b"
             ],
             [
              0.6666666666666666,
              "#ed7953"
             ],
             [
              0.7777777777777778,
              "#fb9f3a"
             ],
             [
              0.8888888888888888,
              "#fdca26"
             ],
             [
              1,
              "#f0f921"
             ]
            ],
            "type": "heatmap"
           }
          ],
          "heatmapgl": [
           {
            "colorbar": {
             "outlinewidth": 0,
             "ticks": ""
            },
            "colorscale": [
             [
              0,
              "#0d0887"
             ],
             [
              0.1111111111111111,
              "#46039f"
             ],
             [
              0.2222222222222222,
              "#7201a8"
             ],
             [
              0.3333333333333333,
              "#9c179e"
             ],
             [
              0.4444444444444444,
              "#bd3786"
             ],
             [
              0.5555555555555556,
              "#d8576b"
             ],
             [
              0.6666666666666666,
              "#ed7953"
             ],
             [
              0.7777777777777778,
              "#fb9f3a"
             ],
             [
              0.8888888888888888,
              "#fdca26"
             ],
             [
              1,
              "#f0f921"
             ]
            ],
            "type": "heatmapgl"
           }
          ],
          "histogram": [
           {
            "marker": {
             "colorbar": {
              "outlinewidth": 0,
              "ticks": ""
             }
            },
            "type": "histogram"
           }
          ],
          "histogram2d": [
           {
            "colorbar": {
             "outlinewidth": 0,
             "ticks": ""
            },
            "colorscale": [
             [
              0,
              "#0d0887"
             ],
             [
              0.1111111111111111,
              "#46039f"
             ],
             [
              0.2222222222222222,
              "#7201a8"
             ],
             [
              0.3333333333333333,
              "#9c179e"
             ],
             [
              0.4444444444444444,
              "#bd3786"
             ],
             [
              0.5555555555555556,
              "#d8576b"
             ],
             [
              0.6666666666666666,
              "#ed7953"
             ],
             [
              0.7777777777777778,
              "#fb9f3a"
             ],
             [
              0.8888888888888888,
              "#fdca26"
             ],
             [
              1,
              "#f0f921"
             ]
            ],
            "type": "histogram2d"
           }
          ],
          "histogram2dcontour": [
           {
            "colorbar": {
             "outlinewidth": 0,
             "ticks": ""
            },
            "colorscale": [
             [
              0,
              "#0d0887"
             ],
             [
              0.1111111111111111,
              "#46039f"
             ],
             [
              0.2222222222222222,
              "#7201a8"
             ],
             [
              0.3333333333333333,
              "#9c179e"
             ],
             [
              0.4444444444444444,
              "#bd3786"
             ],
             [
              0.5555555555555556,
              "#d8576b"
             ],
             [
              0.6666666666666666,
              "#ed7953"
             ],
             [
              0.7777777777777778,
              "#fb9f3a"
             ],
             [
              0.8888888888888888,
              "#fdca26"
             ],
             [
              1,
              "#f0f921"
             ]
            ],
            "type": "histogram2dcontour"
           }
          ],
          "mesh3d": [
           {
            "colorbar": {
             "outlinewidth": 0,
             "ticks": ""
            },
            "type": "mesh3d"
           }
          ],
          "parcoords": [
           {
            "line": {
             "colorbar": {
              "outlinewidth": 0,
              "ticks": ""
             }
            },
            "type": "parcoords"
           }
          ],
          "scatter": [
           {
            "marker": {
             "colorbar": {
              "outlinewidth": 0,
              "ticks": ""
             }
            },
            "type": "scatter"
           }
          ],
          "scatter3d": [
           {
            "line": {
             "colorbar": {
              "outlinewidth": 0,
              "ticks": ""
             }
            },
            "marker": {
             "colorbar": {
              "outlinewidth": 0,
              "ticks": ""
             }
            },
            "type": "scatter3d"
           }
          ],
          "scattercarpet": [
           {
            "marker": {
             "colorbar": {
              "outlinewidth": 0,
              "ticks": ""
             }
            },
            "type": "scattercarpet"
           }
          ],
          "scattergeo": [
           {
            "marker": {
             "colorbar": {
              "outlinewidth": 0,
              "ticks": ""
             }
            },
            "type": "scattergeo"
           }
          ],
          "scattergl": [
           {
            "marker": {
             "colorbar": {
              "outlinewidth": 0,
              "ticks": ""
             }
            },
            "type": "scattergl"
           }
          ],
          "scattermapbox": [
           {
            "marker": {
             "colorbar": {
              "outlinewidth": 0,
              "ticks": ""
             }
            },
            "type": "scattermapbox"
           }
          ],
          "scatterpolar": [
           {
            "marker": {
             "colorbar": {
              "outlinewidth": 0,
              "ticks": ""
             }
            },
            "type": "scatterpolar"
           }
          ],
          "scatterpolargl": [
           {
            "marker": {
             "colorbar": {
              "outlinewidth": 0,
              "ticks": ""
             }
            },
            "type": "scatterpolargl"
           }
          ],
          "scatterternary": [
           {
            "marker": {
             "colorbar": {
              "outlinewidth": 0,
              "ticks": ""
             }
            },
            "type": "scatterternary"
           }
          ],
          "surface": [
           {
            "colorbar": {
             "outlinewidth": 0,
             "ticks": ""
            },
            "colorscale": [
             [
              0,
              "#0d0887"
             ],
             [
              0.1111111111111111,
              "#46039f"
             ],
             [
              0.2222222222222222,
              "#7201a8"
             ],
             [
              0.3333333333333333,
              "#9c179e"
             ],
             [
              0.4444444444444444,
              "#bd3786"
             ],
             [
              0.5555555555555556,
              "#d8576b"
             ],
             [
              0.6666666666666666,
              "#ed7953"
             ],
             [
              0.7777777777777778,
              "#fb9f3a"
             ],
             [
              0.8888888888888888,
              "#fdca26"
             ],
             [
              1,
              "#f0f921"
             ]
            ],
            "type": "surface"
           }
          ],
          "table": [
           {
            "cells": {
             "fill": {
              "color": "#EBF0F8"
             },
             "line": {
              "color": "white"
             }
            },
            "header": {
             "fill": {
              "color": "#C8D4E3"
             },
             "line": {
              "color": "white"
             }
            },
            "type": "table"
           }
          ]
         },
         "layout": {
          "annotationdefaults": {
           "arrowcolor": "#2a3f5f",
           "arrowhead": 0,
           "arrowwidth": 1
          },
          "colorscale": {
           "diverging": [
            [
             0,
             "#8e0152"
            ],
            [
             0.1,
             "#c51b7d"
            ],
            [
             0.2,
             "#de77ae"
            ],
            [
             0.3,
             "#f1b6da"
            ],
            [
             0.4,
             "#fde0ef"
            ],
            [
             0.5,
             "#f7f7f7"
            ],
            [
             0.6,
             "#e6f5d0"
            ],
            [
             0.7,
             "#b8e186"
            ],
            [
             0.8,
             "#7fbc41"
            ],
            [
             0.9,
             "#4d9221"
            ],
            [
             1,
             "#276419"
            ]
           ],
           "sequential": [
            [
             0,
             "#0d0887"
            ],
            [
             0.1111111111111111,
             "#46039f"
            ],
            [
             0.2222222222222222,
             "#7201a8"
            ],
            [
             0.3333333333333333,
             "#9c179e"
            ],
            [
             0.4444444444444444,
             "#bd3786"
            ],
            [
             0.5555555555555556,
             "#d8576b"
            ],
            [
             0.6666666666666666,
             "#ed7953"
            ],
            [
             0.7777777777777778,
             "#fb9f3a"
            ],
            [
             0.8888888888888888,
             "#fdca26"
            ],
            [
             1,
             "#f0f921"
            ]
           ],
           "sequentialminus": [
            [
             0,
             "#0d0887"
            ],
            [
             0.1111111111111111,
             "#46039f"
            ],
            [
             0.2222222222222222,
             "#7201a8"
            ],
            [
             0.3333333333333333,
             "#9c179e"
            ],
            [
             0.4444444444444444,
             "#bd3786"
            ],
            [
             0.5555555555555556,
             "#d8576b"
            ],
            [
             0.6666666666666666,
             "#ed7953"
            ],
            [
             0.7777777777777778,
             "#fb9f3a"
            ],
            [
             0.8888888888888888,
             "#fdca26"
            ],
            [
             1,
             "#f0f921"
            ]
           ]
          },
          "colorway": [
           "#636efa",
           "#EF553B",
           "#00cc96",
           "#ab63fa",
           "#FFA15A",
           "#19d3f3",
           "#FF6692",
           "#B6E880",
           "#FF97FF",
           "#FECB52"
          ],
          "font": {
           "color": "#2a3f5f"
          },
          "geo": {
           "bgcolor": "white",
           "lakecolor": "white",
           "landcolor": "#E5ECF6",
           "showlakes": true,
           "showland": true,
           "subunitcolor": "white"
          },
          "hoverlabel": {
           "align": "left"
          },
          "hovermode": "closest",
          "mapbox": {
           "style": "light"
          },
          "paper_bgcolor": "white",
          "plot_bgcolor": "#E5ECF6",
          "polar": {
           "angularaxis": {
            "gridcolor": "white",
            "linecolor": "white",
            "ticks": ""
           },
           "bgcolor": "#E5ECF6",
           "radialaxis": {
            "gridcolor": "white",
            "linecolor": "white",
            "ticks": ""
           }
          },
          "scene": {
           "xaxis": {
            "backgroundcolor": "#E5ECF6",
            "gridcolor": "white",
            "gridwidth": 2,
            "linecolor": "white",
            "showbackground": true,
            "ticks": "",
            "zerolinecolor": "white"
           },
           "yaxis": {
            "backgroundcolor": "#E5ECF6",
            "gridcolor": "white",
            "gridwidth": 2,
            "linecolor": "white",
            "showbackground": true,
            "ticks": "",
            "zerolinecolor": "white"
           },
           "zaxis": {
            "backgroundcolor": "#E5ECF6",
            "gridcolor": "white",
            "gridwidth": 2,
            "linecolor": "white",
            "showbackground": true,
            "ticks": "",
            "zerolinecolor": "white"
           }
          },
          "shapedefaults": {
           "line": {
            "color": "#2a3f5f"
           }
          },
          "ternary": {
           "aaxis": {
            "gridcolor": "white",
            "linecolor": "white",
            "ticks": ""
           },
           "baxis": {
            "gridcolor": "white",
            "linecolor": "white",
            "ticks": ""
           },
           "bgcolor": "#E5ECF6",
           "caxis": {
            "gridcolor": "white",
            "linecolor": "white",
            "ticks": ""
           }
          },
          "title": {
           "x": 0.05
          },
          "xaxis": {
           "automargin": true,
           "gridcolor": "white",
           "linecolor": "white",
           "ticks": "",
           "zerolinecolor": "white",
           "zerolinewidth": 2
          },
          "yaxis": {
           "automargin": true,
           "gridcolor": "white",
           "linecolor": "white",
           "ticks": "",
           "zerolinecolor": "white",
           "zerolinewidth": 2
          }
         }
        },
        "title": {
         "text": "Contract distribution in customer attrition "
        }
       }
      },
      "text/html": [
       "<div>\n",
       "        \n",
       "        \n",
       "            <div id=\"704da1eb-456c-49b6-bcf1-00247f9a4140\" class=\"plotly-graph-div\" style=\"height:525px; width:100%;\"></div>\n",
       "            <script type=\"text/javascript\">\n",
       "                require([\"plotly\"], function(Plotly) {\n",
       "                    window.PLOTLYENV=window.PLOTLYENV || {};\n",
       "                    \n",
       "                if (document.getElementById(\"704da1eb-456c-49b6-bcf1-00247f9a4140\")) {\n",
       "                    Plotly.newPlot(\n",
       "                        '704da1eb-456c-49b6-bcf1-00247f9a4140',\n",
       "                        [{\"domain\": {\"x\": [0, 0.48]}, \"hole\": 0.6, \"hoverinfo\": \"label+percent+name\", \"labels\": [\"Month-to-month\", \"One year\", \"Two year\"], \"marker\": {\"line\": {\"color\": \"rgb(243,243,243)\", \"width\": 2}}, \"name\": \"Churn Customers\", \"type\": \"pie\", \"values\": [1655, 166, 48]}, {\"domain\": {\"x\": [0.52, 1]}, \"hole\": 0.6, \"hoverinfo\": \"label+percent+name\", \"labels\": [\"Month-to-month\", \"Two year\", \"One year\"], \"marker\": {\"line\": {\"color\": \"rgb(243,243,243)\", \"width\": 2}}, \"name\": \"Non churn customers\", \"type\": \"pie\", \"values\": [2220, 1637, 1306]}],\n",
       "                        {\"annotations\": [{\"font\": {\"size\": 13}, \"showarrow\": false, \"text\": \"churn customers\", \"x\": 0.15, \"y\": 0.5}, {\"font\": {\"size\": 13}, \"showarrow\": false, \"text\": \"Non churn customers\", \"x\": 0.88, \"y\": 0.5}], \"paper_bgcolor\": \"rgb(243,243,243)\", \"plot_bgcolor\": \"rgb(243,243,243)\", \"template\": {\"data\": {\"bar\": [{\"error_x\": {\"color\": \"#2a3f5f\"}, \"error_y\": {\"color\": \"#2a3f5f\"}, \"marker\": {\"line\": {\"color\": \"#E5ECF6\", \"width\": 0.5}}, \"type\": \"bar\"}], \"barpolar\": [{\"marker\": {\"line\": {\"color\": \"#E5ECF6\", \"width\": 0.5}}, \"type\": \"barpolar\"}], \"carpet\": [{\"aaxis\": {\"endlinecolor\": \"#2a3f5f\", \"gridcolor\": \"white\", \"linecolor\": \"white\", \"minorgridcolor\": \"white\", \"startlinecolor\": \"#2a3f5f\"}, \"baxis\": {\"endlinecolor\": \"#2a3f5f\", \"gridcolor\": \"white\", \"linecolor\": \"white\", \"minorgridcolor\": \"white\", \"startlinecolor\": \"#2a3f5f\"}, \"type\": \"carpet\"}], \"choropleth\": [{\"colorbar\": {\"outlinewidth\": 0, \"ticks\": \"\"}, \"type\": \"choropleth\"}], \"contour\": [{\"colorbar\": {\"outlinewidth\": 0, \"ticks\": \"\"}, \"colorscale\": [[0.0, \"#0d0887\"], [0.1111111111111111, \"#46039f\"], [0.2222222222222222, \"#7201a8\"], [0.3333333333333333, \"#9c179e\"], [0.4444444444444444, \"#bd3786\"], [0.5555555555555556, \"#d8576b\"], [0.6666666666666666, \"#ed7953\"], [0.7777777777777778, \"#fb9f3a\"], [0.8888888888888888, \"#fdca26\"], [1.0, \"#f0f921\"]], \"type\": \"contour\"}], \"contourcarpet\": [{\"colorbar\": {\"outlinewidth\": 0, \"ticks\": \"\"}, \"type\": \"contourcarpet\"}], \"heatmap\": [{\"colorbar\": {\"outlinewidth\": 0, \"ticks\": \"\"}, \"colorscale\": [[0.0, \"#0d0887\"], [0.1111111111111111, \"#46039f\"], [0.2222222222222222, \"#7201a8\"], [0.3333333333333333, \"#9c179e\"], [0.4444444444444444, \"#bd3786\"], [0.5555555555555556, \"#d8576b\"], [0.6666666666666666, \"#ed7953\"], [0.7777777777777778, \"#fb9f3a\"], [0.8888888888888888, \"#fdca26\"], [1.0, \"#f0f921\"]], \"type\": \"heatmap\"}], \"heatmapgl\": [{\"colorbar\": {\"outlinewidth\": 0, \"ticks\": \"\"}, \"colorscale\": [[0.0, \"#0d0887\"], [0.1111111111111111, \"#46039f\"], [0.2222222222222222, \"#7201a8\"], [0.3333333333333333, \"#9c179e\"], [0.4444444444444444, \"#bd3786\"], [0.5555555555555556, \"#d8576b\"], [0.6666666666666666, \"#ed7953\"], [0.7777777777777778, \"#fb9f3a\"], [0.8888888888888888, \"#fdca26\"], [1.0, \"#f0f921\"]], \"type\": \"heatmapgl\"}], \"histogram\": [{\"marker\": {\"colorbar\": {\"outlinewidth\": 0, \"ticks\": \"\"}}, \"type\": \"histogram\"}], \"histogram2d\": [{\"colorbar\": {\"outlinewidth\": 0, \"ticks\": \"\"}, \"colorscale\": [[0.0, \"#0d0887\"], [0.1111111111111111, \"#46039f\"], [0.2222222222222222, \"#7201a8\"], [0.3333333333333333, \"#9c179e\"], [0.4444444444444444, \"#bd3786\"], [0.5555555555555556, \"#d8576b\"], [0.6666666666666666, \"#ed7953\"], [0.7777777777777778, \"#fb9f3a\"], [0.8888888888888888, \"#fdca26\"], [1.0, \"#f0f921\"]], \"type\": \"histogram2d\"}], \"histogram2dcontour\": [{\"colorbar\": {\"outlinewidth\": 0, \"ticks\": \"\"}, \"colorscale\": [[0.0, \"#0d0887\"], [0.1111111111111111, \"#46039f\"], [0.2222222222222222, \"#7201a8\"], [0.3333333333333333, \"#9c179e\"], [0.4444444444444444, \"#bd3786\"], [0.5555555555555556, \"#d8576b\"], [0.6666666666666666, \"#ed7953\"], [0.7777777777777778, \"#fb9f3a\"], [0.8888888888888888, \"#fdca26\"], [1.0, \"#f0f921\"]], \"type\": \"histogram2dcontour\"}], \"mesh3d\": [{\"colorbar\": {\"outlinewidth\": 0, \"ticks\": \"\"}, \"type\": \"mesh3d\"}], \"parcoords\": [{\"line\": {\"colorbar\": {\"outlinewidth\": 0, \"ticks\": \"\"}}, \"type\": \"parcoords\"}], \"scatter\": [{\"marker\": {\"colorbar\": {\"outlinewidth\": 0, \"ticks\": \"\"}}, \"type\": \"scatter\"}], \"scatter3d\": [{\"line\": {\"colorbar\": {\"outlinewidth\": 0, \"ticks\": \"\"}}, \"marker\": {\"colorbar\": {\"outlinewidth\": 0, \"ticks\": \"\"}}, \"type\": \"scatter3d\"}], \"scattercarpet\": [{\"marker\": {\"colorbar\": {\"outlinewidth\": 0, \"ticks\": \"\"}}, \"type\": \"scattercarpet\"}], \"scattergeo\": [{\"marker\": {\"colorbar\": {\"outlinewidth\": 0, \"ticks\": \"\"}}, \"type\": \"scattergeo\"}], \"scattergl\": [{\"marker\": {\"colorbar\": {\"outlinewidth\": 0, \"ticks\": \"\"}}, \"type\": \"scattergl\"}], \"scattermapbox\": [{\"marker\": {\"colorbar\": {\"outlinewidth\": 0, \"ticks\": \"\"}}, \"type\": \"scattermapbox\"}], \"scatterpolar\": [{\"marker\": {\"colorbar\": {\"outlinewidth\": 0, \"ticks\": \"\"}}, \"type\": \"scatterpolar\"}], \"scatterpolargl\": [{\"marker\": {\"colorbar\": {\"outlinewidth\": 0, \"ticks\": \"\"}}, \"type\": \"scatterpolargl\"}], \"scatterternary\": [{\"marker\": {\"colorbar\": {\"outlinewidth\": 0, \"ticks\": \"\"}}, \"type\": \"scatterternary\"}], \"surface\": [{\"colorbar\": {\"outlinewidth\": 0, \"ticks\": \"\"}, \"colorscale\": [[0.0, \"#0d0887\"], [0.1111111111111111, \"#46039f\"], [0.2222222222222222, \"#7201a8\"], [0.3333333333333333, \"#9c179e\"], [0.4444444444444444, \"#bd3786\"], [0.5555555555555556, \"#d8576b\"], [0.6666666666666666, \"#ed7953\"], [0.7777777777777778, \"#fb9f3a\"], [0.8888888888888888, \"#fdca26\"], [1.0, \"#f0f921\"]], \"type\": \"surface\"}], \"table\": [{\"cells\": {\"fill\": {\"color\": \"#EBF0F8\"}, \"line\": {\"color\": \"white\"}}, \"header\": {\"fill\": {\"color\": \"#C8D4E3\"}, \"line\": {\"color\": \"white\"}}, \"type\": \"table\"}]}, \"layout\": {\"annotationdefaults\": {\"arrowcolor\": \"#2a3f5f\", \"arrowhead\": 0, \"arrowwidth\": 1}, \"colorscale\": {\"diverging\": [[0, \"#8e0152\"], [0.1, \"#c51b7d\"], [0.2, \"#de77ae\"], [0.3, \"#f1b6da\"], [0.4, \"#fde0ef\"], [0.5, \"#f7f7f7\"], [0.6, \"#e6f5d0\"], [0.7, \"#b8e186\"], [0.8, \"#7fbc41\"], [0.9, \"#4d9221\"], [1, \"#276419\"]], \"sequential\": [[0.0, \"#0d0887\"], [0.1111111111111111, \"#46039f\"], [0.2222222222222222, \"#7201a8\"], [0.3333333333333333, \"#9c179e\"], [0.4444444444444444, \"#bd3786\"], [0.5555555555555556, \"#d8576b\"], [0.6666666666666666, \"#ed7953\"], [0.7777777777777778, \"#fb9f3a\"], [0.8888888888888888, \"#fdca26\"], [1.0, \"#f0f921\"]], \"sequentialminus\": [[0.0, \"#0d0887\"], [0.1111111111111111, \"#46039f\"], [0.2222222222222222, \"#7201a8\"], [0.3333333333333333, \"#9c179e\"], [0.4444444444444444, \"#bd3786\"], [0.5555555555555556, \"#d8576b\"], [0.6666666666666666, \"#ed7953\"], [0.7777777777777778, \"#fb9f3a\"], [0.8888888888888888, \"#fdca26\"], [1.0, \"#f0f921\"]]}, \"colorway\": [\"#636efa\", \"#EF553B\", \"#00cc96\", \"#ab63fa\", \"#FFA15A\", \"#19d3f3\", \"#FF6692\", \"#B6E880\", \"#FF97FF\", \"#FECB52\"], \"font\": {\"color\": \"#2a3f5f\"}, \"geo\": {\"bgcolor\": \"white\", \"lakecolor\": \"white\", \"landcolor\": \"#E5ECF6\", \"showlakes\": true, \"showland\": true, \"subunitcolor\": \"white\"}, \"hoverlabel\": {\"align\": \"left\"}, \"hovermode\": \"closest\", \"mapbox\": {\"style\": \"light\"}, \"paper_bgcolor\": \"white\", \"plot_bgcolor\": \"#E5ECF6\", \"polar\": {\"angularaxis\": {\"gridcolor\": \"white\", \"linecolor\": \"white\", \"ticks\": \"\"}, \"bgcolor\": \"#E5ECF6\", \"radialaxis\": {\"gridcolor\": \"white\", \"linecolor\": \"white\", \"ticks\": \"\"}}, \"scene\": {\"xaxis\": {\"backgroundcolor\": \"#E5ECF6\", \"gridcolor\": \"white\", \"gridwidth\": 2, \"linecolor\": \"white\", \"showbackground\": true, \"ticks\": \"\", \"zerolinecolor\": \"white\"}, \"yaxis\": {\"backgroundcolor\": \"#E5ECF6\", \"gridcolor\": \"white\", \"gridwidth\": 2, \"linecolor\": \"white\", \"showbackground\": true, \"ticks\": \"\", \"zerolinecolor\": \"white\"}, \"zaxis\": {\"backgroundcolor\": \"#E5ECF6\", \"gridcolor\": \"white\", \"gridwidth\": 2, \"linecolor\": \"white\", \"showbackground\": true, \"ticks\": \"\", \"zerolinecolor\": \"white\"}}, \"shapedefaults\": {\"line\": {\"color\": \"#2a3f5f\"}}, \"ternary\": {\"aaxis\": {\"gridcolor\": \"white\", \"linecolor\": \"white\", \"ticks\": \"\"}, \"baxis\": {\"gridcolor\": \"white\", \"linecolor\": \"white\", \"ticks\": \"\"}, \"bgcolor\": \"#E5ECF6\", \"caxis\": {\"gridcolor\": \"white\", \"linecolor\": \"white\", \"ticks\": \"\"}}, \"title\": {\"x\": 0.05}, \"xaxis\": {\"automargin\": true, \"gridcolor\": \"white\", \"linecolor\": \"white\", \"ticks\": \"\", \"zerolinecolor\": \"white\", \"zerolinewidth\": 2}, \"yaxis\": {\"automargin\": true, \"gridcolor\": \"white\", \"linecolor\": \"white\", \"ticks\": \"\", \"zerolinecolor\": \"white\", \"zerolinewidth\": 2}}}, \"title\": {\"text\": \"Contract distribution in customer attrition \"}},\n",
       "                        {\"responsive\": true}\n",
       "                    ).then(function(){\n",
       "                            \n",
       "var gd = document.getElementById('704da1eb-456c-49b6-bcf1-00247f9a4140');\n",
       "var x = new MutationObserver(function (mutations, observer) {{\n",
       "        var display = window.getComputedStyle(gd).display;\n",
       "        if (!display || display === 'none') {{\n",
       "            console.log([gd, 'removed!']);\n",
       "            Plotly.purge(gd);\n",
       "            observer.disconnect();\n",
       "        }}\n",
       "}});\n",
       "\n",
       "// Listen for the removal of the full notebook cells\n",
       "var notebookContainer = gd.closest('#notebook-container');\n",
       "if (notebookContainer) {{\n",
       "    x.observe(notebookContainer, {childList: true});\n",
       "}}\n",
       "\n",
       "// Listen for the clearing of the current output cell\n",
       "var outputEl = gd.closest('.output');\n",
       "if (outputEl) {{\n",
       "    x.observe(outputEl, {childList: true});\n",
       "}}\n",
       "\n",
       "                        })\n",
       "                };\n",
       "                });\n",
       "            </script>\n",
       "        </div>"
      ]
     },
     "metadata": {},
     "output_type": "display_data"
    },
    {
     "data": {
      "application/vnd.plotly.v1+json": {
       "config": {
        "linkText": "Export to plot.ly",
        "plotlyServerURL": "https://plot.ly",
        "showLink": false
       },
       "data": [
        {
         "domain": {
          "x": [
           0,
           0.48
          ]
         },
         "hole": 0.6,
         "hoverinfo": "label+percent+name",
         "labels": [
          "No",
          "Yes"
         ],
         "marker": {
          "line": {
           "color": "rgb(243,243,243)",
           "width": 2
          }
         },
         "name": "Churn Customers",
         "type": "pie",
         "values": [
          1200,
          669
         ]
        },
        {
         "domain": {
          "x": [
           0.52,
           1
          ]
         },
         "hole": 0.6,
         "hoverinfo": "label+percent+name",
         "labels": [
          "Yes",
          "No"
         ],
         "marker": {
          "line": {
           "color": "rgb(243,243,243)",
           "width": 2
          }
         },
         "name": "Non churn customers",
         "type": "pie",
         "values": [
          2724,
          2439
         ]
        }
       ],
       "layout": {
        "annotations": [
         {
          "font": {
           "size": 13
          },
          "showarrow": false,
          "text": "churn customers",
          "x": 0.15,
          "y": 0.5
         },
         {
          "font": {
           "size": 13
          },
          "showarrow": false,
          "text": "Non churn customers",
          "x": 0.88,
          "y": 0.5
         }
        ],
        "paper_bgcolor": "rgb(243,243,243)",
        "plot_bgcolor": "rgb(243,243,243)",
        "template": {
         "data": {
          "bar": [
           {
            "error_x": {
             "color": "#2a3f5f"
            },
            "error_y": {
             "color": "#2a3f5f"
            },
            "marker": {
             "line": {
              "color": "#E5ECF6",
              "width": 0.5
             }
            },
            "type": "bar"
           }
          ],
          "barpolar": [
           {
            "marker": {
             "line": {
              "color": "#E5ECF6",
              "width": 0.5
             }
            },
            "type": "barpolar"
           }
          ],
          "carpet": [
           {
            "aaxis": {
             "endlinecolor": "#2a3f5f",
             "gridcolor": "white",
             "linecolor": "white",
             "minorgridcolor": "white",
             "startlinecolor": "#2a3f5f"
            },
            "baxis": {
             "endlinecolor": "#2a3f5f",
             "gridcolor": "white",
             "linecolor": "white",
             "minorgridcolor": "white",
             "startlinecolor": "#2a3f5f"
            },
            "type": "carpet"
           }
          ],
          "choropleth": [
           {
            "colorbar": {
             "outlinewidth": 0,
             "ticks": ""
            },
            "type": "choropleth"
           }
          ],
          "contour": [
           {
            "colorbar": {
             "outlinewidth": 0,
             "ticks": ""
            },
            "colorscale": [
             [
              0,
              "#0d0887"
             ],
             [
              0.1111111111111111,
              "#46039f"
             ],
             [
              0.2222222222222222,
              "#7201a8"
             ],
             [
              0.3333333333333333,
              "#9c179e"
             ],
             [
              0.4444444444444444,
              "#bd3786"
             ],
             [
              0.5555555555555556,
              "#d8576b"
             ],
             [
              0.6666666666666666,
              "#ed7953"
             ],
             [
              0.7777777777777778,
              "#fb9f3a"
             ],
             [
              0.8888888888888888,
              "#fdca26"
             ],
             [
              1,
              "#f0f921"
             ]
            ],
            "type": "contour"
           }
          ],
          "contourcarpet": [
           {
            "colorbar": {
             "outlinewidth": 0,
             "ticks": ""
            },
            "type": "contourcarpet"
           }
          ],
          "heatmap": [
           {
            "colorbar": {
             "outlinewidth": 0,
             "ticks": ""
            },
            "colorscale": [
             [
              0,
              "#0d0887"
             ],
             [
              0.1111111111111111,
              "#46039f"
             ],
             [
              0.2222222222222222,
              "#7201a8"
             ],
             [
              0.3333333333333333,
              "#9c179e"
             ],
             [
              0.4444444444444444,
              "#bd3786"
             ],
             [
              0.5555555555555556,
              "#d8576b"
             ],
             [
              0.6666666666666666,
              "#ed7953"
             ],
             [
              0.7777777777777778,
              "#fb9f3a"
             ],
             [
              0.8888888888888888,
              "#fdca26"
             ],
             [
              1,
              "#f0f921"
             ]
            ],
            "type": "heatmap"
           }
          ],
          "heatmapgl": [
           {
            "colorbar": {
             "outlinewidth": 0,
             "ticks": ""
            },
            "colorscale": [
             [
              0,
              "#0d0887"
             ],
             [
              0.1111111111111111,
              "#46039f"
             ],
             [
              0.2222222222222222,
              "#7201a8"
             ],
             [
              0.3333333333333333,
              "#9c179e"
             ],
             [
              0.4444444444444444,
              "#bd3786"
             ],
             [
              0.5555555555555556,
              "#d8576b"
             ],
             [
              0.6666666666666666,
              "#ed7953"
             ],
             [
              0.7777777777777778,
              "#fb9f3a"
             ],
             [
              0.8888888888888888,
              "#fdca26"
             ],
             [
              1,
              "#f0f921"
             ]
            ],
            "type": "heatmapgl"
           }
          ],
          "histogram": [
           {
            "marker": {
             "colorbar": {
              "outlinewidth": 0,
              "ticks": ""
             }
            },
            "type": "histogram"
           }
          ],
          "histogram2d": [
           {
            "colorbar": {
             "outlinewidth": 0,
             "ticks": ""
            },
            "colorscale": [
             [
              0,
              "#0d0887"
             ],
             [
              0.1111111111111111,
              "#46039f"
             ],
             [
              0.2222222222222222,
              "#7201a8"
             ],
             [
              0.3333333333333333,
              "#9c179e"
             ],
             [
              0.4444444444444444,
              "#bd3786"
             ],
             [
              0.5555555555555556,
              "#d8576b"
             ],
             [
              0.6666666666666666,
              "#ed7953"
             ],
             [
              0.7777777777777778,
              "#fb9f3a"
             ],
             [
              0.8888888888888888,
              "#fdca26"
             ],
             [
              1,
              "#f0f921"
             ]
            ],
            "type": "histogram2d"
           }
          ],
          "histogram2dcontour": [
           {
            "colorbar": {
             "outlinewidth": 0,
             "ticks": ""
            },
            "colorscale": [
             [
              0,
              "#0d0887"
             ],
             [
              0.1111111111111111,
              "#46039f"
             ],
             [
              0.2222222222222222,
              "#7201a8"
             ],
             [
              0.3333333333333333,
              "#9c179e"
             ],
             [
              0.4444444444444444,
              "#bd3786"
             ],
             [
              0.5555555555555556,
              "#d8576b"
             ],
             [
              0.6666666666666666,
              "#ed7953"
             ],
             [
              0.7777777777777778,
              "#fb9f3a"
             ],
             [
              0.8888888888888888,
              "#fdca26"
             ],
             [
              1,
              "#f0f921"
             ]
            ],
            "type": "histogram2dcontour"
           }
          ],
          "mesh3d": [
           {
            "colorbar": {
             "outlinewidth": 0,
             "ticks": ""
            },
            "type": "mesh3d"
           }
          ],
          "parcoords": [
           {
            "line": {
             "colorbar": {
              "outlinewidth": 0,
              "ticks": ""
             }
            },
            "type": "parcoords"
           }
          ],
          "scatter": [
           {
            "marker": {
             "colorbar": {
              "outlinewidth": 0,
              "ticks": ""
             }
            },
            "type": "scatter"
           }
          ],
          "scatter3d": [
           {
            "line": {
             "colorbar": {
              "outlinewidth": 0,
              "ticks": ""
             }
            },
            "marker": {
             "colorbar": {
              "outlinewidth": 0,
              "ticks": ""
             }
            },
            "type": "scatter3d"
           }
          ],
          "scattercarpet": [
           {
            "marker": {
             "colorbar": {
              "outlinewidth": 0,
              "ticks": ""
             }
            },
            "type": "scattercarpet"
           }
          ],
          "scattergeo": [
           {
            "marker": {
             "colorbar": {
              "outlinewidth": 0,
              "ticks": ""
             }
            },
            "type": "scattergeo"
           }
          ],
          "scattergl": [
           {
            "marker": {
             "colorbar": {
              "outlinewidth": 0,
              "ticks": ""
             }
            },
            "type": "scattergl"
           }
          ],
          "scattermapbox": [
           {
            "marker": {
             "colorbar": {
              "outlinewidth": 0,
              "ticks": ""
             }
            },
            "type": "scattermapbox"
           }
          ],
          "scatterpolar": [
           {
            "marker": {
             "colorbar": {
              "outlinewidth": 0,
              "ticks": ""
             }
            },
            "type": "scatterpolar"
           }
          ],
          "scatterpolargl": [
           {
            "marker": {
             "colorbar": {
              "outlinewidth": 0,
              "ticks": ""
             }
            },
            "type": "scatterpolargl"
           }
          ],
          "scatterternary": [
           {
            "marker": {
             "colorbar": {
              "outlinewidth": 0,
              "ticks": ""
             }
            },
            "type": "scatterternary"
           }
          ],
          "surface": [
           {
            "colorbar": {
             "outlinewidth": 0,
             "ticks": ""
            },
            "colorscale": [
             [
              0,
              "#0d0887"
             ],
             [
              0.1111111111111111,
              "#46039f"
             ],
             [
              0.2222222222222222,
              "#7201a8"
             ],
             [
              0.3333333333333333,
              "#9c179e"
             ],
             [
              0.4444444444444444,
              "#bd3786"
             ],
             [
              0.5555555555555556,
              "#d8576b"
             ],
             [
              0.6666666666666666,
              "#ed7953"
             ],
             [
              0.7777777777777778,
              "#fb9f3a"
             ],
             [
              0.8888888888888888,
              "#fdca26"
             ],
             [
              1,
              "#f0f921"
             ]
            ],
            "type": "surface"
           }
          ],
          "table": [
           {
            "cells": {
             "fill": {
              "color": "#EBF0F8"
             },
             "line": {
              "color": "white"
             }
            },
            "header": {
             "fill": {
              "color": "#C8D4E3"
             },
             "line": {
              "color": "white"
             }
            },
            "type": "table"
           }
          ]
         },
         "layout": {
          "annotationdefaults": {
           "arrowcolor": "#2a3f5f",
           "arrowhead": 0,
           "arrowwidth": 1
          },
          "colorscale": {
           "diverging": [
            [
             0,
             "#8e0152"
            ],
            [
             0.1,
             "#c51b7d"
            ],
            [
             0.2,
             "#de77ae"
            ],
            [
             0.3,
             "#f1b6da"
            ],
            [
             0.4,
             "#fde0ef"
            ],
            [
             0.5,
             "#f7f7f7"
            ],
            [
             0.6,
             "#e6f5d0"
            ],
            [
             0.7,
             "#b8e186"
            ],
            [
             0.8,
             "#7fbc41"
            ],
            [
             0.9,
             "#4d9221"
            ],
            [
             1,
             "#276419"
            ]
           ],
           "sequential": [
            [
             0,
             "#0d0887"
            ],
            [
             0.1111111111111111,
             "#46039f"
            ],
            [
             0.2222222222222222,
             "#7201a8"
            ],
            [
             0.3333333333333333,
             "#9c179e"
            ],
            [
             0.4444444444444444,
             "#bd3786"
            ],
            [
             0.5555555555555556,
             "#d8576b"
            ],
            [
             0.6666666666666666,
             "#ed7953"
            ],
            [
             0.7777777777777778,
             "#fb9f3a"
            ],
            [
             0.8888888888888888,
             "#fdca26"
            ],
            [
             1,
             "#f0f921"
            ]
           ],
           "sequentialminus": [
            [
             0,
             "#0d0887"
            ],
            [
             0.1111111111111111,
             "#46039f"
            ],
            [
             0.2222222222222222,
             "#7201a8"
            ],
            [
             0.3333333333333333,
             "#9c179e"
            ],
            [
             0.4444444444444444,
             "#bd3786"
            ],
            [
             0.5555555555555556,
             "#d8576b"
            ],
            [
             0.6666666666666666,
             "#ed7953"
            ],
            [
             0.7777777777777778,
             "#fb9f3a"
            ],
            [
             0.8888888888888888,
             "#fdca26"
            ],
            [
             1,
             "#f0f921"
            ]
           ]
          },
          "colorway": [
           "#636efa",
           "#EF553B",
           "#00cc96",
           "#ab63fa",
           "#FFA15A",
           "#19d3f3",
           "#FF6692",
           "#B6E880",
           "#FF97FF",
           "#FECB52"
          ],
          "font": {
           "color": "#2a3f5f"
          },
          "geo": {
           "bgcolor": "white",
           "lakecolor": "white",
           "landcolor": "#E5ECF6",
           "showlakes": true,
           "showland": true,
           "subunitcolor": "white"
          },
          "hoverlabel": {
           "align": "left"
          },
          "hovermode": "closest",
          "mapbox": {
           "style": "light"
          },
          "paper_bgcolor": "white",
          "plot_bgcolor": "#E5ECF6",
          "polar": {
           "angularaxis": {
            "gridcolor": "white",
            "linecolor": "white",
            "ticks": ""
           },
           "bgcolor": "#E5ECF6",
           "radialaxis": {
            "gridcolor": "white",
            "linecolor": "white",
            "ticks": ""
           }
          },
          "scene": {
           "xaxis": {
            "backgroundcolor": "#E5ECF6",
            "gridcolor": "white",
            "gridwidth": 2,
            "linecolor": "white",
            "showbackground": true,
            "ticks": "",
            "zerolinecolor": "white"
           },
           "yaxis": {
            "backgroundcolor": "#E5ECF6",
            "gridcolor": "white",
            "gridwidth": 2,
            "linecolor": "white",
            "showbackground": true,
            "ticks": "",
            "zerolinecolor": "white"
           },
           "zaxis": {
            "backgroundcolor": "#E5ECF6",
            "gridcolor": "white",
            "gridwidth": 2,
            "linecolor": "white",
            "showbackground": true,
            "ticks": "",
            "zerolinecolor": "white"
           }
          },
          "shapedefaults": {
           "line": {
            "color": "#2a3f5f"
           }
          },
          "ternary": {
           "aaxis": {
            "gridcolor": "white",
            "linecolor": "white",
            "ticks": ""
           },
           "baxis": {
            "gridcolor": "white",
            "linecolor": "white",
            "ticks": ""
           },
           "bgcolor": "#E5ECF6",
           "caxis": {
            "gridcolor": "white",
            "linecolor": "white",
            "ticks": ""
           }
          },
          "title": {
           "x": 0.05
          },
          "xaxis": {
           "automargin": true,
           "gridcolor": "white",
           "linecolor": "white",
           "ticks": "",
           "zerolinecolor": "white",
           "zerolinewidth": 2
          },
          "yaxis": {
           "automargin": true,
           "gridcolor": "white",
           "linecolor": "white",
           "ticks": "",
           "zerolinecolor": "white",
           "zerolinewidth": 2
          }
         }
        },
        "title": {
         "text": "Partner distribution in customer attrition "
        }
       }
      },
      "text/html": [
       "<div>\n",
       "        \n",
       "        \n",
       "            <div id=\"ccc0ff77-b688-46d0-8f03-e2b0548fbe98\" class=\"plotly-graph-div\" style=\"height:525px; width:100%;\"></div>\n",
       "            <script type=\"text/javascript\">\n",
       "                require([\"plotly\"], function(Plotly) {\n",
       "                    window.PLOTLYENV=window.PLOTLYENV || {};\n",
       "                    \n",
       "                if (document.getElementById(\"ccc0ff77-b688-46d0-8f03-e2b0548fbe98\")) {\n",
       "                    Plotly.newPlot(\n",
       "                        'ccc0ff77-b688-46d0-8f03-e2b0548fbe98',\n",
       "                        [{\"domain\": {\"x\": [0, 0.48]}, \"hole\": 0.6, \"hoverinfo\": \"label+percent+name\", \"labels\": [\"No\", \"Yes\"], \"marker\": {\"line\": {\"color\": \"rgb(243,243,243)\", \"width\": 2}}, \"name\": \"Churn Customers\", \"type\": \"pie\", \"values\": [1200, 669]}, {\"domain\": {\"x\": [0.52, 1]}, \"hole\": 0.6, \"hoverinfo\": \"label+percent+name\", \"labels\": [\"Yes\", \"No\"], \"marker\": {\"line\": {\"color\": \"rgb(243,243,243)\", \"width\": 2}}, \"name\": \"Non churn customers\", \"type\": \"pie\", \"values\": [2724, 2439]}],\n",
       "                        {\"annotations\": [{\"font\": {\"size\": 13}, \"showarrow\": false, \"text\": \"churn customers\", \"x\": 0.15, \"y\": 0.5}, {\"font\": {\"size\": 13}, \"showarrow\": false, \"text\": \"Non churn customers\", \"x\": 0.88, \"y\": 0.5}], \"paper_bgcolor\": \"rgb(243,243,243)\", \"plot_bgcolor\": \"rgb(243,243,243)\", \"template\": {\"data\": {\"bar\": [{\"error_x\": {\"color\": \"#2a3f5f\"}, \"error_y\": {\"color\": \"#2a3f5f\"}, \"marker\": {\"line\": {\"color\": \"#E5ECF6\", \"width\": 0.5}}, \"type\": \"bar\"}], \"barpolar\": [{\"marker\": {\"line\": {\"color\": \"#E5ECF6\", \"width\": 0.5}}, \"type\": \"barpolar\"}], \"carpet\": [{\"aaxis\": {\"endlinecolor\": \"#2a3f5f\", \"gridcolor\": \"white\", \"linecolor\": \"white\", \"minorgridcolor\": \"white\", \"startlinecolor\": \"#2a3f5f\"}, \"baxis\": {\"endlinecolor\": \"#2a3f5f\", \"gridcolor\": \"white\", \"linecolor\": \"white\", \"minorgridcolor\": \"white\", \"startlinecolor\": \"#2a3f5f\"}, \"type\": \"carpet\"}], \"choropleth\": [{\"colorbar\": {\"outlinewidth\": 0, \"ticks\": \"\"}, \"type\": \"choropleth\"}], \"contour\": [{\"colorbar\": {\"outlinewidth\": 0, \"ticks\": \"\"}, \"colorscale\": [[0.0, \"#0d0887\"], [0.1111111111111111, \"#46039f\"], [0.2222222222222222, \"#7201a8\"], [0.3333333333333333, \"#9c179e\"], [0.4444444444444444, \"#bd3786\"], [0.5555555555555556, \"#d8576b\"], [0.6666666666666666, \"#ed7953\"], [0.7777777777777778, \"#fb9f3a\"], [0.8888888888888888, \"#fdca26\"], [1.0, \"#f0f921\"]], \"type\": \"contour\"}], \"contourcarpet\": [{\"colorbar\": {\"outlinewidth\": 0, \"ticks\": \"\"}, \"type\": \"contourcarpet\"}], \"heatmap\": [{\"colorbar\": {\"outlinewidth\": 0, \"ticks\": \"\"}, \"colorscale\": [[0.0, \"#0d0887\"], [0.1111111111111111, \"#46039f\"], [0.2222222222222222, \"#7201a8\"], [0.3333333333333333, \"#9c179e\"], [0.4444444444444444, \"#bd3786\"], [0.5555555555555556, \"#d8576b\"], [0.6666666666666666, \"#ed7953\"], [0.7777777777777778, \"#fb9f3a\"], [0.8888888888888888, \"#fdca26\"], [1.0, \"#f0f921\"]], \"type\": \"heatmap\"}], \"heatmapgl\": [{\"colorbar\": {\"outlinewidth\": 0, \"ticks\": \"\"}, \"colorscale\": [[0.0, \"#0d0887\"], [0.1111111111111111, \"#46039f\"], [0.2222222222222222, \"#7201a8\"], [0.3333333333333333, \"#9c179e\"], [0.4444444444444444, \"#bd3786\"], [0.5555555555555556, \"#d8576b\"], [0.6666666666666666, \"#ed7953\"], [0.7777777777777778, \"#fb9f3a\"], [0.8888888888888888, \"#fdca26\"], [1.0, \"#f0f921\"]], \"type\": \"heatmapgl\"}], \"histogram\": [{\"marker\": {\"colorbar\": {\"outlinewidth\": 0, \"ticks\": \"\"}}, \"type\": \"histogram\"}], \"histogram2d\": [{\"colorbar\": {\"outlinewidth\": 0, \"ticks\": \"\"}, \"colorscale\": [[0.0, \"#0d0887\"], [0.1111111111111111, \"#46039f\"], [0.2222222222222222, \"#7201a8\"], [0.3333333333333333, \"#9c179e\"], [0.4444444444444444, \"#bd3786\"], [0.5555555555555556, \"#d8576b\"], [0.6666666666666666, \"#ed7953\"], [0.7777777777777778, \"#fb9f3a\"], [0.8888888888888888, \"#fdca26\"], [1.0, \"#f0f921\"]], \"type\": \"histogram2d\"}], \"histogram2dcontour\": [{\"colorbar\": {\"outlinewidth\": 0, \"ticks\": \"\"}, \"colorscale\": [[0.0, \"#0d0887\"], [0.1111111111111111, \"#46039f\"], [0.2222222222222222, \"#7201a8\"], [0.3333333333333333, \"#9c179e\"], [0.4444444444444444, \"#bd3786\"], [0.5555555555555556, \"#d8576b\"], [0.6666666666666666, \"#ed7953\"], [0.7777777777777778, \"#fb9f3a\"], [0.8888888888888888, \"#fdca26\"], [1.0, \"#f0f921\"]], \"type\": \"histogram2dcontour\"}], \"mesh3d\": [{\"colorbar\": {\"outlinewidth\": 0, \"ticks\": \"\"}, \"type\": \"mesh3d\"}], \"parcoords\": [{\"line\": {\"colorbar\": {\"outlinewidth\": 0, \"ticks\": \"\"}}, \"type\": \"parcoords\"}], \"scatter\": [{\"marker\": {\"colorbar\": {\"outlinewidth\": 0, \"ticks\": \"\"}}, \"type\": \"scatter\"}], \"scatter3d\": [{\"line\": {\"colorbar\": {\"outlinewidth\": 0, \"ticks\": \"\"}}, \"marker\": {\"colorbar\": {\"outlinewidth\": 0, \"ticks\": \"\"}}, \"type\": \"scatter3d\"}], \"scattercarpet\": [{\"marker\": {\"colorbar\": {\"outlinewidth\": 0, \"ticks\": \"\"}}, \"type\": \"scattercarpet\"}], \"scattergeo\": [{\"marker\": {\"colorbar\": {\"outlinewidth\": 0, \"ticks\": \"\"}}, \"type\": \"scattergeo\"}], \"scattergl\": [{\"marker\": {\"colorbar\": {\"outlinewidth\": 0, \"ticks\": \"\"}}, \"type\": \"scattergl\"}], \"scattermapbox\": [{\"marker\": {\"colorbar\": {\"outlinewidth\": 0, \"ticks\": \"\"}}, \"type\": \"scattermapbox\"}], \"scatterpolar\": [{\"marker\": {\"colorbar\": {\"outlinewidth\": 0, \"ticks\": \"\"}}, \"type\": \"scatterpolar\"}], \"scatterpolargl\": [{\"marker\": {\"colorbar\": {\"outlinewidth\": 0, \"ticks\": \"\"}}, \"type\": \"scatterpolargl\"}], \"scatterternary\": [{\"marker\": {\"colorbar\": {\"outlinewidth\": 0, \"ticks\": \"\"}}, \"type\": \"scatterternary\"}], \"surface\": [{\"colorbar\": {\"outlinewidth\": 0, \"ticks\": \"\"}, \"colorscale\": [[0.0, \"#0d0887\"], [0.1111111111111111, \"#46039f\"], [0.2222222222222222, \"#7201a8\"], [0.3333333333333333, \"#9c179e\"], [0.4444444444444444, \"#bd3786\"], [0.5555555555555556, \"#d8576b\"], [0.6666666666666666, \"#ed7953\"], [0.7777777777777778, \"#fb9f3a\"], [0.8888888888888888, \"#fdca26\"], [1.0, \"#f0f921\"]], \"type\": \"surface\"}], \"table\": [{\"cells\": {\"fill\": {\"color\": \"#EBF0F8\"}, \"line\": {\"color\": \"white\"}}, \"header\": {\"fill\": {\"color\": \"#C8D4E3\"}, \"line\": {\"color\": \"white\"}}, \"type\": \"table\"}]}, \"layout\": {\"annotationdefaults\": {\"arrowcolor\": \"#2a3f5f\", \"arrowhead\": 0, \"arrowwidth\": 1}, \"colorscale\": {\"diverging\": [[0, \"#8e0152\"], [0.1, \"#c51b7d\"], [0.2, \"#de77ae\"], [0.3, \"#f1b6da\"], [0.4, \"#fde0ef\"], [0.5, \"#f7f7f7\"], [0.6, \"#e6f5d0\"], [0.7, \"#b8e186\"], [0.8, \"#7fbc41\"], [0.9, \"#4d9221\"], [1, \"#276419\"]], \"sequential\": [[0.0, \"#0d0887\"], [0.1111111111111111, \"#46039f\"], [0.2222222222222222, \"#7201a8\"], [0.3333333333333333, \"#9c179e\"], [0.4444444444444444, \"#bd3786\"], [0.5555555555555556, \"#d8576b\"], [0.6666666666666666, \"#ed7953\"], [0.7777777777777778, \"#fb9f3a\"], [0.8888888888888888, \"#fdca26\"], [1.0, \"#f0f921\"]], \"sequentialminus\": [[0.0, \"#0d0887\"], [0.1111111111111111, \"#46039f\"], [0.2222222222222222, \"#7201a8\"], [0.3333333333333333, \"#9c179e\"], [0.4444444444444444, \"#bd3786\"], [0.5555555555555556, \"#d8576b\"], [0.6666666666666666, \"#ed7953\"], [0.7777777777777778, \"#fb9f3a\"], [0.8888888888888888, \"#fdca26\"], [1.0, \"#f0f921\"]]}, \"colorway\": [\"#636efa\", \"#EF553B\", \"#00cc96\", \"#ab63fa\", \"#FFA15A\", \"#19d3f3\", \"#FF6692\", \"#B6E880\", \"#FF97FF\", \"#FECB52\"], \"font\": {\"color\": \"#2a3f5f\"}, \"geo\": {\"bgcolor\": \"white\", \"lakecolor\": \"white\", \"landcolor\": \"#E5ECF6\", \"showlakes\": true, \"showland\": true, \"subunitcolor\": \"white\"}, \"hoverlabel\": {\"align\": \"left\"}, \"hovermode\": \"closest\", \"mapbox\": {\"style\": \"light\"}, \"paper_bgcolor\": \"white\", \"plot_bgcolor\": \"#E5ECF6\", \"polar\": {\"angularaxis\": {\"gridcolor\": \"white\", \"linecolor\": \"white\", \"ticks\": \"\"}, \"bgcolor\": \"#E5ECF6\", \"radialaxis\": {\"gridcolor\": \"white\", \"linecolor\": \"white\", \"ticks\": \"\"}}, \"scene\": {\"xaxis\": {\"backgroundcolor\": \"#E5ECF6\", \"gridcolor\": \"white\", \"gridwidth\": 2, \"linecolor\": \"white\", \"showbackground\": true, \"ticks\": \"\", \"zerolinecolor\": \"white\"}, \"yaxis\": {\"backgroundcolor\": \"#E5ECF6\", \"gridcolor\": \"white\", \"gridwidth\": 2, \"linecolor\": \"white\", \"showbackground\": true, \"ticks\": \"\", \"zerolinecolor\": \"white\"}, \"zaxis\": {\"backgroundcolor\": \"#E5ECF6\", \"gridcolor\": \"white\", \"gridwidth\": 2, \"linecolor\": \"white\", \"showbackground\": true, \"ticks\": \"\", \"zerolinecolor\": \"white\"}}, \"shapedefaults\": {\"line\": {\"color\": \"#2a3f5f\"}}, \"ternary\": {\"aaxis\": {\"gridcolor\": \"white\", \"linecolor\": \"white\", \"ticks\": \"\"}, \"baxis\": {\"gridcolor\": \"white\", \"linecolor\": \"white\", \"ticks\": \"\"}, \"bgcolor\": \"#E5ECF6\", \"caxis\": {\"gridcolor\": \"white\", \"linecolor\": \"white\", \"ticks\": \"\"}}, \"title\": {\"x\": 0.05}, \"xaxis\": {\"automargin\": true, \"gridcolor\": \"white\", \"linecolor\": \"white\", \"ticks\": \"\", \"zerolinecolor\": \"white\", \"zerolinewidth\": 2}, \"yaxis\": {\"automargin\": true, \"gridcolor\": \"white\", \"linecolor\": \"white\", \"ticks\": \"\", \"zerolinecolor\": \"white\", \"zerolinewidth\": 2}}}, \"title\": {\"text\": \"Partner distribution in customer attrition \"}},\n",
       "                        {\"responsive\": true}\n",
       "                    ).then(function(){\n",
       "                            \n",
       "var gd = document.getElementById('ccc0ff77-b688-46d0-8f03-e2b0548fbe98');\n",
       "var x = new MutationObserver(function (mutations, observer) {{\n",
       "        var display = window.getComputedStyle(gd).display;\n",
       "        if (!display || display === 'none') {{\n",
       "            console.log([gd, 'removed!']);\n",
       "            Plotly.purge(gd);\n",
       "            observer.disconnect();\n",
       "        }}\n",
       "}});\n",
       "\n",
       "// Listen for the removal of the full notebook cells\n",
       "var notebookContainer = gd.closest('#notebook-container');\n",
       "if (notebookContainer) {{\n",
       "    x.observe(notebookContainer, {childList: true});\n",
       "}}\n",
       "\n",
       "// Listen for the clearing of the current output cell\n",
       "var outputEl = gd.closest('.output');\n",
       "if (outputEl) {{\n",
       "    x.observe(outputEl, {childList: true});\n",
       "}}\n",
       "\n",
       "                        })\n",
       "                };\n",
       "                });\n",
       "            </script>\n",
       "        </div>"
      ]
     },
     "metadata": {},
     "output_type": "display_data"
    },
    {
     "data": {
      "application/vnd.plotly.v1+json": {
       "config": {
        "linkText": "Export to plot.ly",
        "plotlyServerURL": "https://plot.ly",
        "showLink": false
       },
       "data": [
        {
         "domain": {
          "x": [
           0,
           0.48
          ]
         },
         "hole": 0.6,
         "hoverinfo": "label+percent+name",
         "labels": [
          "No",
          "Yes"
         ],
         "marker": {
          "line": {
           "color": "rgb(243,243,243)",
           "width": 2
          }
         },
         "name": "Churn Customers",
         "type": "pie",
         "values": [
          1543,
          326
         ]
        },
        {
         "domain": {
          "x": [
           0.52,
           1
          ]
         },
         "hole": 0.6,
         "hoverinfo": "label+percent+name",
         "labels": [
          "No",
          "Yes"
         ],
         "marker": {
          "line": {
           "color": "rgb(243,243,243)",
           "width": 2
          }
         },
         "name": "Non churn customers",
         "type": "pie",
         "values": [
          3390,
          1773
         ]
        }
       ],
       "layout": {
        "annotations": [
         {
          "font": {
           "size": 13
          },
          "showarrow": false,
          "text": "churn customers",
          "x": 0.15,
          "y": 0.5
         },
         {
          "font": {
           "size": 13
          },
          "showarrow": false,
          "text": "Non churn customers",
          "x": 0.88,
          "y": 0.5
         }
        ],
        "paper_bgcolor": "rgb(243,243,243)",
        "plot_bgcolor": "rgb(243,243,243)",
        "template": {
         "data": {
          "bar": [
           {
            "error_x": {
             "color": "#2a3f5f"
            },
            "error_y": {
             "color": "#2a3f5f"
            },
            "marker": {
             "line": {
              "color": "#E5ECF6",
              "width": 0.5
             }
            },
            "type": "bar"
           }
          ],
          "barpolar": [
           {
            "marker": {
             "line": {
              "color": "#E5ECF6",
              "width": 0.5
             }
            },
            "type": "barpolar"
           }
          ],
          "carpet": [
           {
            "aaxis": {
             "endlinecolor": "#2a3f5f",
             "gridcolor": "white",
             "linecolor": "white",
             "minorgridcolor": "white",
             "startlinecolor": "#2a3f5f"
            },
            "baxis": {
             "endlinecolor": "#2a3f5f",
             "gridcolor": "white",
             "linecolor": "white",
             "minorgridcolor": "white",
             "startlinecolor": "#2a3f5f"
            },
            "type": "carpet"
           }
          ],
          "choropleth": [
           {
            "colorbar": {
             "outlinewidth": 0,
             "ticks": ""
            },
            "type": "choropleth"
           }
          ],
          "contour": [
           {
            "colorbar": {
             "outlinewidth": 0,
             "ticks": ""
            },
            "colorscale": [
             [
              0,
              "#0d0887"
             ],
             [
              0.1111111111111111,
              "#46039f"
             ],
             [
              0.2222222222222222,
              "#7201a8"
             ],
             [
              0.3333333333333333,
              "#9c179e"
             ],
             [
              0.4444444444444444,
              "#bd3786"
             ],
             [
              0.5555555555555556,
              "#d8576b"
             ],
             [
              0.6666666666666666,
              "#ed7953"
             ],
             [
              0.7777777777777778,
              "#fb9f3a"
             ],
             [
              0.8888888888888888,
              "#fdca26"
             ],
             [
              1,
              "#f0f921"
             ]
            ],
            "type": "contour"
           }
          ],
          "contourcarpet": [
           {
            "colorbar": {
             "outlinewidth": 0,
             "ticks": ""
            },
            "type": "contourcarpet"
           }
          ],
          "heatmap": [
           {
            "colorbar": {
             "outlinewidth": 0,
             "ticks": ""
            },
            "colorscale": [
             [
              0,
              "#0d0887"
             ],
             [
              0.1111111111111111,
              "#46039f"
             ],
             [
              0.2222222222222222,
              "#7201a8"
             ],
             [
              0.3333333333333333,
              "#9c179e"
             ],
             [
              0.4444444444444444,
              "#bd3786"
             ],
             [
              0.5555555555555556,
              "#d8576b"
             ],
             [
              0.6666666666666666,
              "#ed7953"
             ],
             [
              0.7777777777777778,
              "#fb9f3a"
             ],
             [
              0.8888888888888888,
              "#fdca26"
             ],
             [
              1,
              "#f0f921"
             ]
            ],
            "type": "heatmap"
           }
          ],
          "heatmapgl": [
           {
            "colorbar": {
             "outlinewidth": 0,
             "ticks": ""
            },
            "colorscale": [
             [
              0,
              "#0d0887"
             ],
             [
              0.1111111111111111,
              "#46039f"
             ],
             [
              0.2222222222222222,
              "#7201a8"
             ],
             [
              0.3333333333333333,
              "#9c179e"
             ],
             [
              0.4444444444444444,
              "#bd3786"
             ],
             [
              0.5555555555555556,
              "#d8576b"
             ],
             [
              0.6666666666666666,
              "#ed7953"
             ],
             [
              0.7777777777777778,
              "#fb9f3a"
             ],
             [
              0.8888888888888888,
              "#fdca26"
             ],
             [
              1,
              "#f0f921"
             ]
            ],
            "type": "heatmapgl"
           }
          ],
          "histogram": [
           {
            "marker": {
             "colorbar": {
              "outlinewidth": 0,
              "ticks": ""
             }
            },
            "type": "histogram"
           }
          ],
          "histogram2d": [
           {
            "colorbar": {
             "outlinewidth": 0,
             "ticks": ""
            },
            "colorscale": [
             [
              0,
              "#0d0887"
             ],
             [
              0.1111111111111111,
              "#46039f"
             ],
             [
              0.2222222222222222,
              "#7201a8"
             ],
             [
              0.3333333333333333,
              "#9c179e"
             ],
             [
              0.4444444444444444,
              "#bd3786"
             ],
             [
              0.5555555555555556,
              "#d8576b"
             ],
             [
              0.6666666666666666,
              "#ed7953"
             ],
             [
              0.7777777777777778,
              "#fb9f3a"
             ],
             [
              0.8888888888888888,
              "#fdca26"
             ],
             [
              1,
              "#f0f921"
             ]
            ],
            "type": "histogram2d"
           }
          ],
          "histogram2dcontour": [
           {
            "colorbar": {
             "outlinewidth": 0,
             "ticks": ""
            },
            "colorscale": [
             [
              0,
              "#0d0887"
             ],
             [
              0.1111111111111111,
              "#46039f"
             ],
             [
              0.2222222222222222,
              "#7201a8"
             ],
             [
              0.3333333333333333,
              "#9c179e"
             ],
             [
              0.4444444444444444,
              "#bd3786"
             ],
             [
              0.5555555555555556,
              "#d8576b"
             ],
             [
              0.6666666666666666,
              "#ed7953"
             ],
             [
              0.7777777777777778,
              "#fb9f3a"
             ],
             [
              0.8888888888888888,
              "#fdca26"
             ],
             [
              1,
              "#f0f921"
             ]
            ],
            "type": "histogram2dcontour"
           }
          ],
          "mesh3d": [
           {
            "colorbar": {
             "outlinewidth": 0,
             "ticks": ""
            },
            "type": "mesh3d"
           }
          ],
          "parcoords": [
           {
            "line": {
             "colorbar": {
              "outlinewidth": 0,
              "ticks": ""
             }
            },
            "type": "parcoords"
           }
          ],
          "scatter": [
           {
            "marker": {
             "colorbar": {
              "outlinewidth": 0,
              "ticks": ""
             }
            },
            "type": "scatter"
           }
          ],
          "scatter3d": [
           {
            "line": {
             "colorbar": {
              "outlinewidth": 0,
              "ticks": ""
             }
            },
            "marker": {
             "colorbar": {
              "outlinewidth": 0,
              "ticks": ""
             }
            },
            "type": "scatter3d"
           }
          ],
          "scattercarpet": [
           {
            "marker": {
             "colorbar": {
              "outlinewidth": 0,
              "ticks": ""
             }
            },
            "type": "scattercarpet"
           }
          ],
          "scattergeo": [
           {
            "marker": {
             "colorbar": {
              "outlinewidth": 0,
              "ticks": ""
             }
            },
            "type": "scattergeo"
           }
          ],
          "scattergl": [
           {
            "marker": {
             "colorbar": {
              "outlinewidth": 0,
              "ticks": ""
             }
            },
            "type": "scattergl"
           }
          ],
          "scattermapbox": [
           {
            "marker": {
             "colorbar": {
              "outlinewidth": 0,
              "ticks": ""
             }
            },
            "type": "scattermapbox"
           }
          ],
          "scatterpolar": [
           {
            "marker": {
             "colorbar": {
              "outlinewidth": 0,
              "ticks": ""
             }
            },
            "type": "scatterpolar"
           }
          ],
          "scatterpolargl": [
           {
            "marker": {
             "colorbar": {
              "outlinewidth": 0,
              "ticks": ""
             }
            },
            "type": "scatterpolargl"
           }
          ],
          "scatterternary": [
           {
            "marker": {
             "colorbar": {
              "outlinewidth": 0,
              "ticks": ""
             }
            },
            "type": "scatterternary"
           }
          ],
          "surface": [
           {
            "colorbar": {
             "outlinewidth": 0,
             "ticks": ""
            },
            "colorscale": [
             [
              0,
              "#0d0887"
             ],
             [
              0.1111111111111111,
              "#46039f"
             ],
             [
              0.2222222222222222,
              "#7201a8"
             ],
             [
              0.3333333333333333,
              "#9c179e"
             ],
             [
              0.4444444444444444,
              "#bd3786"
             ],
             [
              0.5555555555555556,
              "#d8576b"
             ],
             [
              0.6666666666666666,
              "#ed7953"
             ],
             [
              0.7777777777777778,
              "#fb9f3a"
             ],
             [
              0.8888888888888888,
              "#fdca26"
             ],
             [
              1,
              "#f0f921"
             ]
            ],
            "type": "surface"
           }
          ],
          "table": [
           {
            "cells": {
             "fill": {
              "color": "#EBF0F8"
             },
             "line": {
              "color": "white"
             }
            },
            "header": {
             "fill": {
              "color": "#C8D4E3"
             },
             "line": {
              "color": "white"
             }
            },
            "type": "table"
           }
          ]
         },
         "layout": {
          "annotationdefaults": {
           "arrowcolor": "#2a3f5f",
           "arrowhead": 0,
           "arrowwidth": 1
          },
          "colorscale": {
           "diverging": [
            [
             0,
             "#8e0152"
            ],
            [
             0.1,
             "#c51b7d"
            ],
            [
             0.2,
             "#de77ae"
            ],
            [
             0.3,
             "#f1b6da"
            ],
            [
             0.4,
             "#fde0ef"
            ],
            [
             0.5,
             "#f7f7f7"
            ],
            [
             0.6,
             "#e6f5d0"
            ],
            [
             0.7,
             "#b8e186"
            ],
            [
             0.8,
             "#7fbc41"
            ],
            [
             0.9,
             "#4d9221"
            ],
            [
             1,
             "#276419"
            ]
           ],
           "sequential": [
            [
             0,
             "#0d0887"
            ],
            [
             0.1111111111111111,
             "#46039f"
            ],
            [
             0.2222222222222222,
             "#7201a8"
            ],
            [
             0.3333333333333333,
             "#9c179e"
            ],
            [
             0.4444444444444444,
             "#bd3786"
            ],
            [
             0.5555555555555556,
             "#d8576b"
            ],
            [
             0.6666666666666666,
             "#ed7953"
            ],
            [
             0.7777777777777778,
             "#fb9f3a"
            ],
            [
             0.8888888888888888,
             "#fdca26"
            ],
            [
             1,
             "#f0f921"
            ]
           ],
           "sequentialminus": [
            [
             0,
             "#0d0887"
            ],
            [
             0.1111111111111111,
             "#46039f"
            ],
            [
             0.2222222222222222,
             "#7201a8"
            ],
            [
             0.3333333333333333,
             "#9c179e"
            ],
            [
             0.4444444444444444,
             "#bd3786"
            ],
            [
             0.5555555555555556,
             "#d8576b"
            ],
            [
             0.6666666666666666,
             "#ed7953"
            ],
            [
             0.7777777777777778,
             "#fb9f3a"
            ],
            [
             0.8888888888888888,
             "#fdca26"
            ],
            [
             1,
             "#f0f921"
            ]
           ]
          },
          "colorway": [
           "#636efa",
           "#EF553B",
           "#00cc96",
           "#ab63fa",
           "#FFA15A",
           "#19d3f3",
           "#FF6692",
           "#B6E880",
           "#FF97FF",
           "#FECB52"
          ],
          "font": {
           "color": "#2a3f5f"
          },
          "geo": {
           "bgcolor": "white",
           "lakecolor": "white",
           "landcolor": "#E5ECF6",
           "showlakes": true,
           "showland": true,
           "subunitcolor": "white"
          },
          "hoverlabel": {
           "align": "left"
          },
          "hovermode": "closest",
          "mapbox": {
           "style": "light"
          },
          "paper_bgcolor": "white",
          "plot_bgcolor": "#E5ECF6",
          "polar": {
           "angularaxis": {
            "gridcolor": "white",
            "linecolor": "white",
            "ticks": ""
           },
           "bgcolor": "#E5ECF6",
           "radialaxis": {
            "gridcolor": "white",
            "linecolor": "white",
            "ticks": ""
           }
          },
          "scene": {
           "xaxis": {
            "backgroundcolor": "#E5ECF6",
            "gridcolor": "white",
            "gridwidth": 2,
            "linecolor": "white",
            "showbackground": true,
            "ticks": "",
            "zerolinecolor": "white"
           },
           "yaxis": {
            "backgroundcolor": "#E5ECF6",
            "gridcolor": "white",
            "gridwidth": 2,
            "linecolor": "white",
            "showbackground": true,
            "ticks": "",
            "zerolinecolor": "white"
           },
           "zaxis": {
            "backgroundcolor": "#E5ECF6",
            "gridcolor": "white",
            "gridwidth": 2,
            "linecolor": "white",
            "showbackground": true,
            "ticks": "",
            "zerolinecolor": "white"
           }
          },
          "shapedefaults": {
           "line": {
            "color": "#2a3f5f"
           }
          },
          "ternary": {
           "aaxis": {
            "gridcolor": "white",
            "linecolor": "white",
            "ticks": ""
           },
           "baxis": {
            "gridcolor": "white",
            "linecolor": "white",
            "ticks": ""
           },
           "bgcolor": "#E5ECF6",
           "caxis": {
            "gridcolor": "white",
            "linecolor": "white",
            "ticks": ""
           }
          },
          "title": {
           "x": 0.05
          },
          "xaxis": {
           "automargin": true,
           "gridcolor": "white",
           "linecolor": "white",
           "ticks": "",
           "zerolinecolor": "white",
           "zerolinewidth": 2
          },
          "yaxis": {
           "automargin": true,
           "gridcolor": "white",
           "linecolor": "white",
           "ticks": "",
           "zerolinecolor": "white",
           "zerolinewidth": 2
          }
         }
        },
        "title": {
         "text": "Dependents distribution in customer attrition "
        }
       }
      },
      "text/html": [
       "<div>\n",
       "        \n",
       "        \n",
       "            <div id=\"d31f2314-17e1-4370-9521-d47eecff6079\" class=\"plotly-graph-div\" style=\"height:525px; width:100%;\"></div>\n",
       "            <script type=\"text/javascript\">\n",
       "                require([\"plotly\"], function(Plotly) {\n",
       "                    window.PLOTLYENV=window.PLOTLYENV || {};\n",
       "                    \n",
       "                if (document.getElementById(\"d31f2314-17e1-4370-9521-d47eecff6079\")) {\n",
       "                    Plotly.newPlot(\n",
       "                        'd31f2314-17e1-4370-9521-d47eecff6079',\n",
       "                        [{\"domain\": {\"x\": [0, 0.48]}, \"hole\": 0.6, \"hoverinfo\": \"label+percent+name\", \"labels\": [\"No\", \"Yes\"], \"marker\": {\"line\": {\"color\": \"rgb(243,243,243)\", \"width\": 2}}, \"name\": \"Churn Customers\", \"type\": \"pie\", \"values\": [1543, 326]}, {\"domain\": {\"x\": [0.52, 1]}, \"hole\": 0.6, \"hoverinfo\": \"label+percent+name\", \"labels\": [\"No\", \"Yes\"], \"marker\": {\"line\": {\"color\": \"rgb(243,243,243)\", \"width\": 2}}, \"name\": \"Non churn customers\", \"type\": \"pie\", \"values\": [3390, 1773]}],\n",
       "                        {\"annotations\": [{\"font\": {\"size\": 13}, \"showarrow\": false, \"text\": \"churn customers\", \"x\": 0.15, \"y\": 0.5}, {\"font\": {\"size\": 13}, \"showarrow\": false, \"text\": \"Non churn customers\", \"x\": 0.88, \"y\": 0.5}], \"paper_bgcolor\": \"rgb(243,243,243)\", \"plot_bgcolor\": \"rgb(243,243,243)\", \"template\": {\"data\": {\"bar\": [{\"error_x\": {\"color\": \"#2a3f5f\"}, \"error_y\": {\"color\": \"#2a3f5f\"}, \"marker\": {\"line\": {\"color\": \"#E5ECF6\", \"width\": 0.5}}, \"type\": \"bar\"}], \"barpolar\": [{\"marker\": {\"line\": {\"color\": \"#E5ECF6\", \"width\": 0.5}}, \"type\": \"barpolar\"}], \"carpet\": [{\"aaxis\": {\"endlinecolor\": \"#2a3f5f\", \"gridcolor\": \"white\", \"linecolor\": \"white\", \"minorgridcolor\": \"white\", \"startlinecolor\": \"#2a3f5f\"}, \"baxis\": {\"endlinecolor\": \"#2a3f5f\", \"gridcolor\": \"white\", \"linecolor\": \"white\", \"minorgridcolor\": \"white\", \"startlinecolor\": \"#2a3f5f\"}, \"type\": \"carpet\"}], \"choropleth\": [{\"colorbar\": {\"outlinewidth\": 0, \"ticks\": \"\"}, \"type\": \"choropleth\"}], \"contour\": [{\"colorbar\": {\"outlinewidth\": 0, \"ticks\": \"\"}, \"colorscale\": [[0.0, \"#0d0887\"], [0.1111111111111111, \"#46039f\"], [0.2222222222222222, \"#7201a8\"], [0.3333333333333333, \"#9c179e\"], [0.4444444444444444, \"#bd3786\"], [0.5555555555555556, \"#d8576b\"], [0.6666666666666666, \"#ed7953\"], [0.7777777777777778, \"#fb9f3a\"], [0.8888888888888888, \"#fdca26\"], [1.0, \"#f0f921\"]], \"type\": \"contour\"}], \"contourcarpet\": [{\"colorbar\": {\"outlinewidth\": 0, \"ticks\": \"\"}, \"type\": \"contourcarpet\"}], \"heatmap\": [{\"colorbar\": {\"outlinewidth\": 0, \"ticks\": \"\"}, \"colorscale\": [[0.0, \"#0d0887\"], [0.1111111111111111, \"#46039f\"], [0.2222222222222222, \"#7201a8\"], [0.3333333333333333, \"#9c179e\"], [0.4444444444444444, \"#bd3786\"], [0.5555555555555556, \"#d8576b\"], [0.6666666666666666, \"#ed7953\"], [0.7777777777777778, \"#fb9f3a\"], [0.8888888888888888, \"#fdca26\"], [1.0, \"#f0f921\"]], \"type\": \"heatmap\"}], \"heatmapgl\": [{\"colorbar\": {\"outlinewidth\": 0, \"ticks\": \"\"}, \"colorscale\": [[0.0, \"#0d0887\"], [0.1111111111111111, \"#46039f\"], [0.2222222222222222, \"#7201a8\"], [0.3333333333333333, \"#9c179e\"], [0.4444444444444444, \"#bd3786\"], [0.5555555555555556, \"#d8576b\"], [0.6666666666666666, \"#ed7953\"], [0.7777777777777778, \"#fb9f3a\"], [0.8888888888888888, \"#fdca26\"], [1.0, \"#f0f921\"]], \"type\": \"heatmapgl\"}], \"histogram\": [{\"marker\": {\"colorbar\": {\"outlinewidth\": 0, \"ticks\": \"\"}}, \"type\": \"histogram\"}], \"histogram2d\": [{\"colorbar\": {\"outlinewidth\": 0, \"ticks\": \"\"}, \"colorscale\": [[0.0, \"#0d0887\"], [0.1111111111111111, \"#46039f\"], [0.2222222222222222, \"#7201a8\"], [0.3333333333333333, \"#9c179e\"], [0.4444444444444444, \"#bd3786\"], [0.5555555555555556, \"#d8576b\"], [0.6666666666666666, \"#ed7953\"], [0.7777777777777778, \"#fb9f3a\"], [0.8888888888888888, \"#fdca26\"], [1.0, \"#f0f921\"]], \"type\": \"histogram2d\"}], \"histogram2dcontour\": [{\"colorbar\": {\"outlinewidth\": 0, \"ticks\": \"\"}, \"colorscale\": [[0.0, \"#0d0887\"], [0.1111111111111111, \"#46039f\"], [0.2222222222222222, \"#7201a8\"], [0.3333333333333333, \"#9c179e\"], [0.4444444444444444, \"#bd3786\"], [0.5555555555555556, \"#d8576b\"], [0.6666666666666666, \"#ed7953\"], [0.7777777777777778, \"#fb9f3a\"], [0.8888888888888888, \"#fdca26\"], [1.0, \"#f0f921\"]], \"type\": \"histogram2dcontour\"}], \"mesh3d\": [{\"colorbar\": {\"outlinewidth\": 0, \"ticks\": \"\"}, \"type\": \"mesh3d\"}], \"parcoords\": [{\"line\": {\"colorbar\": {\"outlinewidth\": 0, \"ticks\": \"\"}}, \"type\": \"parcoords\"}], \"scatter\": [{\"marker\": {\"colorbar\": {\"outlinewidth\": 0, \"ticks\": \"\"}}, \"type\": \"scatter\"}], \"scatter3d\": [{\"line\": {\"colorbar\": {\"outlinewidth\": 0, \"ticks\": \"\"}}, \"marker\": {\"colorbar\": {\"outlinewidth\": 0, \"ticks\": \"\"}}, \"type\": \"scatter3d\"}], \"scattercarpet\": [{\"marker\": {\"colorbar\": {\"outlinewidth\": 0, \"ticks\": \"\"}}, \"type\": \"scattercarpet\"}], \"scattergeo\": [{\"marker\": {\"colorbar\": {\"outlinewidth\": 0, \"ticks\": \"\"}}, \"type\": \"scattergeo\"}], \"scattergl\": [{\"marker\": {\"colorbar\": {\"outlinewidth\": 0, \"ticks\": \"\"}}, \"type\": \"scattergl\"}], \"scattermapbox\": [{\"marker\": {\"colorbar\": {\"outlinewidth\": 0, \"ticks\": \"\"}}, \"type\": \"scattermapbox\"}], \"scatterpolar\": [{\"marker\": {\"colorbar\": {\"outlinewidth\": 0, \"ticks\": \"\"}}, \"type\": \"scatterpolar\"}], \"scatterpolargl\": [{\"marker\": {\"colorbar\": {\"outlinewidth\": 0, \"ticks\": \"\"}}, \"type\": \"scatterpolargl\"}], \"scatterternary\": [{\"marker\": {\"colorbar\": {\"outlinewidth\": 0, \"ticks\": \"\"}}, \"type\": \"scatterternary\"}], \"surface\": [{\"colorbar\": {\"outlinewidth\": 0, \"ticks\": \"\"}, \"colorscale\": [[0.0, \"#0d0887\"], [0.1111111111111111, \"#46039f\"], [0.2222222222222222, \"#7201a8\"], [0.3333333333333333, \"#9c179e\"], [0.4444444444444444, \"#bd3786\"], [0.5555555555555556, \"#d8576b\"], [0.6666666666666666, \"#ed7953\"], [0.7777777777777778, \"#fb9f3a\"], [0.8888888888888888, \"#fdca26\"], [1.0, \"#f0f921\"]], \"type\": \"surface\"}], \"table\": [{\"cells\": {\"fill\": {\"color\": \"#EBF0F8\"}, \"line\": {\"color\": \"white\"}}, \"header\": {\"fill\": {\"color\": \"#C8D4E3\"}, \"line\": {\"color\": \"white\"}}, \"type\": \"table\"}]}, \"layout\": {\"annotationdefaults\": {\"arrowcolor\": \"#2a3f5f\", \"arrowhead\": 0, \"arrowwidth\": 1}, \"colorscale\": {\"diverging\": [[0, \"#8e0152\"], [0.1, \"#c51b7d\"], [0.2, \"#de77ae\"], [0.3, \"#f1b6da\"], [0.4, \"#fde0ef\"], [0.5, \"#f7f7f7\"], [0.6, \"#e6f5d0\"], [0.7, \"#b8e186\"], [0.8, \"#7fbc41\"], [0.9, \"#4d9221\"], [1, \"#276419\"]], \"sequential\": [[0.0, \"#0d0887\"], [0.1111111111111111, \"#46039f\"], [0.2222222222222222, \"#7201a8\"], [0.3333333333333333, \"#9c179e\"], [0.4444444444444444, \"#bd3786\"], [0.5555555555555556, \"#d8576b\"], [0.6666666666666666, \"#ed7953\"], [0.7777777777777778, \"#fb9f3a\"], [0.8888888888888888, \"#fdca26\"], [1.0, \"#f0f921\"]], \"sequentialminus\": [[0.0, \"#0d0887\"], [0.1111111111111111, \"#46039f\"], [0.2222222222222222, \"#7201a8\"], [0.3333333333333333, \"#9c179e\"], [0.4444444444444444, \"#bd3786\"], [0.5555555555555556, \"#d8576b\"], [0.6666666666666666, \"#ed7953\"], [0.7777777777777778, \"#fb9f3a\"], [0.8888888888888888, \"#fdca26\"], [1.0, \"#f0f921\"]]}, \"colorway\": [\"#636efa\", \"#EF553B\", \"#00cc96\", \"#ab63fa\", \"#FFA15A\", \"#19d3f3\", \"#FF6692\", \"#B6E880\", \"#FF97FF\", \"#FECB52\"], \"font\": {\"color\": \"#2a3f5f\"}, \"geo\": {\"bgcolor\": \"white\", \"lakecolor\": \"white\", \"landcolor\": \"#E5ECF6\", \"showlakes\": true, \"showland\": true, \"subunitcolor\": \"white\"}, \"hoverlabel\": {\"align\": \"left\"}, \"hovermode\": \"closest\", \"mapbox\": {\"style\": \"light\"}, \"paper_bgcolor\": \"white\", \"plot_bgcolor\": \"#E5ECF6\", \"polar\": {\"angularaxis\": {\"gridcolor\": \"white\", \"linecolor\": \"white\", \"ticks\": \"\"}, \"bgcolor\": \"#E5ECF6\", \"radialaxis\": {\"gridcolor\": \"white\", \"linecolor\": \"white\", \"ticks\": \"\"}}, \"scene\": {\"xaxis\": {\"backgroundcolor\": \"#E5ECF6\", \"gridcolor\": \"white\", \"gridwidth\": 2, \"linecolor\": \"white\", \"showbackground\": true, \"ticks\": \"\", \"zerolinecolor\": \"white\"}, \"yaxis\": {\"backgroundcolor\": \"#E5ECF6\", \"gridcolor\": \"white\", \"gridwidth\": 2, \"linecolor\": \"white\", \"showbackground\": true, \"ticks\": \"\", \"zerolinecolor\": \"white\"}, \"zaxis\": {\"backgroundcolor\": \"#E5ECF6\", \"gridcolor\": \"white\", \"gridwidth\": 2, \"linecolor\": \"white\", \"showbackground\": true, \"ticks\": \"\", \"zerolinecolor\": \"white\"}}, \"shapedefaults\": {\"line\": {\"color\": \"#2a3f5f\"}}, \"ternary\": {\"aaxis\": {\"gridcolor\": \"white\", \"linecolor\": \"white\", \"ticks\": \"\"}, \"baxis\": {\"gridcolor\": \"white\", \"linecolor\": \"white\", \"ticks\": \"\"}, \"bgcolor\": \"#E5ECF6\", \"caxis\": {\"gridcolor\": \"white\", \"linecolor\": \"white\", \"ticks\": \"\"}}, \"title\": {\"x\": 0.05}, \"xaxis\": {\"automargin\": true, \"gridcolor\": \"white\", \"linecolor\": \"white\", \"ticks\": \"\", \"zerolinecolor\": \"white\", \"zerolinewidth\": 2}, \"yaxis\": {\"automargin\": true, \"gridcolor\": \"white\", \"linecolor\": \"white\", \"ticks\": \"\", \"zerolinecolor\": \"white\", \"zerolinewidth\": 2}}}, \"title\": {\"text\": \"Dependents distribution in customer attrition \"}},\n",
       "                        {\"responsive\": true}\n",
       "                    ).then(function(){\n",
       "                            \n",
       "var gd = document.getElementById('d31f2314-17e1-4370-9521-d47eecff6079');\n",
       "var x = new MutationObserver(function (mutations, observer) {{\n",
       "        var display = window.getComputedStyle(gd).display;\n",
       "        if (!display || display === 'none') {{\n",
       "            console.log([gd, 'removed!']);\n",
       "            Plotly.purge(gd);\n",
       "            observer.disconnect();\n",
       "        }}\n",
       "}});\n",
       "\n",
       "// Listen for the removal of the full notebook cells\n",
       "var notebookContainer = gd.closest('#notebook-container');\n",
       "if (notebookContainer) {{\n",
       "    x.observe(notebookContainer, {childList: true});\n",
       "}}\n",
       "\n",
       "// Listen for the clearing of the current output cell\n",
       "var outputEl = gd.closest('.output');\n",
       "if (outputEl) {{\n",
       "    x.observe(outputEl, {childList: true});\n",
       "}}\n",
       "\n",
       "                        })\n",
       "                };\n",
       "                });\n",
       "            </script>\n",
       "        </div>"
      ]
     },
     "metadata": {},
     "output_type": "display_data"
    },
    {
     "data": {
      "application/vnd.plotly.v1+json": {
       "config": {
        "linkText": "Export to plot.ly",
        "plotlyServerURL": "https://plot.ly",
        "showLink": false
       },
       "data": [
        {
         "domain": {
          "x": [
           0,
           0.48
          ]
         },
         "hole": 0.6,
         "hoverinfo": "label+percent+name",
         "labels": [
          "Yes",
          "No"
         ],
         "marker": {
          "line": {
           "color": "rgb(243,243,243)",
           "width": 2
          }
         },
         "name": "Churn Customers",
         "type": "pie",
         "values": [
          1699,
          170
         ]
        },
        {
         "domain": {
          "x": [
           0.52,
           1
          ]
         },
         "hole": 0.6,
         "hoverinfo": "label+percent+name",
         "labels": [
          "Yes",
          "No"
         ],
         "marker": {
          "line": {
           "color": "rgb(243,243,243)",
           "width": 2
          }
         },
         "name": "Non churn customers",
         "type": "pie",
         "values": [
          4653,
          510
         ]
        }
       ],
       "layout": {
        "annotations": [
         {
          "font": {
           "size": 13
          },
          "showarrow": false,
          "text": "churn customers",
          "x": 0.15,
          "y": 0.5
         },
         {
          "font": {
           "size": 13
          },
          "showarrow": false,
          "text": "Non churn customers",
          "x": 0.88,
          "y": 0.5
         }
        ],
        "paper_bgcolor": "rgb(243,243,243)",
        "plot_bgcolor": "rgb(243,243,243)",
        "template": {
         "data": {
          "bar": [
           {
            "error_x": {
             "color": "#2a3f5f"
            },
            "error_y": {
             "color": "#2a3f5f"
            },
            "marker": {
             "line": {
              "color": "#E5ECF6",
              "width": 0.5
             }
            },
            "type": "bar"
           }
          ],
          "barpolar": [
           {
            "marker": {
             "line": {
              "color": "#E5ECF6",
              "width": 0.5
             }
            },
            "type": "barpolar"
           }
          ],
          "carpet": [
           {
            "aaxis": {
             "endlinecolor": "#2a3f5f",
             "gridcolor": "white",
             "linecolor": "white",
             "minorgridcolor": "white",
             "startlinecolor": "#2a3f5f"
            },
            "baxis": {
             "endlinecolor": "#2a3f5f",
             "gridcolor": "white",
             "linecolor": "white",
             "minorgridcolor": "white",
             "startlinecolor": "#2a3f5f"
            },
            "type": "carpet"
           }
          ],
          "choropleth": [
           {
            "colorbar": {
             "outlinewidth": 0,
             "ticks": ""
            },
            "type": "choropleth"
           }
          ],
          "contour": [
           {
            "colorbar": {
             "outlinewidth": 0,
             "ticks": ""
            },
            "colorscale": [
             [
              0,
              "#0d0887"
             ],
             [
              0.1111111111111111,
              "#46039f"
             ],
             [
              0.2222222222222222,
              "#7201a8"
             ],
             [
              0.3333333333333333,
              "#9c179e"
             ],
             [
              0.4444444444444444,
              "#bd3786"
             ],
             [
              0.5555555555555556,
              "#d8576b"
             ],
             [
              0.6666666666666666,
              "#ed7953"
             ],
             [
              0.7777777777777778,
              "#fb9f3a"
             ],
             [
              0.8888888888888888,
              "#fdca26"
             ],
             [
              1,
              "#f0f921"
             ]
            ],
            "type": "contour"
           }
          ],
          "contourcarpet": [
           {
            "colorbar": {
             "outlinewidth": 0,
             "ticks": ""
            },
            "type": "contourcarpet"
           }
          ],
          "heatmap": [
           {
            "colorbar": {
             "outlinewidth": 0,
             "ticks": ""
            },
            "colorscale": [
             [
              0,
              "#0d0887"
             ],
             [
              0.1111111111111111,
              "#46039f"
             ],
             [
              0.2222222222222222,
              "#7201a8"
             ],
             [
              0.3333333333333333,
              "#9c179e"
             ],
             [
              0.4444444444444444,
              "#bd3786"
             ],
             [
              0.5555555555555556,
              "#d8576b"
             ],
             [
              0.6666666666666666,
              "#ed7953"
             ],
             [
              0.7777777777777778,
              "#fb9f3a"
             ],
             [
              0.8888888888888888,
              "#fdca26"
             ],
             [
              1,
              "#f0f921"
             ]
            ],
            "type": "heatmap"
           }
          ],
          "heatmapgl": [
           {
            "colorbar": {
             "outlinewidth": 0,
             "ticks": ""
            },
            "colorscale": [
             [
              0,
              "#0d0887"
             ],
             [
              0.1111111111111111,
              "#46039f"
             ],
             [
              0.2222222222222222,
              "#7201a8"
             ],
             [
              0.3333333333333333,
              "#9c179e"
             ],
             [
              0.4444444444444444,
              "#bd3786"
             ],
             [
              0.5555555555555556,
              "#d8576b"
             ],
             [
              0.6666666666666666,
              "#ed7953"
             ],
             [
              0.7777777777777778,
              "#fb9f3a"
             ],
             [
              0.8888888888888888,
              "#fdca26"
             ],
             [
              1,
              "#f0f921"
             ]
            ],
            "type": "heatmapgl"
           }
          ],
          "histogram": [
           {
            "marker": {
             "colorbar": {
              "outlinewidth": 0,
              "ticks": ""
             }
            },
            "type": "histogram"
           }
          ],
          "histogram2d": [
           {
            "colorbar": {
             "outlinewidth": 0,
             "ticks": ""
            },
            "colorscale": [
             [
              0,
              "#0d0887"
             ],
             [
              0.1111111111111111,
              "#46039f"
             ],
             [
              0.2222222222222222,
              "#7201a8"
             ],
             [
              0.3333333333333333,
              "#9c179e"
             ],
             [
              0.4444444444444444,
              "#bd3786"
             ],
             [
              0.5555555555555556,
              "#d8576b"
             ],
             [
              0.6666666666666666,
              "#ed7953"
             ],
             [
              0.7777777777777778,
              "#fb9f3a"
             ],
             [
              0.8888888888888888,
              "#fdca26"
             ],
             [
              1,
              "#f0f921"
             ]
            ],
            "type": "histogram2d"
           }
          ],
          "histogram2dcontour": [
           {
            "colorbar": {
             "outlinewidth": 0,
             "ticks": ""
            },
            "colorscale": [
             [
              0,
              "#0d0887"
             ],
             [
              0.1111111111111111,
              "#46039f"
             ],
             [
              0.2222222222222222,
              "#7201a8"
             ],
             [
              0.3333333333333333,
              "#9c179e"
             ],
             [
              0.4444444444444444,
              "#bd3786"
             ],
             [
              0.5555555555555556,
              "#d8576b"
             ],
             [
              0.6666666666666666,
              "#ed7953"
             ],
             [
              0.7777777777777778,
              "#fb9f3a"
             ],
             [
              0.8888888888888888,
              "#fdca26"
             ],
             [
              1,
              "#f0f921"
             ]
            ],
            "type": "histogram2dcontour"
           }
          ],
          "mesh3d": [
           {
            "colorbar": {
             "outlinewidth": 0,
             "ticks": ""
            },
            "type": "mesh3d"
           }
          ],
          "parcoords": [
           {
            "line": {
             "colorbar": {
              "outlinewidth": 0,
              "ticks": ""
             }
            },
            "type": "parcoords"
           }
          ],
          "scatter": [
           {
            "marker": {
             "colorbar": {
              "outlinewidth": 0,
              "ticks": ""
             }
            },
            "type": "scatter"
           }
          ],
          "scatter3d": [
           {
            "line": {
             "colorbar": {
              "outlinewidth": 0,
              "ticks": ""
             }
            },
            "marker": {
             "colorbar": {
              "outlinewidth": 0,
              "ticks": ""
             }
            },
            "type": "scatter3d"
           }
          ],
          "scattercarpet": [
           {
            "marker": {
             "colorbar": {
              "outlinewidth": 0,
              "ticks": ""
             }
            },
            "type": "scattercarpet"
           }
          ],
          "scattergeo": [
           {
            "marker": {
             "colorbar": {
              "outlinewidth": 0,
              "ticks": ""
             }
            },
            "type": "scattergeo"
           }
          ],
          "scattergl": [
           {
            "marker": {
             "colorbar": {
              "outlinewidth": 0,
              "ticks": ""
             }
            },
            "type": "scattergl"
           }
          ],
          "scattermapbox": [
           {
            "marker": {
             "colorbar": {
              "outlinewidth": 0,
              "ticks": ""
             }
            },
            "type": "scattermapbox"
           }
          ],
          "scatterpolar": [
           {
            "marker": {
             "colorbar": {
              "outlinewidth": 0,
              "ticks": ""
             }
            },
            "type": "scatterpolar"
           }
          ],
          "scatterpolargl": [
           {
            "marker": {
             "colorbar": {
              "outlinewidth": 0,
              "ticks": ""
             }
            },
            "type": "scatterpolargl"
           }
          ],
          "scatterternary": [
           {
            "marker": {
             "colorbar": {
              "outlinewidth": 0,
              "ticks": ""
             }
            },
            "type": "scatterternary"
           }
          ],
          "surface": [
           {
            "colorbar": {
             "outlinewidth": 0,
             "ticks": ""
            },
            "colorscale": [
             [
              0,
              "#0d0887"
             ],
             [
              0.1111111111111111,
              "#46039f"
             ],
             [
              0.2222222222222222,
              "#7201a8"
             ],
             [
              0.3333333333333333,
              "#9c179e"
             ],
             [
              0.4444444444444444,
              "#bd3786"
             ],
             [
              0.5555555555555556,
              "#d8576b"
             ],
             [
              0.6666666666666666,
              "#ed7953"
             ],
             [
              0.7777777777777778,
              "#fb9f3a"
             ],
             [
              0.8888888888888888,
              "#fdca26"
             ],
             [
              1,
              "#f0f921"
             ]
            ],
            "type": "surface"
           }
          ],
          "table": [
           {
            "cells": {
             "fill": {
              "color": "#EBF0F8"
             },
             "line": {
              "color": "white"
             }
            },
            "header": {
             "fill": {
              "color": "#C8D4E3"
             },
             "line": {
              "color": "white"
             }
            },
            "type": "table"
           }
          ]
         },
         "layout": {
          "annotationdefaults": {
           "arrowcolor": "#2a3f5f",
           "arrowhead": 0,
           "arrowwidth": 1
          },
          "colorscale": {
           "diverging": [
            [
             0,
             "#8e0152"
            ],
            [
             0.1,
             "#c51b7d"
            ],
            [
             0.2,
             "#de77ae"
            ],
            [
             0.3,
             "#f1b6da"
            ],
            [
             0.4,
             "#fde0ef"
            ],
            [
             0.5,
             "#f7f7f7"
            ],
            [
             0.6,
             "#e6f5d0"
            ],
            [
             0.7,
             "#b8e186"
            ],
            [
             0.8,
             "#7fbc41"
            ],
            [
             0.9,
             "#4d9221"
            ],
            [
             1,
             "#276419"
            ]
           ],
           "sequential": [
            [
             0,
             "#0d0887"
            ],
            [
             0.1111111111111111,
             "#46039f"
            ],
            [
             0.2222222222222222,
             "#7201a8"
            ],
            [
             0.3333333333333333,
             "#9c179e"
            ],
            [
             0.4444444444444444,
             "#bd3786"
            ],
            [
             0.5555555555555556,
             "#d8576b"
            ],
            [
             0.6666666666666666,
             "#ed7953"
            ],
            [
             0.7777777777777778,
             "#fb9f3a"
            ],
            [
             0.8888888888888888,
             "#fdca26"
            ],
            [
             1,
             "#f0f921"
            ]
           ],
           "sequentialminus": [
            [
             0,
             "#0d0887"
            ],
            [
             0.1111111111111111,
             "#46039f"
            ],
            [
             0.2222222222222222,
             "#7201a8"
            ],
            [
             0.3333333333333333,
             "#9c179e"
            ],
            [
             0.4444444444444444,
             "#bd3786"
            ],
            [
             0.5555555555555556,
             "#d8576b"
            ],
            [
             0.6666666666666666,
             "#ed7953"
            ],
            [
             0.7777777777777778,
             "#fb9f3a"
            ],
            [
             0.8888888888888888,
             "#fdca26"
            ],
            [
             1,
             "#f0f921"
            ]
           ]
          },
          "colorway": [
           "#636efa",
           "#EF553B",
           "#00cc96",
           "#ab63fa",
           "#FFA15A",
           "#19d3f3",
           "#FF6692",
           "#B6E880",
           "#FF97FF",
           "#FECB52"
          ],
          "font": {
           "color": "#2a3f5f"
          },
          "geo": {
           "bgcolor": "white",
           "lakecolor": "white",
           "landcolor": "#E5ECF6",
           "showlakes": true,
           "showland": true,
           "subunitcolor": "white"
          },
          "hoverlabel": {
           "align": "left"
          },
          "hovermode": "closest",
          "mapbox": {
           "style": "light"
          },
          "paper_bgcolor": "white",
          "plot_bgcolor": "#E5ECF6",
          "polar": {
           "angularaxis": {
            "gridcolor": "white",
            "linecolor": "white",
            "ticks": ""
           },
           "bgcolor": "#E5ECF6",
           "radialaxis": {
            "gridcolor": "white",
            "linecolor": "white",
            "ticks": ""
           }
          },
          "scene": {
           "xaxis": {
            "backgroundcolor": "#E5ECF6",
            "gridcolor": "white",
            "gridwidth": 2,
            "linecolor": "white",
            "showbackground": true,
            "ticks": "",
            "zerolinecolor": "white"
           },
           "yaxis": {
            "backgroundcolor": "#E5ECF6",
            "gridcolor": "white",
            "gridwidth": 2,
            "linecolor": "white",
            "showbackground": true,
            "ticks": "",
            "zerolinecolor": "white"
           },
           "zaxis": {
            "backgroundcolor": "#E5ECF6",
            "gridcolor": "white",
            "gridwidth": 2,
            "linecolor": "white",
            "showbackground": true,
            "ticks": "",
            "zerolinecolor": "white"
           }
          },
          "shapedefaults": {
           "line": {
            "color": "#2a3f5f"
           }
          },
          "ternary": {
           "aaxis": {
            "gridcolor": "white",
            "linecolor": "white",
            "ticks": ""
           },
           "baxis": {
            "gridcolor": "white",
            "linecolor": "white",
            "ticks": ""
           },
           "bgcolor": "#E5ECF6",
           "caxis": {
            "gridcolor": "white",
            "linecolor": "white",
            "ticks": ""
           }
          },
          "title": {
           "x": 0.05
          },
          "xaxis": {
           "automargin": true,
           "gridcolor": "white",
           "linecolor": "white",
           "ticks": "",
           "zerolinecolor": "white",
           "zerolinewidth": 2
          },
          "yaxis": {
           "automargin": true,
           "gridcolor": "white",
           "linecolor": "white",
           "ticks": "",
           "zerolinecolor": "white",
           "zerolinewidth": 2
          }
         }
        },
        "title": {
         "text": "PhoneService distribution in customer attrition "
        }
       }
      },
      "text/html": [
       "<div>\n",
       "        \n",
       "        \n",
       "            <div id=\"71dd6912-4411-4eda-9f10-93cd9edb099e\" class=\"plotly-graph-div\" style=\"height:525px; width:100%;\"></div>\n",
       "            <script type=\"text/javascript\">\n",
       "                require([\"plotly\"], function(Plotly) {\n",
       "                    window.PLOTLYENV=window.PLOTLYENV || {};\n",
       "                    \n",
       "                if (document.getElementById(\"71dd6912-4411-4eda-9f10-93cd9edb099e\")) {\n",
       "                    Plotly.newPlot(\n",
       "                        '71dd6912-4411-4eda-9f10-93cd9edb099e',\n",
       "                        [{\"domain\": {\"x\": [0, 0.48]}, \"hole\": 0.6, \"hoverinfo\": \"label+percent+name\", \"labels\": [\"Yes\", \"No\"], \"marker\": {\"line\": {\"color\": \"rgb(243,243,243)\", \"width\": 2}}, \"name\": \"Churn Customers\", \"type\": \"pie\", \"values\": [1699, 170]}, {\"domain\": {\"x\": [0.52, 1]}, \"hole\": 0.6, \"hoverinfo\": \"label+percent+name\", \"labels\": [\"Yes\", \"No\"], \"marker\": {\"line\": {\"color\": \"rgb(243,243,243)\", \"width\": 2}}, \"name\": \"Non churn customers\", \"type\": \"pie\", \"values\": [4653, 510]}],\n",
       "                        {\"annotations\": [{\"font\": {\"size\": 13}, \"showarrow\": false, \"text\": \"churn customers\", \"x\": 0.15, \"y\": 0.5}, {\"font\": {\"size\": 13}, \"showarrow\": false, \"text\": \"Non churn customers\", \"x\": 0.88, \"y\": 0.5}], \"paper_bgcolor\": \"rgb(243,243,243)\", \"plot_bgcolor\": \"rgb(243,243,243)\", \"template\": {\"data\": {\"bar\": [{\"error_x\": {\"color\": \"#2a3f5f\"}, \"error_y\": {\"color\": \"#2a3f5f\"}, \"marker\": {\"line\": {\"color\": \"#E5ECF6\", \"width\": 0.5}}, \"type\": \"bar\"}], \"barpolar\": [{\"marker\": {\"line\": {\"color\": \"#E5ECF6\", \"width\": 0.5}}, \"type\": \"barpolar\"}], \"carpet\": [{\"aaxis\": {\"endlinecolor\": \"#2a3f5f\", \"gridcolor\": \"white\", \"linecolor\": \"white\", \"minorgridcolor\": \"white\", \"startlinecolor\": \"#2a3f5f\"}, \"baxis\": {\"endlinecolor\": \"#2a3f5f\", \"gridcolor\": \"white\", \"linecolor\": \"white\", \"minorgridcolor\": \"white\", \"startlinecolor\": \"#2a3f5f\"}, \"type\": \"carpet\"}], \"choropleth\": [{\"colorbar\": {\"outlinewidth\": 0, \"ticks\": \"\"}, \"type\": \"choropleth\"}], \"contour\": [{\"colorbar\": {\"outlinewidth\": 0, \"ticks\": \"\"}, \"colorscale\": [[0.0, \"#0d0887\"], [0.1111111111111111, \"#46039f\"], [0.2222222222222222, \"#7201a8\"], [0.3333333333333333, \"#9c179e\"], [0.4444444444444444, \"#bd3786\"], [0.5555555555555556, \"#d8576b\"], [0.6666666666666666, \"#ed7953\"], [0.7777777777777778, \"#fb9f3a\"], [0.8888888888888888, \"#fdca26\"], [1.0, \"#f0f921\"]], \"type\": \"contour\"}], \"contourcarpet\": [{\"colorbar\": {\"outlinewidth\": 0, \"ticks\": \"\"}, \"type\": \"contourcarpet\"}], \"heatmap\": [{\"colorbar\": {\"outlinewidth\": 0, \"ticks\": \"\"}, \"colorscale\": [[0.0, \"#0d0887\"], [0.1111111111111111, \"#46039f\"], [0.2222222222222222, \"#7201a8\"], [0.3333333333333333, \"#9c179e\"], [0.4444444444444444, \"#bd3786\"], [0.5555555555555556, \"#d8576b\"], [0.6666666666666666, \"#ed7953\"], [0.7777777777777778, \"#fb9f3a\"], [0.8888888888888888, \"#fdca26\"], [1.0, \"#f0f921\"]], \"type\": \"heatmap\"}], \"heatmapgl\": [{\"colorbar\": {\"outlinewidth\": 0, \"ticks\": \"\"}, \"colorscale\": [[0.0, \"#0d0887\"], [0.1111111111111111, \"#46039f\"], [0.2222222222222222, \"#7201a8\"], [0.3333333333333333, \"#9c179e\"], [0.4444444444444444, \"#bd3786\"], [0.5555555555555556, \"#d8576b\"], [0.6666666666666666, \"#ed7953\"], [0.7777777777777778, \"#fb9f3a\"], [0.8888888888888888, \"#fdca26\"], [1.0, \"#f0f921\"]], \"type\": \"heatmapgl\"}], \"histogram\": [{\"marker\": {\"colorbar\": {\"outlinewidth\": 0, \"ticks\": \"\"}}, \"type\": \"histogram\"}], \"histogram2d\": [{\"colorbar\": {\"outlinewidth\": 0, \"ticks\": \"\"}, \"colorscale\": [[0.0, \"#0d0887\"], [0.1111111111111111, \"#46039f\"], [0.2222222222222222, \"#7201a8\"], [0.3333333333333333, \"#9c179e\"], [0.4444444444444444, \"#bd3786\"], [0.5555555555555556, \"#d8576b\"], [0.6666666666666666, \"#ed7953\"], [0.7777777777777778, \"#fb9f3a\"], [0.8888888888888888, \"#fdca26\"], [1.0, \"#f0f921\"]], \"type\": \"histogram2d\"}], \"histogram2dcontour\": [{\"colorbar\": {\"outlinewidth\": 0, \"ticks\": \"\"}, \"colorscale\": [[0.0, \"#0d0887\"], [0.1111111111111111, \"#46039f\"], [0.2222222222222222, \"#7201a8\"], [0.3333333333333333, \"#9c179e\"], [0.4444444444444444, \"#bd3786\"], [0.5555555555555556, \"#d8576b\"], [0.6666666666666666, \"#ed7953\"], [0.7777777777777778, \"#fb9f3a\"], [0.8888888888888888, \"#fdca26\"], [1.0, \"#f0f921\"]], \"type\": \"histogram2dcontour\"}], \"mesh3d\": [{\"colorbar\": {\"outlinewidth\": 0, \"ticks\": \"\"}, \"type\": \"mesh3d\"}], \"parcoords\": [{\"line\": {\"colorbar\": {\"outlinewidth\": 0, \"ticks\": \"\"}}, \"type\": \"parcoords\"}], \"scatter\": [{\"marker\": {\"colorbar\": {\"outlinewidth\": 0, \"ticks\": \"\"}}, \"type\": \"scatter\"}], \"scatter3d\": [{\"line\": {\"colorbar\": {\"outlinewidth\": 0, \"ticks\": \"\"}}, \"marker\": {\"colorbar\": {\"outlinewidth\": 0, \"ticks\": \"\"}}, \"type\": \"scatter3d\"}], \"scattercarpet\": [{\"marker\": {\"colorbar\": {\"outlinewidth\": 0, \"ticks\": \"\"}}, \"type\": \"scattercarpet\"}], \"scattergeo\": [{\"marker\": {\"colorbar\": {\"outlinewidth\": 0, \"ticks\": \"\"}}, \"type\": \"scattergeo\"}], \"scattergl\": [{\"marker\": {\"colorbar\": {\"outlinewidth\": 0, \"ticks\": \"\"}}, \"type\": \"scattergl\"}], \"scattermapbox\": [{\"marker\": {\"colorbar\": {\"outlinewidth\": 0, \"ticks\": \"\"}}, \"type\": \"scattermapbox\"}], \"scatterpolar\": [{\"marker\": {\"colorbar\": {\"outlinewidth\": 0, \"ticks\": \"\"}}, \"type\": \"scatterpolar\"}], \"scatterpolargl\": [{\"marker\": {\"colorbar\": {\"outlinewidth\": 0, \"ticks\": \"\"}}, \"type\": \"scatterpolargl\"}], \"scatterternary\": [{\"marker\": {\"colorbar\": {\"outlinewidth\": 0, \"ticks\": \"\"}}, \"type\": \"scatterternary\"}], \"surface\": [{\"colorbar\": {\"outlinewidth\": 0, \"ticks\": \"\"}, \"colorscale\": [[0.0, \"#0d0887\"], [0.1111111111111111, \"#46039f\"], [0.2222222222222222, \"#7201a8\"], [0.3333333333333333, \"#9c179e\"], [0.4444444444444444, \"#bd3786\"], [0.5555555555555556, \"#d8576b\"], [0.6666666666666666, \"#ed7953\"], [0.7777777777777778, \"#fb9f3a\"], [0.8888888888888888, \"#fdca26\"], [1.0, \"#f0f921\"]], \"type\": \"surface\"}], \"table\": [{\"cells\": {\"fill\": {\"color\": \"#EBF0F8\"}, \"line\": {\"color\": \"white\"}}, \"header\": {\"fill\": {\"color\": \"#C8D4E3\"}, \"line\": {\"color\": \"white\"}}, \"type\": \"table\"}]}, \"layout\": {\"annotationdefaults\": {\"arrowcolor\": \"#2a3f5f\", \"arrowhead\": 0, \"arrowwidth\": 1}, \"colorscale\": {\"diverging\": [[0, \"#8e0152\"], [0.1, \"#c51b7d\"], [0.2, \"#de77ae\"], [0.3, \"#f1b6da\"], [0.4, \"#fde0ef\"], [0.5, \"#f7f7f7\"], [0.6, \"#e6f5d0\"], [0.7, \"#b8e186\"], [0.8, \"#7fbc41\"], [0.9, \"#4d9221\"], [1, \"#276419\"]], \"sequential\": [[0.0, \"#0d0887\"], [0.1111111111111111, \"#46039f\"], [0.2222222222222222, \"#7201a8\"], [0.3333333333333333, \"#9c179e\"], [0.4444444444444444, \"#bd3786\"], [0.5555555555555556, \"#d8576b\"], [0.6666666666666666, \"#ed7953\"], [0.7777777777777778, \"#fb9f3a\"], [0.8888888888888888, \"#fdca26\"], [1.0, \"#f0f921\"]], \"sequentialminus\": [[0.0, \"#0d0887\"], [0.1111111111111111, \"#46039f\"], [0.2222222222222222, \"#7201a8\"], [0.3333333333333333, \"#9c179e\"], [0.4444444444444444, \"#bd3786\"], [0.5555555555555556, \"#d8576b\"], [0.6666666666666666, \"#ed7953\"], [0.7777777777777778, \"#fb9f3a\"], [0.8888888888888888, \"#fdca26\"], [1.0, \"#f0f921\"]]}, \"colorway\": [\"#636efa\", \"#EF553B\", \"#00cc96\", \"#ab63fa\", \"#FFA15A\", \"#19d3f3\", \"#FF6692\", \"#B6E880\", \"#FF97FF\", \"#FECB52\"], \"font\": {\"color\": \"#2a3f5f\"}, \"geo\": {\"bgcolor\": \"white\", \"lakecolor\": \"white\", \"landcolor\": \"#E5ECF6\", \"showlakes\": true, \"showland\": true, \"subunitcolor\": \"white\"}, \"hoverlabel\": {\"align\": \"left\"}, \"hovermode\": \"closest\", \"mapbox\": {\"style\": \"light\"}, \"paper_bgcolor\": \"white\", \"plot_bgcolor\": \"#E5ECF6\", \"polar\": {\"angularaxis\": {\"gridcolor\": \"white\", \"linecolor\": \"white\", \"ticks\": \"\"}, \"bgcolor\": \"#E5ECF6\", \"radialaxis\": {\"gridcolor\": \"white\", \"linecolor\": \"white\", \"ticks\": \"\"}}, \"scene\": {\"xaxis\": {\"backgroundcolor\": \"#E5ECF6\", \"gridcolor\": \"white\", \"gridwidth\": 2, \"linecolor\": \"white\", \"showbackground\": true, \"ticks\": \"\", \"zerolinecolor\": \"white\"}, \"yaxis\": {\"backgroundcolor\": \"#E5ECF6\", \"gridcolor\": \"white\", \"gridwidth\": 2, \"linecolor\": \"white\", \"showbackground\": true, \"ticks\": \"\", \"zerolinecolor\": \"white\"}, \"zaxis\": {\"backgroundcolor\": \"#E5ECF6\", \"gridcolor\": \"white\", \"gridwidth\": 2, \"linecolor\": \"white\", \"showbackground\": true, \"ticks\": \"\", \"zerolinecolor\": \"white\"}}, \"shapedefaults\": {\"line\": {\"color\": \"#2a3f5f\"}}, \"ternary\": {\"aaxis\": {\"gridcolor\": \"white\", \"linecolor\": \"white\", \"ticks\": \"\"}, \"baxis\": {\"gridcolor\": \"white\", \"linecolor\": \"white\", \"ticks\": \"\"}, \"bgcolor\": \"#E5ECF6\", \"caxis\": {\"gridcolor\": \"white\", \"linecolor\": \"white\", \"ticks\": \"\"}}, \"title\": {\"x\": 0.05}, \"xaxis\": {\"automargin\": true, \"gridcolor\": \"white\", \"linecolor\": \"white\", \"ticks\": \"\", \"zerolinecolor\": \"white\", \"zerolinewidth\": 2}, \"yaxis\": {\"automargin\": true, \"gridcolor\": \"white\", \"linecolor\": \"white\", \"ticks\": \"\", \"zerolinecolor\": \"white\", \"zerolinewidth\": 2}}}, \"title\": {\"text\": \"PhoneService distribution in customer attrition \"}},\n",
       "                        {\"responsive\": true}\n",
       "                    ).then(function(){\n",
       "                            \n",
       "var gd = document.getElementById('71dd6912-4411-4eda-9f10-93cd9edb099e');\n",
       "var x = new MutationObserver(function (mutations, observer) {{\n",
       "        var display = window.getComputedStyle(gd).display;\n",
       "        if (!display || display === 'none') {{\n",
       "            console.log([gd, 'removed!']);\n",
       "            Plotly.purge(gd);\n",
       "            observer.disconnect();\n",
       "        }}\n",
       "}});\n",
       "\n",
       "// Listen for the removal of the full notebook cells\n",
       "var notebookContainer = gd.closest('#notebook-container');\n",
       "if (notebookContainer) {{\n",
       "    x.observe(notebookContainer, {childList: true});\n",
       "}}\n",
       "\n",
       "// Listen for the clearing of the current output cell\n",
       "var outputEl = gd.closest('.output');\n",
       "if (outputEl) {{\n",
       "    x.observe(outputEl, {childList: true});\n",
       "}}\n",
       "\n",
       "                        })\n",
       "                };\n",
       "                });\n",
       "            </script>\n",
       "        </div>"
      ]
     },
     "metadata": {},
     "output_type": "display_data"
    },
    {
     "data": {
      "application/vnd.plotly.v1+json": {
       "config": {
        "linkText": "Export to plot.ly",
        "plotlyServerURL": "https://plot.ly",
        "showLink": false
       },
       "data": [
        {
         "domain": {
          "x": [
           0,
           0.48
          ]
         },
         "hole": 0.6,
         "hoverinfo": "label+percent+name",
         "labels": [
          "Yes",
          "No",
          "No phone service"
         ],
         "marker": {
          "line": {
           "color": "rgb(243,243,243)",
           "width": 2
          }
         },
         "name": "Churn Customers",
         "type": "pie",
         "values": [
          850,
          849,
          170
         ]
        },
        {
         "domain": {
          "x": [
           0.52,
           1
          ]
         },
         "hole": 0.6,
         "hoverinfo": "label+percent+name",
         "labels": [
          "No",
          "Yes",
          "No phone service"
         ],
         "marker": {
          "line": {
           "color": "rgb(243,243,243)",
           "width": 2
          }
         },
         "name": "Non churn customers",
         "type": "pie",
         "values": [
          2536,
          2117,
          510
         ]
        }
       ],
       "layout": {
        "annotations": [
         {
          "font": {
           "size": 13
          },
          "showarrow": false,
          "text": "churn customers",
          "x": 0.15,
          "y": 0.5
         },
         {
          "font": {
           "size": 13
          },
          "showarrow": false,
          "text": "Non churn customers",
          "x": 0.88,
          "y": 0.5
         }
        ],
        "paper_bgcolor": "rgb(243,243,243)",
        "plot_bgcolor": "rgb(243,243,243)",
        "template": {
         "data": {
          "bar": [
           {
            "error_x": {
             "color": "#2a3f5f"
            },
            "error_y": {
             "color": "#2a3f5f"
            },
            "marker": {
             "line": {
              "color": "#E5ECF6",
              "width": 0.5
             }
            },
            "type": "bar"
           }
          ],
          "barpolar": [
           {
            "marker": {
             "line": {
              "color": "#E5ECF6",
              "width": 0.5
             }
            },
            "type": "barpolar"
           }
          ],
          "carpet": [
           {
            "aaxis": {
             "endlinecolor": "#2a3f5f",
             "gridcolor": "white",
             "linecolor": "white",
             "minorgridcolor": "white",
             "startlinecolor": "#2a3f5f"
            },
            "baxis": {
             "endlinecolor": "#2a3f5f",
             "gridcolor": "white",
             "linecolor": "white",
             "minorgridcolor": "white",
             "startlinecolor": "#2a3f5f"
            },
            "type": "carpet"
           }
          ],
          "choropleth": [
           {
            "colorbar": {
             "outlinewidth": 0,
             "ticks": ""
            },
            "type": "choropleth"
           }
          ],
          "contour": [
           {
            "colorbar": {
             "outlinewidth": 0,
             "ticks": ""
            },
            "colorscale": [
             [
              0,
              "#0d0887"
             ],
             [
              0.1111111111111111,
              "#46039f"
             ],
             [
              0.2222222222222222,
              "#7201a8"
             ],
             [
              0.3333333333333333,
              "#9c179e"
             ],
             [
              0.4444444444444444,
              "#bd3786"
             ],
             [
              0.5555555555555556,
              "#d8576b"
             ],
             [
              0.6666666666666666,
              "#ed7953"
             ],
             [
              0.7777777777777778,
              "#fb9f3a"
             ],
             [
              0.8888888888888888,
              "#fdca26"
             ],
             [
              1,
              "#f0f921"
             ]
            ],
            "type": "contour"
           }
          ],
          "contourcarpet": [
           {
            "colorbar": {
             "outlinewidth": 0,
             "ticks": ""
            },
            "type": "contourcarpet"
           }
          ],
          "heatmap": [
           {
            "colorbar": {
             "outlinewidth": 0,
             "ticks": ""
            },
            "colorscale": [
             [
              0,
              "#0d0887"
             ],
             [
              0.1111111111111111,
              "#46039f"
             ],
             [
              0.2222222222222222,
              "#7201a8"
             ],
             [
              0.3333333333333333,
              "#9c179e"
             ],
             [
              0.4444444444444444,
              "#bd3786"
             ],
             [
              0.5555555555555556,
              "#d8576b"
             ],
             [
              0.6666666666666666,
              "#ed7953"
             ],
             [
              0.7777777777777778,
              "#fb9f3a"
             ],
             [
              0.8888888888888888,
              "#fdca26"
             ],
             [
              1,
              "#f0f921"
             ]
            ],
            "type": "heatmap"
           }
          ],
          "heatmapgl": [
           {
            "colorbar": {
             "outlinewidth": 0,
             "ticks": ""
            },
            "colorscale": [
             [
              0,
              "#0d0887"
             ],
             [
              0.1111111111111111,
              "#46039f"
             ],
             [
              0.2222222222222222,
              "#7201a8"
             ],
             [
              0.3333333333333333,
              "#9c179e"
             ],
             [
              0.4444444444444444,
              "#bd3786"
             ],
             [
              0.5555555555555556,
              "#d8576b"
             ],
             [
              0.6666666666666666,
              "#ed7953"
             ],
             [
              0.7777777777777778,
              "#fb9f3a"
             ],
             [
              0.8888888888888888,
              "#fdca26"
             ],
             [
              1,
              "#f0f921"
             ]
            ],
            "type": "heatmapgl"
           }
          ],
          "histogram": [
           {
            "marker": {
             "colorbar": {
              "outlinewidth": 0,
              "ticks": ""
             }
            },
            "type": "histogram"
           }
          ],
          "histogram2d": [
           {
            "colorbar": {
             "outlinewidth": 0,
             "ticks": ""
            },
            "colorscale": [
             [
              0,
              "#0d0887"
             ],
             [
              0.1111111111111111,
              "#46039f"
             ],
             [
              0.2222222222222222,
              "#7201a8"
             ],
             [
              0.3333333333333333,
              "#9c179e"
             ],
             [
              0.4444444444444444,
              "#bd3786"
             ],
             [
              0.5555555555555556,
              "#d8576b"
             ],
             [
              0.6666666666666666,
              "#ed7953"
             ],
             [
              0.7777777777777778,
              "#fb9f3a"
             ],
             [
              0.8888888888888888,
              "#fdca26"
             ],
             [
              1,
              "#f0f921"
             ]
            ],
            "type": "histogram2d"
           }
          ],
          "histogram2dcontour": [
           {
            "colorbar": {
             "outlinewidth": 0,
             "ticks": ""
            },
            "colorscale": [
             [
              0,
              "#0d0887"
             ],
             [
              0.1111111111111111,
              "#46039f"
             ],
             [
              0.2222222222222222,
              "#7201a8"
             ],
             [
              0.3333333333333333,
              "#9c179e"
             ],
             [
              0.4444444444444444,
              "#bd3786"
             ],
             [
              0.5555555555555556,
              "#d8576b"
             ],
             [
              0.6666666666666666,
              "#ed7953"
             ],
             [
              0.7777777777777778,
              "#fb9f3a"
             ],
             [
              0.8888888888888888,
              "#fdca26"
             ],
             [
              1,
              "#f0f921"
             ]
            ],
            "type": "histogram2dcontour"
           }
          ],
          "mesh3d": [
           {
            "colorbar": {
             "outlinewidth": 0,
             "ticks": ""
            },
            "type": "mesh3d"
           }
          ],
          "parcoords": [
           {
            "line": {
             "colorbar": {
              "outlinewidth": 0,
              "ticks": ""
             }
            },
            "type": "parcoords"
           }
          ],
          "scatter": [
           {
            "marker": {
             "colorbar": {
              "outlinewidth": 0,
              "ticks": ""
             }
            },
            "type": "scatter"
           }
          ],
          "scatter3d": [
           {
            "line": {
             "colorbar": {
              "outlinewidth": 0,
              "ticks": ""
             }
            },
            "marker": {
             "colorbar": {
              "outlinewidth": 0,
              "ticks": ""
             }
            },
            "type": "scatter3d"
           }
          ],
          "scattercarpet": [
           {
            "marker": {
             "colorbar": {
              "outlinewidth": 0,
              "ticks": ""
             }
            },
            "type": "scattercarpet"
           }
          ],
          "scattergeo": [
           {
            "marker": {
             "colorbar": {
              "outlinewidth": 0,
              "ticks": ""
             }
            },
            "type": "scattergeo"
           }
          ],
          "scattergl": [
           {
            "marker": {
             "colorbar": {
              "outlinewidth": 0,
              "ticks": ""
             }
            },
            "type": "scattergl"
           }
          ],
          "scattermapbox": [
           {
            "marker": {
             "colorbar": {
              "outlinewidth": 0,
              "ticks": ""
             }
            },
            "type": "scattermapbox"
           }
          ],
          "scatterpolar": [
           {
            "marker": {
             "colorbar": {
              "outlinewidth": 0,
              "ticks": ""
             }
            },
            "type": "scatterpolar"
           }
          ],
          "scatterpolargl": [
           {
            "marker": {
             "colorbar": {
              "outlinewidth": 0,
              "ticks": ""
             }
            },
            "type": "scatterpolargl"
           }
          ],
          "scatterternary": [
           {
            "marker": {
             "colorbar": {
              "outlinewidth": 0,
              "ticks": ""
             }
            },
            "type": "scatterternary"
           }
          ],
          "surface": [
           {
            "colorbar": {
             "outlinewidth": 0,
             "ticks": ""
            },
            "colorscale": [
             [
              0,
              "#0d0887"
             ],
             [
              0.1111111111111111,
              "#46039f"
             ],
             [
              0.2222222222222222,
              "#7201a8"
             ],
             [
              0.3333333333333333,
              "#9c179e"
             ],
             [
              0.4444444444444444,
              "#bd3786"
             ],
             [
              0.5555555555555556,
              "#d8576b"
             ],
             [
              0.6666666666666666,
              "#ed7953"
             ],
             [
              0.7777777777777778,
              "#fb9f3a"
             ],
             [
              0.8888888888888888,
              "#fdca26"
             ],
             [
              1,
              "#f0f921"
             ]
            ],
            "type": "surface"
           }
          ],
          "table": [
           {
            "cells": {
             "fill": {
              "color": "#EBF0F8"
             },
             "line": {
              "color": "white"
             }
            },
            "header": {
             "fill": {
              "color": "#C8D4E3"
             },
             "line": {
              "color": "white"
             }
            },
            "type": "table"
           }
          ]
         },
         "layout": {
          "annotationdefaults": {
           "arrowcolor": "#2a3f5f",
           "arrowhead": 0,
           "arrowwidth": 1
          },
          "colorscale": {
           "diverging": [
            [
             0,
             "#8e0152"
            ],
            [
             0.1,
             "#c51b7d"
            ],
            [
             0.2,
             "#de77ae"
            ],
            [
             0.3,
             "#f1b6da"
            ],
            [
             0.4,
             "#fde0ef"
            ],
            [
             0.5,
             "#f7f7f7"
            ],
            [
             0.6,
             "#e6f5d0"
            ],
            [
             0.7,
             "#b8e186"
            ],
            [
             0.8,
             "#7fbc41"
            ],
            [
             0.9,
             "#4d9221"
            ],
            [
             1,
             "#276419"
            ]
           ],
           "sequential": [
            [
             0,
             "#0d0887"
            ],
            [
             0.1111111111111111,
             "#46039f"
            ],
            [
             0.2222222222222222,
             "#7201a8"
            ],
            [
             0.3333333333333333,
             "#9c179e"
            ],
            [
             0.4444444444444444,
             "#bd3786"
            ],
            [
             0.5555555555555556,
             "#d8576b"
            ],
            [
             0.6666666666666666,
             "#ed7953"
            ],
            [
             0.7777777777777778,
             "#fb9f3a"
            ],
            [
             0.8888888888888888,
             "#fdca26"
            ],
            [
             1,
             "#f0f921"
            ]
           ],
           "sequentialminus": [
            [
             0,
             "#0d0887"
            ],
            [
             0.1111111111111111,
             "#46039f"
            ],
            [
             0.2222222222222222,
             "#7201a8"
            ],
            [
             0.3333333333333333,
             "#9c179e"
            ],
            [
             0.4444444444444444,
             "#bd3786"
            ],
            [
             0.5555555555555556,
             "#d8576b"
            ],
            [
             0.6666666666666666,
             "#ed7953"
            ],
            [
             0.7777777777777778,
             "#fb9f3a"
            ],
            [
             0.8888888888888888,
             "#fdca26"
            ],
            [
             1,
             "#f0f921"
            ]
           ]
          },
          "colorway": [
           "#636efa",
           "#EF553B",
           "#00cc96",
           "#ab63fa",
           "#FFA15A",
           "#19d3f3",
           "#FF6692",
           "#B6E880",
           "#FF97FF",
           "#FECB52"
          ],
          "font": {
           "color": "#2a3f5f"
          },
          "geo": {
           "bgcolor": "white",
           "lakecolor": "white",
           "landcolor": "#E5ECF6",
           "showlakes": true,
           "showland": true,
           "subunitcolor": "white"
          },
          "hoverlabel": {
           "align": "left"
          },
          "hovermode": "closest",
          "mapbox": {
           "style": "light"
          },
          "paper_bgcolor": "white",
          "plot_bgcolor": "#E5ECF6",
          "polar": {
           "angularaxis": {
            "gridcolor": "white",
            "linecolor": "white",
            "ticks": ""
           },
           "bgcolor": "#E5ECF6",
           "radialaxis": {
            "gridcolor": "white",
            "linecolor": "white",
            "ticks": ""
           }
          },
          "scene": {
           "xaxis": {
            "backgroundcolor": "#E5ECF6",
            "gridcolor": "white",
            "gridwidth": 2,
            "linecolor": "white",
            "showbackground": true,
            "ticks": "",
            "zerolinecolor": "white"
           },
           "yaxis": {
            "backgroundcolor": "#E5ECF6",
            "gridcolor": "white",
            "gridwidth": 2,
            "linecolor": "white",
            "showbackground": true,
            "ticks": "",
            "zerolinecolor": "white"
           },
           "zaxis": {
            "backgroundcolor": "#E5ECF6",
            "gridcolor": "white",
            "gridwidth": 2,
            "linecolor": "white",
            "showbackground": true,
            "ticks": "",
            "zerolinecolor": "white"
           }
          },
          "shapedefaults": {
           "line": {
            "color": "#2a3f5f"
           }
          },
          "ternary": {
           "aaxis": {
            "gridcolor": "white",
            "linecolor": "white",
            "ticks": ""
           },
           "baxis": {
            "gridcolor": "white",
            "linecolor": "white",
            "ticks": ""
           },
           "bgcolor": "#E5ECF6",
           "caxis": {
            "gridcolor": "white",
            "linecolor": "white",
            "ticks": ""
           }
          },
          "title": {
           "x": 0.05
          },
          "xaxis": {
           "automargin": true,
           "gridcolor": "white",
           "linecolor": "white",
           "ticks": "",
           "zerolinecolor": "white",
           "zerolinewidth": 2
          },
          "yaxis": {
           "automargin": true,
           "gridcolor": "white",
           "linecolor": "white",
           "ticks": "",
           "zerolinecolor": "white",
           "zerolinewidth": 2
          }
         }
        },
        "title": {
         "text": "MultipleLines distribution in customer attrition "
        }
       }
      },
      "text/html": [
       "<div>\n",
       "        \n",
       "        \n",
       "            <div id=\"037224f3-41eb-4ec0-85f5-e0b62f42c197\" class=\"plotly-graph-div\" style=\"height:525px; width:100%;\"></div>\n",
       "            <script type=\"text/javascript\">\n",
       "                require([\"plotly\"], function(Plotly) {\n",
       "                    window.PLOTLYENV=window.PLOTLYENV || {};\n",
       "                    \n",
       "                if (document.getElementById(\"037224f3-41eb-4ec0-85f5-e0b62f42c197\")) {\n",
       "                    Plotly.newPlot(\n",
       "                        '037224f3-41eb-4ec0-85f5-e0b62f42c197',\n",
       "                        [{\"domain\": {\"x\": [0, 0.48]}, \"hole\": 0.6, \"hoverinfo\": \"label+percent+name\", \"labels\": [\"Yes\", \"No\", \"No phone service\"], \"marker\": {\"line\": {\"color\": \"rgb(243,243,243)\", \"width\": 2}}, \"name\": \"Churn Customers\", \"type\": \"pie\", \"values\": [850, 849, 170]}, {\"domain\": {\"x\": [0.52, 1]}, \"hole\": 0.6, \"hoverinfo\": \"label+percent+name\", \"labels\": [\"No\", \"Yes\", \"No phone service\"], \"marker\": {\"line\": {\"color\": \"rgb(243,243,243)\", \"width\": 2}}, \"name\": \"Non churn customers\", \"type\": \"pie\", \"values\": [2536, 2117, 510]}],\n",
       "                        {\"annotations\": [{\"font\": {\"size\": 13}, \"showarrow\": false, \"text\": \"churn customers\", \"x\": 0.15, \"y\": 0.5}, {\"font\": {\"size\": 13}, \"showarrow\": false, \"text\": \"Non churn customers\", \"x\": 0.88, \"y\": 0.5}], \"paper_bgcolor\": \"rgb(243,243,243)\", \"plot_bgcolor\": \"rgb(243,243,243)\", \"template\": {\"data\": {\"bar\": [{\"error_x\": {\"color\": \"#2a3f5f\"}, \"error_y\": {\"color\": \"#2a3f5f\"}, \"marker\": {\"line\": {\"color\": \"#E5ECF6\", \"width\": 0.5}}, \"type\": \"bar\"}], \"barpolar\": [{\"marker\": {\"line\": {\"color\": \"#E5ECF6\", \"width\": 0.5}}, \"type\": \"barpolar\"}], \"carpet\": [{\"aaxis\": {\"endlinecolor\": \"#2a3f5f\", \"gridcolor\": \"white\", \"linecolor\": \"white\", \"minorgridcolor\": \"white\", \"startlinecolor\": \"#2a3f5f\"}, \"baxis\": {\"endlinecolor\": \"#2a3f5f\", \"gridcolor\": \"white\", \"linecolor\": \"white\", \"minorgridcolor\": \"white\", \"startlinecolor\": \"#2a3f5f\"}, \"type\": \"carpet\"}], \"choropleth\": [{\"colorbar\": {\"outlinewidth\": 0, \"ticks\": \"\"}, \"type\": \"choropleth\"}], \"contour\": [{\"colorbar\": {\"outlinewidth\": 0, \"ticks\": \"\"}, \"colorscale\": [[0.0, \"#0d0887\"], [0.1111111111111111, \"#46039f\"], [0.2222222222222222, \"#7201a8\"], [0.3333333333333333, \"#9c179e\"], [0.4444444444444444, \"#bd3786\"], [0.5555555555555556, \"#d8576b\"], [0.6666666666666666, \"#ed7953\"], [0.7777777777777778, \"#fb9f3a\"], [0.8888888888888888, \"#fdca26\"], [1.0, \"#f0f921\"]], \"type\": \"contour\"}], \"contourcarpet\": [{\"colorbar\": {\"outlinewidth\": 0, \"ticks\": \"\"}, \"type\": \"contourcarpet\"}], \"heatmap\": [{\"colorbar\": {\"outlinewidth\": 0, \"ticks\": \"\"}, \"colorscale\": [[0.0, \"#0d0887\"], [0.1111111111111111, \"#46039f\"], [0.2222222222222222, \"#7201a8\"], [0.3333333333333333, \"#9c179e\"], [0.4444444444444444, \"#bd3786\"], [0.5555555555555556, \"#d8576b\"], [0.6666666666666666, \"#ed7953\"], [0.7777777777777778, \"#fb9f3a\"], [0.8888888888888888, \"#fdca26\"], [1.0, \"#f0f921\"]], \"type\": \"heatmap\"}], \"heatmapgl\": [{\"colorbar\": {\"outlinewidth\": 0, \"ticks\": \"\"}, \"colorscale\": [[0.0, \"#0d0887\"], [0.1111111111111111, \"#46039f\"], [0.2222222222222222, \"#7201a8\"], [0.3333333333333333, \"#9c179e\"], [0.4444444444444444, \"#bd3786\"], [0.5555555555555556, \"#d8576b\"], [0.6666666666666666, \"#ed7953\"], [0.7777777777777778, \"#fb9f3a\"], [0.8888888888888888, \"#fdca26\"], [1.0, \"#f0f921\"]], \"type\": \"heatmapgl\"}], \"histogram\": [{\"marker\": {\"colorbar\": {\"outlinewidth\": 0, \"ticks\": \"\"}}, \"type\": \"histogram\"}], \"histogram2d\": [{\"colorbar\": {\"outlinewidth\": 0, \"ticks\": \"\"}, \"colorscale\": [[0.0, \"#0d0887\"], [0.1111111111111111, \"#46039f\"], [0.2222222222222222, \"#7201a8\"], [0.3333333333333333, \"#9c179e\"], [0.4444444444444444, \"#bd3786\"], [0.5555555555555556, \"#d8576b\"], [0.6666666666666666, \"#ed7953\"], [0.7777777777777778, \"#fb9f3a\"], [0.8888888888888888, \"#fdca26\"], [1.0, \"#f0f921\"]], \"type\": \"histogram2d\"}], \"histogram2dcontour\": [{\"colorbar\": {\"outlinewidth\": 0, \"ticks\": \"\"}, \"colorscale\": [[0.0, \"#0d0887\"], [0.1111111111111111, \"#46039f\"], [0.2222222222222222, \"#7201a8\"], [0.3333333333333333, \"#9c179e\"], [0.4444444444444444, \"#bd3786\"], [0.5555555555555556, \"#d8576b\"], [0.6666666666666666, \"#ed7953\"], [0.7777777777777778, \"#fb9f3a\"], [0.8888888888888888, \"#fdca26\"], [1.0, \"#f0f921\"]], \"type\": \"histogram2dcontour\"}], \"mesh3d\": [{\"colorbar\": {\"outlinewidth\": 0, \"ticks\": \"\"}, \"type\": \"mesh3d\"}], \"parcoords\": [{\"line\": {\"colorbar\": {\"outlinewidth\": 0, \"ticks\": \"\"}}, \"type\": \"parcoords\"}], \"scatter\": [{\"marker\": {\"colorbar\": {\"outlinewidth\": 0, \"ticks\": \"\"}}, \"type\": \"scatter\"}], \"scatter3d\": [{\"line\": {\"colorbar\": {\"outlinewidth\": 0, \"ticks\": \"\"}}, \"marker\": {\"colorbar\": {\"outlinewidth\": 0, \"ticks\": \"\"}}, \"type\": \"scatter3d\"}], \"scattercarpet\": [{\"marker\": {\"colorbar\": {\"outlinewidth\": 0, \"ticks\": \"\"}}, \"type\": \"scattercarpet\"}], \"scattergeo\": [{\"marker\": {\"colorbar\": {\"outlinewidth\": 0, \"ticks\": \"\"}}, \"type\": \"scattergeo\"}], \"scattergl\": [{\"marker\": {\"colorbar\": {\"outlinewidth\": 0, \"ticks\": \"\"}}, \"type\": \"scattergl\"}], \"scattermapbox\": [{\"marker\": {\"colorbar\": {\"outlinewidth\": 0, \"ticks\": \"\"}}, \"type\": \"scattermapbox\"}], \"scatterpolar\": [{\"marker\": {\"colorbar\": {\"outlinewidth\": 0, \"ticks\": \"\"}}, \"type\": \"scatterpolar\"}], \"scatterpolargl\": [{\"marker\": {\"colorbar\": {\"outlinewidth\": 0, \"ticks\": \"\"}}, \"type\": \"scatterpolargl\"}], \"scatterternary\": [{\"marker\": {\"colorbar\": {\"outlinewidth\": 0, \"ticks\": \"\"}}, \"type\": \"scatterternary\"}], \"surface\": [{\"colorbar\": {\"outlinewidth\": 0, \"ticks\": \"\"}, \"colorscale\": [[0.0, \"#0d0887\"], [0.1111111111111111, \"#46039f\"], [0.2222222222222222, \"#7201a8\"], [0.3333333333333333, \"#9c179e\"], [0.4444444444444444, \"#bd3786\"], [0.5555555555555556, \"#d8576b\"], [0.6666666666666666, \"#ed7953\"], [0.7777777777777778, \"#fb9f3a\"], [0.8888888888888888, \"#fdca26\"], [1.0, \"#f0f921\"]], \"type\": \"surface\"}], \"table\": [{\"cells\": {\"fill\": {\"color\": \"#EBF0F8\"}, \"line\": {\"color\": \"white\"}}, \"header\": {\"fill\": {\"color\": \"#C8D4E3\"}, \"line\": {\"color\": \"white\"}}, \"type\": \"table\"}]}, \"layout\": {\"annotationdefaults\": {\"arrowcolor\": \"#2a3f5f\", \"arrowhead\": 0, \"arrowwidth\": 1}, \"colorscale\": {\"diverging\": [[0, \"#8e0152\"], [0.1, \"#c51b7d\"], [0.2, \"#de77ae\"], [0.3, \"#f1b6da\"], [0.4, \"#fde0ef\"], [0.5, \"#f7f7f7\"], [0.6, \"#e6f5d0\"], [0.7, \"#b8e186\"], [0.8, \"#7fbc41\"], [0.9, \"#4d9221\"], [1, \"#276419\"]], \"sequential\": [[0.0, \"#0d0887\"], [0.1111111111111111, \"#46039f\"], [0.2222222222222222, \"#7201a8\"], [0.3333333333333333, \"#9c179e\"], [0.4444444444444444, \"#bd3786\"], [0.5555555555555556, \"#d8576b\"], [0.6666666666666666, \"#ed7953\"], [0.7777777777777778, \"#fb9f3a\"], [0.8888888888888888, \"#fdca26\"], [1.0, \"#f0f921\"]], \"sequentialminus\": [[0.0, \"#0d0887\"], [0.1111111111111111, \"#46039f\"], [0.2222222222222222, \"#7201a8\"], [0.3333333333333333, \"#9c179e\"], [0.4444444444444444, \"#bd3786\"], [0.5555555555555556, \"#d8576b\"], [0.6666666666666666, \"#ed7953\"], [0.7777777777777778, \"#fb9f3a\"], [0.8888888888888888, \"#fdca26\"], [1.0, \"#f0f921\"]]}, \"colorway\": [\"#636efa\", \"#EF553B\", \"#00cc96\", \"#ab63fa\", \"#FFA15A\", \"#19d3f3\", \"#FF6692\", \"#B6E880\", \"#FF97FF\", \"#FECB52\"], \"font\": {\"color\": \"#2a3f5f\"}, \"geo\": {\"bgcolor\": \"white\", \"lakecolor\": \"white\", \"landcolor\": \"#E5ECF6\", \"showlakes\": true, \"showland\": true, \"subunitcolor\": \"white\"}, \"hoverlabel\": {\"align\": \"left\"}, \"hovermode\": \"closest\", \"mapbox\": {\"style\": \"light\"}, \"paper_bgcolor\": \"white\", \"plot_bgcolor\": \"#E5ECF6\", \"polar\": {\"angularaxis\": {\"gridcolor\": \"white\", \"linecolor\": \"white\", \"ticks\": \"\"}, \"bgcolor\": \"#E5ECF6\", \"radialaxis\": {\"gridcolor\": \"white\", \"linecolor\": \"white\", \"ticks\": \"\"}}, \"scene\": {\"xaxis\": {\"backgroundcolor\": \"#E5ECF6\", \"gridcolor\": \"white\", \"gridwidth\": 2, \"linecolor\": \"white\", \"showbackground\": true, \"ticks\": \"\", \"zerolinecolor\": \"white\"}, \"yaxis\": {\"backgroundcolor\": \"#E5ECF6\", \"gridcolor\": \"white\", \"gridwidth\": 2, \"linecolor\": \"white\", \"showbackground\": true, \"ticks\": \"\", \"zerolinecolor\": \"white\"}, \"zaxis\": {\"backgroundcolor\": \"#E5ECF6\", \"gridcolor\": \"white\", \"gridwidth\": 2, \"linecolor\": \"white\", \"showbackground\": true, \"ticks\": \"\", \"zerolinecolor\": \"white\"}}, \"shapedefaults\": {\"line\": {\"color\": \"#2a3f5f\"}}, \"ternary\": {\"aaxis\": {\"gridcolor\": \"white\", \"linecolor\": \"white\", \"ticks\": \"\"}, \"baxis\": {\"gridcolor\": \"white\", \"linecolor\": \"white\", \"ticks\": \"\"}, \"bgcolor\": \"#E5ECF6\", \"caxis\": {\"gridcolor\": \"white\", \"linecolor\": \"white\", \"ticks\": \"\"}}, \"title\": {\"x\": 0.05}, \"xaxis\": {\"automargin\": true, \"gridcolor\": \"white\", \"linecolor\": \"white\", \"ticks\": \"\", \"zerolinecolor\": \"white\", \"zerolinewidth\": 2}, \"yaxis\": {\"automargin\": true, \"gridcolor\": \"white\", \"linecolor\": \"white\", \"ticks\": \"\", \"zerolinecolor\": \"white\", \"zerolinewidth\": 2}}}, \"title\": {\"text\": \"MultipleLines distribution in customer attrition \"}},\n",
       "                        {\"responsive\": true}\n",
       "                    ).then(function(){\n",
       "                            \n",
       "var gd = document.getElementById('037224f3-41eb-4ec0-85f5-e0b62f42c197');\n",
       "var x = new MutationObserver(function (mutations, observer) {{\n",
       "        var display = window.getComputedStyle(gd).display;\n",
       "        if (!display || display === 'none') {{\n",
       "            console.log([gd, 'removed!']);\n",
       "            Plotly.purge(gd);\n",
       "            observer.disconnect();\n",
       "        }}\n",
       "}});\n",
       "\n",
       "// Listen for the removal of the full notebook cells\n",
       "var notebookContainer = gd.closest('#notebook-container');\n",
       "if (notebookContainer) {{\n",
       "    x.observe(notebookContainer, {childList: true});\n",
       "}}\n",
       "\n",
       "// Listen for the clearing of the current output cell\n",
       "var outputEl = gd.closest('.output');\n",
       "if (outputEl) {{\n",
       "    x.observe(outputEl, {childList: true});\n",
       "}}\n",
       "\n",
       "                        })\n",
       "                };\n",
       "                });\n",
       "            </script>\n",
       "        </div>"
      ]
     },
     "metadata": {},
     "output_type": "display_data"
    },
    {
     "data": {
      "application/vnd.plotly.v1+json": {
       "config": {
        "linkText": "Export to plot.ly",
        "plotlyServerURL": "https://plot.ly",
        "showLink": false
       },
       "data": [
        {
         "domain": {
          "x": [
           0,
           0.48
          ]
         },
         "hole": 0.6,
         "hoverinfo": "label+percent+name",
         "labels": [
          "Fiber optic",
          "DSL",
          "No"
         ],
         "marker": {
          "line": {
           "color": "rgb(243,243,243)",
           "width": 2
          }
         },
         "name": "Churn Customers",
         "type": "pie",
         "values": [
          1297,
          459,
          113
         ]
        },
        {
         "domain": {
          "x": [
           0.52,
           1
          ]
         },
         "hole": 0.6,
         "hoverinfo": "label+percent+name",
         "labels": [
          "DSL",
          "Fiber optic",
          "No"
         ],
         "marker": {
          "line": {
           "color": "rgb(243,243,243)",
           "width": 2
          }
         },
         "name": "Non churn customers",
         "type": "pie",
         "values": [
          1957,
          1799,
          1407
         ]
        }
       ],
       "layout": {
        "annotations": [
         {
          "font": {
           "size": 13
          },
          "showarrow": false,
          "text": "churn customers",
          "x": 0.15,
          "y": 0.5
         },
         {
          "font": {
           "size": 13
          },
          "showarrow": false,
          "text": "Non churn customers",
          "x": 0.88,
          "y": 0.5
         }
        ],
        "paper_bgcolor": "rgb(243,243,243)",
        "plot_bgcolor": "rgb(243,243,243)",
        "template": {
         "data": {
          "bar": [
           {
            "error_x": {
             "color": "#2a3f5f"
            },
            "error_y": {
             "color": "#2a3f5f"
            },
            "marker": {
             "line": {
              "color": "#E5ECF6",
              "width": 0.5
             }
            },
            "type": "bar"
           }
          ],
          "barpolar": [
           {
            "marker": {
             "line": {
              "color": "#E5ECF6",
              "width": 0.5
             }
            },
            "type": "barpolar"
           }
          ],
          "carpet": [
           {
            "aaxis": {
             "endlinecolor": "#2a3f5f",
             "gridcolor": "white",
             "linecolor": "white",
             "minorgridcolor": "white",
             "startlinecolor": "#2a3f5f"
            },
            "baxis": {
             "endlinecolor": "#2a3f5f",
             "gridcolor": "white",
             "linecolor": "white",
             "minorgridcolor": "white",
             "startlinecolor": "#2a3f5f"
            },
            "type": "carpet"
           }
          ],
          "choropleth": [
           {
            "colorbar": {
             "outlinewidth": 0,
             "ticks": ""
            },
            "type": "choropleth"
           }
          ],
          "contour": [
           {
            "colorbar": {
             "outlinewidth": 0,
             "ticks": ""
            },
            "colorscale": [
             [
              0,
              "#0d0887"
             ],
             [
              0.1111111111111111,
              "#46039f"
             ],
             [
              0.2222222222222222,
              "#7201a8"
             ],
             [
              0.3333333333333333,
              "#9c179e"
             ],
             [
              0.4444444444444444,
              "#bd3786"
             ],
             [
              0.5555555555555556,
              "#d8576b"
             ],
             [
              0.6666666666666666,
              "#ed7953"
             ],
             [
              0.7777777777777778,
              "#fb9f3a"
             ],
             [
              0.8888888888888888,
              "#fdca26"
             ],
             [
              1,
              "#f0f921"
             ]
            ],
            "type": "contour"
           }
          ],
          "contourcarpet": [
           {
            "colorbar": {
             "outlinewidth": 0,
             "ticks": ""
            },
            "type": "contourcarpet"
           }
          ],
          "heatmap": [
           {
            "colorbar": {
             "outlinewidth": 0,
             "ticks": ""
            },
            "colorscale": [
             [
              0,
              "#0d0887"
             ],
             [
              0.1111111111111111,
              "#46039f"
             ],
             [
              0.2222222222222222,
              "#7201a8"
             ],
             [
              0.3333333333333333,
              "#9c179e"
             ],
             [
              0.4444444444444444,
              "#bd3786"
             ],
             [
              0.5555555555555556,
              "#d8576b"
             ],
             [
              0.6666666666666666,
              "#ed7953"
             ],
             [
              0.7777777777777778,
              "#fb9f3a"
             ],
             [
              0.8888888888888888,
              "#fdca26"
             ],
             [
              1,
              "#f0f921"
             ]
            ],
            "type": "heatmap"
           }
          ],
          "heatmapgl": [
           {
            "colorbar": {
             "outlinewidth": 0,
             "ticks": ""
            },
            "colorscale": [
             [
              0,
              "#0d0887"
             ],
             [
              0.1111111111111111,
              "#46039f"
             ],
             [
              0.2222222222222222,
              "#7201a8"
             ],
             [
              0.3333333333333333,
              "#9c179e"
             ],
             [
              0.4444444444444444,
              "#bd3786"
             ],
             [
              0.5555555555555556,
              "#d8576b"
             ],
             [
              0.6666666666666666,
              "#ed7953"
             ],
             [
              0.7777777777777778,
              "#fb9f3a"
             ],
             [
              0.8888888888888888,
              "#fdca26"
             ],
             [
              1,
              "#f0f921"
             ]
            ],
            "type": "heatmapgl"
           }
          ],
          "histogram": [
           {
            "marker": {
             "colorbar": {
              "outlinewidth": 0,
              "ticks": ""
             }
            },
            "type": "histogram"
           }
          ],
          "histogram2d": [
           {
            "colorbar": {
             "outlinewidth": 0,
             "ticks": ""
            },
            "colorscale": [
             [
              0,
              "#0d0887"
             ],
             [
              0.1111111111111111,
              "#46039f"
             ],
             [
              0.2222222222222222,
              "#7201a8"
             ],
             [
              0.3333333333333333,
              "#9c179e"
             ],
             [
              0.4444444444444444,
              "#bd3786"
             ],
             [
              0.5555555555555556,
              "#d8576b"
             ],
             [
              0.6666666666666666,
              "#ed7953"
             ],
             [
              0.7777777777777778,
              "#fb9f3a"
             ],
             [
              0.8888888888888888,
              "#fdca26"
             ],
             [
              1,
              "#f0f921"
             ]
            ],
            "type": "histogram2d"
           }
          ],
          "histogram2dcontour": [
           {
            "colorbar": {
             "outlinewidth": 0,
             "ticks": ""
            },
            "colorscale": [
             [
              0,
              "#0d0887"
             ],
             [
              0.1111111111111111,
              "#46039f"
             ],
             [
              0.2222222222222222,
              "#7201a8"
             ],
             [
              0.3333333333333333,
              "#9c179e"
             ],
             [
              0.4444444444444444,
              "#bd3786"
             ],
             [
              0.5555555555555556,
              "#d8576b"
             ],
             [
              0.6666666666666666,
              "#ed7953"
             ],
             [
              0.7777777777777778,
              "#fb9f3a"
             ],
             [
              0.8888888888888888,
              "#fdca26"
             ],
             [
              1,
              "#f0f921"
             ]
            ],
            "type": "histogram2dcontour"
           }
          ],
          "mesh3d": [
           {
            "colorbar": {
             "outlinewidth": 0,
             "ticks": ""
            },
            "type": "mesh3d"
           }
          ],
          "parcoords": [
           {
            "line": {
             "colorbar": {
              "outlinewidth": 0,
              "ticks": ""
             }
            },
            "type": "parcoords"
           }
          ],
          "scatter": [
           {
            "marker": {
             "colorbar": {
              "outlinewidth": 0,
              "ticks": ""
             }
            },
            "type": "scatter"
           }
          ],
          "scatter3d": [
           {
            "line": {
             "colorbar": {
              "outlinewidth": 0,
              "ticks": ""
             }
            },
            "marker": {
             "colorbar": {
              "outlinewidth": 0,
              "ticks": ""
             }
            },
            "type": "scatter3d"
           }
          ],
          "scattercarpet": [
           {
            "marker": {
             "colorbar": {
              "outlinewidth": 0,
              "ticks": ""
             }
            },
            "type": "scattercarpet"
           }
          ],
          "scattergeo": [
           {
            "marker": {
             "colorbar": {
              "outlinewidth": 0,
              "ticks": ""
             }
            },
            "type": "scattergeo"
           }
          ],
          "scattergl": [
           {
            "marker": {
             "colorbar": {
              "outlinewidth": 0,
              "ticks": ""
             }
            },
            "type": "scattergl"
           }
          ],
          "scattermapbox": [
           {
            "marker": {
             "colorbar": {
              "outlinewidth": 0,
              "ticks": ""
             }
            },
            "type": "scattermapbox"
           }
          ],
          "scatterpolar": [
           {
            "marker": {
             "colorbar": {
              "outlinewidth": 0,
              "ticks": ""
             }
            },
            "type": "scatterpolar"
           }
          ],
          "scatterpolargl": [
           {
            "marker": {
             "colorbar": {
              "outlinewidth": 0,
              "ticks": ""
             }
            },
            "type": "scatterpolargl"
           }
          ],
          "scatterternary": [
           {
            "marker": {
             "colorbar": {
              "outlinewidth": 0,
              "ticks": ""
             }
            },
            "type": "scatterternary"
           }
          ],
          "surface": [
           {
            "colorbar": {
             "outlinewidth": 0,
             "ticks": ""
            },
            "colorscale": [
             [
              0,
              "#0d0887"
             ],
             [
              0.1111111111111111,
              "#46039f"
             ],
             [
              0.2222222222222222,
              "#7201a8"
             ],
             [
              0.3333333333333333,
              "#9c179e"
             ],
             [
              0.4444444444444444,
              "#bd3786"
             ],
             [
              0.5555555555555556,
              "#d8576b"
             ],
             [
              0.6666666666666666,
              "#ed7953"
             ],
             [
              0.7777777777777778,
              "#fb9f3a"
             ],
             [
              0.8888888888888888,
              "#fdca26"
             ],
             [
              1,
              "#f0f921"
             ]
            ],
            "type": "surface"
           }
          ],
          "table": [
           {
            "cells": {
             "fill": {
              "color": "#EBF0F8"
             },
             "line": {
              "color": "white"
             }
            },
            "header": {
             "fill": {
              "color": "#C8D4E3"
             },
             "line": {
              "color": "white"
             }
            },
            "type": "table"
           }
          ]
         },
         "layout": {
          "annotationdefaults": {
           "arrowcolor": "#2a3f5f",
           "arrowhead": 0,
           "arrowwidth": 1
          },
          "colorscale": {
           "diverging": [
            [
             0,
             "#8e0152"
            ],
            [
             0.1,
             "#c51b7d"
            ],
            [
             0.2,
             "#de77ae"
            ],
            [
             0.3,
             "#f1b6da"
            ],
            [
             0.4,
             "#fde0ef"
            ],
            [
             0.5,
             "#f7f7f7"
            ],
            [
             0.6,
             "#e6f5d0"
            ],
            [
             0.7,
             "#b8e186"
            ],
            [
             0.8,
             "#7fbc41"
            ],
            [
             0.9,
             "#4d9221"
            ],
            [
             1,
             "#276419"
            ]
           ],
           "sequential": [
            [
             0,
             "#0d0887"
            ],
            [
             0.1111111111111111,
             "#46039f"
            ],
            [
             0.2222222222222222,
             "#7201a8"
            ],
            [
             0.3333333333333333,
             "#9c179e"
            ],
            [
             0.4444444444444444,
             "#bd3786"
            ],
            [
             0.5555555555555556,
             "#d8576b"
            ],
            [
             0.6666666666666666,
             "#ed7953"
            ],
            [
             0.7777777777777778,
             "#fb9f3a"
            ],
            [
             0.8888888888888888,
             "#fdca26"
            ],
            [
             1,
             "#f0f921"
            ]
           ],
           "sequentialminus": [
            [
             0,
             "#0d0887"
            ],
            [
             0.1111111111111111,
             "#46039f"
            ],
            [
             0.2222222222222222,
             "#7201a8"
            ],
            [
             0.3333333333333333,
             "#9c179e"
            ],
            [
             0.4444444444444444,
             "#bd3786"
            ],
            [
             0.5555555555555556,
             "#d8576b"
            ],
            [
             0.6666666666666666,
             "#ed7953"
            ],
            [
             0.7777777777777778,
             "#fb9f3a"
            ],
            [
             0.8888888888888888,
             "#fdca26"
            ],
            [
             1,
             "#f0f921"
            ]
           ]
          },
          "colorway": [
           "#636efa",
           "#EF553B",
           "#00cc96",
           "#ab63fa",
           "#FFA15A",
           "#19d3f3",
           "#FF6692",
           "#B6E880",
           "#FF97FF",
           "#FECB52"
          ],
          "font": {
           "color": "#2a3f5f"
          },
          "geo": {
           "bgcolor": "white",
           "lakecolor": "white",
           "landcolor": "#E5ECF6",
           "showlakes": true,
           "showland": true,
           "subunitcolor": "white"
          },
          "hoverlabel": {
           "align": "left"
          },
          "hovermode": "closest",
          "mapbox": {
           "style": "light"
          },
          "paper_bgcolor": "white",
          "plot_bgcolor": "#E5ECF6",
          "polar": {
           "angularaxis": {
            "gridcolor": "white",
            "linecolor": "white",
            "ticks": ""
           },
           "bgcolor": "#E5ECF6",
           "radialaxis": {
            "gridcolor": "white",
            "linecolor": "white",
            "ticks": ""
           }
          },
          "scene": {
           "xaxis": {
            "backgroundcolor": "#E5ECF6",
            "gridcolor": "white",
            "gridwidth": 2,
            "linecolor": "white",
            "showbackground": true,
            "ticks": "",
            "zerolinecolor": "white"
           },
           "yaxis": {
            "backgroundcolor": "#E5ECF6",
            "gridcolor": "white",
            "gridwidth": 2,
            "linecolor": "white",
            "showbackground": true,
            "ticks": "",
            "zerolinecolor": "white"
           },
           "zaxis": {
            "backgroundcolor": "#E5ECF6",
            "gridcolor": "white",
            "gridwidth": 2,
            "linecolor": "white",
            "showbackground": true,
            "ticks": "",
            "zerolinecolor": "white"
           }
          },
          "shapedefaults": {
           "line": {
            "color": "#2a3f5f"
           }
          },
          "ternary": {
           "aaxis": {
            "gridcolor": "white",
            "linecolor": "white",
            "ticks": ""
           },
           "baxis": {
            "gridcolor": "white",
            "linecolor": "white",
            "ticks": ""
           },
           "bgcolor": "#E5ECF6",
           "caxis": {
            "gridcolor": "white",
            "linecolor": "white",
            "ticks": ""
           }
          },
          "title": {
           "x": 0.05
          },
          "xaxis": {
           "automargin": true,
           "gridcolor": "white",
           "linecolor": "white",
           "ticks": "",
           "zerolinecolor": "white",
           "zerolinewidth": 2
          },
          "yaxis": {
           "automargin": true,
           "gridcolor": "white",
           "linecolor": "white",
           "ticks": "",
           "zerolinecolor": "white",
           "zerolinewidth": 2
          }
         }
        },
        "title": {
         "text": "InternetService distribution in customer attrition "
        }
       }
      },
      "text/html": [
       "<div>\n",
       "        \n",
       "        \n",
       "            <div id=\"63663bba-22e2-4a46-b454-4bfa8d0a851a\" class=\"plotly-graph-div\" style=\"height:525px; width:100%;\"></div>\n",
       "            <script type=\"text/javascript\">\n",
       "                require([\"plotly\"], function(Plotly) {\n",
       "                    window.PLOTLYENV=window.PLOTLYENV || {};\n",
       "                    \n",
       "                if (document.getElementById(\"63663bba-22e2-4a46-b454-4bfa8d0a851a\")) {\n",
       "                    Plotly.newPlot(\n",
       "                        '63663bba-22e2-4a46-b454-4bfa8d0a851a',\n",
       "                        [{\"domain\": {\"x\": [0, 0.48]}, \"hole\": 0.6, \"hoverinfo\": \"label+percent+name\", \"labels\": [\"Fiber optic\", \"DSL\", \"No\"], \"marker\": {\"line\": {\"color\": \"rgb(243,243,243)\", \"width\": 2}}, \"name\": \"Churn Customers\", \"type\": \"pie\", \"values\": [1297, 459, 113]}, {\"domain\": {\"x\": [0.52, 1]}, \"hole\": 0.6, \"hoverinfo\": \"label+percent+name\", \"labels\": [\"DSL\", \"Fiber optic\", \"No\"], \"marker\": {\"line\": {\"color\": \"rgb(243,243,243)\", \"width\": 2}}, \"name\": \"Non churn customers\", \"type\": \"pie\", \"values\": [1957, 1799, 1407]}],\n",
       "                        {\"annotations\": [{\"font\": {\"size\": 13}, \"showarrow\": false, \"text\": \"churn customers\", \"x\": 0.15, \"y\": 0.5}, {\"font\": {\"size\": 13}, \"showarrow\": false, \"text\": \"Non churn customers\", \"x\": 0.88, \"y\": 0.5}], \"paper_bgcolor\": \"rgb(243,243,243)\", \"plot_bgcolor\": \"rgb(243,243,243)\", \"template\": {\"data\": {\"bar\": [{\"error_x\": {\"color\": \"#2a3f5f\"}, \"error_y\": {\"color\": \"#2a3f5f\"}, \"marker\": {\"line\": {\"color\": \"#E5ECF6\", \"width\": 0.5}}, \"type\": \"bar\"}], \"barpolar\": [{\"marker\": {\"line\": {\"color\": \"#E5ECF6\", \"width\": 0.5}}, \"type\": \"barpolar\"}], \"carpet\": [{\"aaxis\": {\"endlinecolor\": \"#2a3f5f\", \"gridcolor\": \"white\", \"linecolor\": \"white\", \"minorgridcolor\": \"white\", \"startlinecolor\": \"#2a3f5f\"}, \"baxis\": {\"endlinecolor\": \"#2a3f5f\", \"gridcolor\": \"white\", \"linecolor\": \"white\", \"minorgridcolor\": \"white\", \"startlinecolor\": \"#2a3f5f\"}, \"type\": \"carpet\"}], \"choropleth\": [{\"colorbar\": {\"outlinewidth\": 0, \"ticks\": \"\"}, \"type\": \"choropleth\"}], \"contour\": [{\"colorbar\": {\"outlinewidth\": 0, \"ticks\": \"\"}, \"colorscale\": [[0.0, \"#0d0887\"], [0.1111111111111111, \"#46039f\"], [0.2222222222222222, \"#7201a8\"], [0.3333333333333333, \"#9c179e\"], [0.4444444444444444, \"#bd3786\"], [0.5555555555555556, \"#d8576b\"], [0.6666666666666666, \"#ed7953\"], [0.7777777777777778, \"#fb9f3a\"], [0.8888888888888888, \"#fdca26\"], [1.0, \"#f0f921\"]], \"type\": \"contour\"}], \"contourcarpet\": [{\"colorbar\": {\"outlinewidth\": 0, \"ticks\": \"\"}, \"type\": \"contourcarpet\"}], \"heatmap\": [{\"colorbar\": {\"outlinewidth\": 0, \"ticks\": \"\"}, \"colorscale\": [[0.0, \"#0d0887\"], [0.1111111111111111, \"#46039f\"], [0.2222222222222222, \"#7201a8\"], [0.3333333333333333, \"#9c179e\"], [0.4444444444444444, \"#bd3786\"], [0.5555555555555556, \"#d8576b\"], [0.6666666666666666, \"#ed7953\"], [0.7777777777777778, \"#fb9f3a\"], [0.8888888888888888, \"#fdca26\"], [1.0, \"#f0f921\"]], \"type\": \"heatmap\"}], \"heatmapgl\": [{\"colorbar\": {\"outlinewidth\": 0, \"ticks\": \"\"}, \"colorscale\": [[0.0, \"#0d0887\"], [0.1111111111111111, \"#46039f\"], [0.2222222222222222, \"#7201a8\"], [0.3333333333333333, \"#9c179e\"], [0.4444444444444444, \"#bd3786\"], [0.5555555555555556, \"#d8576b\"], [0.6666666666666666, \"#ed7953\"], [0.7777777777777778, \"#fb9f3a\"], [0.8888888888888888, \"#fdca26\"], [1.0, \"#f0f921\"]], \"type\": \"heatmapgl\"}], \"histogram\": [{\"marker\": {\"colorbar\": {\"outlinewidth\": 0, \"ticks\": \"\"}}, \"type\": \"histogram\"}], \"histogram2d\": [{\"colorbar\": {\"outlinewidth\": 0, \"ticks\": \"\"}, \"colorscale\": [[0.0, \"#0d0887\"], [0.1111111111111111, \"#46039f\"], [0.2222222222222222, \"#7201a8\"], [0.3333333333333333, \"#9c179e\"], [0.4444444444444444, \"#bd3786\"], [0.5555555555555556, \"#d8576b\"], [0.6666666666666666, \"#ed7953\"], [0.7777777777777778, \"#fb9f3a\"], [0.8888888888888888, \"#fdca26\"], [1.0, \"#f0f921\"]], \"type\": \"histogram2d\"}], \"histogram2dcontour\": [{\"colorbar\": {\"outlinewidth\": 0, \"ticks\": \"\"}, \"colorscale\": [[0.0, \"#0d0887\"], [0.1111111111111111, \"#46039f\"], [0.2222222222222222, \"#7201a8\"], [0.3333333333333333, \"#9c179e\"], [0.4444444444444444, \"#bd3786\"], [0.5555555555555556, \"#d8576b\"], [0.6666666666666666, \"#ed7953\"], [0.7777777777777778, \"#fb9f3a\"], [0.8888888888888888, \"#fdca26\"], [1.0, \"#f0f921\"]], \"type\": \"histogram2dcontour\"}], \"mesh3d\": [{\"colorbar\": {\"outlinewidth\": 0, \"ticks\": \"\"}, \"type\": \"mesh3d\"}], \"parcoords\": [{\"line\": {\"colorbar\": {\"outlinewidth\": 0, \"ticks\": \"\"}}, \"type\": \"parcoords\"}], \"scatter\": [{\"marker\": {\"colorbar\": {\"outlinewidth\": 0, \"ticks\": \"\"}}, \"type\": \"scatter\"}], \"scatter3d\": [{\"line\": {\"colorbar\": {\"outlinewidth\": 0, \"ticks\": \"\"}}, \"marker\": {\"colorbar\": {\"outlinewidth\": 0, \"ticks\": \"\"}}, \"type\": \"scatter3d\"}], \"scattercarpet\": [{\"marker\": {\"colorbar\": {\"outlinewidth\": 0, \"ticks\": \"\"}}, \"type\": \"scattercarpet\"}], \"scattergeo\": [{\"marker\": {\"colorbar\": {\"outlinewidth\": 0, \"ticks\": \"\"}}, \"type\": \"scattergeo\"}], \"scattergl\": [{\"marker\": {\"colorbar\": {\"outlinewidth\": 0, \"ticks\": \"\"}}, \"type\": \"scattergl\"}], \"scattermapbox\": [{\"marker\": {\"colorbar\": {\"outlinewidth\": 0, \"ticks\": \"\"}}, \"type\": \"scattermapbox\"}], \"scatterpolar\": [{\"marker\": {\"colorbar\": {\"outlinewidth\": 0, \"ticks\": \"\"}}, \"type\": \"scatterpolar\"}], \"scatterpolargl\": [{\"marker\": {\"colorbar\": {\"outlinewidth\": 0, \"ticks\": \"\"}}, \"type\": \"scatterpolargl\"}], \"scatterternary\": [{\"marker\": {\"colorbar\": {\"outlinewidth\": 0, \"ticks\": \"\"}}, \"type\": \"scatterternary\"}], \"surface\": [{\"colorbar\": {\"outlinewidth\": 0, \"ticks\": \"\"}, \"colorscale\": [[0.0, \"#0d0887\"], [0.1111111111111111, \"#46039f\"], [0.2222222222222222, \"#7201a8\"], [0.3333333333333333, \"#9c179e\"], [0.4444444444444444, \"#bd3786\"], [0.5555555555555556, \"#d8576b\"], [0.6666666666666666, \"#ed7953\"], [0.7777777777777778, \"#fb9f3a\"], [0.8888888888888888, \"#fdca26\"], [1.0, \"#f0f921\"]], \"type\": \"surface\"}], \"table\": [{\"cells\": {\"fill\": {\"color\": \"#EBF0F8\"}, \"line\": {\"color\": \"white\"}}, \"header\": {\"fill\": {\"color\": \"#C8D4E3\"}, \"line\": {\"color\": \"white\"}}, \"type\": \"table\"}]}, \"layout\": {\"annotationdefaults\": {\"arrowcolor\": \"#2a3f5f\", \"arrowhead\": 0, \"arrowwidth\": 1}, \"colorscale\": {\"diverging\": [[0, \"#8e0152\"], [0.1, \"#c51b7d\"], [0.2, \"#de77ae\"], [0.3, \"#f1b6da\"], [0.4, \"#fde0ef\"], [0.5, \"#f7f7f7\"], [0.6, \"#e6f5d0\"], [0.7, \"#b8e186\"], [0.8, \"#7fbc41\"], [0.9, \"#4d9221\"], [1, \"#276419\"]], \"sequential\": [[0.0, \"#0d0887\"], [0.1111111111111111, \"#46039f\"], [0.2222222222222222, \"#7201a8\"], [0.3333333333333333, \"#9c179e\"], [0.4444444444444444, \"#bd3786\"], [0.5555555555555556, \"#d8576b\"], [0.6666666666666666, \"#ed7953\"], [0.7777777777777778, \"#fb9f3a\"], [0.8888888888888888, \"#fdca26\"], [1.0, \"#f0f921\"]], \"sequentialminus\": [[0.0, \"#0d0887\"], [0.1111111111111111, \"#46039f\"], [0.2222222222222222, \"#7201a8\"], [0.3333333333333333, \"#9c179e\"], [0.4444444444444444, \"#bd3786\"], [0.5555555555555556, \"#d8576b\"], [0.6666666666666666, \"#ed7953\"], [0.7777777777777778, \"#fb9f3a\"], [0.8888888888888888, \"#fdca26\"], [1.0, \"#f0f921\"]]}, \"colorway\": [\"#636efa\", \"#EF553B\", \"#00cc96\", \"#ab63fa\", \"#FFA15A\", \"#19d3f3\", \"#FF6692\", \"#B6E880\", \"#FF97FF\", \"#FECB52\"], \"font\": {\"color\": \"#2a3f5f\"}, \"geo\": {\"bgcolor\": \"white\", \"lakecolor\": \"white\", \"landcolor\": \"#E5ECF6\", \"showlakes\": true, \"showland\": true, \"subunitcolor\": \"white\"}, \"hoverlabel\": {\"align\": \"left\"}, \"hovermode\": \"closest\", \"mapbox\": {\"style\": \"light\"}, \"paper_bgcolor\": \"white\", \"plot_bgcolor\": \"#E5ECF6\", \"polar\": {\"angularaxis\": {\"gridcolor\": \"white\", \"linecolor\": \"white\", \"ticks\": \"\"}, \"bgcolor\": \"#E5ECF6\", \"radialaxis\": {\"gridcolor\": \"white\", \"linecolor\": \"white\", \"ticks\": \"\"}}, \"scene\": {\"xaxis\": {\"backgroundcolor\": \"#E5ECF6\", \"gridcolor\": \"white\", \"gridwidth\": 2, \"linecolor\": \"white\", \"showbackground\": true, \"ticks\": \"\", \"zerolinecolor\": \"white\"}, \"yaxis\": {\"backgroundcolor\": \"#E5ECF6\", \"gridcolor\": \"white\", \"gridwidth\": 2, \"linecolor\": \"white\", \"showbackground\": true, \"ticks\": \"\", \"zerolinecolor\": \"white\"}, \"zaxis\": {\"backgroundcolor\": \"#E5ECF6\", \"gridcolor\": \"white\", \"gridwidth\": 2, \"linecolor\": \"white\", \"showbackground\": true, \"ticks\": \"\", \"zerolinecolor\": \"white\"}}, \"shapedefaults\": {\"line\": {\"color\": \"#2a3f5f\"}}, \"ternary\": {\"aaxis\": {\"gridcolor\": \"white\", \"linecolor\": \"white\", \"ticks\": \"\"}, \"baxis\": {\"gridcolor\": \"white\", \"linecolor\": \"white\", \"ticks\": \"\"}, \"bgcolor\": \"#E5ECF6\", \"caxis\": {\"gridcolor\": \"white\", \"linecolor\": \"white\", \"ticks\": \"\"}}, \"title\": {\"x\": 0.05}, \"xaxis\": {\"automargin\": true, \"gridcolor\": \"white\", \"linecolor\": \"white\", \"ticks\": \"\", \"zerolinecolor\": \"white\", \"zerolinewidth\": 2}, \"yaxis\": {\"automargin\": true, \"gridcolor\": \"white\", \"linecolor\": \"white\", \"ticks\": \"\", \"zerolinecolor\": \"white\", \"zerolinewidth\": 2}}}, \"title\": {\"text\": \"InternetService distribution in customer attrition \"}},\n",
       "                        {\"responsive\": true}\n",
       "                    ).then(function(){\n",
       "                            \n",
       "var gd = document.getElementById('63663bba-22e2-4a46-b454-4bfa8d0a851a');\n",
       "var x = new MutationObserver(function (mutations, observer) {{\n",
       "        var display = window.getComputedStyle(gd).display;\n",
       "        if (!display || display === 'none') {{\n",
       "            console.log([gd, 'removed!']);\n",
       "            Plotly.purge(gd);\n",
       "            observer.disconnect();\n",
       "        }}\n",
       "}});\n",
       "\n",
       "// Listen for the removal of the full notebook cells\n",
       "var notebookContainer = gd.closest('#notebook-container');\n",
       "if (notebookContainer) {{\n",
       "    x.observe(notebookContainer, {childList: true});\n",
       "}}\n",
       "\n",
       "// Listen for the clearing of the current output cell\n",
       "var outputEl = gd.closest('.output');\n",
       "if (outputEl) {{\n",
       "    x.observe(outputEl, {childList: true});\n",
       "}}\n",
       "\n",
       "                        })\n",
       "                };\n",
       "                });\n",
       "            </script>\n",
       "        </div>"
      ]
     },
     "metadata": {},
     "output_type": "display_data"
    },
    {
     "data": {
      "text/plain": [
       "<Figure size 500x500 with 1 Axes>"
      ]
     },
     "metadata": {},
     "output_type": "display_data"
    },
    {
     "data": {
      "text/plain": [
       "<Figure size 1500x800 with 1 Axes>"
      ]
     },
     "metadata": {},
     "output_type": "display_data"
    },
    {
     "data": {
      "text/plain": [
       "<Figure size 900x400 with 1 Axes>"
      ]
     },
     "metadata": {},
     "output_type": "display_data"
    },
    {
     "data": {
      "text/plain": [
       "<Figure size 900x400 with 1 Axes>"
      ]
     },
     "metadata": {},
     "output_type": "display_data"
    },
    {
     "data": {
      "text/plain": [
       "<Figure size 900x400 with 1 Axes>"
      ]
     },
     "metadata": {},
     "output_type": "display_data"
    },
    {
     "data": {
      "text/plain": [
       "<Figure size 1000x450 with 1 Axes>"
      ]
     },
     "metadata": {},
     "output_type": "display_data"
    },
    {
     "data": {
      "application/vnd.plotly.v1+json": {
       "config": {
        "linkText": "Export to plot.ly",
        "plotlyServerURL": "https://plot.ly",
        "showLink": false
       },
       "data": [
        {
         "domain": {
          "x": [
           0,
           0.48
          ]
         },
         "hole": 0.6,
         "hoverinfo": "label+percent+name",
         "labels": [
          "Month-to-month",
          "One year",
          "Two year"
         ],
         "marker": {
          "line": {
           "color": "rgb(243,243,243)",
           "width": 2
          }
         },
         "name": "Churn Customers",
         "type": "pie",
         "values": [
          1655,
          166,
          48
         ]
        },
        {
         "domain": {
          "x": [
           0.52,
           1
          ]
         },
         "hole": 0.6,
         "hoverinfo": "label+percent+name",
         "labels": [
          "Month-to-month",
          "Two year",
          "One year"
         ],
         "marker": {
          "line": {
           "color": "rgb(243,243,243)",
           "width": 2
          }
         },
         "name": "Non churn customers",
         "type": "pie",
         "values": [
          2220,
          1637,
          1306
         ]
        }
       ],
       "layout": {
        "annotations": [
         {
          "font": {
           "size": 13
          },
          "showarrow": false,
          "text": "churn customers",
          "x": 0.15,
          "y": 0.5
         },
         {
          "font": {
           "size": 13
          },
          "showarrow": false,
          "text": "Non churn customers",
          "x": 0.88,
          "y": 0.5
         }
        ],
        "paper_bgcolor": "rgb(243,243,243)",
        "plot_bgcolor": "rgb(243,243,243)",
        "template": {
         "data": {
          "bar": [
           {
            "error_x": {
             "color": "#2a3f5f"
            },
            "error_y": {
             "color": "#2a3f5f"
            },
            "marker": {
             "line": {
              "color": "#E5ECF6",
              "width": 0.5
             }
            },
            "type": "bar"
           }
          ],
          "barpolar": [
           {
            "marker": {
             "line": {
              "color": "#E5ECF6",
              "width": 0.5
             }
            },
            "type": "barpolar"
           }
          ],
          "carpet": [
           {
            "aaxis": {
             "endlinecolor": "#2a3f5f",
             "gridcolor": "white",
             "linecolor": "white",
             "minorgridcolor": "white",
             "startlinecolor": "#2a3f5f"
            },
            "baxis": {
             "endlinecolor": "#2a3f5f",
             "gridcolor": "white",
             "linecolor": "white",
             "minorgridcolor": "white",
             "startlinecolor": "#2a3f5f"
            },
            "type": "carpet"
           }
          ],
          "choropleth": [
           {
            "colorbar": {
             "outlinewidth": 0,
             "ticks": ""
            },
            "type": "choropleth"
           }
          ],
          "contour": [
           {
            "colorbar": {
             "outlinewidth": 0,
             "ticks": ""
            },
            "colorscale": [
             [
              0,
              "#0d0887"
             ],
             [
              0.1111111111111111,
              "#46039f"
             ],
             [
              0.2222222222222222,
              "#7201a8"
             ],
             [
              0.3333333333333333,
              "#9c179e"
             ],
             [
              0.4444444444444444,
              "#bd3786"
             ],
             [
              0.5555555555555556,
              "#d8576b"
             ],
             [
              0.6666666666666666,
              "#ed7953"
             ],
             [
              0.7777777777777778,
              "#fb9f3a"
             ],
             [
              0.8888888888888888,
              "#fdca26"
             ],
             [
              1,
              "#f0f921"
             ]
            ],
            "type": "contour"
           }
          ],
          "contourcarpet": [
           {
            "colorbar": {
             "outlinewidth": 0,
             "ticks": ""
            },
            "type": "contourcarpet"
           }
          ],
          "heatmap": [
           {
            "colorbar": {
             "outlinewidth": 0,
             "ticks": ""
            },
            "colorscale": [
             [
              0,
              "#0d0887"
             ],
             [
              0.1111111111111111,
              "#46039f"
             ],
             [
              0.2222222222222222,
              "#7201a8"
             ],
             [
              0.3333333333333333,
              "#9c179e"
             ],
             [
              0.4444444444444444,
              "#bd3786"
             ],
             [
              0.5555555555555556,
              "#d8576b"
             ],
             [
              0.6666666666666666,
              "#ed7953"
             ],
             [
              0.7777777777777778,
              "#fb9f3a"
             ],
             [
              0.8888888888888888,
              "#fdca26"
             ],
             [
              1,
              "#f0f921"
             ]
            ],
            "type": "heatmap"
           }
          ],
          "heatmapgl": [
           {
            "colorbar": {
             "outlinewidth": 0,
             "ticks": ""
            },
            "colorscale": [
             [
              0,
              "#0d0887"
             ],
             [
              0.1111111111111111,
              "#46039f"
             ],
             [
              0.2222222222222222,
              "#7201a8"
             ],
             [
              0.3333333333333333,
              "#9c179e"
             ],
             [
              0.4444444444444444,
              "#bd3786"
             ],
             [
              0.5555555555555556,
              "#d8576b"
             ],
             [
              0.6666666666666666,
              "#ed7953"
             ],
             [
              0.7777777777777778,
              "#fb9f3a"
             ],
             [
              0.8888888888888888,
              "#fdca26"
             ],
             [
              1,
              "#f0f921"
             ]
            ],
            "type": "heatmapgl"
           }
          ],
          "histogram": [
           {
            "marker": {
             "colorbar": {
              "outlinewidth": 0,
              "ticks": ""
             }
            },
            "type": "histogram"
           }
          ],
          "histogram2d": [
           {
            "colorbar": {
             "outlinewidth": 0,
             "ticks": ""
            },
            "colorscale": [
             [
              0,
              "#0d0887"
             ],
             [
              0.1111111111111111,
              "#46039f"
             ],
             [
              0.2222222222222222,
              "#7201a8"
             ],
             [
              0.3333333333333333,
              "#9c179e"
             ],
             [
              0.4444444444444444,
              "#bd3786"
             ],
             [
              0.5555555555555556,
              "#d8576b"
             ],
             [
              0.6666666666666666,
              "#ed7953"
             ],
             [
              0.7777777777777778,
              "#fb9f3a"
             ],
             [
              0.8888888888888888,
              "#fdca26"
             ],
             [
              1,
              "#f0f921"
             ]
            ],
            "type": "histogram2d"
           }
          ],
          "histogram2dcontour": [
           {
            "colorbar": {
             "outlinewidth": 0,
             "ticks": ""
            },
            "colorscale": [
             [
              0,
              "#0d0887"
             ],
             [
              0.1111111111111111,
              "#46039f"
             ],
             [
              0.2222222222222222,
              "#7201a8"
             ],
             [
              0.3333333333333333,
              "#9c179e"
             ],
             [
              0.4444444444444444,
              "#bd3786"
             ],
             [
              0.5555555555555556,
              "#d8576b"
             ],
             [
              0.6666666666666666,
              "#ed7953"
             ],
             [
              0.7777777777777778,
              "#fb9f3a"
             ],
             [
              0.8888888888888888,
              "#fdca26"
             ],
             [
              1,
              "#f0f921"
             ]
            ],
            "type": "histogram2dcontour"
           }
          ],
          "mesh3d": [
           {
            "colorbar": {
             "outlinewidth": 0,
             "ticks": ""
            },
            "type": "mesh3d"
           }
          ],
          "parcoords": [
           {
            "line": {
             "colorbar": {
              "outlinewidth": 0,
              "ticks": ""
             }
            },
            "type": "parcoords"
           }
          ],
          "scatter": [
           {
            "marker": {
             "colorbar": {
              "outlinewidth": 0,
              "ticks": ""
             }
            },
            "type": "scatter"
           }
          ],
          "scatter3d": [
           {
            "line": {
             "colorbar": {
              "outlinewidth": 0,
              "ticks": ""
             }
            },
            "marker": {
             "colorbar": {
              "outlinewidth": 0,
              "ticks": ""
             }
            },
            "type": "scatter3d"
           }
          ],
          "scattercarpet": [
           {
            "marker": {
             "colorbar": {
              "outlinewidth": 0,
              "ticks": ""
             }
            },
            "type": "scattercarpet"
           }
          ],
          "scattergeo": [
           {
            "marker": {
             "colorbar": {
              "outlinewidth": 0,
              "ticks": ""
             }
            },
            "type": "scattergeo"
           }
          ],
          "scattergl": [
           {
            "marker": {
             "colorbar": {
              "outlinewidth": 0,
              "ticks": ""
             }
            },
            "type": "scattergl"
           }
          ],
          "scattermapbox": [
           {
            "marker": {
             "colorbar": {
              "outlinewidth": 0,
              "ticks": ""
             }
            },
            "type": "scattermapbox"
           }
          ],
          "scatterpolar": [
           {
            "marker": {
             "colorbar": {
              "outlinewidth": 0,
              "ticks": ""
             }
            },
            "type": "scatterpolar"
           }
          ],
          "scatterpolargl": [
           {
            "marker": {
             "colorbar": {
              "outlinewidth": 0,
              "ticks": ""
             }
            },
            "type": "scatterpolargl"
           }
          ],
          "scatterternary": [
           {
            "marker": {
             "colorbar": {
              "outlinewidth": 0,
              "ticks": ""
             }
            },
            "type": "scatterternary"
           }
          ],
          "surface": [
           {
            "colorbar": {
             "outlinewidth": 0,
             "ticks": ""
            },
            "colorscale": [
             [
              0,
              "#0d0887"
             ],
             [
              0.1111111111111111,
              "#46039f"
             ],
             [
              0.2222222222222222,
              "#7201a8"
             ],
             [
              0.3333333333333333,
              "#9c179e"
             ],
             [
              0.4444444444444444,
              "#bd3786"
             ],
             [
              0.5555555555555556,
              "#d8576b"
             ],
             [
              0.6666666666666666,
              "#ed7953"
             ],
             [
              0.7777777777777778,
              "#fb9f3a"
             ],
             [
              0.8888888888888888,
              "#fdca26"
             ],
             [
              1,
              "#f0f921"
             ]
            ],
            "type": "surface"
           }
          ],
          "table": [
           {
            "cells": {
             "fill": {
              "color": "#EBF0F8"
             },
             "line": {
              "color": "white"
             }
            },
            "header": {
             "fill": {
              "color": "#C8D4E3"
             },
             "line": {
              "color": "white"
             }
            },
            "type": "table"
           }
          ]
         },
         "layout": {
          "annotationdefaults": {
           "arrowcolor": "#2a3f5f",
           "arrowhead": 0,
           "arrowwidth": 1
          },
          "colorscale": {
           "diverging": [
            [
             0,
             "#8e0152"
            ],
            [
             0.1,
             "#c51b7d"
            ],
            [
             0.2,
             "#de77ae"
            ],
            [
             0.3,
             "#f1b6da"
            ],
            [
             0.4,
             "#fde0ef"
            ],
            [
             0.5,
             "#f7f7f7"
            ],
            [
             0.6,
             "#e6f5d0"
            ],
            [
             0.7,
             "#b8e186"
            ],
            [
             0.8,
             "#7fbc41"
            ],
            [
             0.9,
             "#4d9221"
            ],
            [
             1,
             "#276419"
            ]
           ],
           "sequential": [
            [
             0,
             "#0d0887"
            ],
            [
             0.1111111111111111,
             "#46039f"
            ],
            [
             0.2222222222222222,
             "#7201a8"
            ],
            [
             0.3333333333333333,
             "#9c179e"
            ],
            [
             0.4444444444444444,
             "#bd3786"
            ],
            [
             0.5555555555555556,
             "#d8576b"
            ],
            [
             0.6666666666666666,
             "#ed7953"
            ],
            [
             0.7777777777777778,
             "#fb9f3a"
            ],
            [
             0.8888888888888888,
             "#fdca26"
            ],
            [
             1,
             "#f0f921"
            ]
           ],
           "sequentialminus": [
            [
             0,
             "#0d0887"
            ],
            [
             0.1111111111111111,
             "#46039f"
            ],
            [
             0.2222222222222222,
             "#7201a8"
            ],
            [
             0.3333333333333333,
             "#9c179e"
            ],
            [
             0.4444444444444444,
             "#bd3786"
            ],
            [
             0.5555555555555556,
             "#d8576b"
            ],
            [
             0.6666666666666666,
             "#ed7953"
            ],
            [
             0.7777777777777778,
             "#fb9f3a"
            ],
            [
             0.8888888888888888,
             "#fdca26"
            ],
            [
             1,
             "#f0f921"
            ]
           ]
          },
          "colorway": [
           "#636efa",
           "#EF553B",
           "#00cc96",
           "#ab63fa",
           "#FFA15A",
           "#19d3f3",
           "#FF6692",
           "#B6E880",
           "#FF97FF",
           "#FECB52"
          ],
          "font": {
           "color": "#2a3f5f"
          },
          "geo": {
           "bgcolor": "white",
           "lakecolor": "white",
           "landcolor": "#E5ECF6",
           "showlakes": true,
           "showland": true,
           "subunitcolor": "white"
          },
          "hoverlabel": {
           "align": "left"
          },
          "hovermode": "closest",
          "mapbox": {
           "style": "light"
          },
          "paper_bgcolor": "white",
          "plot_bgcolor": "#E5ECF6",
          "polar": {
           "angularaxis": {
            "gridcolor": "white",
            "linecolor": "white",
            "ticks": ""
           },
           "bgcolor": "#E5ECF6",
           "radialaxis": {
            "gridcolor": "white",
            "linecolor": "white",
            "ticks": ""
           }
          },
          "scene": {
           "xaxis": {
            "backgroundcolor": "#E5ECF6",
            "gridcolor": "white",
            "gridwidth": 2,
            "linecolor": "white",
            "showbackground": true,
            "ticks": "",
            "zerolinecolor": "white"
           },
           "yaxis": {
            "backgroundcolor": "#E5ECF6",
            "gridcolor": "white",
            "gridwidth": 2,
            "linecolor": "white",
            "showbackground": true,
            "ticks": "",
            "zerolinecolor": "white"
           },
           "zaxis": {
            "backgroundcolor": "#E5ECF6",
            "gridcolor": "white",
            "gridwidth": 2,
            "linecolor": "white",
            "showbackground": true,
            "ticks": "",
            "zerolinecolor": "white"
           }
          },
          "shapedefaults": {
           "line": {
            "color": "#2a3f5f"
           }
          },
          "ternary": {
           "aaxis": {
            "gridcolor": "white",
            "linecolor": "white",
            "ticks": ""
           },
           "baxis": {
            "gridcolor": "white",
            "linecolor": "white",
            "ticks": ""
           },
           "bgcolor": "#E5ECF6",
           "caxis": {
            "gridcolor": "white",
            "linecolor": "white",
            "ticks": ""
           }
          },
          "title": {
           "x": 0.05
          },
          "xaxis": {
           "automargin": true,
           "gridcolor": "white",
           "linecolor": "white",
           "ticks": "",
           "zerolinecolor": "white",
           "zerolinewidth": 2
          },
          "yaxis": {
           "automargin": true,
           "gridcolor": "white",
           "linecolor": "white",
           "ticks": "",
           "zerolinecolor": "white",
           "zerolinewidth": 2
          }
         }
        },
        "title": {
         "text": "Contract distribution in customer attrition "
        }
       }
      },
      "text/html": [
       "<div>\n",
       "        \n",
       "        \n",
       "            <div id=\"4104b899-10c5-414c-9ec8-08ca67afea09\" class=\"plotly-graph-div\" style=\"height:525px; width:100%;\"></div>\n",
       "            <script type=\"text/javascript\">\n",
       "                require([\"plotly\"], function(Plotly) {\n",
       "                    window.PLOTLYENV=window.PLOTLYENV || {};\n",
       "                    \n",
       "                if (document.getElementById(\"4104b899-10c5-414c-9ec8-08ca67afea09\")) {\n",
       "                    Plotly.newPlot(\n",
       "                        '4104b899-10c5-414c-9ec8-08ca67afea09',\n",
       "                        [{\"domain\": {\"x\": [0, 0.48]}, \"hole\": 0.6, \"hoverinfo\": \"label+percent+name\", \"labels\": [\"Month-to-month\", \"One year\", \"Two year\"], \"marker\": {\"line\": {\"color\": \"rgb(243,243,243)\", \"width\": 2}}, \"name\": \"Churn Customers\", \"type\": \"pie\", \"values\": [1655, 166, 48]}, {\"domain\": {\"x\": [0.52, 1]}, \"hole\": 0.6, \"hoverinfo\": \"label+percent+name\", \"labels\": [\"Month-to-month\", \"Two year\", \"One year\"], \"marker\": {\"line\": {\"color\": \"rgb(243,243,243)\", \"width\": 2}}, \"name\": \"Non churn customers\", \"type\": \"pie\", \"values\": [2220, 1637, 1306]}],\n",
       "                        {\"annotations\": [{\"font\": {\"size\": 13}, \"showarrow\": false, \"text\": \"churn customers\", \"x\": 0.15, \"y\": 0.5}, {\"font\": {\"size\": 13}, \"showarrow\": false, \"text\": \"Non churn customers\", \"x\": 0.88, \"y\": 0.5}], \"paper_bgcolor\": \"rgb(243,243,243)\", \"plot_bgcolor\": \"rgb(243,243,243)\", \"template\": {\"data\": {\"bar\": [{\"error_x\": {\"color\": \"#2a3f5f\"}, \"error_y\": {\"color\": \"#2a3f5f\"}, \"marker\": {\"line\": {\"color\": \"#E5ECF6\", \"width\": 0.5}}, \"type\": \"bar\"}], \"barpolar\": [{\"marker\": {\"line\": {\"color\": \"#E5ECF6\", \"width\": 0.5}}, \"type\": \"barpolar\"}], \"carpet\": [{\"aaxis\": {\"endlinecolor\": \"#2a3f5f\", \"gridcolor\": \"white\", \"linecolor\": \"white\", \"minorgridcolor\": \"white\", \"startlinecolor\": \"#2a3f5f\"}, \"baxis\": {\"endlinecolor\": \"#2a3f5f\", \"gridcolor\": \"white\", \"linecolor\": \"white\", \"minorgridcolor\": \"white\", \"startlinecolor\": \"#2a3f5f\"}, \"type\": \"carpet\"}], \"choropleth\": [{\"colorbar\": {\"outlinewidth\": 0, \"ticks\": \"\"}, \"type\": \"choropleth\"}], \"contour\": [{\"colorbar\": {\"outlinewidth\": 0, \"ticks\": \"\"}, \"colorscale\": [[0.0, \"#0d0887\"], [0.1111111111111111, \"#46039f\"], [0.2222222222222222, \"#7201a8\"], [0.3333333333333333, \"#9c179e\"], [0.4444444444444444, \"#bd3786\"], [0.5555555555555556, \"#d8576b\"], [0.6666666666666666, \"#ed7953\"], [0.7777777777777778, \"#fb9f3a\"], [0.8888888888888888, \"#fdca26\"], [1.0, \"#f0f921\"]], \"type\": \"contour\"}], \"contourcarpet\": [{\"colorbar\": {\"outlinewidth\": 0, \"ticks\": \"\"}, \"type\": \"contourcarpet\"}], \"heatmap\": [{\"colorbar\": {\"outlinewidth\": 0, \"ticks\": \"\"}, \"colorscale\": [[0.0, \"#0d0887\"], [0.1111111111111111, \"#46039f\"], [0.2222222222222222, \"#7201a8\"], [0.3333333333333333, \"#9c179e\"], [0.4444444444444444, \"#bd3786\"], [0.5555555555555556, \"#d8576b\"], [0.6666666666666666, \"#ed7953\"], [0.7777777777777778, \"#fb9f3a\"], [0.8888888888888888, \"#fdca26\"], [1.0, \"#f0f921\"]], \"type\": \"heatmap\"}], \"heatmapgl\": [{\"colorbar\": {\"outlinewidth\": 0, \"ticks\": \"\"}, \"colorscale\": [[0.0, \"#0d0887\"], [0.1111111111111111, \"#46039f\"], [0.2222222222222222, \"#7201a8\"], [0.3333333333333333, \"#9c179e\"], [0.4444444444444444, \"#bd3786\"], [0.5555555555555556, \"#d8576b\"], [0.6666666666666666, \"#ed7953\"], [0.7777777777777778, \"#fb9f3a\"], [0.8888888888888888, \"#fdca26\"], [1.0, \"#f0f921\"]], \"type\": \"heatmapgl\"}], \"histogram\": [{\"marker\": {\"colorbar\": {\"outlinewidth\": 0, \"ticks\": \"\"}}, \"type\": \"histogram\"}], \"histogram2d\": [{\"colorbar\": {\"outlinewidth\": 0, \"ticks\": \"\"}, \"colorscale\": [[0.0, \"#0d0887\"], [0.1111111111111111, \"#46039f\"], [0.2222222222222222, \"#7201a8\"], [0.3333333333333333, \"#9c179e\"], [0.4444444444444444, \"#bd3786\"], [0.5555555555555556, \"#d8576b\"], [0.6666666666666666, \"#ed7953\"], [0.7777777777777778, \"#fb9f3a\"], [0.8888888888888888, \"#fdca26\"], [1.0, \"#f0f921\"]], \"type\": \"histogram2d\"}], \"histogram2dcontour\": [{\"colorbar\": {\"outlinewidth\": 0, \"ticks\": \"\"}, \"colorscale\": [[0.0, \"#0d0887\"], [0.1111111111111111, \"#46039f\"], [0.2222222222222222, \"#7201a8\"], [0.3333333333333333, \"#9c179e\"], [0.4444444444444444, \"#bd3786\"], [0.5555555555555556, \"#d8576b\"], [0.6666666666666666, \"#ed7953\"], [0.7777777777777778, \"#fb9f3a\"], [0.8888888888888888, \"#fdca26\"], [1.0, \"#f0f921\"]], \"type\": \"histogram2dcontour\"}], \"mesh3d\": [{\"colorbar\": {\"outlinewidth\": 0, \"ticks\": \"\"}, \"type\": \"mesh3d\"}], \"parcoords\": [{\"line\": {\"colorbar\": {\"outlinewidth\": 0, \"ticks\": \"\"}}, \"type\": \"parcoords\"}], \"scatter\": [{\"marker\": {\"colorbar\": {\"outlinewidth\": 0, \"ticks\": \"\"}}, \"type\": \"scatter\"}], \"scatter3d\": [{\"line\": {\"colorbar\": {\"outlinewidth\": 0, \"ticks\": \"\"}}, \"marker\": {\"colorbar\": {\"outlinewidth\": 0, \"ticks\": \"\"}}, \"type\": \"scatter3d\"}], \"scattercarpet\": [{\"marker\": {\"colorbar\": {\"outlinewidth\": 0, \"ticks\": \"\"}}, \"type\": \"scattercarpet\"}], \"scattergeo\": [{\"marker\": {\"colorbar\": {\"outlinewidth\": 0, \"ticks\": \"\"}}, \"type\": \"scattergeo\"}], \"scattergl\": [{\"marker\": {\"colorbar\": {\"outlinewidth\": 0, \"ticks\": \"\"}}, \"type\": \"scattergl\"}], \"scattermapbox\": [{\"marker\": {\"colorbar\": {\"outlinewidth\": 0, \"ticks\": \"\"}}, \"type\": \"scattermapbox\"}], \"scatterpolar\": [{\"marker\": {\"colorbar\": {\"outlinewidth\": 0, \"ticks\": \"\"}}, \"type\": \"scatterpolar\"}], \"scatterpolargl\": [{\"marker\": {\"colorbar\": {\"outlinewidth\": 0, \"ticks\": \"\"}}, \"type\": \"scatterpolargl\"}], \"scatterternary\": [{\"marker\": {\"colorbar\": {\"outlinewidth\": 0, \"ticks\": \"\"}}, \"type\": \"scatterternary\"}], \"surface\": [{\"colorbar\": {\"outlinewidth\": 0, \"ticks\": \"\"}, \"colorscale\": [[0.0, \"#0d0887\"], [0.1111111111111111, \"#46039f\"], [0.2222222222222222, \"#7201a8\"], [0.3333333333333333, \"#9c179e\"], [0.4444444444444444, \"#bd3786\"], [0.5555555555555556, \"#d8576b\"], [0.6666666666666666, \"#ed7953\"], [0.7777777777777778, \"#fb9f3a\"], [0.8888888888888888, \"#fdca26\"], [1.0, \"#f0f921\"]], \"type\": \"surface\"}], \"table\": [{\"cells\": {\"fill\": {\"color\": \"#EBF0F8\"}, \"line\": {\"color\": \"white\"}}, \"header\": {\"fill\": {\"color\": \"#C8D4E3\"}, \"line\": {\"color\": \"white\"}}, \"type\": \"table\"}]}, \"layout\": {\"annotationdefaults\": {\"arrowcolor\": \"#2a3f5f\", \"arrowhead\": 0, \"arrowwidth\": 1}, \"colorscale\": {\"diverging\": [[0, \"#8e0152\"], [0.1, \"#c51b7d\"], [0.2, \"#de77ae\"], [0.3, \"#f1b6da\"], [0.4, \"#fde0ef\"], [0.5, \"#f7f7f7\"], [0.6, \"#e6f5d0\"], [0.7, \"#b8e186\"], [0.8, \"#7fbc41\"], [0.9, \"#4d9221\"], [1, \"#276419\"]], \"sequential\": [[0.0, \"#0d0887\"], [0.1111111111111111, \"#46039f\"], [0.2222222222222222, \"#7201a8\"], [0.3333333333333333, \"#9c179e\"], [0.4444444444444444, \"#bd3786\"], [0.5555555555555556, \"#d8576b\"], [0.6666666666666666, \"#ed7953\"], [0.7777777777777778, \"#fb9f3a\"], [0.8888888888888888, \"#fdca26\"], [1.0, \"#f0f921\"]], \"sequentialminus\": [[0.0, \"#0d0887\"], [0.1111111111111111, \"#46039f\"], [0.2222222222222222, \"#7201a8\"], [0.3333333333333333, \"#9c179e\"], [0.4444444444444444, \"#bd3786\"], [0.5555555555555556, \"#d8576b\"], [0.6666666666666666, \"#ed7953\"], [0.7777777777777778, \"#fb9f3a\"], [0.8888888888888888, \"#fdca26\"], [1.0, \"#f0f921\"]]}, \"colorway\": [\"#636efa\", \"#EF553B\", \"#00cc96\", \"#ab63fa\", \"#FFA15A\", \"#19d3f3\", \"#FF6692\", \"#B6E880\", \"#FF97FF\", \"#FECB52\"], \"font\": {\"color\": \"#2a3f5f\"}, \"geo\": {\"bgcolor\": \"white\", \"lakecolor\": \"white\", \"landcolor\": \"#E5ECF6\", \"showlakes\": true, \"showland\": true, \"subunitcolor\": \"white\"}, \"hoverlabel\": {\"align\": \"left\"}, \"hovermode\": \"closest\", \"mapbox\": {\"style\": \"light\"}, \"paper_bgcolor\": \"white\", \"plot_bgcolor\": \"#E5ECF6\", \"polar\": {\"angularaxis\": {\"gridcolor\": \"white\", \"linecolor\": \"white\", \"ticks\": \"\"}, \"bgcolor\": \"#E5ECF6\", \"radialaxis\": {\"gridcolor\": \"white\", \"linecolor\": \"white\", \"ticks\": \"\"}}, \"scene\": {\"xaxis\": {\"backgroundcolor\": \"#E5ECF6\", \"gridcolor\": \"white\", \"gridwidth\": 2, \"linecolor\": \"white\", \"showbackground\": true, \"ticks\": \"\", \"zerolinecolor\": \"white\"}, \"yaxis\": {\"backgroundcolor\": \"#E5ECF6\", \"gridcolor\": \"white\", \"gridwidth\": 2, \"linecolor\": \"white\", \"showbackground\": true, \"ticks\": \"\", \"zerolinecolor\": \"white\"}, \"zaxis\": {\"backgroundcolor\": \"#E5ECF6\", \"gridcolor\": \"white\", \"gridwidth\": 2, \"linecolor\": \"white\", \"showbackground\": true, \"ticks\": \"\", \"zerolinecolor\": \"white\"}}, \"shapedefaults\": {\"line\": {\"color\": \"#2a3f5f\"}}, \"ternary\": {\"aaxis\": {\"gridcolor\": \"white\", \"linecolor\": \"white\", \"ticks\": \"\"}, \"baxis\": {\"gridcolor\": \"white\", \"linecolor\": \"white\", \"ticks\": \"\"}, \"bgcolor\": \"#E5ECF6\", \"caxis\": {\"gridcolor\": \"white\", \"linecolor\": \"white\", \"ticks\": \"\"}}, \"title\": {\"x\": 0.05}, \"xaxis\": {\"automargin\": true, \"gridcolor\": \"white\", \"linecolor\": \"white\", \"ticks\": \"\", \"zerolinecolor\": \"white\", \"zerolinewidth\": 2}, \"yaxis\": {\"automargin\": true, \"gridcolor\": \"white\", \"linecolor\": \"white\", \"ticks\": \"\", \"zerolinecolor\": \"white\", \"zerolinewidth\": 2}}}, \"title\": {\"text\": \"Contract distribution in customer attrition \"}},\n",
       "                        {\"responsive\": true}\n",
       "                    ).then(function(){\n",
       "                            \n",
       "var gd = document.getElementById('4104b899-10c5-414c-9ec8-08ca67afea09');\n",
       "var x = new MutationObserver(function (mutations, observer) {{\n",
       "        var display = window.getComputedStyle(gd).display;\n",
       "        if (!display || display === 'none') {{\n",
       "            console.log([gd, 'removed!']);\n",
       "            Plotly.purge(gd);\n",
       "            observer.disconnect();\n",
       "        }}\n",
       "}});\n",
       "\n",
       "// Listen for the removal of the full notebook cells\n",
       "var notebookContainer = gd.closest('#notebook-container');\n",
       "if (notebookContainer) {{\n",
       "    x.observe(notebookContainer, {childList: true});\n",
       "}}\n",
       "\n",
       "// Listen for the clearing of the current output cell\n",
       "var outputEl = gd.closest('.output');\n",
       "if (outputEl) {{\n",
       "    x.observe(outputEl, {childList: true});\n",
       "}}\n",
       "\n",
       "                        })\n",
       "                };\n",
       "                });\n",
       "            </script>\n",
       "        </div>"
      ]
     },
     "metadata": {},
     "output_type": "display_data"
    },
    {
     "data": {
      "application/vnd.plotly.v1+json": {
       "config": {
        "linkText": "Export to plot.ly",
        "plotlyServerURL": "https://plot.ly",
        "showLink": false
       },
       "data": [
        {
         "domain": {
          "x": [
           0,
           0.48
          ]
         },
         "hole": 0.6,
         "hoverinfo": "label+percent+name",
         "labels": [
          "Electronic check",
          "Mailed check",
          "Bank transfer (automatic)",
          "Credit card (automatic)"
         ],
         "marker": {
          "line": {
           "color": "rgb(243,243,243)",
           "width": 2
          }
         },
         "name": "Churn Customers",
         "type": "pie",
         "values": [
          1071,
          308,
          258,
          232
         ]
        },
        {
         "domain": {
          "x": [
           0.52,
           1
          ]
         },
         "hole": 0.6,
         "hoverinfo": "label+percent+name",
         "labels": [
          "Mailed check",
          "Electronic check",
          "Credit card (automatic)",
          "Bank transfer (automatic)"
         ],
         "marker": {
          "line": {
           "color": "rgb(243,243,243)",
           "width": 2
          }
         },
         "name": "Non churn customers",
         "type": "pie",
         "values": [
          1296,
          1294,
          1289,
          1284
         ]
        }
       ],
       "layout": {
        "annotations": [
         {
          "font": {
           "size": 13
          },
          "showarrow": false,
          "text": "churn customers",
          "x": 0.15,
          "y": 0.5
         },
         {
          "font": {
           "size": 13
          },
          "showarrow": false,
          "text": "Non churn customers",
          "x": 0.88,
          "y": 0.5
         }
        ],
        "paper_bgcolor": "rgb(243,243,243)",
        "plot_bgcolor": "rgb(243,243,243)",
        "template": {
         "data": {
          "bar": [
           {
            "error_x": {
             "color": "#2a3f5f"
            },
            "error_y": {
             "color": "#2a3f5f"
            },
            "marker": {
             "line": {
              "color": "#E5ECF6",
              "width": 0.5
             }
            },
            "type": "bar"
           }
          ],
          "barpolar": [
           {
            "marker": {
             "line": {
              "color": "#E5ECF6",
              "width": 0.5
             }
            },
            "type": "barpolar"
           }
          ],
          "carpet": [
           {
            "aaxis": {
             "endlinecolor": "#2a3f5f",
             "gridcolor": "white",
             "linecolor": "white",
             "minorgridcolor": "white",
             "startlinecolor": "#2a3f5f"
            },
            "baxis": {
             "endlinecolor": "#2a3f5f",
             "gridcolor": "white",
             "linecolor": "white",
             "minorgridcolor": "white",
             "startlinecolor": "#2a3f5f"
            },
            "type": "carpet"
           }
          ],
          "choropleth": [
           {
            "colorbar": {
             "outlinewidth": 0,
             "ticks": ""
            },
            "type": "choropleth"
           }
          ],
          "contour": [
           {
            "colorbar": {
             "outlinewidth": 0,
             "ticks": ""
            },
            "colorscale": [
             [
              0,
              "#0d0887"
             ],
             [
              0.1111111111111111,
              "#46039f"
             ],
             [
              0.2222222222222222,
              "#7201a8"
             ],
             [
              0.3333333333333333,
              "#9c179e"
             ],
             [
              0.4444444444444444,
              "#bd3786"
             ],
             [
              0.5555555555555556,
              "#d8576b"
             ],
             [
              0.6666666666666666,
              "#ed7953"
             ],
             [
              0.7777777777777778,
              "#fb9f3a"
             ],
             [
              0.8888888888888888,
              "#fdca26"
             ],
             [
              1,
              "#f0f921"
             ]
            ],
            "type": "contour"
           }
          ],
          "contourcarpet": [
           {
            "colorbar": {
             "outlinewidth": 0,
             "ticks": ""
            },
            "type": "contourcarpet"
           }
          ],
          "heatmap": [
           {
            "colorbar": {
             "outlinewidth": 0,
             "ticks": ""
            },
            "colorscale": [
             [
              0,
              "#0d0887"
             ],
             [
              0.1111111111111111,
              "#46039f"
             ],
             [
              0.2222222222222222,
              "#7201a8"
             ],
             [
              0.3333333333333333,
              "#9c179e"
             ],
             [
              0.4444444444444444,
              "#bd3786"
             ],
             [
              0.5555555555555556,
              "#d8576b"
             ],
             [
              0.6666666666666666,
              "#ed7953"
             ],
             [
              0.7777777777777778,
              "#fb9f3a"
             ],
             [
              0.8888888888888888,
              "#fdca26"
             ],
             [
              1,
              "#f0f921"
             ]
            ],
            "type": "heatmap"
           }
          ],
          "heatmapgl": [
           {
            "colorbar": {
             "outlinewidth": 0,
             "ticks": ""
            },
            "colorscale": [
             [
              0,
              "#0d0887"
             ],
             [
              0.1111111111111111,
              "#46039f"
             ],
             [
              0.2222222222222222,
              "#7201a8"
             ],
             [
              0.3333333333333333,
              "#9c179e"
             ],
             [
              0.4444444444444444,
              "#bd3786"
             ],
             [
              0.5555555555555556,
              "#d8576b"
             ],
             [
              0.6666666666666666,
              "#ed7953"
             ],
             [
              0.7777777777777778,
              "#fb9f3a"
             ],
             [
              0.8888888888888888,
              "#fdca26"
             ],
             [
              1,
              "#f0f921"
             ]
            ],
            "type": "heatmapgl"
           }
          ],
          "histogram": [
           {
            "marker": {
             "colorbar": {
              "outlinewidth": 0,
              "ticks": ""
             }
            },
            "type": "histogram"
           }
          ],
          "histogram2d": [
           {
            "colorbar": {
             "outlinewidth": 0,
             "ticks": ""
            },
            "colorscale": [
             [
              0,
              "#0d0887"
             ],
             [
              0.1111111111111111,
              "#46039f"
             ],
             [
              0.2222222222222222,
              "#7201a8"
             ],
             [
              0.3333333333333333,
              "#9c179e"
             ],
             [
              0.4444444444444444,
              "#bd3786"
             ],
             [
              0.5555555555555556,
              "#d8576b"
             ],
             [
              0.6666666666666666,
              "#ed7953"
             ],
             [
              0.7777777777777778,
              "#fb9f3a"
             ],
             [
              0.8888888888888888,
              "#fdca26"
             ],
             [
              1,
              "#f0f921"
             ]
            ],
            "type": "histogram2d"
           }
          ],
          "histogram2dcontour": [
           {
            "colorbar": {
             "outlinewidth": 0,
             "ticks": ""
            },
            "colorscale": [
             [
              0,
              "#0d0887"
             ],
             [
              0.1111111111111111,
              "#46039f"
             ],
             [
              0.2222222222222222,
              "#7201a8"
             ],
             [
              0.3333333333333333,
              "#9c179e"
             ],
             [
              0.4444444444444444,
              "#bd3786"
             ],
             [
              0.5555555555555556,
              "#d8576b"
             ],
             [
              0.6666666666666666,
              "#ed7953"
             ],
             [
              0.7777777777777778,
              "#fb9f3a"
             ],
             [
              0.8888888888888888,
              "#fdca26"
             ],
             [
              1,
              "#f0f921"
             ]
            ],
            "type": "histogram2dcontour"
           }
          ],
          "mesh3d": [
           {
            "colorbar": {
             "outlinewidth": 0,
             "ticks": ""
            },
            "type": "mesh3d"
           }
          ],
          "parcoords": [
           {
            "line": {
             "colorbar": {
              "outlinewidth": 0,
              "ticks": ""
             }
            },
            "type": "parcoords"
           }
          ],
          "scatter": [
           {
            "marker": {
             "colorbar": {
              "outlinewidth": 0,
              "ticks": ""
             }
            },
            "type": "scatter"
           }
          ],
          "scatter3d": [
           {
            "line": {
             "colorbar": {
              "outlinewidth": 0,
              "ticks": ""
             }
            },
            "marker": {
             "colorbar": {
              "outlinewidth": 0,
              "ticks": ""
             }
            },
            "type": "scatter3d"
           }
          ],
          "scattercarpet": [
           {
            "marker": {
             "colorbar": {
              "outlinewidth": 0,
              "ticks": ""
             }
            },
            "type": "scattercarpet"
           }
          ],
          "scattergeo": [
           {
            "marker": {
             "colorbar": {
              "outlinewidth": 0,
              "ticks": ""
             }
            },
            "type": "scattergeo"
           }
          ],
          "scattergl": [
           {
            "marker": {
             "colorbar": {
              "outlinewidth": 0,
              "ticks": ""
             }
            },
            "type": "scattergl"
           }
          ],
          "scattermapbox": [
           {
            "marker": {
             "colorbar": {
              "outlinewidth": 0,
              "ticks": ""
             }
            },
            "type": "scattermapbox"
           }
          ],
          "scatterpolar": [
           {
            "marker": {
             "colorbar": {
              "outlinewidth": 0,
              "ticks": ""
             }
            },
            "type": "scatterpolar"
           }
          ],
          "scatterpolargl": [
           {
            "marker": {
             "colorbar": {
              "outlinewidth": 0,
              "ticks": ""
             }
            },
            "type": "scatterpolargl"
           }
          ],
          "scatterternary": [
           {
            "marker": {
             "colorbar": {
              "outlinewidth": 0,
              "ticks": ""
             }
            },
            "type": "scatterternary"
           }
          ],
          "surface": [
           {
            "colorbar": {
             "outlinewidth": 0,
             "ticks": ""
            },
            "colorscale": [
             [
              0,
              "#0d0887"
             ],
             [
              0.1111111111111111,
              "#46039f"
             ],
             [
              0.2222222222222222,
              "#7201a8"
             ],
             [
              0.3333333333333333,
              "#9c179e"
             ],
             [
              0.4444444444444444,
              "#bd3786"
             ],
             [
              0.5555555555555556,
              "#d8576b"
             ],
             [
              0.6666666666666666,
              "#ed7953"
             ],
             [
              0.7777777777777778,
              "#fb9f3a"
             ],
             [
              0.8888888888888888,
              "#fdca26"
             ],
             [
              1,
              "#f0f921"
             ]
            ],
            "type": "surface"
           }
          ],
          "table": [
           {
            "cells": {
             "fill": {
              "color": "#EBF0F8"
             },
             "line": {
              "color": "white"
             }
            },
            "header": {
             "fill": {
              "color": "#C8D4E3"
             },
             "line": {
              "color": "white"
             }
            },
            "type": "table"
           }
          ]
         },
         "layout": {
          "annotationdefaults": {
           "arrowcolor": "#2a3f5f",
           "arrowhead": 0,
           "arrowwidth": 1
          },
          "colorscale": {
           "diverging": [
            [
             0,
             "#8e0152"
            ],
            [
             0.1,
             "#c51b7d"
            ],
            [
             0.2,
             "#de77ae"
            ],
            [
             0.3,
             "#f1b6da"
            ],
            [
             0.4,
             "#fde0ef"
            ],
            [
             0.5,
             "#f7f7f7"
            ],
            [
             0.6,
             "#e6f5d0"
            ],
            [
             0.7,
             "#b8e186"
            ],
            [
             0.8,
             "#7fbc41"
            ],
            [
             0.9,
             "#4d9221"
            ],
            [
             1,
             "#276419"
            ]
           ],
           "sequential": [
            [
             0,
             "#0d0887"
            ],
            [
             0.1111111111111111,
             "#46039f"
            ],
            [
             0.2222222222222222,
             "#7201a8"
            ],
            [
             0.3333333333333333,
             "#9c179e"
            ],
            [
             0.4444444444444444,
             "#bd3786"
            ],
            [
             0.5555555555555556,
             "#d8576b"
            ],
            [
             0.6666666666666666,
             "#ed7953"
            ],
            [
             0.7777777777777778,
             "#fb9f3a"
            ],
            [
             0.8888888888888888,
             "#fdca26"
            ],
            [
             1,
             "#f0f921"
            ]
           ],
           "sequentialminus": [
            [
             0,
             "#0d0887"
            ],
            [
             0.1111111111111111,
             "#46039f"
            ],
            [
             0.2222222222222222,
             "#7201a8"
            ],
            [
             0.3333333333333333,
             "#9c179e"
            ],
            [
             0.4444444444444444,
             "#bd3786"
            ],
            [
             0.5555555555555556,
             "#d8576b"
            ],
            [
             0.6666666666666666,
             "#ed7953"
            ],
            [
             0.7777777777777778,
             "#fb9f3a"
            ],
            [
             0.8888888888888888,
             "#fdca26"
            ],
            [
             1,
             "#f0f921"
            ]
           ]
          },
          "colorway": [
           "#636efa",
           "#EF553B",
           "#00cc96",
           "#ab63fa",
           "#FFA15A",
           "#19d3f3",
           "#FF6692",
           "#B6E880",
           "#FF97FF",
           "#FECB52"
          ],
          "font": {
           "color": "#2a3f5f"
          },
          "geo": {
           "bgcolor": "white",
           "lakecolor": "white",
           "landcolor": "#E5ECF6",
           "showlakes": true,
           "showland": true,
           "subunitcolor": "white"
          },
          "hoverlabel": {
           "align": "left"
          },
          "hovermode": "closest",
          "mapbox": {
           "style": "light"
          },
          "paper_bgcolor": "white",
          "plot_bgcolor": "#E5ECF6",
          "polar": {
           "angularaxis": {
            "gridcolor": "white",
            "linecolor": "white",
            "ticks": ""
           },
           "bgcolor": "#E5ECF6",
           "radialaxis": {
            "gridcolor": "white",
            "linecolor": "white",
            "ticks": ""
           }
          },
          "scene": {
           "xaxis": {
            "backgroundcolor": "#E5ECF6",
            "gridcolor": "white",
            "gridwidth": 2,
            "linecolor": "white",
            "showbackground": true,
            "ticks": "",
            "zerolinecolor": "white"
           },
           "yaxis": {
            "backgroundcolor": "#E5ECF6",
            "gridcolor": "white",
            "gridwidth": 2,
            "linecolor": "white",
            "showbackground": true,
            "ticks": "",
            "zerolinecolor": "white"
           },
           "zaxis": {
            "backgroundcolor": "#E5ECF6",
            "gridcolor": "white",
            "gridwidth": 2,
            "linecolor": "white",
            "showbackground": true,
            "ticks": "",
            "zerolinecolor": "white"
           }
          },
          "shapedefaults": {
           "line": {
            "color": "#2a3f5f"
           }
          },
          "ternary": {
           "aaxis": {
            "gridcolor": "white",
            "linecolor": "white",
            "ticks": ""
           },
           "baxis": {
            "gridcolor": "white",
            "linecolor": "white",
            "ticks": ""
           },
           "bgcolor": "#E5ECF6",
           "caxis": {
            "gridcolor": "white",
            "linecolor": "white",
            "ticks": ""
           }
          },
          "title": {
           "x": 0.05
          },
          "xaxis": {
           "automargin": true,
           "gridcolor": "white",
           "linecolor": "white",
           "ticks": "",
           "zerolinecolor": "white",
           "zerolinewidth": 2
          },
          "yaxis": {
           "automargin": true,
           "gridcolor": "white",
           "linecolor": "white",
           "ticks": "",
           "zerolinecolor": "white",
           "zerolinewidth": 2
          }
         }
        },
        "title": {
         "text": "PaymentMethod distribution in customer attrition "
        }
       }
      },
      "text/html": [
       "<div>\n",
       "        \n",
       "        \n",
       "            <div id=\"27a648b3-f3b5-4472-8f53-e491520355b0\" class=\"plotly-graph-div\" style=\"height:525px; width:100%;\"></div>\n",
       "            <script type=\"text/javascript\">\n",
       "                require([\"plotly\"], function(Plotly) {\n",
       "                    window.PLOTLYENV=window.PLOTLYENV || {};\n",
       "                    \n",
       "                if (document.getElementById(\"27a648b3-f3b5-4472-8f53-e491520355b0\")) {\n",
       "                    Plotly.newPlot(\n",
       "                        '27a648b3-f3b5-4472-8f53-e491520355b0',\n",
       "                        [{\"domain\": {\"x\": [0, 0.48]}, \"hole\": 0.6, \"hoverinfo\": \"label+percent+name\", \"labels\": [\"Electronic check\", \"Mailed check\", \"Bank transfer (automatic)\", \"Credit card (automatic)\"], \"marker\": {\"line\": {\"color\": \"rgb(243,243,243)\", \"width\": 2}}, \"name\": \"Churn Customers\", \"type\": \"pie\", \"values\": [1071, 308, 258, 232]}, {\"domain\": {\"x\": [0.52, 1]}, \"hole\": 0.6, \"hoverinfo\": \"label+percent+name\", \"labels\": [\"Mailed check\", \"Electronic check\", \"Credit card (automatic)\", \"Bank transfer (automatic)\"], \"marker\": {\"line\": {\"color\": \"rgb(243,243,243)\", \"width\": 2}}, \"name\": \"Non churn customers\", \"type\": \"pie\", \"values\": [1296, 1294, 1289, 1284]}],\n",
       "                        {\"annotations\": [{\"font\": {\"size\": 13}, \"showarrow\": false, \"text\": \"churn customers\", \"x\": 0.15, \"y\": 0.5}, {\"font\": {\"size\": 13}, \"showarrow\": false, \"text\": \"Non churn customers\", \"x\": 0.88, \"y\": 0.5}], \"paper_bgcolor\": \"rgb(243,243,243)\", \"plot_bgcolor\": \"rgb(243,243,243)\", \"template\": {\"data\": {\"bar\": [{\"error_x\": {\"color\": \"#2a3f5f\"}, \"error_y\": {\"color\": \"#2a3f5f\"}, \"marker\": {\"line\": {\"color\": \"#E5ECF6\", \"width\": 0.5}}, \"type\": \"bar\"}], \"barpolar\": [{\"marker\": {\"line\": {\"color\": \"#E5ECF6\", \"width\": 0.5}}, \"type\": \"barpolar\"}], \"carpet\": [{\"aaxis\": {\"endlinecolor\": \"#2a3f5f\", \"gridcolor\": \"white\", \"linecolor\": \"white\", \"minorgridcolor\": \"white\", \"startlinecolor\": \"#2a3f5f\"}, \"baxis\": {\"endlinecolor\": \"#2a3f5f\", \"gridcolor\": \"white\", \"linecolor\": \"white\", \"minorgridcolor\": \"white\", \"startlinecolor\": \"#2a3f5f\"}, \"type\": \"carpet\"}], \"choropleth\": [{\"colorbar\": {\"outlinewidth\": 0, \"ticks\": \"\"}, \"type\": \"choropleth\"}], \"contour\": [{\"colorbar\": {\"outlinewidth\": 0, \"ticks\": \"\"}, \"colorscale\": [[0.0, \"#0d0887\"], [0.1111111111111111, \"#46039f\"], [0.2222222222222222, \"#7201a8\"], [0.3333333333333333, \"#9c179e\"], [0.4444444444444444, \"#bd3786\"], [0.5555555555555556, \"#d8576b\"], [0.6666666666666666, \"#ed7953\"], [0.7777777777777778, \"#fb9f3a\"], [0.8888888888888888, \"#fdca26\"], [1.0, \"#f0f921\"]], \"type\": \"contour\"}], \"contourcarpet\": [{\"colorbar\": {\"outlinewidth\": 0, \"ticks\": \"\"}, \"type\": \"contourcarpet\"}], \"heatmap\": [{\"colorbar\": {\"outlinewidth\": 0, \"ticks\": \"\"}, \"colorscale\": [[0.0, \"#0d0887\"], [0.1111111111111111, \"#46039f\"], [0.2222222222222222, \"#7201a8\"], [0.3333333333333333, \"#9c179e\"], [0.4444444444444444, \"#bd3786\"], [0.5555555555555556, \"#d8576b\"], [0.6666666666666666, \"#ed7953\"], [0.7777777777777778, \"#fb9f3a\"], [0.8888888888888888, \"#fdca26\"], [1.0, \"#f0f921\"]], \"type\": \"heatmap\"}], \"heatmapgl\": [{\"colorbar\": {\"outlinewidth\": 0, \"ticks\": \"\"}, \"colorscale\": [[0.0, \"#0d0887\"], [0.1111111111111111, \"#46039f\"], [0.2222222222222222, \"#7201a8\"], [0.3333333333333333, \"#9c179e\"], [0.4444444444444444, \"#bd3786\"], [0.5555555555555556, \"#d8576b\"], [0.6666666666666666, \"#ed7953\"], [0.7777777777777778, \"#fb9f3a\"], [0.8888888888888888, \"#fdca26\"], [1.0, \"#f0f921\"]], \"type\": \"heatmapgl\"}], \"histogram\": [{\"marker\": {\"colorbar\": {\"outlinewidth\": 0, \"ticks\": \"\"}}, \"type\": \"histogram\"}], \"histogram2d\": [{\"colorbar\": {\"outlinewidth\": 0, \"ticks\": \"\"}, \"colorscale\": [[0.0, \"#0d0887\"], [0.1111111111111111, \"#46039f\"], [0.2222222222222222, \"#7201a8\"], [0.3333333333333333, \"#9c179e\"], [0.4444444444444444, \"#bd3786\"], [0.5555555555555556, \"#d8576b\"], [0.6666666666666666, \"#ed7953\"], [0.7777777777777778, \"#fb9f3a\"], [0.8888888888888888, \"#fdca26\"], [1.0, \"#f0f921\"]], \"type\": \"histogram2d\"}], \"histogram2dcontour\": [{\"colorbar\": {\"outlinewidth\": 0, \"ticks\": \"\"}, \"colorscale\": [[0.0, \"#0d0887\"], [0.1111111111111111, \"#46039f\"], [0.2222222222222222, \"#7201a8\"], [0.3333333333333333, \"#9c179e\"], [0.4444444444444444, \"#bd3786\"], [0.5555555555555556, \"#d8576b\"], [0.6666666666666666, \"#ed7953\"], [0.7777777777777778, \"#fb9f3a\"], [0.8888888888888888, \"#fdca26\"], [1.0, \"#f0f921\"]], \"type\": \"histogram2dcontour\"}], \"mesh3d\": [{\"colorbar\": {\"outlinewidth\": 0, \"ticks\": \"\"}, \"type\": \"mesh3d\"}], \"parcoords\": [{\"line\": {\"colorbar\": {\"outlinewidth\": 0, \"ticks\": \"\"}}, \"type\": \"parcoords\"}], \"scatter\": [{\"marker\": {\"colorbar\": {\"outlinewidth\": 0, \"ticks\": \"\"}}, \"type\": \"scatter\"}], \"scatter3d\": [{\"line\": {\"colorbar\": {\"outlinewidth\": 0, \"ticks\": \"\"}}, \"marker\": {\"colorbar\": {\"outlinewidth\": 0, \"ticks\": \"\"}}, \"type\": \"scatter3d\"}], \"scattercarpet\": [{\"marker\": {\"colorbar\": {\"outlinewidth\": 0, \"ticks\": \"\"}}, \"type\": \"scattercarpet\"}], \"scattergeo\": [{\"marker\": {\"colorbar\": {\"outlinewidth\": 0, \"ticks\": \"\"}}, \"type\": \"scattergeo\"}], \"scattergl\": [{\"marker\": {\"colorbar\": {\"outlinewidth\": 0, \"ticks\": \"\"}}, \"type\": \"scattergl\"}], \"scattermapbox\": [{\"marker\": {\"colorbar\": {\"outlinewidth\": 0, \"ticks\": \"\"}}, \"type\": \"scattermapbox\"}], \"scatterpolar\": [{\"marker\": {\"colorbar\": {\"outlinewidth\": 0, \"ticks\": \"\"}}, \"type\": \"scatterpolar\"}], \"scatterpolargl\": [{\"marker\": {\"colorbar\": {\"outlinewidth\": 0, \"ticks\": \"\"}}, \"type\": \"scatterpolargl\"}], \"scatterternary\": [{\"marker\": {\"colorbar\": {\"outlinewidth\": 0, \"ticks\": \"\"}}, \"type\": \"scatterternary\"}], \"surface\": [{\"colorbar\": {\"outlinewidth\": 0, \"ticks\": \"\"}, \"colorscale\": [[0.0, \"#0d0887\"], [0.1111111111111111, \"#46039f\"], [0.2222222222222222, \"#7201a8\"], [0.3333333333333333, \"#9c179e\"], [0.4444444444444444, \"#bd3786\"], [0.5555555555555556, \"#d8576b\"], [0.6666666666666666, \"#ed7953\"], [0.7777777777777778, \"#fb9f3a\"], [0.8888888888888888, \"#fdca26\"], [1.0, \"#f0f921\"]], \"type\": \"surface\"}], \"table\": [{\"cells\": {\"fill\": {\"color\": \"#EBF0F8\"}, \"line\": {\"color\": \"white\"}}, \"header\": {\"fill\": {\"color\": \"#C8D4E3\"}, \"line\": {\"color\": \"white\"}}, \"type\": \"table\"}]}, \"layout\": {\"annotationdefaults\": {\"arrowcolor\": \"#2a3f5f\", \"arrowhead\": 0, \"arrowwidth\": 1}, \"colorscale\": {\"diverging\": [[0, \"#8e0152\"], [0.1, \"#c51b7d\"], [0.2, \"#de77ae\"], [0.3, \"#f1b6da\"], [0.4, \"#fde0ef\"], [0.5, \"#f7f7f7\"], [0.6, \"#e6f5d0\"], [0.7, \"#b8e186\"], [0.8, \"#7fbc41\"], [0.9, \"#4d9221\"], [1, \"#276419\"]], \"sequential\": [[0.0, \"#0d0887\"], [0.1111111111111111, \"#46039f\"], [0.2222222222222222, \"#7201a8\"], [0.3333333333333333, \"#9c179e\"], [0.4444444444444444, \"#bd3786\"], [0.5555555555555556, \"#d8576b\"], [0.6666666666666666, \"#ed7953\"], [0.7777777777777778, \"#fb9f3a\"], [0.8888888888888888, \"#fdca26\"], [1.0, \"#f0f921\"]], \"sequentialminus\": [[0.0, \"#0d0887\"], [0.1111111111111111, \"#46039f\"], [0.2222222222222222, \"#7201a8\"], [0.3333333333333333, \"#9c179e\"], [0.4444444444444444, \"#bd3786\"], [0.5555555555555556, \"#d8576b\"], [0.6666666666666666, \"#ed7953\"], [0.7777777777777778, \"#fb9f3a\"], [0.8888888888888888, \"#fdca26\"], [1.0, \"#f0f921\"]]}, \"colorway\": [\"#636efa\", \"#EF553B\", \"#00cc96\", \"#ab63fa\", \"#FFA15A\", \"#19d3f3\", \"#FF6692\", \"#B6E880\", \"#FF97FF\", \"#FECB52\"], \"font\": {\"color\": \"#2a3f5f\"}, \"geo\": {\"bgcolor\": \"white\", \"lakecolor\": \"white\", \"landcolor\": \"#E5ECF6\", \"showlakes\": true, \"showland\": true, \"subunitcolor\": \"white\"}, \"hoverlabel\": {\"align\": \"left\"}, \"hovermode\": \"closest\", \"mapbox\": {\"style\": \"light\"}, \"paper_bgcolor\": \"white\", \"plot_bgcolor\": \"#E5ECF6\", \"polar\": {\"angularaxis\": {\"gridcolor\": \"white\", \"linecolor\": \"white\", \"ticks\": \"\"}, \"bgcolor\": \"#E5ECF6\", \"radialaxis\": {\"gridcolor\": \"white\", \"linecolor\": \"white\", \"ticks\": \"\"}}, \"scene\": {\"xaxis\": {\"backgroundcolor\": \"#E5ECF6\", \"gridcolor\": \"white\", \"gridwidth\": 2, \"linecolor\": \"white\", \"showbackground\": true, \"ticks\": \"\", \"zerolinecolor\": \"white\"}, \"yaxis\": {\"backgroundcolor\": \"#E5ECF6\", \"gridcolor\": \"white\", \"gridwidth\": 2, \"linecolor\": \"white\", \"showbackground\": true, \"ticks\": \"\", \"zerolinecolor\": \"white\"}, \"zaxis\": {\"backgroundcolor\": \"#E5ECF6\", \"gridcolor\": \"white\", \"gridwidth\": 2, \"linecolor\": \"white\", \"showbackground\": true, \"ticks\": \"\", \"zerolinecolor\": \"white\"}}, \"shapedefaults\": {\"line\": {\"color\": \"#2a3f5f\"}}, \"ternary\": {\"aaxis\": {\"gridcolor\": \"white\", \"linecolor\": \"white\", \"ticks\": \"\"}, \"baxis\": {\"gridcolor\": \"white\", \"linecolor\": \"white\", \"ticks\": \"\"}, \"bgcolor\": \"#E5ECF6\", \"caxis\": {\"gridcolor\": \"white\", \"linecolor\": \"white\", \"ticks\": \"\"}}, \"title\": {\"x\": 0.05}, \"xaxis\": {\"automargin\": true, \"gridcolor\": \"white\", \"linecolor\": \"white\", \"ticks\": \"\", \"zerolinecolor\": \"white\", \"zerolinewidth\": 2}, \"yaxis\": {\"automargin\": true, \"gridcolor\": \"white\", \"linecolor\": \"white\", \"ticks\": \"\", \"zerolinecolor\": \"white\", \"zerolinewidth\": 2}}}, \"title\": {\"text\": \"PaymentMethod distribution in customer attrition \"}},\n",
       "                        {\"responsive\": true}\n",
       "                    ).then(function(){\n",
       "                            \n",
       "var gd = document.getElementById('27a648b3-f3b5-4472-8f53-e491520355b0');\n",
       "var x = new MutationObserver(function (mutations, observer) {{\n",
       "        var display = window.getComputedStyle(gd).display;\n",
       "        if (!display || display === 'none') {{\n",
       "            console.log([gd, 'removed!']);\n",
       "            Plotly.purge(gd);\n",
       "            observer.disconnect();\n",
       "        }}\n",
       "}});\n",
       "\n",
       "// Listen for the removal of the full notebook cells\n",
       "var notebookContainer = gd.closest('#notebook-container');\n",
       "if (notebookContainer) {{\n",
       "    x.observe(notebookContainer, {childList: true});\n",
       "}}\n",
       "\n",
       "// Listen for the clearing of the current output cell\n",
       "var outputEl = gd.closest('.output');\n",
       "if (outputEl) {{\n",
       "    x.observe(outputEl, {childList: true});\n",
       "}}\n",
       "\n",
       "                        })\n",
       "                };\n",
       "                });\n",
       "            </script>\n",
       "        </div>"
      ]
     },
     "metadata": {},
     "output_type": "display_data"
    },
    {
     "data": {
      "application/vnd.plotly.v1+json": {
       "config": {
        "linkText": "Export to plot.ly",
        "plotlyServerURL": "https://plot.ly",
        "showLink": false
       },
       "data": [
        {
         "domain": {
          "x": [
           0,
           0.48
          ]
         },
         "hole": 0.6,
         "hoverinfo": "label+percent+name",
         "labels": [
          "Yes",
          "No"
         ],
         "marker": {
          "line": {
           "color": "rgb(243,243,243)",
           "width": 2
          }
         },
         "name": "Churn Customers",
         "type": "pie",
         "values": [
          1400,
          469
         ]
        },
        {
         "domain": {
          "x": [
           0.52,
           1
          ]
         },
         "hole": 0.6,
         "hoverinfo": "label+percent+name",
         "labels": [
          "Yes",
          "No"
         ],
         "marker": {
          "line": {
           "color": "rgb(243,243,243)",
           "width": 2
          }
         },
         "name": "Non churn customers",
         "type": "pie",
         "values": [
          2768,
          2395
         ]
        }
       ],
       "layout": {
        "annotations": [
         {
          "font": {
           "size": 13
          },
          "showarrow": false,
          "text": "churn customers",
          "x": 0.15,
          "y": 0.5
         },
         {
          "font": {
           "size": 13
          },
          "showarrow": false,
          "text": "Non churn customers",
          "x": 0.88,
          "y": 0.5
         }
        ],
        "paper_bgcolor": "rgb(243,243,243)",
        "plot_bgcolor": "rgb(243,243,243)",
        "template": {
         "data": {
          "bar": [
           {
            "error_x": {
             "color": "#2a3f5f"
            },
            "error_y": {
             "color": "#2a3f5f"
            },
            "marker": {
             "line": {
              "color": "#E5ECF6",
              "width": 0.5
             }
            },
            "type": "bar"
           }
          ],
          "barpolar": [
           {
            "marker": {
             "line": {
              "color": "#E5ECF6",
              "width": 0.5
             }
            },
            "type": "barpolar"
           }
          ],
          "carpet": [
           {
            "aaxis": {
             "endlinecolor": "#2a3f5f",
             "gridcolor": "white",
             "linecolor": "white",
             "minorgridcolor": "white",
             "startlinecolor": "#2a3f5f"
            },
            "baxis": {
             "endlinecolor": "#2a3f5f",
             "gridcolor": "white",
             "linecolor": "white",
             "minorgridcolor": "white",
             "startlinecolor": "#2a3f5f"
            },
            "type": "carpet"
           }
          ],
          "choropleth": [
           {
            "colorbar": {
             "outlinewidth": 0,
             "ticks": ""
            },
            "type": "choropleth"
           }
          ],
          "contour": [
           {
            "colorbar": {
             "outlinewidth": 0,
             "ticks": ""
            },
            "colorscale": [
             [
              0,
              "#0d0887"
             ],
             [
              0.1111111111111111,
              "#46039f"
             ],
             [
              0.2222222222222222,
              "#7201a8"
             ],
             [
              0.3333333333333333,
              "#9c179e"
             ],
             [
              0.4444444444444444,
              "#bd3786"
             ],
             [
              0.5555555555555556,
              "#d8576b"
             ],
             [
              0.6666666666666666,
              "#ed7953"
             ],
             [
              0.7777777777777778,
              "#fb9f3a"
             ],
             [
              0.8888888888888888,
              "#fdca26"
             ],
             [
              1,
              "#f0f921"
             ]
            ],
            "type": "contour"
           }
          ],
          "contourcarpet": [
           {
            "colorbar": {
             "outlinewidth": 0,
             "ticks": ""
            },
            "type": "contourcarpet"
           }
          ],
          "heatmap": [
           {
            "colorbar": {
             "outlinewidth": 0,
             "ticks": ""
            },
            "colorscale": [
             [
              0,
              "#0d0887"
             ],
             [
              0.1111111111111111,
              "#46039f"
             ],
             [
              0.2222222222222222,
              "#7201a8"
             ],
             [
              0.3333333333333333,
              "#9c179e"
             ],
             [
              0.4444444444444444,
              "#bd3786"
             ],
             [
              0.5555555555555556,
              "#d8576b"
             ],
             [
              0.6666666666666666,
              "#ed7953"
             ],
             [
              0.7777777777777778,
              "#fb9f3a"
             ],
             [
              0.8888888888888888,
              "#fdca26"
             ],
             [
              1,
              "#f0f921"
             ]
            ],
            "type": "heatmap"
           }
          ],
          "heatmapgl": [
           {
            "colorbar": {
             "outlinewidth": 0,
             "ticks": ""
            },
            "colorscale": [
             [
              0,
              "#0d0887"
             ],
             [
              0.1111111111111111,
              "#46039f"
             ],
             [
              0.2222222222222222,
              "#7201a8"
             ],
             [
              0.3333333333333333,
              "#9c179e"
             ],
             [
              0.4444444444444444,
              "#bd3786"
             ],
             [
              0.5555555555555556,
              "#d8576b"
             ],
             [
              0.6666666666666666,
              "#ed7953"
             ],
             [
              0.7777777777777778,
              "#fb9f3a"
             ],
             [
              0.8888888888888888,
              "#fdca26"
             ],
             [
              1,
              "#f0f921"
             ]
            ],
            "type": "heatmapgl"
           }
          ],
          "histogram": [
           {
            "marker": {
             "colorbar": {
              "outlinewidth": 0,
              "ticks": ""
             }
            },
            "type": "histogram"
           }
          ],
          "histogram2d": [
           {
            "colorbar": {
             "outlinewidth": 0,
             "ticks": ""
            },
            "colorscale": [
             [
              0,
              "#0d0887"
             ],
             [
              0.1111111111111111,
              "#46039f"
             ],
             [
              0.2222222222222222,
              "#7201a8"
             ],
             [
              0.3333333333333333,
              "#9c179e"
             ],
             [
              0.4444444444444444,
              "#bd3786"
             ],
             [
              0.5555555555555556,
              "#d8576b"
             ],
             [
              0.6666666666666666,
              "#ed7953"
             ],
             [
              0.7777777777777778,
              "#fb9f3a"
             ],
             [
              0.8888888888888888,
              "#fdca26"
             ],
             [
              1,
              "#f0f921"
             ]
            ],
            "type": "histogram2d"
           }
          ],
          "histogram2dcontour": [
           {
            "colorbar": {
             "outlinewidth": 0,
             "ticks": ""
            },
            "colorscale": [
             [
              0,
              "#0d0887"
             ],
             [
              0.1111111111111111,
              "#46039f"
             ],
             [
              0.2222222222222222,
              "#7201a8"
             ],
             [
              0.3333333333333333,
              "#9c179e"
             ],
             [
              0.4444444444444444,
              "#bd3786"
             ],
             [
              0.5555555555555556,
              "#d8576b"
             ],
             [
              0.6666666666666666,
              "#ed7953"
             ],
             [
              0.7777777777777778,
              "#fb9f3a"
             ],
             [
              0.8888888888888888,
              "#fdca26"
             ],
             [
              1,
              "#f0f921"
             ]
            ],
            "type": "histogram2dcontour"
           }
          ],
          "mesh3d": [
           {
            "colorbar": {
             "outlinewidth": 0,
             "ticks": ""
            },
            "type": "mesh3d"
           }
          ],
          "parcoords": [
           {
            "line": {
             "colorbar": {
              "outlinewidth": 0,
              "ticks": ""
             }
            },
            "type": "parcoords"
           }
          ],
          "scatter": [
           {
            "marker": {
             "colorbar": {
              "outlinewidth": 0,
              "ticks": ""
             }
            },
            "type": "scatter"
           }
          ],
          "scatter3d": [
           {
            "line": {
             "colorbar": {
              "outlinewidth": 0,
              "ticks": ""
             }
            },
            "marker": {
             "colorbar": {
              "outlinewidth": 0,
              "ticks": ""
             }
            },
            "type": "scatter3d"
           }
          ],
          "scattercarpet": [
           {
            "marker": {
             "colorbar": {
              "outlinewidth": 0,
              "ticks": ""
             }
            },
            "type": "scattercarpet"
           }
          ],
          "scattergeo": [
           {
            "marker": {
             "colorbar": {
              "outlinewidth": 0,
              "ticks": ""
             }
            },
            "type": "scattergeo"
           }
          ],
          "scattergl": [
           {
            "marker": {
             "colorbar": {
              "outlinewidth": 0,
              "ticks": ""
             }
            },
            "type": "scattergl"
           }
          ],
          "scattermapbox": [
           {
            "marker": {
             "colorbar": {
              "outlinewidth": 0,
              "ticks": ""
             }
            },
            "type": "scattermapbox"
           }
          ],
          "scatterpolar": [
           {
            "marker": {
             "colorbar": {
              "outlinewidth": 0,
              "ticks": ""
             }
            },
            "type": "scatterpolar"
           }
          ],
          "scatterpolargl": [
           {
            "marker": {
             "colorbar": {
              "outlinewidth": 0,
              "ticks": ""
             }
            },
            "type": "scatterpolargl"
           }
          ],
          "scatterternary": [
           {
            "marker": {
             "colorbar": {
              "outlinewidth": 0,
              "ticks": ""
             }
            },
            "type": "scatterternary"
           }
          ],
          "surface": [
           {
            "colorbar": {
             "outlinewidth": 0,
             "ticks": ""
            },
            "colorscale": [
             [
              0,
              "#0d0887"
             ],
             [
              0.1111111111111111,
              "#46039f"
             ],
             [
              0.2222222222222222,
              "#7201a8"
             ],
             [
              0.3333333333333333,
              "#9c179e"
             ],
             [
              0.4444444444444444,
              "#bd3786"
             ],
             [
              0.5555555555555556,
              "#d8576b"
             ],
             [
              0.6666666666666666,
              "#ed7953"
             ],
             [
              0.7777777777777778,
              "#fb9f3a"
             ],
             [
              0.8888888888888888,
              "#fdca26"
             ],
             [
              1,
              "#f0f921"
             ]
            ],
            "type": "surface"
           }
          ],
          "table": [
           {
            "cells": {
             "fill": {
              "color": "#EBF0F8"
             },
             "line": {
              "color": "white"
             }
            },
            "header": {
             "fill": {
              "color": "#C8D4E3"
             },
             "line": {
              "color": "white"
             }
            },
            "type": "table"
           }
          ]
         },
         "layout": {
          "annotationdefaults": {
           "arrowcolor": "#2a3f5f",
           "arrowhead": 0,
           "arrowwidth": 1
          },
          "colorscale": {
           "diverging": [
            [
             0,
             "#8e0152"
            ],
            [
             0.1,
             "#c51b7d"
            ],
            [
             0.2,
             "#de77ae"
            ],
            [
             0.3,
             "#f1b6da"
            ],
            [
             0.4,
             "#fde0ef"
            ],
            [
             0.5,
             "#f7f7f7"
            ],
            [
             0.6,
             "#e6f5d0"
            ],
            [
             0.7,
             "#b8e186"
            ],
            [
             0.8,
             "#7fbc41"
            ],
            [
             0.9,
             "#4d9221"
            ],
            [
             1,
             "#276419"
            ]
           ],
           "sequential": [
            [
             0,
             "#0d0887"
            ],
            [
             0.1111111111111111,
             "#46039f"
            ],
            [
             0.2222222222222222,
             "#7201a8"
            ],
            [
             0.3333333333333333,
             "#9c179e"
            ],
            [
             0.4444444444444444,
             "#bd3786"
            ],
            [
             0.5555555555555556,
             "#d8576b"
            ],
            [
             0.6666666666666666,
             "#ed7953"
            ],
            [
             0.7777777777777778,
             "#fb9f3a"
            ],
            [
             0.8888888888888888,
             "#fdca26"
            ],
            [
             1,
             "#f0f921"
            ]
           ],
           "sequentialminus": [
            [
             0,
             "#0d0887"
            ],
            [
             0.1111111111111111,
             "#46039f"
            ],
            [
             0.2222222222222222,
             "#7201a8"
            ],
            [
             0.3333333333333333,
             "#9c179e"
            ],
            [
             0.4444444444444444,
             "#bd3786"
            ],
            [
             0.5555555555555556,
             "#d8576b"
            ],
            [
             0.6666666666666666,
             "#ed7953"
            ],
            [
             0.7777777777777778,
             "#fb9f3a"
            ],
            [
             0.8888888888888888,
             "#fdca26"
            ],
            [
             1,
             "#f0f921"
            ]
           ]
          },
          "colorway": [
           "#636efa",
           "#EF553B",
           "#00cc96",
           "#ab63fa",
           "#FFA15A",
           "#19d3f3",
           "#FF6692",
           "#B6E880",
           "#FF97FF",
           "#FECB52"
          ],
          "font": {
           "color": "#2a3f5f"
          },
          "geo": {
           "bgcolor": "white",
           "lakecolor": "white",
           "landcolor": "#E5ECF6",
           "showlakes": true,
           "showland": true,
           "subunitcolor": "white"
          },
          "hoverlabel": {
           "align": "left"
          },
          "hovermode": "closest",
          "mapbox": {
           "style": "light"
          },
          "paper_bgcolor": "white",
          "plot_bgcolor": "#E5ECF6",
          "polar": {
           "angularaxis": {
            "gridcolor": "white",
            "linecolor": "white",
            "ticks": ""
           },
           "bgcolor": "#E5ECF6",
           "radialaxis": {
            "gridcolor": "white",
            "linecolor": "white",
            "ticks": ""
           }
          },
          "scene": {
           "xaxis": {
            "backgroundcolor": "#E5ECF6",
            "gridcolor": "white",
            "gridwidth": 2,
            "linecolor": "white",
            "showbackground": true,
            "ticks": "",
            "zerolinecolor": "white"
           },
           "yaxis": {
            "backgroundcolor": "#E5ECF6",
            "gridcolor": "white",
            "gridwidth": 2,
            "linecolor": "white",
            "showbackground": true,
            "ticks": "",
            "zerolinecolor": "white"
           },
           "zaxis": {
            "backgroundcolor": "#E5ECF6",
            "gridcolor": "white",
            "gridwidth": 2,
            "linecolor": "white",
            "showbackground": true,
            "ticks": "",
            "zerolinecolor": "white"
           }
          },
          "shapedefaults": {
           "line": {
            "color": "#2a3f5f"
           }
          },
          "ternary": {
           "aaxis": {
            "gridcolor": "white",
            "linecolor": "white",
            "ticks": ""
           },
           "baxis": {
            "gridcolor": "white",
            "linecolor": "white",
            "ticks": ""
           },
           "bgcolor": "#E5ECF6",
           "caxis": {
            "gridcolor": "white",
            "linecolor": "white",
            "ticks": ""
           }
          },
          "title": {
           "x": 0.05
          },
          "xaxis": {
           "automargin": true,
           "gridcolor": "white",
           "linecolor": "white",
           "ticks": "",
           "zerolinecolor": "white",
           "zerolinewidth": 2
          },
          "yaxis": {
           "automargin": true,
           "gridcolor": "white",
           "linecolor": "white",
           "ticks": "",
           "zerolinecolor": "white",
           "zerolinewidth": 2
          }
         }
        },
        "title": {
         "text": "PaperlessBilling distribution in customer attrition "
        }
       }
      },
      "text/html": [
       "<div>\n",
       "        \n",
       "        \n",
       "            <div id=\"34588935-f3e6-4f94-911e-7da5606f596e\" class=\"plotly-graph-div\" style=\"height:525px; width:100%;\"></div>\n",
       "            <script type=\"text/javascript\">\n",
       "                require([\"plotly\"], function(Plotly) {\n",
       "                    window.PLOTLYENV=window.PLOTLYENV || {};\n",
       "                    \n",
       "                if (document.getElementById(\"34588935-f3e6-4f94-911e-7da5606f596e\")) {\n",
       "                    Plotly.newPlot(\n",
       "                        '34588935-f3e6-4f94-911e-7da5606f596e',\n",
       "                        [{\"domain\": {\"x\": [0, 0.48]}, \"hole\": 0.6, \"hoverinfo\": \"label+percent+name\", \"labels\": [\"Yes\", \"No\"], \"marker\": {\"line\": {\"color\": \"rgb(243,243,243)\", \"width\": 2}}, \"name\": \"Churn Customers\", \"type\": \"pie\", \"values\": [1400, 469]}, {\"domain\": {\"x\": [0.52, 1]}, \"hole\": 0.6, \"hoverinfo\": \"label+percent+name\", \"labels\": [\"Yes\", \"No\"], \"marker\": {\"line\": {\"color\": \"rgb(243,243,243)\", \"width\": 2}}, \"name\": \"Non churn customers\", \"type\": \"pie\", \"values\": [2768, 2395]}],\n",
       "                        {\"annotations\": [{\"font\": {\"size\": 13}, \"showarrow\": false, \"text\": \"churn customers\", \"x\": 0.15, \"y\": 0.5}, {\"font\": {\"size\": 13}, \"showarrow\": false, \"text\": \"Non churn customers\", \"x\": 0.88, \"y\": 0.5}], \"paper_bgcolor\": \"rgb(243,243,243)\", \"plot_bgcolor\": \"rgb(243,243,243)\", \"template\": {\"data\": {\"bar\": [{\"error_x\": {\"color\": \"#2a3f5f\"}, \"error_y\": {\"color\": \"#2a3f5f\"}, \"marker\": {\"line\": {\"color\": \"#E5ECF6\", \"width\": 0.5}}, \"type\": \"bar\"}], \"barpolar\": [{\"marker\": {\"line\": {\"color\": \"#E5ECF6\", \"width\": 0.5}}, \"type\": \"barpolar\"}], \"carpet\": [{\"aaxis\": {\"endlinecolor\": \"#2a3f5f\", \"gridcolor\": \"white\", \"linecolor\": \"white\", \"minorgridcolor\": \"white\", \"startlinecolor\": \"#2a3f5f\"}, \"baxis\": {\"endlinecolor\": \"#2a3f5f\", \"gridcolor\": \"white\", \"linecolor\": \"white\", \"minorgridcolor\": \"white\", \"startlinecolor\": \"#2a3f5f\"}, \"type\": \"carpet\"}], \"choropleth\": [{\"colorbar\": {\"outlinewidth\": 0, \"ticks\": \"\"}, \"type\": \"choropleth\"}], \"contour\": [{\"colorbar\": {\"outlinewidth\": 0, \"ticks\": \"\"}, \"colorscale\": [[0.0, \"#0d0887\"], [0.1111111111111111, \"#46039f\"], [0.2222222222222222, \"#7201a8\"], [0.3333333333333333, \"#9c179e\"], [0.4444444444444444, \"#bd3786\"], [0.5555555555555556, \"#d8576b\"], [0.6666666666666666, \"#ed7953\"], [0.7777777777777778, \"#fb9f3a\"], [0.8888888888888888, \"#fdca26\"], [1.0, \"#f0f921\"]], \"type\": \"contour\"}], \"contourcarpet\": [{\"colorbar\": {\"outlinewidth\": 0, \"ticks\": \"\"}, \"type\": \"contourcarpet\"}], \"heatmap\": [{\"colorbar\": {\"outlinewidth\": 0, \"ticks\": \"\"}, \"colorscale\": [[0.0, \"#0d0887\"], [0.1111111111111111, \"#46039f\"], [0.2222222222222222, \"#7201a8\"], [0.3333333333333333, \"#9c179e\"], [0.4444444444444444, \"#bd3786\"], [0.5555555555555556, \"#d8576b\"], [0.6666666666666666, \"#ed7953\"], [0.7777777777777778, \"#fb9f3a\"], [0.8888888888888888, \"#fdca26\"], [1.0, \"#f0f921\"]], \"type\": \"heatmap\"}], \"heatmapgl\": [{\"colorbar\": {\"outlinewidth\": 0, \"ticks\": \"\"}, \"colorscale\": [[0.0, \"#0d0887\"], [0.1111111111111111, \"#46039f\"], [0.2222222222222222, \"#7201a8\"], [0.3333333333333333, \"#9c179e\"], [0.4444444444444444, \"#bd3786\"], [0.5555555555555556, \"#d8576b\"], [0.6666666666666666, \"#ed7953\"], [0.7777777777777778, \"#fb9f3a\"], [0.8888888888888888, \"#fdca26\"], [1.0, \"#f0f921\"]], \"type\": \"heatmapgl\"}], \"histogram\": [{\"marker\": {\"colorbar\": {\"outlinewidth\": 0, \"ticks\": \"\"}}, \"type\": \"histogram\"}], \"histogram2d\": [{\"colorbar\": {\"outlinewidth\": 0, \"ticks\": \"\"}, \"colorscale\": [[0.0, \"#0d0887\"], [0.1111111111111111, \"#46039f\"], [0.2222222222222222, \"#7201a8\"], [0.3333333333333333, \"#9c179e\"], [0.4444444444444444, \"#bd3786\"], [0.5555555555555556, \"#d8576b\"], [0.6666666666666666, \"#ed7953\"], [0.7777777777777778, \"#fb9f3a\"], [0.8888888888888888, \"#fdca26\"], [1.0, \"#f0f921\"]], \"type\": \"histogram2d\"}], \"histogram2dcontour\": [{\"colorbar\": {\"outlinewidth\": 0, \"ticks\": \"\"}, \"colorscale\": [[0.0, \"#0d0887\"], [0.1111111111111111, \"#46039f\"], [0.2222222222222222, \"#7201a8\"], [0.3333333333333333, \"#9c179e\"], [0.4444444444444444, \"#bd3786\"], [0.5555555555555556, \"#d8576b\"], [0.6666666666666666, \"#ed7953\"], [0.7777777777777778, \"#fb9f3a\"], [0.8888888888888888, \"#fdca26\"], [1.0, \"#f0f921\"]], \"type\": \"histogram2dcontour\"}], \"mesh3d\": [{\"colorbar\": {\"outlinewidth\": 0, \"ticks\": \"\"}, \"type\": \"mesh3d\"}], \"parcoords\": [{\"line\": {\"colorbar\": {\"outlinewidth\": 0, \"ticks\": \"\"}}, \"type\": \"parcoords\"}], \"scatter\": [{\"marker\": {\"colorbar\": {\"outlinewidth\": 0, \"ticks\": \"\"}}, \"type\": \"scatter\"}], \"scatter3d\": [{\"line\": {\"colorbar\": {\"outlinewidth\": 0, \"ticks\": \"\"}}, \"marker\": {\"colorbar\": {\"outlinewidth\": 0, \"ticks\": \"\"}}, \"type\": \"scatter3d\"}], \"scattercarpet\": [{\"marker\": {\"colorbar\": {\"outlinewidth\": 0, \"ticks\": \"\"}}, \"type\": \"scattercarpet\"}], \"scattergeo\": [{\"marker\": {\"colorbar\": {\"outlinewidth\": 0, \"ticks\": \"\"}}, \"type\": \"scattergeo\"}], \"scattergl\": [{\"marker\": {\"colorbar\": {\"outlinewidth\": 0, \"ticks\": \"\"}}, \"type\": \"scattergl\"}], \"scattermapbox\": [{\"marker\": {\"colorbar\": {\"outlinewidth\": 0, \"ticks\": \"\"}}, \"type\": \"scattermapbox\"}], \"scatterpolar\": [{\"marker\": {\"colorbar\": {\"outlinewidth\": 0, \"ticks\": \"\"}}, \"type\": \"scatterpolar\"}], \"scatterpolargl\": [{\"marker\": {\"colorbar\": {\"outlinewidth\": 0, \"ticks\": \"\"}}, \"type\": \"scatterpolargl\"}], \"scatterternary\": [{\"marker\": {\"colorbar\": {\"outlinewidth\": 0, \"ticks\": \"\"}}, \"type\": \"scatterternary\"}], \"surface\": [{\"colorbar\": {\"outlinewidth\": 0, \"ticks\": \"\"}, \"colorscale\": [[0.0, \"#0d0887\"], [0.1111111111111111, \"#46039f\"], [0.2222222222222222, \"#7201a8\"], [0.3333333333333333, \"#9c179e\"], [0.4444444444444444, \"#bd3786\"], [0.5555555555555556, \"#d8576b\"], [0.6666666666666666, \"#ed7953\"], [0.7777777777777778, \"#fb9f3a\"], [0.8888888888888888, \"#fdca26\"], [1.0, \"#f0f921\"]], \"type\": \"surface\"}], \"table\": [{\"cells\": {\"fill\": {\"color\": \"#EBF0F8\"}, \"line\": {\"color\": \"white\"}}, \"header\": {\"fill\": {\"color\": \"#C8D4E3\"}, \"line\": {\"color\": \"white\"}}, \"type\": \"table\"}]}, \"layout\": {\"annotationdefaults\": {\"arrowcolor\": \"#2a3f5f\", \"arrowhead\": 0, \"arrowwidth\": 1}, \"colorscale\": {\"diverging\": [[0, \"#8e0152\"], [0.1, \"#c51b7d\"], [0.2, \"#de77ae\"], [0.3, \"#f1b6da\"], [0.4, \"#fde0ef\"], [0.5, \"#f7f7f7\"], [0.6, \"#e6f5d0\"], [0.7, \"#b8e186\"], [0.8, \"#7fbc41\"], [0.9, \"#4d9221\"], [1, \"#276419\"]], \"sequential\": [[0.0, \"#0d0887\"], [0.1111111111111111, \"#46039f\"], [0.2222222222222222, \"#7201a8\"], [0.3333333333333333, \"#9c179e\"], [0.4444444444444444, \"#bd3786\"], [0.5555555555555556, \"#d8576b\"], [0.6666666666666666, \"#ed7953\"], [0.7777777777777778, \"#fb9f3a\"], [0.8888888888888888, \"#fdca26\"], [1.0, \"#f0f921\"]], \"sequentialminus\": [[0.0, \"#0d0887\"], [0.1111111111111111, \"#46039f\"], [0.2222222222222222, \"#7201a8\"], [0.3333333333333333, \"#9c179e\"], [0.4444444444444444, \"#bd3786\"], [0.5555555555555556, \"#d8576b\"], [0.6666666666666666, \"#ed7953\"], [0.7777777777777778, \"#fb9f3a\"], [0.8888888888888888, \"#fdca26\"], [1.0, \"#f0f921\"]]}, \"colorway\": [\"#636efa\", \"#EF553B\", \"#00cc96\", \"#ab63fa\", \"#FFA15A\", \"#19d3f3\", \"#FF6692\", \"#B6E880\", \"#FF97FF\", \"#FECB52\"], \"font\": {\"color\": \"#2a3f5f\"}, \"geo\": {\"bgcolor\": \"white\", \"lakecolor\": \"white\", \"landcolor\": \"#E5ECF6\", \"showlakes\": true, \"showland\": true, \"subunitcolor\": \"white\"}, \"hoverlabel\": {\"align\": \"left\"}, \"hovermode\": \"closest\", \"mapbox\": {\"style\": \"light\"}, \"paper_bgcolor\": \"white\", \"plot_bgcolor\": \"#E5ECF6\", \"polar\": {\"angularaxis\": {\"gridcolor\": \"white\", \"linecolor\": \"white\", \"ticks\": \"\"}, \"bgcolor\": \"#E5ECF6\", \"radialaxis\": {\"gridcolor\": \"white\", \"linecolor\": \"white\", \"ticks\": \"\"}}, \"scene\": {\"xaxis\": {\"backgroundcolor\": \"#E5ECF6\", \"gridcolor\": \"white\", \"gridwidth\": 2, \"linecolor\": \"white\", \"showbackground\": true, \"ticks\": \"\", \"zerolinecolor\": \"white\"}, \"yaxis\": {\"backgroundcolor\": \"#E5ECF6\", \"gridcolor\": \"white\", \"gridwidth\": 2, \"linecolor\": \"white\", \"showbackground\": true, \"ticks\": \"\", \"zerolinecolor\": \"white\"}, \"zaxis\": {\"backgroundcolor\": \"#E5ECF6\", \"gridcolor\": \"white\", \"gridwidth\": 2, \"linecolor\": \"white\", \"showbackground\": true, \"ticks\": \"\", \"zerolinecolor\": \"white\"}}, \"shapedefaults\": {\"line\": {\"color\": \"#2a3f5f\"}}, \"ternary\": {\"aaxis\": {\"gridcolor\": \"white\", \"linecolor\": \"white\", \"ticks\": \"\"}, \"baxis\": {\"gridcolor\": \"white\", \"linecolor\": \"white\", \"ticks\": \"\"}, \"bgcolor\": \"#E5ECF6\", \"caxis\": {\"gridcolor\": \"white\", \"linecolor\": \"white\", \"ticks\": \"\"}}, \"title\": {\"x\": 0.05}, \"xaxis\": {\"automargin\": true, \"gridcolor\": \"white\", \"linecolor\": \"white\", \"ticks\": \"\", \"zerolinecolor\": \"white\", \"zerolinewidth\": 2}, \"yaxis\": {\"automargin\": true, \"gridcolor\": \"white\", \"linecolor\": \"white\", \"ticks\": \"\", \"zerolinecolor\": \"white\", \"zerolinewidth\": 2}}}, \"title\": {\"text\": \"PaperlessBilling distribution in customer attrition \"}},\n",
       "                        {\"responsive\": true}\n",
       "                    ).then(function(){\n",
       "                            \n",
       "var gd = document.getElementById('34588935-f3e6-4f94-911e-7da5606f596e');\n",
       "var x = new MutationObserver(function (mutations, observer) {{\n",
       "        var display = window.getComputedStyle(gd).display;\n",
       "        if (!display || display === 'none') {{\n",
       "            console.log([gd, 'removed!']);\n",
       "            Plotly.purge(gd);\n",
       "            observer.disconnect();\n",
       "        }}\n",
       "}});\n",
       "\n",
       "// Listen for the removal of the full notebook cells\n",
       "var notebookContainer = gd.closest('#notebook-container');\n",
       "if (notebookContainer) {{\n",
       "    x.observe(notebookContainer, {childList: true});\n",
       "}}\n",
       "\n",
       "// Listen for the clearing of the current output cell\n",
       "var outputEl = gd.closest('.output');\n",
       "if (outputEl) {{\n",
       "    x.observe(outputEl, {childList: true});\n",
       "}}\n",
       "\n",
       "                        })\n",
       "                };\n",
       "                });\n",
       "            </script>\n",
       "        </div>"
      ]
     },
     "metadata": {},
     "output_type": "display_data"
    },
    {
     "name": "stderr",
     "output_type": "stream",
     "text": [
      "/home/palak/anaconda3/lib/python3.7/site-packages/sklearn/linear_model/logistic.py:433: FutureWarning:\n",
      "\n",
      "Default solver will be changed to 'lbfgs' in 0.22. Specify a solver to silence this warning.\n",
      "\n"
     ]
    },
    {
     "name": "stdout",
     "output_type": "stream",
     "text": [
      "Intercept: [-0.92127175]\n",
      "Regression: [[ 0.26853038 -0.03313905 -0.19881939 -0.03390609 -1.01029561  0.14562706\n",
      "   0.27214742 -0.50723111 -0.27726094 -0.13265448 -0.42481994 -0.60206404\n",
      "   0.3813072  -0.13002586  0.02615304]]\n",
      "Accuracy of logistic regression classifier on test set: 0.79\n",
      "              precision    recall  f1-score   support\n",
      "\n",
      "           0       0.83      0.89      0.86      1007\n",
      "           1       0.66      0.54      0.59       400\n",
      "\n",
      "   micro avg       0.79      0.79      0.79      1407\n",
      "   macro avg       0.75      0.71      0.73      1407\n",
      "weighted avg       0.78      0.79      0.78      1407\n",
      "\n",
      "Accuracy of SVM classifier on test set: 0.80\n",
      "Accuracy of ANN classifier on test set: 0.79\n",
      "Accuracy of logistic regression classifier on test set: 0.78\n",
      "              precision    recall  f1-score   support\n",
      "\n",
      "           0       0.79      0.75      0.77      1034\n",
      "           1       0.76      0.81      0.78      1032\n",
      "\n",
      "   micro avg       0.78      0.78      0.78      2066\n",
      "   macro avg       0.78      0.78      0.78      2066\n",
      "weighted avg       0.78      0.78      0.78      2066\n",
      "\n"
     ]
    },
    {
     "name": "stderr",
     "output_type": "stream",
     "text": [
      "/home/palak/anaconda3/lib/python3.7/site-packages/sklearn/linear_model/logistic.py:433: FutureWarning:\n",
      "\n",
      "Default solver will be changed to 'lbfgs' in 0.22. Specify a solver to silence this warning.\n",
      "\n"
     ]
    },
    {
     "name": "stdout",
     "output_type": "stream",
     "text": [
      "Accuracy of decision tree unpruned classifier on test set: 0.78\n",
      "Accuracy of random forest classifier on test set: 0.77\n",
      "Accuracy of random forest classifier on test set: 0.91\n",
      "Accuracy of random forest classifier on test set: 0.77\n"
     ]
    },
    {
     "name": "stderr",
     "output_type": "stream",
     "text": [
      "/home/palak/anaconda3/lib/python3.7/site-packages/sklearn/ensemble/forest.py:246: FutureWarning:\n",
      "\n",
      "The default value of n_estimators will change from 10 in version 0.20 to 100 in 0.22.\n",
      "\n",
      "/home/palak/anaconda3/lib/python3.7/site-packages/sklearn/ensemble/forest.py:246: FutureWarning:\n",
      "\n",
      "The default value of n_estimators will change from 10 in version 0.20 to 100 in 0.22.\n",
      "\n",
      "/home/palak/anaconda3/lib/python3.7/site-packages/sklearn/ensemble/forest.py:246: FutureWarning:\n",
      "\n",
      "The default value of n_estimators will change from 10 in version 0.20 to 100 in 0.22.\n",
      "\n"
     ]
    }
   ],
   "source": [
    "%run Data_Analysis.ipynb\n",
    "# telcompos= df.loc[telcom1['Churn'] == 1]\n",
    "# telcomneg= df.loc[telcom1['Churn'] == 0]\n",
    "telcom1 = telcom1.values.tolist()\n",
    "# telcompos= telcompos.values.tolist()\n",
    "# telcomneg= telcomneg.values.tolist()"
   ]
  },
  {
   "cell_type": "code",
   "execution_count": 2,
   "metadata": {},
   "outputs": [
    {
     "data": {
      "text/plain": [
       "[[0, 1, 0, 1, 0, 0, 1, 0, 1, 0, 0, 0, 1, 0, 29.85, 0],\n",
       " [0, 0, 0, 34, 1, 0, 1, 1, 0, 1, 0, 1, 0, 1, 56.95, 0],\n",
       " [0, 0, 0, 2, 1, 0, 1, 1, 1, 0, 0, 0, 1, 1, 53.85, 1],\n",
       " [0, 0, 0, 45, 0, 0, 1, 1, 0, 1, 1, 1, 0, 2, 42.3, 0],\n",
       " [0, 0, 0, 2, 1, 0, 2, 0, 0, 0, 0, 0, 1, 0, 70.7, 1],\n",
       " [0, 0, 0, 8, 1, 1, 2, 0, 0, 1, 0, 0, 1, 0, 99.65, 1],\n",
       " [0, 0, 1, 22, 1, 1, 2, 0, 1, 0, 0, 0, 1, 3, 89.1, 0],\n",
       " [0, 0, 0, 10, 0, 0, 1, 1, 0, 0, 0, 0, 0, 1, 29.75, 0],\n",
       " [0, 1, 0, 28, 1, 1, 2, 0, 0, 1, 1, 0, 1, 0, 104.8, 1],\n",
       " [0, 0, 1, 62, 1, 0, 1, 1, 1, 0, 0, 1, 0, 2, 56.15, 0],\n",
       " [0, 1, 1, 13, 1, 0, 1, 1, 0, 0, 0, 0, 1, 1, 49.95, 0],\n",
       " [0, 0, 0, 16, 1, 0, 0, 0, 0, 0, 0, 2, 0, 3, 18.95, 0],\n",
       " [0, 1, 0, 58, 1, 1, 2, 0, 0, 1, 0, 1, 0, 3, 100.35, 0],\n",
       " [0, 0, 0, 49, 1, 1, 2, 0, 1, 1, 0, 0, 1, 2, 103.7, 1],\n",
       " [0, 0, 0, 25, 1, 0, 2, 1, 0, 1, 1, 0, 1, 0, 105.5, 0],\n",
       " [0, 1, 1, 69, 1, 1, 2, 1, 1, 1, 1, 2, 0, 3, 113.25, 0],\n",
       " [0, 0, 0, 52, 1, 0, 0, 0, 0, 0, 0, 1, 0, 1, 20.65, 0],\n",
       " [0, 0, 1, 71, 1, 1, 2, 1, 0, 1, 0, 2, 0, 2, 106.7, 0],\n",
       " [0, 1, 1, 10, 1, 0, 1, 0, 0, 1, 1, 0, 0, 3, 55.2, 1],\n",
       " [0, 0, 0, 21, 1, 0, 2, 0, 1, 1, 0, 0, 1, 0, 90.05, 0],\n",
       " [1, 0, 0, 1, 0, 0, 1, 0, 0, 1, 0, 0, 1, 0, 39.65, 1],\n",
       " [0, 1, 0, 12, 1, 0, 0, 0, 0, 0, 0, 1, 0, 2, 19.8, 0],\n",
       " [0, 0, 0, 1, 1, 0, 0, 0, 0, 0, 0, 0, 0, 1, 20.15, 1],\n",
       " [0, 1, 0, 58, 1, 1, 1, 0, 1, 0, 1, 2, 1, 3, 59.9, 0],\n",
       " [0, 1, 1, 49, 1, 0, 1, 1, 1, 0, 1, 0, 0, 3, 59.6, 0],\n",
       " [0, 0, 0, 30, 1, 0, 1, 1, 1, 0, 0, 0, 1, 2, 55.3, 0],\n",
       " [0, 1, 1, 47, 1, 1, 2, 0, 1, 0, 0, 0, 1, 0, 99.35, 1],\n",
       " [0, 1, 1, 1, 0, 0, 1, 0, 1, 0, 0, 0, 0, 0, 30.2, 1],\n",
       " [0, 1, 0, 72, 1, 1, 1, 1, 1, 1, 1, 2, 1, 3, 90.25, 0],\n",
       " [0, 0, 1, 17, 1, 0, 1, 0, 0, 0, 0, 0, 1, 1, 64.7, 1],\n",
       " [1, 1, 0, 71, 1, 1, 2, 1, 1, 1, 1, 2, 1, 3, 96.35, 0],\n",
       " [1, 1, 0, 2, 1, 0, 2, 0, 0, 1, 0, 0, 1, 3, 95.5, 0],\n",
       " [0, 1, 1, 27, 1, 0, 1, 1, 1, 1, 1, 1, 0, 1, 66.15, 0],\n",
       " [0, 0, 0, 1, 1, 0, 0, 0, 0, 0, 0, 0, 0, 2, 20.2, 0],\n",
       " [1, 0, 0, 1, 1, 0, 1, 0, 0, 0, 0, 0, 0, 2, 45.25, 0],\n",
       " [0, 1, 1, 72, 1, 1, 2, 1, 1, 0, 1, 2, 0, 2, 99.9, 0],\n",
       " [0, 0, 0, 5, 1, 0, 2, 0, 0, 0, 0, 0, 1, 0, 69.7, 1],\n",
       " [0, 0, 0, 46, 1, 0, 2, 0, 0, 1, 0, 0, 1, 3, 74.8, 0],\n",
       " [0, 0, 0, 34, 1, 1, 2, 0, 1, 1, 0, 0, 1, 0, 106.35, 1],\n",
       " [0, 0, 0, 11, 1, 1, 2, 0, 0, 1, 0, 0, 1, 2, 97.85, 1],\n",
       " [0, 1, 1, 10, 1, 0, 1, 0, 1, 0, 0, 1, 0, 1, 49.55, 0],\n",
       " [0, 1, 1, 70, 1, 1, 1, 1, 1, 0, 0, 2, 1, 3, 69.2, 0],\n",
       " [0, 1, 1, 17, 1, 0, 0, 0, 0, 0, 0, 1, 0, 1, 20.75, 0],\n",
       " [0, 0, 0, 63, 1, 1, 1, 1, 1, 1, 1, 2, 1, 3, 79.85, 0],\n",
       " [0, 1, 0, 13, 1, 1, 1, 1, 1, 0, 1, 0, 1, 0, 76.2, 0],\n",
       " [0, 0, 0, 49, 1, 1, 2, 0, 0, 0, 0, 0, 1, 0, 84.5, 0],\n",
       " [0, 0, 0, 2, 1, 0, 1, 0, 1, 0, 0, 0, 0, 1, 49.25, 0],\n",
       " [0, 0, 0, 2, 1, 0, 2, 0, 0, 0, 0, 0, 1, 0, 80.65, 1],\n",
       " [0, 0, 0, 52, 1, 1, 1, 1, 0, 0, 1, 2, 1, 3, 79.75, 0],\n",
       " [0, 1, 1, 69, 1, 1, 1, 1, 0, 1, 1, 2, 1, 3, 64.15, 0],\n",
       " [1, 0, 0, 43, 1, 1, 2, 0, 1, 0, 0, 0, 1, 0, 90.25, 0],\n",
       " [0, 0, 0, 15, 1, 0, 2, 1, 1, 0, 0, 0, 1, 3, 99.1, 1],\n",
       " [1, 1, 0, 25, 1, 1, 1, 1, 0, 0, 1, 0, 1, 3, 69.5, 0],\n",
       " [1, 1, 0, 8, 1, 1, 2, 0, 1, 0, 0, 0, 1, 3, 80.65, 1],\n",
       " [1, 1, 1, 60, 1, 0, 1, 1, 1, 1, 1, 1, 1, 3, 74.85, 0],\n",
       " [1, 0, 0, 18, 1, 1, 2, 0, 0, 0, 0, 0, 1, 0, 95.45, 1],\n",
       " [0, 1, 1, 63, 1, 1, 2, 1, 0, 0, 0, 1, 1, 3, 99.65, 0],\n",
       " [1, 1, 1, 66, 1, 1, 2, 0, 1, 1, 1, 1, 1, 0, 108.45, 0],\n",
       " [0, 1, 1, 34, 1, 1, 0, 0, 0, 0, 0, 2, 0, 3, 24.95, 0],\n",
       " [0, 0, 0, 72, 1, 1, 2, 0, 0, 1, 1, 2, 1, 3, 107.5, 0],\n",
       " [0, 1, 0, 47, 1, 1, 2, 0, 0, 1, 0, 0, 1, 0, 100.5, 0],\n",
       " [0, 0, 0, 60, 1, 1, 2, 0, 1, 0, 0, 0, 1, 2, 89.9, 0],\n",
       " [0, 1, 0, 72, 0, 0, 1, 1, 1, 1, 0, 2, 0, 2, 42.1, 0],\n",
       " [0, 1, 1, 18, 1, 0, 1, 0, 0, 1, 1, 1, 1, 3, 54.4, 0],\n",
       " [0, 0, 0, 9, 1, 1, 2, 0, 0, 0, 0, 0, 0, 0, 94.4, 1],\n",
       " [0, 0, 0, 3, 1, 0, 1, 0, 1, 0, 1, 0, 1, 0, 75.3, 0],\n",
       " [0, 1, 0, 47, 1, 1, 2, 0, 1, 0, 0, 1, 1, 0, 78.9, 0],\n",
       " [0, 0, 0, 31, 1, 0, 1, 0, 1, 1, 1, 2, 0, 1, 79.2, 0],\n",
       " [0, 1, 1, 50, 1, 0, 0, 0, 0, 0, 0, 2, 0, 2, 20.15, 0],\n",
       " [0, 0, 0, 10, 1, 0, 2, 1, 0, 1, 0, 0, 1, 1, 79.85, 0],\n",
       " [0, 0, 0, 1, 1, 0, 1, 0, 0, 0, 1, 0, 0, 1, 49.05, 0],\n",
       " [0, 1, 1, 52, 1, 0, 0, 0, 0, 0, 0, 1, 1, 0, 20.4, 0],\n",
       " [1, 1, 1, 64, 1, 1, 2, 1, 0, 1, 1, 2, 1, 2, 111.6, 0],\n",
       " [0, 1, 1, 62, 1, 1, 0, 0, 0, 0, 0, 2, 1, 2, 24.25, 0],\n",
       " [0, 0, 1, 3, 1, 0, 1, 1, 0, 0, 1, 0, 1, 2, 64.5, 0],\n",
       " [1, 0, 0, 56, 1, 1, 2, 1, 1, 1, 0, 1, 0, 0, 110.5, 0],\n",
       " [0, 0, 0, 46, 1, 0, 1, 0, 0, 0, 0, 1, 0, 3, 55.65, 0],\n",
       " [0, 1, 1, 8, 1, 0, 1, 1, 1, 0, 0, 0, 0, 1, 54.65, 0],\n",
       " [1, 0, 0, 30, 1, 0, 1, 1, 1, 0, 0, 0, 1, 0, 74.75, 0],\n",
       " [0, 1, 1, 45, 1, 1, 0, 0, 0, 0, 0, 1, 1, 3, 25.9, 0],\n",
       " [0, 0, 1, 1, 1, 0, 2, 0, 0, 0, 0, 0, 1, 0, 79.35, 1],\n",
       " [0, 1, 1, 11, 0, 0, 1, 1, 0, 0, 0, 0, 0, 0, 50.55, 0],\n",
       " [0, 1, 0, 7, 1, 0, 2, 0, 0, 1, 0, 0, 1, 2, 75.15, 1],\n",
       " [0, 0, 0, 42, 1, 0, 2, 0, 1, 1, 1, 0, 1, 2, 103.8, 0],\n",
       " [0, 1, 0, 49, 1, 0, 0, 0, 0, 0, 0, 2, 1, 2, 20.15, 0],\n",
       " [0, 0, 0, 9, 1, 1, 2, 0, 1, 0, 0, 0, 1, 3, 99.3, 0],\n",
       " [0, 1, 0, 35, 1, 0, 1, 1, 0, 0, 0, 1, 1, 2, 62.15, 0],\n",
       " [0, 1, 1, 48, 1, 0, 0, 0, 0, 0, 0, 2, 0, 2, 20.65, 0],\n",
       " [0, 1, 1, 46, 1, 0, 0, 0, 0, 0, 0, 2, 1, 1, 19.95, 0],\n",
       " [0, 1, 0, 29, 0, 0, 1, 0, 0, 0, 0, 0, 0, 1, 33.75, 0],\n",
       " [0, 1, 1, 30, 1, 0, 2, 0, 1, 1, 0, 0, 0, 2, 82.05, 0],\n",
       " [1, 0, 0, 1, 1, 0, 2, 0, 0, 0, 1, 0, 0, 0, 74.7, 0],\n",
       " [0, 1, 1, 66, 1, 1, 1, 1, 0, 1, 1, 2, 1, 1, 84.0, 0],\n",
       " [0, 0, 0, 65, 1, 1, 2, 1, 1, 1, 0, 0, 1, 3, 111.05, 0],\n",
       " [0, 0, 0, 72, 1, 1, 2, 0, 1, 1, 0, 2, 1, 2, 100.9, 0],\n",
       " [0, 0, 0, 12, 1, 1, 2, 1, 0, 0, 0, 0, 1, 0, 78.95, 1],\n",
       " [0, 1, 1, 71, 1, 1, 1, 1, 1, 0, 1, 1, 1, 3, 66.85, 0],\n",
       " [0, 0, 0, 5, 1, 0, 0, 0, 0, 0, 0, 0, 0, 1, 21.05, 1],\n",
       " [0, 0, 0, 52, 1, 0, 0, 0, 0, 0, 0, 2, 0, 2, 21.0, 0],\n",
       " [1, 1, 0, 25, 1, 0, 2, 0, 1, 1, 0, 0, 1, 0, 98.5, 1],\n",
       " [0, 0, 0, 1, 1, 0, 0, 0, 0, 0, 0, 0, 0, 1, 20.2, 0],\n",
       " [0, 1, 1, 1, 1, 0, 0, 0, 0, 0, 0, 0, 0, 0, 19.45, 0],\n",
       " [0, 0, 0, 38, 1, 1, 2, 0, 0, 1, 1, 1, 0, 2, 95.0, 0],\n",
       " [1, 1, 0, 66, 0, 0, 1, 0, 1, 1, 0, 1, 0, 2, 45.55, 0],\n",
       " [0, 1, 0, 68, 1, 1, 2, 0, 1, 1, 1, 2, 1, 2, 110.0, 1],\n",
       " [0, 0, 0, 5, 0, 0, 1, 0, 0, 0, 0, 0, 0, 1, 24.3, 0],\n",
       " [0, 1, 1, 72, 1, 1, 2, 1, 1, 0, 0, 1, 1, 0, 104.15, 0],\n",
       " [0, 0, 0, 32, 0, 0, 1, 1, 0, 0, 0, 1, 0, 1, 30.15, 0],\n",
       " [0, 0, 0, 43, 1, 1, 2, 0, 0, 0, 0, 1, 0, 1, 94.35, 0],\n",
       " [0, 1, 1, 72, 1, 0, 0, 0, 0, 0, 0, 2, 0, 3, 19.4, 0],\n",
       " [0, 1, 0, 55, 1, 1, 2, 1, 1, 0, 0, 0, 1, 0, 96.75, 1],\n",
       " [0, 0, 0, 52, 1, 0, 1, 1, 0, 1, 1, 1, 0, 3, 57.95, 0],\n",
       " [0, 0, 0, 43, 1, 0, 2, 0, 1, 1, 0, 0, 1, 0, 91.65, 0],\n",
       " [1, 1, 0, 37, 1, 1, 2, 0, 0, 0, 0, 0, 1, 0, 76.5, 1],\n",
       " [0, 1, 1, 64, 0, 0, 1, 0, 1, 0, 1, 2, 1, 0, 54.6, 0],\n",
       " [0, 1, 1, 3, 1, 0, 2, 1, 1, 0, 0, 0, 0, 0, 89.85, 0],\n",
       " [0, 0, 0, 36, 0, 0, 1, 1, 0, 0, 0, 2, 0, 2, 31.05, 0],\n",
       " [0, 1, 1, 10, 1, 1, 2, 1, 0, 0, 0, 0, 1, 0, 100.25, 1],\n",
       " [0, 0, 0, 41, 1, 0, 0, 0, 0, 0, 0, 2, 0, 1, 20.65, 0],\n",
       " [0, 1, 1, 27, 1, 1, 2, 0, 1, 0, 1, 0, 1, 3, 85.2, 0],\n",
       " [0, 1, 1, 56, 1, 1, 2, 0, 0, 1, 0, 1, 1, 3, 99.8, 0],\n",
       " [0, 0, 0, 6, 1, 0, 0, 0, 0, 0, 0, 0, 0, 1, 20.7, 0],\n",
       " [0, 0, 0, 3, 1, 1, 2, 0, 0, 0, 0, 0, 1, 0, 74.4, 1],\n",
       " [0, 1, 1, 7, 1, 0, 1, 1, 0, 0, 0, 0, 0, 1, 50.7, 0],\n",
       " [0, 1, 1, 4, 1, 0, 0, 0, 0, 0, 0, 0, 0, 1, 20.85, 0],\n",
       " [0, 0, 0, 33, 1, 0, 2, 1, 0, 0, 1, 2, 1, 0, 88.95, 0],\n",
       " [1, 0, 0, 27, 1, 1, 2, 0, 0, 1, 0, 0, 1, 0, 78.05, 1],\n",
       " [0, 1, 0, 72, 1, 1, 0, 0, 0, 0, 0, 2, 1, 2, 23.55, 0],\n",
       " [0, 0, 0, 1, 1, 0, 0, 0, 0, 0, 0, 0, 0, 1, 19.75, 0],\n",
       " [1, 0, 0, 71, 0, 0, 1, 1, 1, 0, 0, 1, 1, 0, 56.45, 0],\n",
       " [0, 0, 0, 13, 1, 1, 2, 0, 0, 0, 0, 0, 1, 0, 85.95, 0],\n",
       " [0, 1, 1, 25, 0, 0, 1, 1, 1, 1, 0, 0, 1, 3, 58.6, 1],\n",
       " [0, 0, 0, 67, 1, 0, 1, 0, 0, 0, 1, 2, 0, 2, 50.55, 0],\n",
       " [0, 0, 0, 1, 0, 0, 1, 0, 0, 0, 0, 0, 1, 0, 35.45, 1],\n",
       " [0, 0, 0, 2, 1, 0, 1, 0, 0, 0, 0, 0, 0, 0, 44.35, 1],\n",
       " [0, 0, 0, 43, 1, 1, 0, 0, 0, 0, 0, 2, 1, 3, 25.7, 0],\n",
       " [0, 0, 0, 23, 1, 0, 2, 1, 0, 0, 0, 0, 1, 2, 75.0, 0],\n",
       " [0, 1, 1, 64, 1, 0, 0, 0, 0, 0, 0, 2, 0, 1, 20.2, 0],\n",
       " [0, 0, 1, 57, 1, 0, 0, 0, 0, 0, 0, 2, 1, 1, 19.6, 0],\n",
       " [1, 1, 0, 1, 1, 0, 2, 0, 0, 0, 0, 0, 1, 1, 70.45, 1],\n",
       " [1, 1, 1, 72, 1, 1, 1, 1, 1, 1, 1, 2, 1, 3, 88.05, 0],\n",
       " [0, 0, 0, 8, 1, 1, 1, 1, 0, 0, 1, 0, 0, 0, 71.15, 1],\n",
       " [0, 1, 0, 61, 1, 1, 2, 0, 1, 0, 0, 2, 1, 2, 101.05, 0],\n",
       " [0, 0, 0, 64, 1, 1, 2, 1, 1, 0, 0, 1, 1, 3, 84.3, 0],\n",
       " [1, 1, 0, 71, 1, 1, 0, 0, 0, 0, 0, 2, 0, 2, 23.95, 0],\n",
       " [0, 1, 1, 65, 1, 1, 2, 1, 1, 0, 1, 2, 1, 3, 99.05, 0],\n",
       " [0, 0, 0, 3, 1, 0, 0, 0, 0, 0, 0, 1, 0, 1, 19.6, 0],\n",
       " [0, 0, 0, 1, 1, 0, 1, 0, 0, 0, 0, 0, 1, 0, 45.65, 1],\n",
       " [0, 0, 1, 30, 1, 0, 1, 0, 1, 1, 0, 1, 0, 3, 64.5, 0],\n",
       " [0, 1, 1, 15, 1, 0, 1, 0, 1, 1, 1, 0, 1, 1, 69.5, 0],\n",
       " [0, 1, 1, 8, 1, 0, 1, 0, 0, 0, 1, 0, 1, 0, 68.55, 0],\n",
       " [0, 0, 0, 7, 1, 1, 2, 0, 0, 0, 0, 0, 0, 1, 95.0, 1],\n",
       " [0, 1, 1, 70, 1, 1, 2, 1, 1, 1, 0, 1, 1, 3, 108.15, 0],\n",
       " [0, 1, 1, 62, 1, 0, 1, 1, 1, 1, 1, 2, 0, 0, 86.1, 0],\n",
       " [0, 1, 1, 6, 1, 0, 0, 0, 0, 0, 0, 0, 0, 1, 19.7, 0],\n",
       " [0, 1, 1, 14, 1, 0, 2, 0, 0, 0, 0, 0, 1, 2, 80.9, 0],\n",
       " [0, 0, 0, 22, 1, 1, 2, 0, 0, 0, 0, 0, 1, 2, 84.15, 0],\n",
       " [0, 1, 1, 22, 1, 0, 0, 0, 0, 0, 0, 1, 0, 1, 20.15, 0],\n",
       " [0, 1, 1, 16, 1, 0, 1, 1, 0, 1, 0, 2, 0, 1, 64.25, 0],\n",
       " [0, 0, 0, 10, 1, 1, 0, 0, 0, 0, 0, 2, 0, 2, 25.7, 0],\n",
       " [0, 0, 1, 13, 1, 0, 1, 1, 1, 0, 0, 0, 1, 0, 56.0, 0],\n",
       " [0, 1, 0, 20, 1, 1, 2, 1, 0, 0, 0, 0, 0, 0, 82.4, 1],\n",
       " [0, 0, 0, 2, 1, 0, 2, 0, 0, 0, 0, 0, 1, 0, 69.7, 0],\n",
       " [0, 0, 0, 53, 1, 1, 1, 0, 1, 1, 1, 2, 1, 2, 73.9, 0],\n",
       " [0, 1, 1, 11, 1, 0, 0, 0, 0, 0, 0, 1, 0, 1, 20.6, 0],\n",
       " [0, 1, 0, 69, 1, 0, 0, 0, 0, 0, 0, 2, 0, 1, 19.9, 0],\n",
       " [0, 0, 0, 4, 1, 0, 2, 0, 0, 0, 0, 0, 1, 2, 70.9, 1],\n",
       " [0, 1, 0, 72, 1, 1, 1, 1, 1, 1, 1, 2, 1, 2, 89.05, 0],\n",
       " [1, 1, 0, 58, 0, 0, 1, 0, 1, 1, 0, 0, 1, 0, 45.3, 1],\n",
       " [0, 1, 1, 16, 1, 0, 0, 0, 0, 0, 0, 0, 0, 0, 20.4, 0],\n",
       " [0, 1, 0, 43, 1, 0, 2, 1, 0, 1, 1, 1, 1, 2, 84.25, 0],\n",
       " [0, 1, 0, 2, 1, 1, 2, 0, 0, 1, 1, 0, 1, 0, 104.4, 1],\n",
       " [0, 1, 0, 14, 1, 0, 1, 0, 1, 1, 1, 2, 0, 1, 81.95, 0],\n",
       " [0, 1, 0, 53, 1, 0, 2, 0, 0, 1, 0, 1, 1, 2, 94.85, 1],\n",
       " [0, 0, 0, 32, 1, 0, 0, 0, 0, 0, 0, 1, 0, 2, 20.55, 0],\n",
       " [0, 1, 0, 34, 1, 1, 0, 0, 0, 0, 0, 0, 0, 0, 24.7, 0],\n",
       " [1, 0, 0, 15, 1, 1, 2, 0, 0, 0, 0, 0, 1, 1, 74.45, 1],\n",
       " [1, 0, 0, 7, 1, 0, 2, 1, 0, 0, 0, 0, 0, 2, 76.45, 1],\n",
       " [0, 1, 1, 15, 1, 1, 2, 0, 1, 1, 0, 0, 1, 2, 105.35, 0],\n",
       " [0, 1, 0, 61, 1, 0, 0, 0, 0, 0, 0, 1, 1, 3, 20.55, 0],\n",
       " [0, 0, 0, 1, 0, 0, 1, 0, 1, 0, 0, 0, 0, 2, 29.95, 1],\n",
       " [0, 0, 0, 1, 1, 0, 1, 0, 0, 0, 0, 0, 0, 1, 45.3, 0],\n",
       " [0, 0, 0, 8, 1, 1, 2, 0, 0, 0, 0, 0, 0, 2, 84.5, 1],\n",
       " [0, 1, 1, 33, 1, 0, 1, 1, 0, 1, 0, 1, 0, 3, 74.75, 0],\n",
       " [0, 0, 0, 13, 1, 0, 2, 0, 1, 1, 0, 0, 1, 0, 79.25, 1],\n",
       " [0, 1, 0, 1, 0, 0, 1, 0, 0, 0, 0, 0, 1, 0, 24.8, 1],\n",
       " [0, 0, 0, 20, 1, 0, 1, 0, 1, 0, 0, 0, 1, 1, 51.8, 0],\n",
       " [0, 0, 0, 3, 0, 0, 1, 0, 0, 0, 1, 0, 0, 0, 30.4, 0],\n",
       " [0, 0, 0, 13, 1, 0, 0, 0, 0, 0, 0, 1, 0, 0, 19.65, 0],\n",
       " [0, 1, 0, 40, 1, 1, 1, 0, 1, 0, 0, 0, 0, 3, 56.6, 0],\n",
       " [0, 1, 1, 43, 1, 1, 1, 1, 0, 0, 1, 1, 1, 3, 71.9, 0],\n",
       " [0, 1, 0, 6, 1, 0, 2, 0, 1, 1, 0, 0, 1, 0, 91.0, 1],\n",
       " [0, 1, 1, 69, 1, 0, 0, 0, 0, 0, 0, 2, 0, 2, 19.75, 0],\n",
       " [0, 1, 1, 72, 1, 1, 2, 1, 1, 1, 0, 2, 0, 3, 109.7, 0],\n",
       " [0, 1, 1, 59, 1, 0, 0, 0, 0, 0, 0, 2, 0, 3, 19.3, 0],\n",
       " [0, 1, 0, 20, 1, 0, 2, 1, 1, 0, 1, 0, 1, 0, 96.55, 0],\n",
       " [0, 1, 1, 24, 1, 1, 0, 0, 0, 0, 0, 2, 1, 2, 24.1, 0],\n",
       " [0, 0, 0, 59, 1, 1, 2, 0, 1, 1, 1, 0, 1, 0, 111.35, 0],\n",
       " [0, 1, 1, 72, 1, 1, 2, 0, 1, 1, 1, 2, 1, 2, 112.25, 0],\n",
       " [0, 0, 1, 1, 1, 0, 0, 0, 0, 0, 0, 0, 0, 1, 20.75, 0],\n",
       " [0, 1, 0, 27, 1, 0, 2, 1, 0, 0, 1, 1, 1, 3, 101.9, 0],\n",
       " [0, 0, 0, 14, 1, 0, 2, 0, 1, 0, 1, 0, 1, 3, 80.05, 0],\n",
       " [0, 1, 1, 71, 1, 1, 2, 1, 0, 1, 0, 2, 0, 0, 105.55, 0],\n",
       " [0, 0, 1, 13, 1, 0, 2, 0, 0, 0, 0, 0, 1, 3, 78.3, 0],\n",
       " [0, 0, 0, 44, 1, 0, 2, 0, 0, 0, 0, 0, 0, 3, 68.85, 0],\n",
       " [0, 0, 0, 33, 1, 0, 2, 0, 1, 0, 1, 1, 1, 2, 79.95, 0],\n",
       " [0, 1, 1, 72, 0, 0, 1, 1, 1, 1, 1, 2, 1, 3, 55.45, 0],\n",
       " [0, 0, 0, 1, 1, 0, 2, 0, 0, 0, 0, 0, 0, 0, 79.9, 1],\n",
       " [0, 0, 0, 19, 1, 0, 2, 1, 0, 1, 1, 0, 1, 0, 106.6, 1],\n",
       " [0, 1, 0, 64, 1, 0, 2, 0, 1, 1, 1, 1, 1, 3, 102.45, 0],\n",
       " [0, 0, 0, 2, 1, 0, 1, 0, 0, 0, 0, 0, 1, 3, 46.0, 1],\n",
       " [0, 0, 0, 1, 0, 0, 1, 0, 0, 0, 0, 0, 0, 0, 25.25, 0],\n",
       " [0, 0, 1, 61, 1, 0, 0, 0, 0, 0, 0, 2, 0, 1, 19.75, 0],\n",
       " [0, 1, 1, 29, 1, 0, 0, 0, 0, 0, 0, 1, 0, 0, 20.0, 0],\n",
       " [1, 1, 0, 23, 1, 1, 2, 0, 0, 0, 0, 0, 0, 0, 86.8, 0],\n",
       " [0, 1, 0, 57, 0, 0, 1, 1, 1, 1, 0, 0, 1, 2, 58.75, 0],\n",
       " [0, 1, 1, 72, 0, 0, 1, 1, 1, 1, 1, 2, 0, 3, 45.25, 0],\n",
       " [0, 1, 0, 66, 0, 0, 1, 1, 1, 1, 1, 2, 1, 2, 56.6, 0],\n",
       " [0, 1, 1, 65, 1, 1, 1, 0, 1, 1, 1, 2, 1, 2, 84.2, 0],\n",
       " [0, 0, 0, 8, 1, 0, 2, 0, 0, 0, 0, 0, 1, 2, 80.0, 0],\n",
       " [0, 0, 0, 4, 1, 0, 2, 0, 0, 0, 0, 0, 1, 0, 70.15, 1],\n",
       " [0, 1, 0, 71, 1, 1, 0, 0, 0, 0, 0, 2, 0, 2, 24.75, 0],\n",
       " [0, 1, 1, 1, 1, 0, 0, 0, 0, 0, 0, 1, 1, 0, 20.2, 0],\n",
       " [0, 1, 0, 4, 1, 0, 1, 0, 0, 0, 1, 0, 0, 1, 50.05, 1],\n",
       " [0, 0, 0, 12, 1, 0, 0, 0, 0, 0, 0, 1, 1, 2, 19.35, 0],\n",
       " [0, 0, 0, 24, 0, 0, 1, 1, 0, 0, 0, 1, 1, 1, 50.6, 0],\n",
       " [0, 1, 1, 31, 1, 0, 1, 1, 0, 1, 1, 1, 1, 1, 81.15, 0],\n",
       " [0, 1, 0, 1, 1, 0, 1, 0, 0, 0, 0, 0, 0, 1, 55.2, 1],\n",
       " [0, 0, 0, 30, 1, 1, 2, 0, 0, 0, 1, 0, 1, 3, 89.9, 0],\n",
       " [0, 1, 1, 47, 1, 1, 1, 1, 1, 0, 1, 2, 1, 3, 85.3, 0],\n",
       " [0, 0, 0, 54, 1, 1, 2, 1, 1, 0, 1, 2, 1, 3, 108.0, 0],\n",
       " [0, 0, 0, 50, 1, 0, 2, 1, 1, 0, 1, 0, 1, 3, 93.5, 0],\n",
       " [0, 0, 0, 1, 1, 0, 2, 1, 0, 0, 0, 0, 1, 1, 84.6, 1],\n",
       " [0, 0, 0, 72, 1, 0, 0, 0, 0, 0, 0, 2, 0, 3, 20.25, 0],\n",
       " [0, 0, 0, 29, 1, 1, 0, 0, 0, 0, 0, 0, 0, 0, 25.15, 0],\n",
       " [0, 0, 0, 2, 1, 1, 1, 0, 1, 0, 0, 0, 1, 1, 54.4, 1],\n",
       " [0, 0, 0, 10, 0, 0, 1, 0, 0, 0, 1, 2, 1, 1, 29.6, 0],\n",
       " [0, 1, 0, 18, 1, 1, 2, 0, 0, 0, 0, 0, 1, 0, 73.15, 0],\n",
       " [1, 0, 0, 11, 1, 0, 2, 0, 1, 0, 0, 0, 1, 0, 95.0, 1],\n",
       " [0, 0, 0, 16, 1, 0, 0, 0, 0, 0, 0, 2, 0, 1, 19.75, 0],\n",
       " [0, 0, 0, 72, 1, 1, 1, 0, 1, 1, 1, 2, 0, 2, 86.6, 0],\n",
       " [0, 0, 0, 72, 1, 1, 2, 0, 1, 1, 1, 2, 0, 2, 109.2, 0],\n",
       " [0, 1, 1, 41, 1, 0, 1, 1, 0, 0, 1, 1, 1, 3, 74.7, 0],\n",
       " [1, 1, 0, 65, 1, 0, 2, 1, 1, 1, 0, 0, 0, 0, 94.4, 0],\n",
       " [1, 0, 0, 13, 1, 0, 1, 0, 1, 1, 0, 0, 1, 0, 54.8, 0],\n",
       " [1, 0, 0, 4, 1, 0, 2, 1, 0, 0, 0, 0, 0, 0, 75.35, 0],\n",
       " [0, 0, 0, 41, 1, 1, 1, 0, 0, 1, 0, 1, 0, 1, 65.0, 0],\n",
       " [1, 0, 0, 15, 1, 0, 2, 0, 1, 0, 0, 0, 1, 0, 74.4, 1],\n",
       " [0, 0, 0, 1, 1, 0, 1, 1, 0, 0, 0, 0, 1, 1, 48.55, 1],\n",
       " [0, 0, 0, 42, 1, 1, 2, 1, 1, 1, 0, 1, 1, 0, 99.0, 0],\n",
       " [0, 1, 0, 51, 1, 0, 2, 1, 1, 1, 0, 1, 1, 0, 93.5, 0],\n",
       " [0, 1, 1, 2, 1, 0, 2, 0, 0, 0, 0, 0, 0, 0, 70.4, 1],\n",
       " [1, 1, 0, 1, 0, 0, 1, 0, 1, 0, 0, 0, 0, 0, 40.2, 1],\n",
       " [0, 0, 1, 32, 1, 1, 1, 0, 1, 1, 1, 1, 0, 3, 83.7, 0],\n",
       " [0, 0, 0, 10, 1, 0, 0, 0, 0, 0, 0, 0, 1, 1, 19.85, 0],\n",
       " [0, 1, 1, 67, 0, 0, 1, 0, 1, 1, 1, 2, 1, 0, 59.55, 0],\n",
       " [0, 1, 1, 61, 1, 1, 2, 1, 1, 1, 1, 2, 0, 3, 115.1, 0],\n",
       " [0, 0, 0, 50, 1, 1, 2, 1, 1, 1, 1, 1, 0, 3, 114.35, 0],\n",
       " [0, 1, 0, 2, 1, 0, 1, 0, 0, 0, 0, 0, 1, 3, 44.6, 1],\n",
       " [1, 1, 0, 29, 0, 0, 1, 1, 0, 1, 0, 0, 1, 0, 45.0, 0],\n",
       " [1, 0, 0, 3, 0, 0, 1, 0, 0, 1, 0, 0, 1, 0, 41.15, 1],\n",
       " [1, 0, 0, 13, 1, 1, 2, 0, 1, 1, 0, 0, 1, 0, 106.9, 1],\n",
       " [1, 1, 0, 57, 1, 1, 2, 0, 1, 0, 0, 0, 1, 0, 89.85, 0],\n",
       " [0, 0, 0, 31, 0, 0, 1, 1, 1, 0, 1, 2, 1, 2, 49.85, 0],\n",
       " [0, 1, 0, 45, 1, 1, 2, 1, 1, 1, 1, 1, 0, 1, 113.3, 0],\n",
       " [0, 1, 1, 61, 1, 1, 1, 1, 1, 1, 1, 2, 0, 1, 88.1, 0],\n",
       " [0, 0, 0, 50, 1, 1, 0, 0, 0, 0, 0, 2, 0, 2, 24.9, 0],\n",
       " [1, 0, 0, 19, 1, 0, 2, 1, 1, 0, 1, 0, 1, 1, 105.0, 0],\n",
       " [0, 0, 0, 59, 1, 0, 0, 0, 0, 0, 0, 2, 0, 1, 19.35, 1],\n",
       " [0, 1, 0, 71, 1, 1, 0, 0, 0, 0, 0, 2, 1, 3, 24.25, 0],\n",
       " [1, 0, 0, 16, 1, 0, 2, 0, 0, 0, 1, 0, 1, 0, 94.45, 1],\n",
       " [0, 1, 0, 57, 1, 0, 1, 1, 1, 0, 1, 2, 1, 0, 59.75, 0],\n",
       " [0, 0, 0, 1, 0, 0, 1, 0, 0, 0, 0, 0, 0, 2, 24.8, 1],\n",
       " [1, 1, 0, 20, 1, 1, 2, 0, 1, 0, 1, 0, 0, 0, 107.05, 0],\n",
       " [0, 0, 0, 1, 1, 0, 2, 0, 0, 0, 0, 0, 0, 1, 70.6, 1],\n",
       " [0, 1, 0, 5, 1, 1, 2, 0, 1, 0, 1, 0, 1, 0, 85.4, 1],\n",
       " [0, 1, 0, 52, 1, 1, 2, 0, 1, 1, 0, 0, 1, 0, 105.05, 1],\n",
       " [1, 1, 0, 21, 1, 0, 1, 1, 1, 0, 0, 0, 1, 2, 64.95, 0],\n",
       " [0, 0, 0, 14, 0, 0, 1, 0, 0, 1, 1, 0, 1, 0, 55.0, 0],\n",
       " [0, 0, 0, 5, 1, 0, 1, 0, 1, 0, 0, 0, 0, 2, 50.55, 0],\n",
       " [0, 0, 0, 6, 1, 0, 1, 1, 1, 0, 0, 0, 0, 1, 55.15, 0],\n",
       " [0, 0, 0, 10, 1, 0, 1, 0, 1, 0, 0, 0, 0, 0, 51.2, 0],\n",
       " [0, 0, 1, 1, 1, 1, 0, 0, 0, 0, 0, 0, 0, 1, 25.4, 0],\n",
       " [0, 0, 0, 68, 1, 1, 1, 1, 0, 0, 0, 0, 0, 1, 54.45, 0],\n",
       " [0, 1, 1, 18, 1, 0, 2, 0, 0, 1, 0, 0, 0, 1, 95.15, 1],\n",
       " [0, 0, 0, 22, 1, 1, 2, 0, 0, 0, 0, 1, 1, 3, 76.0, 0],\n",
       " [0, 0, 0, 20, 1, 0, 1, 0, 0, 0, 0, 0, 1, 0, 44.35, 0],\n",
       " [0, 1, 0, 1, 1, 0, 2, 0, 0, 0, 0, 0, 0, 0, 70.0, 1],\n",
       " [1, 0, 0, 8, 1, 0, 2, 0, 1, 0, 0, 0, 1, 0, 74.5, 1],\n",
       " [0, 0, 0, 10, 1, 0, 1, 0, 0, 0, 0, 0, 1, 3, 44.85, 1],\n",
       " [1, 0, 0, 24, 1, 1, 2, 0, 0, 0, 0, 0, 1, 0, 76.1, 1],\n",
       " [0, 0, 0, 35, 1, 0, 1, 1, 1, 1, 0, 1, 0, 1, 61.2, 0],\n",
       " [0, 1, 1, 23, 1, 0, 2, 0, 1, 1, 1, 1, 0, 1, 86.8, 0],\n",
       " [1, 0, 0, 6, 1, 0, 2, 0, 0, 0, 0, 0, 1, 0, 89.35, 0],\n",
       " [0, 0, 0, 12, 1, 0, 0, 0, 0, 0, 0, 0, 0, 1, 19.7, 0],\n",
       " [0, 0, 0, 1, 1, 0, 0, 0, 0, 0, 0, 0, 0, 1, 20.25, 0],\n",
       " [0, 1, 1, 71, 1, 0, 2, 0, 0, 1, 0, 2, 0, 0, 76.05, 0],\n",
       " [1, 1, 0, 35, 1, 1, 2, 0, 0, 1, 0, 0, 1, 0, 100.8, 0],\n",
       " [0, 1, 1, 40, 1, 1, 1, 0, 0, 1, 0, 0, 1, 0, 74.55, 0],\n",
       " [0, 0, 1, 1, 1, 0, 2, 1, 0, 0, 0, 0, 1, 1, 73.6, 1],\n",
       " [0, 0, 0, 23, 1, 0, 1, 0, 0, 0, 0, 1, 1, 2, 64.9, 0],\n",
       " [1, 0, 0, 4, 1, 1, 2, 0, 0, 0, 0, 0, 1, 0, 95.45, 1],\n",
       " [0, 0, 0, 4, 1, 0, 2, 0, 0, 1, 1, 0, 1, 0, 90.4, 0],\n",
       " [0, 1, 1, 68, 0, 0, 1, 0, 1, 1, 1, 2, 0, 3, 60.3, 0],\n",
       " [0, 0, 1, 38, 1, 1, 2, 0, 1, 0, 0, 0, 1, 1, 81.85, 0],\n",
       " [0, 1, 1, 52, 1, 1, 0, 0, 0, 0, 0, 2, 0, 1, 24.8, 0],\n",
       " [1, 1, 0, 32, 1, 1, 2, 0, 0, 0, 0, 0, 1, 0, 74.9, 1],\n",
       " [0, 1, 1, 29, 1, 0, 1, 0, 0, 1, 1, 2, 0, 1, 75.55, 0],\n",
       " [1, 1, 1, 38, 1, 1, 2, 0, 1, 0, 0, 0, 0, 0, 101.15, 0],\n",
       " [0, 0, 1, 48, 1, 1, 1, 1, 0, 1, 0, 1, 1, 3, 78.75, 0],\n",
       " [0, 0, 0, 1, 1, 0, 0, 0, 0, 0, 0, 0, 1, 2, 19.25, 0],\n",
       " [0, 0, 0, 22, 1, 0, 2, 1, 0, 0, 1, 0, 1, 0, 89.05, 0],\n",
       " [0, 0, 0, 43, 1, 1, 2, 1, 1, 1, 1, 2, 0, 3, 115.05, 0],\n",
       " [1, 1, 0, 5, 1, 0, 2, 0, 0, 0, 0, 0, 1, 0, 69.35, 0],\n",
       " [0, 0, 0, 5, 1, 0, 2, 0, 0, 0, 0, 0, 1, 0, 80.6, 1],\n",
       " [0, 1, 1, 51, 1, 1, 2, 1, 1, 0, 1, 1, 0, 3, 110.05, 0],\n",
       " [0, 0, 0, 71, 1, 0, 0, 0, 0, 0, 0, 2, 1, 3, 19.9, 0],\n",
       " [0, 1, 1, 38, 1, 0, 1, 1, 1, 0, 1, 1, 0, 3, 80.3, 1],\n",
       " [1, 1, 0, 24, 1, 0, 2, 0, 0, 1, 0, 0, 1, 0, 93.15, 1],\n",
       " [0, 1, 0, 35, 1, 1, 2, 0, 0, 0, 1, 0, 1, 3, 91.5, 0],\n",
       " [1, 0, 0, 54, 1, 1, 1, 1, 1, 0, 1, 1, 0, 2, 82.45, 1],\n",
       " [0, 1, 1, 72, 0, 0, 1, 0, 1, 1, 1, 2, 1, 0, 60.0, 0],\n",
       " [0, 0, 0, 1, 1, 0, 1, 0, 0, 0, 0, 0, 1, 0, 44.8, 0],\n",
       " [0, 1, 1, 9, 1, 0, 1, 1, 0, 0, 0, 1, 0, 1, 48.6, 0],\n",
       " [0, 0, 0, 69, 0, 0, 1, 1, 1, 0, 1, 2, 1, 2, 60.05, 0],\n",
       " [0, 1, 0, 52, 1, 1, 2, 0, 1, 0, 1, 0, 1, 3, 102.7, 0],\n",
       " [1, 1, 0, 11, 1, 0, 2, 0, 0, 0, 1, 0, 1, 0, 82.9, 0],\n",
       " [1, 0, 0, 2, 1, 0, 2, 0, 0, 0, 0, 0, 1, 0, 70.35, 1],\n",
       " [1, 1, 1, 28, 0, 0, 1, 0, 0, 0, 0, 0, 1, 0, 35.9, 0],\n",
       " [1, 0, 0, 17, 1, 1, 2, 0, 0, 1, 0, 0, 1, 3, 82.65, 0],\n",
       " [0, 1, 1, 35, 1, 0, 0, 0, 0, 0, 0, 2, 1, 1, 19.85, 0],\n",
       " [0, 0, 0, 8, 1, 0, 0, 0, 0, 0, 0, 1, 1, 1, 19.2, 0],\n",
       " [0, 0, 0, 46, 1, 1, 2, 0, 1, 1, 0, 1, 1, 3, 94.9, 0],\n",
       " [0, 0, 0, 7, 1, 1, 2, 0, 0, 0, 0, 0, 1, 0, 73.85, 1],\n",
       " [0, 0, 0, 2, 1, 1, 2, 0, 0, 1, 0, 0, 0, 1, 80.6, 1],\n",
       " [0, 1, 1, 68, 1, 1, 1, 0, 1, 1, 1, 1, 1, 2, 75.8, 1],\n",
       " [0, 0, 0, 43, 1, 1, 2, 0, 1, 1, 0, 2, 1, 0, 104.6, 1],\n",
       " [0, 0, 0, 68, 1, 1, 1, 1, 1, 1, 1, 2, 1, 0, 88.15, 0],\n",
       " [0, 0, 0, 36, 1, 0, 2, 0, 1, 0, 0, 0, 1, 3, 94.8, 0],\n",
       " [0, 1, 0, 63, 1, 1, 2, 0, 1, 1, 0, 0, 1, 0, 103.4, 1],\n",
       " [1, 0, 0, 32, 1, 0, 1, 0, 1, 0, 1, 0, 0, 2, 54.65, 0],\n",
       " [0, 1, 0, 71, 1, 1, 1, 1, 1, 1, 1, 2, 0, 3, 85.75, 0],\n",
       " [0, 1, 1, 66, 1, 1, 1, 1, 1, 1, 0, 0, 1, 2, 67.45, 0],\n",
       " [0, 0, 0, 63, 1, 0, 0, 0, 0, 0, 0, 1, 0, 1, 20.5, 0],\n",
       " [0, 0, 1, 41, 1, 0, 0, 0, 0, 0, 0, 1, 1, 3, 20.25, 0],\n",
       " [1, 0, 0, 1, 1, 1, 2, 0, 0, 0, 0, 0, 1, 0, 72.1, 0],\n",
       " [0, 0, 0, 2, 1, 0, 2, 0, 0, 0, 0, 0, 1, 0, 90.4, 1],\n",
       " [0, 1, 0, 70, 1, 0, 0, 0, 0, 0, 0, 2, 0, 2, 19.45, 0],\n",
       " [0, 0, 0, 23, 0, 0, 1, 0, 0, 0, 0, 0, 1, 0, 44.95, 0],\n",
       " [1, 1, 0, 64, 1, 0, 2, 1, 1, 1, 0, 1, 0, 2, 97.0, 0],\n",
       " [0, 1, 1, 37, 1, 1, 1, 1, 0, 1, 1, 2, 1, 3, 62.8, 0],\n",
       " [0, 0, 1, 17, 1, 0, 1, 0, 0, 0, 0, 1, 0, 1, 44.6, 0],\n",
       " [1, 0, 0, 7, 1, 0, 2, 0, 0, 0, 0, 0, 1, 0, 89.15, 0],\n",
       " [0, 1, 1, 4, 1, 1, 2, 0, 1, 1, 0, 0, 1, 2, 84.8, 1],\n",
       " [1, 0, 0, 21, 0, 0, 1, 1, 0, 0, 0, 0, 1, 0, 41.9, 1],\n",
       " [0, 0, 0, 10, 1, 0, 2, 0, 0, 0, 0, 0, 1, 2, 80.25, 1],\n",
       " [1, 0, 0, 16, 1, 1, 1, 1, 0, 0, 0, 0, 1, 0, 54.1, 0],\n",
       " [0, 1, 0, 64, 1, 1, 2, 0, 1, 0, 1, 2, 1, 0, 105.25, 0],\n",
       " [1, 1, 0, 27, 0, 0, 1, 1, 0, 0, 0, 0, 0, 3, 30.75, 1],\n",
       " [0, 1, 1, 42, 1, 1, 2, 1, 0, 0, 0, 1, 0, 0, 97.1, 0],\n",
       " [0, 0, 1, 5, 1, 0, 0, 0, 0, 0, 0, 0, 0, 1, 20.2, 0],\n",
       " [0, 0, 0, 41, 1, 0, 2, 0, 1, 0, 1, 2, 1, 2, 98.8, 0],\n",
       " [0, 1, 0, 58, 1, 0, 1, 0, 0, 1, 0, 1, 0, 3, 50.3, 0],\n",
       " [0, 0, 0, 47, 1, 0, 0, 0, 0, 0, 0, 2, 1, 1, 20.55, 0],\n",
       " [0, 0, 0, 18, 1, 0, 2, 0, 0, 0, 1, 0, 1, 2, 75.9, 0],\n",
       " [0, 0, 0, 5, 1, 0, 2, 0, 0, 1, 0, 0, 0, 2, 96.5, 1],\n",
       " [0, 1, 0, 23, 1, 0, 1, 1, 0, 0, 0, 0, 1, 2, 59.95, 0],\n",
       " [0, 0, 0, 1, 1, 0, 0, 0, 0, 0, 0, 0, 0, 1, 19.15, 0],\n",
       " [0, 1, 0, 71, 1, 1, 2, 0, 0, 1, 0, 1, 1, 3, 98.65, 0],\n",
       " [0, 1, 1, 72, 1, 1, 2, 1, 1, 1, 1, 2, 1, 3, 112.6, 0],\n",
       " [0, 1, 1, 33, 1, 0, 0, 0, 0, 0, 0, 1, 0, 1, 20.6, 0],\n",
       " [0, 0, 0, 2, 1, 1, 2, 0, 0, 0, 0, 0, 1, 0, 85.65, 1],\n",
       " [0, 0, 1, 24, 0, 0, 1, 1, 0, 0, 1, 2, 0, 1, 35.75, 0],\n",
       " [0, 1, 1, 56, 1, 1, 2, 0, 1, 1, 1, 1, 1, 3, 99.75, 0],\n",
       " [0, 0, 0, 37, 1, 0, 2, 0, 1, 0, 0, 0, 1, 3, 96.1, 0],\n",
       " [0, 0, 0, 43, 1, 1, 1, 0, 1, 1, 1, 1, 0, 3, 85.1, 0],\n",
       " [0, 0, 0, 1, 0, 0, 1, 0, 0, 0, 0, 0, 0, 1, 25.35, 0],\n",
       " [0, 1, 0, 25, 1, 1, 2, 0, 0, 1, 1, 0, 1, 2, 104.95, 1],\n",
       " [0, 0, 0, 61, 1, 1, 1, 1, 1, 1, 1, 2, 0, 0, 89.65, 0],\n",
       " [0, 0, 0, 17, 1, 1, 2, 0, 0, 1, 1, 1, 0, 0, 86.75, 0],\n",
       " [0, 1, 0, 41, 1, 0, 2, 0, 1, 1, 1, 1, 1, 2, 86.2, 0],\n",
       " [0, 0, 0, 1, 1, 0, 1, 0, 1, 0, 0, 0, 0, 1, 50.65, 1],\n",
       " [1, 1, 1, 72, 0, 0, 1, 1, 1, 1, 1, 2, 1, 2, 64.8, 0],\n",
       " [0, 0, 0, 1, 1, 1, 2, 0, 1, 0, 0, 0, 1, 3, 90.85, 1],\n",
       " [0, 0, 0, 48, 1, 1, 2, 0, 1, 1, 0, 2, 1, 2, 108.1, 0],\n",
       " [1, 1, 0, 11, 1, 0, 0, 0, 0, 0, 0, 0, 0, 1, 19.95, 1],\n",
       " [1, 1, 0, 55, 1, 1, 2, 0, 1, 1, 0, 0, 1, 0, 85.45, 1],\n",
       " [0, 0, 0, 42, 0, 0, 1, 1, 1, 1, 1, 1, 1, 0, 54.75, 0],\n",
       " [0, 0, 0, 44, 1, 1, 2, 0, 0, 1, 0, 0, 1, 1, 90.4, 0],\n",
       " [0, 0, 1, 1, 1, 0, 1, 0, 0, 0, 0, 0, 0, 0, 44.0, 0],\n",
       " [0, 0, 0, 27, 1, 1, 2, 0, 0, 0, 0, 0, 1, 2, 95.6, 0],\n",
       " [1, 1, 0, 27, 1, 1, 1, 0, 1, 1, 1, 0, 1, 2, 84.8, 0],\n",
       " [1, 0, 0, 2, 1, 0, 1, 0, 0, 0, 0, 0, 1, 0, 44.3, 0],\n",
       " [0, 0, 0, 19, 1, 0, 0, 0, 0, 0, 0, 0, 0, 1, 19.9, 0],\n",
       " [1, 1, 0, 42, 1, 1, 2, 0, 0, 0, 0, 0, 1, 0, 95.05, 0],\n",
       " [0, 0, 0, 66, 1, 1, 1, 1, 1, 1, 1, 2, 1, 3, 90.05, 0],\n",
       " [1, 1, 0, 33, 1, 1, 2, 1, 0, 1, 1, 0, 1, 2, 109.9, 0],\n",
       " [0, 0, 0, 34, 1, 0, 2, 0, 1, 0, 0, 0, 1, 3, 73.95, 1],\n",
       " [1, 0, 0, 33, 0, 0, 1, 0, 0, 1, 1, 0, 1, 0, 54.6, 0],\n",
       " [0, 1, 1, 23, 1, 0, 0, 0, 0, 0, 0, 1, 0, 1, 20.05, 0],\n",
       " [0, 0, 0, 32, 1, 0, 0, 0, 0, 0, 0, 1, 0, 2, 19.75, 0],\n",
       " [0, 0, 0, 11, 1, 0, 0, 0, 0, 0, 0, 1, 0, 3, 20.05, 0],\n",
       " [0, 1, 1, 69, 1, 1, 2, 0, 0, 1, 0, 0, 1, 3, 99.45, 1],\n",
       " [0, 1, 0, 68, 1, 0, 1, 1, 0, 0, 1, 1, 0, 2, 55.9, 0],\n",
       " [0, 0, 0, 20, 1, 0, 0, 0, 0, 0, 0, 2, 1, 1, 19.7, 0],\n",
       " [0, 0, 0, 72, 1, 0, 0, 0, 0, 0, 0, 2, 1, 3, 19.8, 0],\n",
       " [0, 1, 1, 60, 1, 1, 2, 1, 0, 1, 0, 1, 1, 2, 95.4, 0],\n",
       " [1, 1, 1, 32, 1, 0, 2, 0, 1, 0, 0, 0, 1, 1, 93.95, 0],\n",
       " [0, 0, 0, 1, 1, 0, 0, 0, 0, 0, 0, 0, 1, 1, 19.9, 1],\n",
       " [0, 0, 0, 1, 1, 0, 0, 0, 0, 0, 0, 0, 1, 1, 19.6, 1],\n",
       " [1, 0, 0, 3, 1, 1, 2, 0, 1, 0, 0, 0, 1, 0, 81.35, 1],\n",
       " [0, 1, 0, 46, 1, 1, 0, 0, 0, 0, 0, 1, 1, 2, 24.45, 0],\n",
       " [0, 1, 0, 29, 1, 1, 2, 0, 0, 0, 0, 0, 1, 0, 74.95, 0],\n",
       " [0, 0, 0, 51, 1, 1, 2, 0, 1, 1, 1, 0, 1, 0, 87.35, 0],\n",
       " [1, 1, 0, 48, 1, 0, 2, 0, 0, 0, 0, 0, 1, 2, 70.65, 0],\n",
       " [0, 1, 1, 16, 1, 0, 2, 0, 1, 0, 0, 0, 0, 2, 73.25, 0],\n",
       " [0, 1, 0, 70, 1, 1, 2, 0, 1, 1, 1, 2, 1, 2, 98.7, 0],\n",
       " [0, 1, 1, 40, 1, 1, 0, 0, 0, 0, 0, 2, 1, 1, 24.8, 0],\n",
       " [0, 1, 1, 22, 1, 0, 2, 0, 1, 0, 0, 0, 0, 0, 83.3, 1],\n",
       " [1, 0, 0, 1, 1, 0, 2, 0, 0, 1, 0, 0, 1, 2, 75.3, 1],\n",
       " [0, 1, 1, 5, 1, 1, 0, 0, 0, 0, 0, 0, 1, 1, 24.3, 0],\n",
       " [0, 0, 0, 7, 1, 0, 2, 0, 0, 0, 0, 0, 1, 2, 69.85, 0],\n",
       " [0, 0, 1, 29, 1, 1, 2, 0, 1, 1, 1, 1, 0, 3, 100.55, 0],\n",
       " [0, 1, 1, 44, 1, 1, 0, 0, 0, 0, 0, 1, 0, 1, 25.7, 0],\n",
       " [0, 0, 0, 10, 0, 0, 1, 1, 1, 1, 0, 0, 0, 2, 40.7, 0],\n",
       " [1, 1, 0, 55, 1, 1, 1, 0, 0, 0, 0, 0, 0, 2, 51.65, 0],\n",
       " [1, 1, 0, 52, 1, 1, 2, 0, 1, 1, 0, 1, 1, 2, 105.1, 0],\n",
       " [0, 1, 1, 10, 1, 1, 2, 0, 0, 0, 0, 0, 0, 0, 85.95, 0],\n",
       " [0, 0, 0, 18, 1, 1, 2, 0, 0, 0, 0, 0, 1, 2, 75.6, 0],\n",
       " [0, 1, 0, 68, 1, 1, 1, 1, 0, 0, 1, 1, 0, 2, 58.25, 0],\n",
       " [0, 1, 1, 61, 1, 0, 0, 0, 0, 0, 0, 0, 1, 1, 19.4, 1],\n",
       " [0, 1, 1, 72, 0, 0, 1, 1, 1, 1, 1, 2, 1, 3, 65.2, 0],\n",
       " [0, 0, 0, 2, 1, 0, 1, 1, 0, 1, 0, 0, 0, 0, 53.45, 0],\n",
       " [0, 0, 0, 12, 1, 0, 1, 0, 0, 0, 0, 0, 1, 2, 45.4, 1],\n",
       " [0, 1, 0, 41, 1, 0, 0, 0, 0, 0, 0, 2, 1, 0, 19.75, 0],\n",
       " [0, 0, 0, 26, 0, 0, 1, 0, 0, 1, 1, 0, 1, 3, 44.45, 0],\n",
       " [0, 1, 0, 36, 1, 0, 0, 0, 0, 0, 0, 1, 0, 2, 20.85, 0],\n",
       " [0, 1, 1, 72, 1, 1, 2, 1, 1, 1, 1, 2, 1, 3, 114.05, 0],\n",
       " [0, 1, 0, 35, 1, 1, 2, 0, 0, 0, 1, 0, 1, 2, 89.85, 0],\n",
       " [0, 0, 0, 1, 1, 0, 1, 0, 0, 1, 1, 0, 0, 1, 55.05, 0],\n",
       " [0, 1, 1, 16, 1, 1, 2, 1, 0, 1, 1, 0, 1, 0, 112.95, 0],\n",
       " [1, 0, 0, 49, 1, 1, 2, 1, 0, 0, 0, 0, 0, 3, 101.55, 0],\n",
       " [0, 1, 0, 54, 1, 1, 2, 1, 1, 1, 1, 1, 1, 1, 114.65, 0],\n",
       " [0, 0, 1, 18, 1, 1, 1, 1, 0, 0, 0, 0, 0, 0, 64.8, 0],\n",
       " [0, 1, 0, 36, 1, 0, 2, 0, 0, 0, 0, 0, 0, 0, 80.4, 0],\n",
       " [0, 0, 0, 60, 1, 1, 2, 0, 1, 1, 0, 0, 1, 0, 105.9, 1],\n",
       " [0, 0, 0, 1, 1, 0, 2, 0, 0, 0, 0, 0, 0, 1, 69.55, 1],\n",
       " [0, 1, 1, 52, 1, 1, 0, 0, 0, 0, 0, 2, 1, 2, 25.05, 0],\n",
       " [0, 1, 1, 8, 1, 0, 2, 0, 0, 1, 0, 0, 1, 0, 94.75, 0],\n",
       " [0, 1, 1, 72, 1, 0, 2, 1, 1, 0, 1, 2, 0, 2, 105.5, 0],\n",
       " [0, 0, 0, 64, 1, 1, 0, 0, 0, 0, 0, 1, 0, 1, 24.7, 0],\n",
       " [1, 0, 0, 22, 1, 0, 1, 1, 0, 1, 1, 0, 1, 1, 69.75, 0],\n",
       " [0, 1, 0, 60, 0, 0, 1, 0, 1, 1, 1, 0, 1, 2, 60.2, 0],\n",
       " [0, 1, 1, 28, 1, 0, 2, 0, 0, 0, 0, 0, 1, 0, 81.05, 1],\n",
       " [0, 1, 0, 61, 1, 1, 0, 0, 0, 0, 0, 2, 0, 1, 24.4, 0],\n",
       " [0, 0, 0, 24, 1, 1, 2, 0, 1, 1, 0, 0, 1, 0, 104.15, 0],\n",
       " [0, 1, 1, 28, 1, 0, 2, 0, 1, 1, 1, 1, 0, 2, 92.9, 0],\n",
       " [0, 1, 1, 30, 1, 0, 1, 0, 1, 1, 1, 2, 0, 2, 80.8, 0],\n",
       " [0, 1, 0, 2, 1, 0, 0, 0, 0, 0, 0, 0, 0, 1, 20.0, 0],\n",
       " [0, 0, 0, 1, 1, 1, 2, 0, 0, 0, 0, 0, 1, 0, 75.1, 0],\n",
       " [0, 0, 1, 6, 1, 0, 0, 0, 0, 0, 0, 0, 0, 1, 19.65, 0],\n",
       " [0, 1, 0, 24, 1, 0, 1, 0, 1, 0, 0, 0, 1, 2, 69.45, 0],\n",
       " [0, 1, 1, 4, 1, 1, 2, 0, 0, 1, 0, 0, 0, 0, 101.15, 1],\n",
       " [0, 0, 0, 7, 1, 1, 2, 0, 1, 0, 0, 0, 1, 0, 99.8, 1],\n",
       " [1, 1, 0, 72, 1, 1, 2, 1, 1, 1, 1, 2, 1, 2, 116.05, 0],\n",
       " [0, 0, 0, 70, 0, 0, 1, 0, 0, 0, 1, 2, 1, 1, 40.05, 0],\n",
       " [1, 1, 0, 64, 1, 1, 2, 0, 0, 1, 1, 2, 0, 0, 102.1, 0],\n",
       " [0, 1, 1, 72, 1, 1, 2, 0, 1, 0, 0, 1, 1, 0, 89.7, 0],\n",
       " [0, 0, 1, 44, 1, 0, 0, 0, 0, 0, 0, 2, 0, 1, 19.9, 0],\n",
       " [0, 1, 1, 13, 1, 0, 1, 0, 0, 0, 0, 0, 0, 0, 55.95, 1],\n",
       " [1, 0, 0, 17, 1, 0, 0, 0, 0, 0, 0, 1, 0, 1, 20.65, 0],\n",
       " [0, 0, 0, 1, 1, 0, 1, 0, 0, 0, 0, 0, 1, 0, 55.0, 1],\n",
       " [0, 1, 0, 9, 1, 0, 1, 0, 0, 1, 0, 0, 1, 1, 70.05, 0],\n",
       " [0, 1, 0, 24, 1, 0, 1, 1, 0, 0, 1, 0, 0, 1, 53.6, 0],\n",
       " [0, 1, 1, 1, 1, 0, 2, 0, 1, 0, 0, 0, 1, 0, 74.7, 1],\n",
       " [0, 0, 0, 24, 1, 1, 2, 0, 1, 0, 0, 0, 1, 0, 80.25, 1],\n",
       " [1, 1, 1, 35, 1, 0, 1, 0, 1, 0, 1, 0, 1, 0, 76.05, 0],\n",
       " [0, 1, 1, 7, 1, 0, 1, 1, 1, 1, 1, 0, 1, 0, 75.7, 0],\n",
       " [0, 0, 0, 5, 1, 0, 2, 0, 0, 0, 1, 0, 1, 0, 96.1, 1],\n",
       " [0, 0, 1, 15, 1, 0, 2, 0, 0, 0, 0, 0, 0, 2, 69.0, 1],\n",
       " [0, 1, 1, 11, 1, 0, 0, 0, 0, 0, 0, 2, 0, 1, 19.65, 0],\n",
       " [0, 1, 0, 48, 0, 0, 1, 1, 0, 1, 0, 0, 1, 2, 45.3, 1],\n",
       " [1, 0, 0, 20, 1, 0, 2, 0, 0, 0, 0, 0, 1, 0, 81.45, 0],\n",
       " [0, 1, 0, 72, 1, 1, 2, 0, 1, 1, 1, 1, 1, 2, 108.5, 0],\n",
       " [0, 1, 1, 8, 1, 0, 2, 0, 1, 0, 0, 0, 1, 0, 83.55, 1],\n",
       " [0, 1, 1, 72, 1, 1, 2, 0, 0, 0, 0, 2, 1, 3, 84.5, 0],\n",
       " [0, 0, 0, 15, 1, 1, 2, 0, 1, 0, 0, 0, 1, 0, 100.15, 0],\n",
       " [0, 0, 0, 72, 1, 1, 1, 0, 1, 1, 1, 2, 1, 2, 88.6, 0],\n",
       " [0, 0, 1, 1, 1, 1, 2, 0, 0, 0, 0, 0, 1, 0, 74.35, 1],\n",
       " [0, 1, 1, 63, 1, 1, 2, 0, 1, 1, 0, 2, 1, 2, 104.8, 0],\n",
       " [0, 0, 0, 2, 1, 0, 1, 0, 1, 0, 0, 0, 1, 0, 59.0, 0],\n",
       " [0, 1, 0, 2, 1, 0, 2, 1, 0, 0, 0, 0, 1, 0, 74.4, 1],\n",
       " [1, 1, 0, 61, 1, 1, 1, 0, 1, 0, 0, 1, 0, 2, 64.05, 0],\n",
       " [0, 0, 0, 1, 1, 0, 0, 0, 0, 0, 0, 0, 0, 1, 20.4, 0],\n",
       " [0, 0, 0, 22, 0, 0, 1, 0, 1, 1, 0, 1, 1, 2, 43.75, 1],\n",
       " [0, 1, 0, 28, 1, 0, 1, 1, 1, 0, 1, 0, 0, 1, 60.9, 0],\n",
       " [0, 1, 0, 70, 1, 0, 0, 0, 0, 0, 0, 2, 0, 2, 19.8, 0],\n",
       " [1, 0, 0, 5, 0, 0, 1, 0, 1, 0, 0, 0, 0, 0, 28.45, 1],\n",
       " [0, 0, 0, 12, 1, 1, 2, 1, 1, 1, 0, 0, 1, 2, 99.7, 1],\n",
       " [0, 0, 0, 34, 1, 1, 2, 1, 1, 1, 1, 1, 0, 3, 116.25, 0],\n",
       " [1, 1, 0, 71, 1, 1, 2, 1, 0, 0, 0, 2, 1, 3, 80.7, 0],\n",
       " [0, 1, 1, 70, 1, 1, 1, 1, 0, 0, 0, 1, 0, 2, 65.2, 0],\n",
       " [0, 1, 1, 52, 1, 0, 2, 1, 0, 1, 1, 0, 1, 2, 84.05, 0],\n",
       " [0, 0, 1, 69, 1, 1, 1, 1, 1, 1, 1, 2, 1, 3, 79.45, 0],\n",
       " [1, 0, 0, 20, 1, 1, 2, 0, 1, 1, 0, 0, 1, 0, 94.1, 1],\n",
       " [0, 0, 1, 11, 1, 1, 2, 0, 0, 1, 0, 0, 1, 1, 78.0, 0],\n",
       " [0, 1, 0, 2, 1, 0, 2, 0, 0, 0, 1, 0, 1, 0, 94.2, 1],\n",
       " [0, 1, 1, 6, 1, 1, 2, 0, 0, 0, 1, 0, 1, 0, 80.5, 1],\n",
       " [0, 0, 0, 1, 1, 0, 0, 0, 0, 0, 0, 0, 0, 1, 19.85, 0],\n",
       " [1, 1, 1, 20, 1, 0, 2, 1, 0, 1, 1, 1, 0, 3, 94.3, 0],\n",
       " [0, 0, 0, 61, 1, 1, 2, 1, 0, 1, 0, 0, 1, 0, 106.45, 0],\n",
       " [1, 1, 0, 5, 1, 1, 2, 0, 0, 0, 0, 0, 1, 0, 74.35, 1],\n",
       " [0, 0, 0, 56, 1, 1, 2, 0, 1, 0, 1, 0, 1, 2, 105.45, 0],\n",
       " [0, 0, 0, 30, 1, 1, 2, 1, 1, 1, 1, 0, 1, 3, 95.0, 0],\n",
       " [0, 0, 0, 40, 1, 1, 2, 0, 0, 1, 1, 0, 0, 2, 104.8, 1],\n",
       " [0, 0, 0, 28, 1, 0, 1, 1, 0, 0, 1, 1, 0, 1, 54.3, 0],\n",
       " [1, 1, 0, 5, 1, 0, 2, 0, 0, 0, 0, 0, 0, 0, 70.05, 0],\n",
       " [1, 1, 0, 27, 1, 0, 2, 1, 0, 0, 0, 0, 1, 2, 75.2, 1],\n",
       " [0, 0, 0, 12, 1, 0, 0, 0, 0, 0, 0, 0, 0, 3, 20.05, 0],\n",
       " [0, 1, 1, 67, 1, 1, 2, 0, 1, 1, 0, 1, 1, 0, 105.4, 0],\n",
       " [1, 1, 0, 29, 1, 1, 1, 0, 0, 0, 0, 0, 1, 0, 51.6, 0],\n",
       " [0, 1, 1, 55, 1, 1, 2, 0, 0, 0, 0, 0, 0, 2, 85.5, 0],\n",
       " [0, 0, 0, 23, 1, 1, 2, 0, 0, 0, 0, 0, 0, 2, 75.6, 1],\n",
       " [0, 1, 0, 34, 1, 1, 2, 0, 0, 1, 0, 0, 1, 0, 100.05, 1],\n",
       " [0, 0, 0, 52, 1, 0, 2, 1, 0, 1, 0, 1, 0, 0, 91.25, 0],\n",
       " [1, 1, 1, 72, 1, 1, 2, 1, 1, 1, 1, 2, 1, 3, 115.75, 0],\n",
       " [0, 1, 1, 58, 1, 1, 2, 0, 1, 0, 1, 1, 1, 3, 94.7, 0],\n",
       " [0, 1, 1, 35, 1, 0, 0, 0, 0, 0, 0, 2, 0, 1, 19.6, 0],\n",
       " [1, 0, 0, 56, 1, 1, 2, 0, 1, 1, 1, 2, 1, 2, 99.9, 0],\n",
       " [0, 1, 1, 24, 1, 0, 0, 0, 0, 0, 0, 2, 1, 3, 21.1, 0],\n",
       " [0, 1, 1, 70, 1, 0, 0, 0, 0, 0, 0, 2, 0, 3, 20.05, 0],\n",
       " [0, 0, 0, 2, 1, 0, 2, 0, 0, 0, 0, 0, 1, 0, 79.95, 0],\n",
       " [1, 1, 1, 68, 1, 1, 2, 0, 0, 1, 1, 1, 1, 3, 107.15, 0],\n",
       " [0, 0, 0, 1, 1, 1, 2, 0, 0, 0, 0, 0, 1, 0, 85.0, 1],\n",
       " [0, 0, 0, 12, 1, 1, 2, 0, 0, 1, 0, 0, 1, 0, 89.55, 0],\n",
       " [0, 1, 0, 63, 1, 1, 2, 0, 1, 0, 0, 0, 1, 2, 81.55, 0],\n",
       " [0, 1, 1, 33, 1, 0, 1, 1, 1, 1, 0, 1, 1, 1, 58.45, 0],\n",
       " [0, 1, 0, 69, 1, 0, 2, 0, 1, 0, 0, 1, 1, 3, 95.65, 0],\n",
       " [0, 1, 1, 60, 1, 0, 1, 0, 1, 1, 1, 2, 1, 2, 80.6, 0],\n",
       " [0, 1, 1, 72, 1, 1, 2, 1, 1, 1, 1, 2, 1, 2, 113.1, 0],\n",
       " [0, 0, 0, 11, 1, 1, 1, 0, 0, 0, 0, 0, 1, 1, 58.95, 0],\n",
       " [0, 0, 0, 1, 1, 0, 0, 0, 0, 0, 0, 0, 0, 1, 19.55, 0],\n",
       " [0, 0, 0, 10, 1, 1, 2, 0, 0, 0, 0, 0, 1, 2, 86.05, 1],\n",
       " [0, 0, 0, 13, 0, 0, 1, 1, 0, 0, 1, 0, 1, 3, 45.55, 1],\n",
       " [0, 1, 1, 34, 1, 0, 2, 0, 0, 0, 0, 1, 1, 2, 78.95, 0],\n",
       " [0, 1, 1, 39, 1, 0, 2, 0, 1, 0, 0, 0, 1, 1, 86.3, 1],\n",
       " [0, 0, 0, 65, 1, 1, 2, 0, 1, 0, 1, 1, 1, 2, 105.05, 0],\n",
       " [1, 1, 0, 50, 1, 1, 2, 1, 1, 1, 0, 1, 1, 2, 101.9, 0],\n",
       " [0, 0, 0, 15, 1, 0, 0, 0, 0, 0, 0, 0, 0, 1, 19.75, 0],\n",
       " [0, 1, 1, 72, 1, 1, 2, 1, 1, 1, 0, 2, 1, 2, 110.3, 0],\n",
       " [0, 1, 1, 72, 1, 1, 2, 1, 1, 1, 1, 2, 1, 2, 115.6, 0],\n",
       " [0, 1, 1, 55, 1, 0, 0, 0, 0, 0, 0, 2, 0, 2, 19.35, 0],\n",
       " [0, 1, 1, 23, 1, 1, 0, 0, 0, 0, 0, 2, 1, 3, 25.6, 0],\n",
       " [0, 0, 0, 32, 1, 1, 2, 0, 1, 0, 0, 0, 1, 2, 80.35, 1],\n",
       " [0, 1, 1, 56, 1, 1, 1, 1, 0, 1, 0, 1, 1, 2, 68.75, 0],\n",
       " [0, 0, 0, 1, 1, 0, 0, 0, 0, 0, 0, 0, 0, 2, 19.9, 0],\n",
       " [0, 0, 0, 38, 1, 0, 1, 1, 1, 0, 1, 1, 0, 1, 70.6, 0],\n",
       " [0, 0, 0, 11, 1, 0, 2, 0, 0, 0, 0, 0, 0, 0, 70.2, 0],\n",
       " [0, 0, 0, 1, 1, 0, 1, 0, 0, 0, 1, 0, 1, 0, 49.3, 0],\n",
       " [0, 1, 0, 56, 1, 1, 2, 0, 1, 0, 1, 1, 1, 0, 107.25, 0],\n",
       " [0, 1, 0, 3, 1, 1, 0, 0, 0, 0, 0, 0, 1, 1, 23.6, 0],\n",
       " [0, 1, 1, 7, 1, 0, 1, 1, 0, 0, 0, 0, 0, 3, 69.7, 0],\n",
       " [0, 1, 1, 59, 1, 1, 2, 0, 0, 1, 0, 2, 1, 3, 99.5, 0],\n",
       " [0, 0, 0, 7, 1, 0, 1, 0, 0, 1, 1, 0, 0, 2, 64.3, 0],\n",
       " [0, 1, 1, 71, 1, 0, 1, 1, 0, 1, 1, 2, 1, 3, 70.85, 0],\n",
       " [0, 1, 1, 15, 1, 0, 2, 1, 0, 0, 1, 1, 0, 0, 101.9, 0],\n",
       " [0, 1, 0, 71, 1, 1, 1, 1, 1, 0, 1, 2, 0, 3, 73.5, 0],\n",
       " [0, 0, 0, 35, 1, 1, 2, 0, 0, 1, 0, 0, 1, 0, 100.25, 1],\n",
       " [0, 0, 0, 11, 0, 0, 1, 0, 1, 1, 1, 1, 1, 3, 40.4, 0],\n",
       " [0, 1, 1, 60, 1, 0, 0, 0, 0, 0, 0, 2, 1, 3, 19.25, 0],\n",
       " [1, 0, 0, 47, 1, 1, 1, 0, 1, 0, 1, 2, 0, 2, 59.6, 0],\n",
       " [0, 0, 0, 11, 1, 0, 1, 0, 0, 1, 1, 1, 0, 3, 64.9, 0],\n",
       " [0, 1, 0, 56, 1, 1, 2, 0, 1, 0, 0, 1, 0, 3, 100.3, 1],\n",
       " [1, 1, 0, 28, 1, 1, 2, 0, 1, 1, 1, 0, 1, 0, 110.85, 0],\n",
       " [0, 1, 0, 61, 1, 0, 1, 1, 1, 0, 1, 2, 1, 1, 81.05, 0],\n",
       " [0, 1, 1, 31, 1, 1, 2, 1, 0, 1, 0, 1, 0, 2, 98.05, 0],\n",
       " [0, 0, 0, 9, 1, 0, 2, 0, 0, 0, 0, 0, 1, 0, 70.5, 0],\n",
       " [1, 1, 0, 35, 1, 1, 2, 1, 1, 0, 0, 0, 1, 0, 94.55, 0],\n",
       " [0, 0, 0, 2, 1, 0, 0, 0, 0, 0, 0, 0, 1, 1, 19.65, 0],\n",
       " [0, 1, 1, 12, 1, 0, 0, 0, 0, 0, 0, 0, 0, 1, 19.0, 1],\n",
       " [0, 0, 0, 1, 1, 0, 2, 1, 0, 0, 0, 0, 0, 1, 75.3, 1],\n",
       " [1, 0, 0, 4, 1, 1, 2, 0, 0, 1, 0, 0, 1, 0, 89.2, 1],\n",
       " [0, 1, 1, 1, 1, 0, 0, 0, 0, 0, 0, 0, 1, 1, 19.0, 0],\n",
       " [0, 0, 0, 3, 1, 0, 0, 0, 0, 0, 0, 0, 1, 1, 20.0, 0],\n",
       " [1, 0, 0, 1, 1, 1, 2, 0, 0, 0, 0, 0, 1, 0, 85.7, 1],\n",
       " [0, 0, 0, 52, 1, 0, 1, 1, 1, 0, 0, 2, 1, 3, 63.25, 0],\n",
       " [0, 1, 1, 5, 1, 0, 0, 0, 0, 0, 0, 1, 0, 1, 20.1, 0],\n",
       " [0, 1, 0, 72, 1, 1, 2, 1, 1, 1, 0, 2, 1, 0, 99.15, 0],\n",
       " [0, 1, 1, 71, 1, 1, 1, 1, 1, 1, 1, 2, 0, 0, 90.4, 0],\n",
       " [0, 1, 0, 72, 1, 1, 2, 1, 0, 1, 1, 2, 1, 3, 111.9, 0],\n",
       " [0, 1, 1, 46, 1, 1, 0, 0, 0, 0, 0, 1, 0, 0, 24.9, 0],\n",
       " [0, 1, 1, 63, 1, 1, 1, 1, 1, 1, 0, 2, 0, 3, 83.5, 0],\n",
       " [0, 0, 0, 30, 1, 0, 2, 1, 1, 1, 0, 0, 1, 3, 84.3, 0],\n",
       " [0, 0, 0, 1, 1, 0, 1, 0, 0, 0, 0, 0, 0, 1, 45.6, 0],\n",
       " [0, 0, 0, 12, 1, 1, 1, 1, 0, 1, 1, 0, 1, 1, 61.65, 1],\n",
       " [0, 0, 0, 16, 0, 0, 1, 1, 1, 1, 1, 2, 0, 1, 54.85, 0],\n",
       " [0, 0, 0, 4, 1, 1, 1, 0, 0, 0, 1, 0, 0, 1, 65.55, 0],\n",
       " [0, 1, 0, 51, 1, 1, 2, 0, 1, 0, 0, 1, 1, 3, 90.35, 0],\n",
       " [0, 1, 0, 65, 1, 0, 0, 0, 0, 0, 0, 2, 1, 3, 20.4, 0],\n",
       " [0, 0, 0, 16, 1, 0, 2, 0, 0, 0, 1, 0, 1, 3, 74.55, 0],\n",
       " [0, 0, 0, 2, 1, 0, 0, 0, 0, 0, 0, 1, 0, 1, 19.95, 0],\n",
       " [0, 1, 1, 66, 1, 1, 2, 0, 0, 0, 0, 1, 1, 2, 74.25, 0],\n",
       " [0, 0, 0, 46, 1, 1, 2, 0, 1, 1, 1, 2, 0, 0, 108.65, 0],\n",
       " [0, 0, 0, 32, 1, 1, 2, 1, 0, 1, 1, 1, 1, 2, 109.55, 0],\n",
       " [0, 1, 0, 72, 1, 1, 1, 1, 0, 1, 1, 2, 0, 3, 86.65, 0],\n",
       " [0, 1, 1, 38, 1, 0, 1, 1, 0, 1, 1, 2, 0, 3, 81.0, 0],\n",
       " [0, 0, 1, 51, 1, 0, 1, 0, 0, 0, 1, 1, 0, 3, 47.85, 0],\n",
       " [0, 1, 1, 72, 1, 1, 2, 1, 1, 1, 1, 2, 0, 2, 114.55, 0],\n",
       " [1, 1, 0, 65, 1, 1, 2, 1, 0, 1, 0, 0, 0, 2, 105.25, 1],\n",
       " [0, 1, 1, 9, 0, 0, 1, 0, 1, 0, 0, 0, 1, 0, 29.95, 1],\n",
       " [0, 1, 1, 9, 1, 0, 1, 1, 1, 1, 1, 0, 0, 1, 65.0, 1],\n",
       " [0, 0, 1, 66, 1, 0, 0, 0, 0, 0, 0, 2, 0, 1, 20.55, 0],\n",
       " [1, 0, 0, 44, 1, 1, 2, 1, 1, 1, 0, 1, 1, 3, 109.8, 0],\n",
       " [0, 0, 0, 50, 1, 1, 1, 0, 0, 1, 1, 2, 0, 2, 69.5, 0],\n",
       " [0, 0, 0, 15, 1, 1, 1, 0, 0, 0, 0, 0, 0, 1, 48.85, 0],\n",
       " [0, 0, 0, 8, 0, 0, 1, 0, 0, 0, 0, 0, 1, 3, 25.25, 0],\n",
       " [1, 0, 0, 66, 1, 1, 2, 0, 0, 1, 1, 1, 1, 3, 102.85, 0],\n",
       " [0, 0, 0, 57, 1, 1, 2, 1, 1, 0, 1, 0, 1, 2, 87.55, 0],\n",
       " [0, 0, 0, 7, 1, 1, 2, 0, 1, 0, 0, 0, 1, 2, 78.55, 0],\n",
       " [1, 1, 1, 10, 0, 0, 1, 0, 0, 0, 0, 0, 1, 2, 34.55, 0],\n",
       " [0, 0, 0, 62, 1, 1, 2, 1, 1, 1, 0, 1, 1, 0, 92.05, 0],\n",
       " [0, 1, 1, 40, 1, 0, 2, 0, 0, 1, 0, 1, 1, 0, 85.05, 0],\n",
       " [0, 0, 0, 20, 1, 0, 0, 0, 0, 0, 0, 2, 0, 1, 19.7, 0],\n",
       " [0, 0, 0, 7, 1, 0, 0, 0, 0, 0, 0, 0, 0, 2, 20.0, 1],\n",
       " [0, 1, 0, 25, 1, 0, 2, 0, 0, 0, 1, 0, 1, 0, 95.15, 0],\n",
       " [0, 1, 0, 23, 1, 1, 2, 0, 1, 1, 0, 0, 0, 0, 84.25, 0],\n",
       " [1, 1, 0, 66, 1, 1, 2, 0, 1, 1, 0, 1, 0, 3, 104.6, 0],\n",
       " [1, 0, 0, 72, 1, 1, 2, 0, 1, 1, 1, 2, 0, 0, 111.65, 0],\n",
       " [1, 1, 0, 49, 1, 1, 2, 0, 1, 0, 0, 0, 0, 3, 90.05, 1],\n",
       " [1, 1, 1, 43, 1, 1, 2, 0, 1, 1, 1, 0, 1, 2, 110.75, 1],\n",
       " [0, 1, 0, 46, 1, 1, 1, 1, 0, 0, 0, 0, 0, 2, 55.0, 0],\n",
       " [0, 1, 1, 72, 1, 1, 1, 1, 1, 1, 1, 2, 0, 3, 89.85, 0],\n",
       " [0, 0, 0, 10, 1, 0, 0, 0, 0, 0, 0, 1, 0, 1, 20.35, 0],\n",
       " [0, 0, 0, 40, 0, 0, 1, 1, 0, 0, 1, 1, 1, 2, 54.55, 0],\n",
       " [0, 1, 1, 65, 1, 1, 2, 0, 1, 1, 0, 0, 1, 0, 105.5, 1],\n",
       " [0, 0, 0, 31, 1, 0, 2, 0, 0, 1, 1, 2, 0, 2, 99.45, 0],\n",
       " [0, 1, 0, 68, 1, 1, 1, 1, 1, 1, 1, 2, 0, 3, 70.9, 0],\n",
       " [1, 1, 1, 56, 1, 1, 2, 1, 0, 1, 0, 1, 1, 2, 104.55, 1],\n",
       " [0, 1, 0, 10, 1, 1, 2, 0, 0, 0, 0, 0, 1, 0, 85.25, 1],\n",
       " [0, 1, 1, 68, 1, 1, 0, 0, 0, 0, 0, 2, 0, 2, 25.4, 0],\n",
       " [0, 1, 1, 43, 1, 0, 1, 0, 0, 0, 0, 0, 0, 0, 56.15, 1],\n",
       " [0, 0, 0, 1, 1, 0, 2, 0, 0, 0, 0, 0, 1, 0, 89.55, 1],\n",
       " [1, 0, 0, 49, 1, 0, 2, 0, 1, 1, 0, 1, 1, 2, 89.85, 0],\n",
       " [0, 1, 1, 15, 1, 1, 0, 0, 0, 0, 0, 0, 1, 0, 25.25, 0],\n",
       " [1, 1, 0, 20, 1, 1, 2, 0, 0, 0, 0, 0, 1, 0, 94.55, 1],\n",
       " [0, 0, 0, 1, 1, 0, 1, 0, 0, 0, 0, 0, 1, 1, 45.7, 1],\n",
       " [0, 1, 1, 50, 1, 1, 1, 0, 0, 1, 1, 1, 1, 0, 69.65, 0],\n",
       " [1, 0, 0, 2, 1, 1, 2, 0, 1, 0, 0, 0, 0, 0, 89.5, 1],\n",
       " [1, 0, 0, 24, 1, 0, 2, 0, 0, 0, 0, 0, 0, 3, 70.0, 0],\n",
       " [0, 0, 0, 3, 1, 0, 2, 0, 0, 0, 0, 0, 1, 2, 69.55, 1],\n",
       " [0, 0, 0, 1, 1, 0, 2, 0, 0, 1, 0, 0, 1, 1, 74.6, 1],\n",
       " [0, 1, 1, 35, 1, 0, 0, 0, 0, 0, 0, 2, 0, 1, 20.1, 0],\n",
       " [0, 0, 0, 17, 1, 1, 0, 0, 0, 0, 0, 0, 0, 1, 24.8, 0],\n",
       " [1, 0, 0, 8, 1, 0, 0, 0, 0, 0, 0, 0, 0, 0, 19.65, 1],\n",
       " [0, 0, 0, 10, 1, 0, 2, 0, 0, 0, 1, 0, 1, 3, 95.1, 0],\n",
       " [0, 1, 1, 68, 1, 1, 1, 1, 1, 1, 1, 2, 1, 3, 88.85, 0],\n",
       " [0, 1, 0, 45, 1, 0, 1, 1, 1, 1, 0, 1, 0, 2, 78.8, 0],\n",
       " [0, 1, 1, 2, 1, 0, 0, 0, 0, 0, 0, 1, 0, 1, 19.85, 1],\n",
       " [0, 1, 0, 37, 1, 0, 0, 0, 0, 0, 0, 0, 0, 2, 20.35, 0],\n",
       " [0, 0, 0, 4, 0, 0, 1, 0, 0, 0, 0, 0, 1, 1, 24.25, 1],\n",
       " [0, 0, 0, 10, 1, 0, 1, 0, 0, 0, 0, 0, 0, 1, 45.25, 0],\n",
       " [0, 0, 0, 1, 1, 0, 0, 0, 0, 0, 0, 0, 0, 1, 20.05, 0],\n",
       " [0, 1, 1, 65, 1, 1, 1, 1, 1, 0, 0, 2, 1, 1, 69.55, 0],\n",
       " [0, 1, 1, 57, 1, 0, 0, 0, 0, 0, 0, 2, 0, 2, 19.5, 0],\n",
       " [0, 0, 0, 3, 1, 0, 2, 0, 0, 1, 0, 0, 1, 1, 74.75, 0],\n",
       " [0, 0, 0, 2, 1, 0, 2, 0, 0, 0, 0, 0, 0, 0, 69.65, 1],\n",
       " [0, 0, 0, 49, 0, 0, 1, 0, 0, 1, 0, 0, 1, 2, 30.2, 0],\n",
       " [0, 0, 0, 4, 1, 0, 1, 0, 0, 0, 0, 0, 0, 1, 45.65, 1],\n",
       " [0, 1, 0, 70, 0, 0, 1, 0, 1, 1, 1, 2, 0, 2, 57.8, 0],\n",
       " [0, 1, 1, 53, 1, 0, 0, 0, 0, 0, 0, 1, 1, 2, 19.85, 0],\n",
       " [0, 1, 1, 53, 1, 1, 0, 0, 0, 0, 0, 2, 0, 3, 25.55, 0],\n",
       " [0, 0, 0, 1, 1, 1, 2, 0, 0, 0, 0, 0, 1, 1, 75.05, 1],\n",
       " [0, 0, 0, 22, 1, 1, 0, 0, 0, 0, 0, 0, 1, 3, 24.85, 0],\n",
       " [1, 0, 0, 52, 0, 0, 1, 0, 1, 0, 0, 0, 1, 0, 49.15, 1],\n",
       " [1, 0, 0, 65, 1, 1, 2, 1, 0, 1, 1, 2, 1, 0, 110.35, 0],\n",
       " [0, 0, 0, 48, 1, 1, 0, 0, 0, 0, 0, 1, 0, 2, 24.55, 0],\n",
       " [0, 0, 0, 2, 0, 0, 1, 0, 0, 0, 0, 0, 1, 0, 34.7, 1],\n",
       " [0, 0, 0, 3, 1, 1, 2, 0, 1, 1, 0, 0, 0, 1, 107.95, 0],\n",
       " [0, 1, 0, 45, 1, 1, 2, 0, 1, 0, 0, 0, 0, 2, 81.4, 0],\n",
       " [0, 1, 1, 1, 1, 0, 2, 0, 0, 0, 0, 0, 0, 0, 80.0, 1],\n",
       " [0, 1, 1, 61, 1, 0, 1, 0, 0, 1, 1, 2, 1, 2, 73.8, 0],\n",
       " [0, 0, 0, 3, 1, 0, 1, 1, 0, 0, 1, 0, 1, 3, 64.4, 0],\n",
       " [1, 0, 0, 40, 1, 1, 2, 0, 0, 1, 1, 1, 1, 3, 103.75, 0],\n",
       " [0, 0, 0, 1, 1, 0, 2, 0, 0, 0, 0, 0, 0, 1, 71.1, 0],\n",
       " [0, 0, 0, 1, 1, 0, 1, 0, 0, 0, 1, 0, 1, 0, 49.9, 0],\n",
       " [0, 0, 0, 51, 1, 1, 0, 0, 0, 0, 0, 1, 1, 2, 24.6, 0],\n",
       " [1, 0, 0, 2, 1, 0, 1, 1, 0, 0, 0, 0, 1, 0, 49.25, 1],\n",
       " [0, 0, 0, 52, 0, 0, 1, 0, 1, 0, 0, 1, 0, 1, 30.1, 0],\n",
       " [0, 0, 0, 51, 1, 1, 2, 0, 0, 0, 0, 0, 0, 2, 83.4, 0],\n",
       " [0, 0, 0, 1, 1, 0, 0, 0, 0, 0, 0, 0, 1, 1, 20.45, 0],\n",
       " [0, 1, 1, 31, 1, 1, 1, 1, 1, 0, 1, 1, 1, 2, 75.25, 0],\n",
       " [0, 0, 1, 47, 1, 0, 0, 0, 0, 0, 0, 1, 0, 3, 20.55, 0],\n",
       " [0, 0, 0, 3, 1, 1, 2, 0, 0, 0, 0, 0, 1, 3, 75.1, 1],\n",
       " [1, 0, 0, 22, 1, 0, 0, 0, 0, 0, 0, 1, 1, 1, 20.05, 0],\n",
       " [0, 1, 0, 1, 1, 0, 0, 0, 0, 0, 0, 0, 1, 1, 20.65, 0],\n",
       " [0, 1, 0, 72, 1, 1, 1, 0, 1, 1, 1, 2, 1, 2, 85.15, 0],\n",
       " [0, 1, 1, 3, 1, 0, 1, 0, 0, 1, 0, 0, 1, 0, 50.15, 1],\n",
       " [1, 1, 1, 47, 1, 0, 2, 0, 1, 0, 0, 1, 1, 2, 84.95, 0],\n",
       " [0, 1, 1, 72, 1, 1, 1, 1, 0, 1, 1, 2, 1, 3, 66.5, 0],\n",
       " [0, 1, 1, 66, 1, 1, 1, 0, 0, 1, 0, 2, 1, 2, 63.3, 0],\n",
       " [0, 0, 0, 35, 1, 1, 2, 0, 0, 0, 0, 0, 0, 0, 83.15, 0],\n",
       " [0, 0, 0, 29, 1, 1, 2, 0, 0, 0, 0, 0, 1, 0, 84.9, 0],\n",
       " [0, 0, 0, 2, 1, 0, 0, 0, 0, 0, 0, 0, 1, 1, 20.55, 0],\n",
       " [0, 0, 0, 4, 1, 0, 1, 0, 1, 0, 0, 0, 0, 1, 49.25, 0],\n",
       " [0, 0, 0, 25, 1, 0, 2, 1, 1, 0, 0, 0, 1, 2, 79.85, 1],\n",
       " [0, 0, 0, 65, 1, 0, 1, 1, 1, 0, 1, 2, 1, 1, 59.6, 0],\n",
       " [1, 0, 0, 27, 1, 1, 2, 0, 1, 0, 1, 1, 1, 2, 104.65, 0],\n",
       " [0, 1, 0, 29, 1, 0, 2, 0, 0, 1, 0, 0, 1, 3, 75.3, 0],\n",
       " [0, 1, 1, 29, 1, 1, 1, 0, 1, 1, 0, 0, 0, 3, 80.1, 0],\n",
       " [0, 0, 0, 1, 1, 0, 0, 0, 0, 0, 0, 0, 0, 1, 19.55, 1],\n",
       " [0, 1, 0, 20, 1, 0, 2, 0, 0, 1, 1, 0, 1, 1, 81.0, 0],\n",
       " [0, 0, 0, 58, 1, 1, 0, 0, 0, 0, 0, 2, 1, 3, 24.7, 0],\n",
       " [0, 0, 1, 14, 1, 1, 2, 1, 0, 0, 1, 0, 1, 1, 86.0, 0],\n",
       " [0, 1, 0, 72, 1, 1, 0, 0, 0, 0, 0, 2, 0, 1, 25.4, 0],\n",
       " [0, 0, 0, 46, 1, 1, 2, 1, 0, 0, 0, 0, 1, 3, 89.15, 0],\n",
       " [0, 1, 0, 71, 0, 0, 1, 0, 1, 1, 1, 2, 0, 2, 58.25, 0],\n",
       " [0, 0, 0, 32, 1, 1, 2, 0, 0, 0, 0, 0, 1, 2, 85.65, 0],\n",
       " [0, 0, 0, 26, 0, 0, 1, 0, 0, 1, 0, 0, 1, 3, 50.35, 0],\n",
       " [1, 1, 0, 68, 1, 1, 2, 0, 0, 1, 0, 0, 1, 3, 80.35, 0],\n",
       " [0, 1, 1, 2, 1, 0, 0, 0, 0, 0, 0, 1, 0, 1, 20.2, 0],\n",
       " [0, 1, 1, 61, 1, 0, 0, 0, 0, 0, 0, 2, 0, 3, 20.55, 0],\n",
       " [0, 1, 1, 4, 1, 1, 2, 0, 0, 0, 0, 0, 1, 0, 85.95, 1],\n",
       " [0, 0, 0, 3, 1, 0, 1, 0, 0, 0, 0, 0, 1, 0, 45.35, 1],\n",
       " [1, 1, 0, 33, 1, 1, 2, 0, 0, 0, 0, 0, 1, 0, 94.5, 1],\n",
       " [1, 1, 0, 9, 1, 0, 0, 0, 0, 0, 0, 0, 1, 1, 21.25, 0],\n",
       " [0, 0, 0, 22, 1, 1, 0, 0, 0, 0, 0, 2, 0, 1, 26.25, 0],\n",
       " [0, 1, 1, 5, 1, 0, 2, 0, 0, 0, 0, 0, 1, 0, 80.85, 0],\n",
       " [1, 0, 0, 30, 1, 1, 2, 1, 1, 1, 0, 0, 0, 3, 91.7, 1],\n",
       " [0, 0, 0, 65, 1, 1, 1, 0, 1, 1, 1, 2, 1, 3, 74.2, 0],\n",
       " [0, 0, 0, 45, 1, 1, 2, 0, 0, 1, 1, 0, 1, 0, 87.25, 1],\n",
       " [0, 0, 0, 5, 1, 0, 0, 0, 0, 0, 0, 0, 0, 1, 20.35, 0],\n",
       " [0, 1, 1, 25, 1, 0, 2, 0, 1, 0, 0, 0, 1, 0, 75.5, 0],\n",
       " [0, 1, 1, 72, 1, 1, 2, 1, 0, 0, 0, 2, 0, 2, 79.05, 0],\n",
       " [0, 1, 0, 27, 1, 1, 2, 0, 0, 1, 0, 0, 0, 2, 90.15, 0],\n",
       " [0, 1, 1, 32, 0, 0, 1, 0, 0, 1, 0, 0, 0, 3, 50.6, 0],\n",
       " [0, 0, 0, 30, 1, 1, 2, 0, 1, 1, 1, 1, 0, 3, 110.45, 0],\n",
       " [0, 1, 0, 70, 1, 0, 2, 1, 1, 1, 1, 2, 0, 3, 101.0, 0],\n",
       " [1, 0, 0, 42, 1, 1, 2, 0, 1, 0, 0, 0, 1, 2, 79.35, 0],\n",
       " [1, 1, 0, 72, 1, 1, 1, 1, 1, 1, 1, 2, 1, 2, 89.85, 0],\n",
       " [0, 0, 0, 47, 1, 1, 1, 1, 0, 1, 1, 2, 1, 1, 65.0, 0],\n",
       " [0, 0, 0, 2, 1, 0, 2, 1, 0, 1, 0, 0, 1, 0, 80.45, 0],\n",
       " [0, 0, 0, 10, 1, 1, 2, 1, 0, 0, 0, 0, 0, 0, 98.55, 1],\n",
       " [0, 1, 1, 61, 1, 1, 0, 0, 0, 0, 0, 2, 1, 1, 24.1, 0],\n",
       " [0, 0, 0, 5, 1, 0, 1, 0, 0, 0, 0, 0, 1, 3, 44.05, 0],\n",
       " [1, 1, 0, 72, 1, 1, 2, 0, 1, 1, 1, 2, 1, 3, 110.8, 0],\n",
       " [1, 1, 1, 72, 1, 1, 2, 1, 1, 1, 1, 2, 1, 2, 114.95, 0],\n",
       " [1, 0, 0, 3, 1, 0, 2, 0, 0, 1, 0, 0, 0, 1, 75.05, 0],\n",
       " [0, 1, 0, 48, 1, 0, 0, 0, 0, 0, 0, 2, 0, 1, 19.25, 0],\n",
       " [0, 0, 0, 63, 1, 0, 2, 0, 0, 1, 1, 1, 1, 3, 90.05, 0],\n",
       " [0, 0, 0, 27, 1, 0, 1, 1, 1, 0, 0, 0, 1, 1, 56.7, 0],\n",
       " [0, 1, 1, 70, 1, 0, 1, 1, 1, 1, 0, 2, 1, 3, 80.15, 0],\n",
       " [0, 1, 1, 7, 1, 0, 1, 1, 0, 1, 1, 0, 1, 3, 71.35, 0],\n",
       " [0, 1, 0, 2, 1, 0, 2, 1, 1, 0, 0, 0, 0, 0, 90.35, 0],\n",
       " [1, 0, 0, 20, 1, 1, 2, 0, 0, 1, 0, 0, 1, 0, 98.55, 1],\n",
       " [0, 0, 0, 66, 1, 0, 0, 0, 0, 0, 0, 2, 0, 2, 19.7, 0],\n",
       " [0, 0, 0, 3, 1, 0, 0, 0, 0, 0, 0, 0, 0, 1, 19.85, 0],\n",
       " [0, 0, 1, 15, 1, 0, 2, 0, 1, 0, 0, 0, 1, 2, 85.9, 1],\n",
       " [0, 1, 1, 72, 1, 1, 2, 1, 1, 0, 1, 2, 1, 2, 90.35, 0],\n",
       " [0, 0, 0, 1, 1, 0, 0, 0, 0, 0, 0, 0, 0, 1, 20.8, 0],\n",
       " [0, 0, 0, 22, 1, 0, 2, 0, 0, 0, 0, 0, 0, 0, 89.25, 1],\n",
       " [0, 1, 0, 3, 1, 0, 2, 0, 0, 0, 0, 0, 1, 0, 70.3, 1],\n",
       " [0, 1, 1, 72, 1, 1, 1, 1, 0, 1, 1, 2, 0, 2, 66.85, 0],\n",
       " [0, 1, 1, 65, 1, 0, 0, 0, 0, 0, 0, 2, 0, 1, 19.9, 0],\n",
       " [0, 0, 0, 11, 0, 0, 1, 0, 0, 0, 0, 0, 1, 1, 35.8, 0],\n",
       " [0, 0, 0, 22, 1, 1, 2, 0, 1, 0, 0, 0, 1, 1, 78.85, 0],\n",
       " [0, 0, 0, 14, 1, 0, 0, 0, 0, 0, 0, 1, 0, 2, 20.4, 0],\n",
       " [0, 0, 0, 41, 1, 0, 2, 0, 0, 0, 1, 0, 1, 0, 74.25, 0],\n",
       " [0, 1, 0, 17, 1, 0, 1, 1, 1, 0, 0, 1, 0, 1, 64.8, 0],\n",
       " [0, 0, 0, 11, 1, 0, 0, 0, 0, 0, 0, 0, 1, 3, 20.45, 0],\n",
       " [0, 0, 0, 15, 1, 1, 2, 0, 0, 0, 0, 0, 1, 0, 93.35, 1],\n",
       " [0, 0, 0, 1, 1, 0, 0, 0, 0, 0, 0, 0, 0, 1, 19.9, 1],\n",
       " [0, 1, 0, 5, 1, 0, 2, 1, 0, 1, 0, 0, 1, 1, 88.9, 1],\n",
       " [0, 1, 0, 33, 1, 0, 2, 0, 0, 1, 0, 1, 1, 0, 95.8, 1],\n",
       " [0, 1, 0, 72, 1, 1, 2, 1, 1, 1, 0, 2, 1, 3, 110.65, 0],\n",
       " [0, 1, 1, 3, 0, 0, 1, 0, 1, 0, 0, 0, 0, 1, 40.3, 0],\n",
       " [0, 0, 0, 2, 1, 1, 2, 0, 1, 0, 0, 0, 1, 0, 82.0, 1],\n",
       " [0, 1, 0, 59, 1, 1, 2, 1, 1, 1, 1, 1, 1, 3, 107.0, 0],\n",
       " [0, 0, 0, 2, 1, 0, 1, 0, 0, 0, 0, 0, 0, 0, 45.35, 1],\n",
       " [0, 1, 1, 71, 1, 0, 1, 0, 1, 0, 1, 2, 1, 3, 73.35, 0],\n",
       " [0, 1, 1, 5, 1, 0, 1, 0, 0, 0, 0, 0, 0, 1, 44.8, 0],\n",
       " [0, 1, 1, 27, 1, 0, 1, 1, 1, 0, 0, 0, 1, 3, 54.75, 0],\n",
       " [0, 0, 0, 1, 1, 0, 1, 0, 0, 0, 1, 0, 1, 0, 52.2, 1],\n",
       " [0, 0, 1, 63, 0, 0, 1, 1, 1, 0, 1, 1, 1, 2, 40.6, 0],\n",
       " [1, 0, 0, 46, 1, 1, 2, 1, 1, 1, 0, 1, 1, 0, 110.0, 1],\n",
       " [0, 1, 1, 72, 1, 1, 1, 1, 0, 0, 0, 2, 0, 2, 55.3, 0],\n",
       " [0, 1, 0, 34, 1, 1, 1, 1, 0, 0, 1, 0, 1, 2, 60.85, 0],\n",
       " [0, 1, 1, 24, 1, 1, 1, 1, 1, 0, 0, 1, 0, 0, 78.4, 0],\n",
       " [0, 0, 0, 72, 1, 1, 1, 1, 1, 1, 1, 2, 0, 2, 69.65, 0],\n",
       " [0, 1, 1, 60, 0, 0, 1, 1, 0, 1, 1, 2, 0, 3, 59.85, 0],\n",
       " [0, 0, 0, 68, 1, 1, 1, 1, 1, 1, 0, 1, 1, 3, 76.9, 0],\n",
       " [0, 1, 1, 8, 1, 0, 0, 0, 0, 0, 0, 2, 1, 1, 19.85, 0],\n",
       " [0, 0, 1, 34, 1, 0, 1, 1, 0, 1, 1, 2, 0, 3, 67.65, 0],\n",
       " [0, 0, 0, 6, 0, 0, 1, 0, 0, 0, 0, 0, 0, 3, 45.0, 0],\n",
       " [0, 1, 0, 2, 1, 0, 1, 0, 1, 0, 1, 0, 1, 1, 64.2, 0],\n",
       " [0, 0, 0, 31, 1, 1, 2, 0, 0, 0, 1, 1, 0, 3, 81.7, 0],\n",
       " [0, 1, 1, 20, 1, 1, 0, 0, 0, 0, 0, 0, 1, 2, 25.55, 0],\n",
       " [0, 1, 1, 1, 1, 0, 0, 0, 0, 0, 0, 0, 0, 0, 20.0, 0],\n",
       " [0, 0, 0, 62, 1, 1, 2, 0, 0, 1, 0, 1, 1, 0, 96.75, 1],\n",
       " [1, 1, 0, 70, 1, 1, 2, 0, 0, 0, 0, 2, 1, 3, 75.65, 0],\n",
       " [0, 0, 0, 10, 1, 1, 2, 0, 0, 0, 1, 0, 1, 0, 98.5, 1],\n",
       " [0, 1, 1, 39, 1, 1, 0, 0, 0, 0, 0, 2, 1, 1, 23.8, 0],\n",
       " [0, 1, 0, 46, 1, 0, 1, 0, 1, 0, 1, 2, 1, 3, 64.2, 0],\n",
       " [0, 0, 0, 6, 1, 0, 2, 0, 1, 0, 0, 0, 1, 0, 85.35, 1],\n",
       " [0, 1, 1, 72, 1, 1, 1, 0, 0, 1, 0, 2, 1, 2, 76.8, 0],\n",
       " [0, 0, 0, 18, 1, 0, 1, 0, 0, 1, 1, 0, 0, 3, 55.2, 0],\n",
       " [0, 1, 0, 71, 1, 1, 2, 1, 0, 1, 1, 2, 1, 3, 108.55, 0],\n",
       " [0, 1, 0, 40, 1, 1, 2, 0, 1, 0, 0, 0, 1, 0, 101.3, 1],\n",
       " [0, 0, 0, 1, 1, 0, 2, 0, 0, 0, 0, 0, 1, 0, 69.55, 1],\n",
       " [0, 0, 0, 58, 1, 1, 2, 0, 1, 1, 0, 1, 1, 2, 103.25, 1],\n",
       " [0, 0, 0, 70, 1, 1, 2, 1, 0, 0, 1, 2, 1, 3, 104.0, 1],\n",
       " [0, 1, 0, 42, 1, 1, 0, 0, 0, 0, 0, 2, 0, 0, 25.25, 0],\n",
       " [0, 1, 1, 34, 0, 0, 1, 1, 0, 0, 0, 1, 0, 2, 30.4, 0],\n",
       " [1, 0, 0, 5, 1, 0, 0, 0, 0, 0, 0, 0, 0, 2, 20.05, 0],\n",
       " [0, 0, 0, 25, 1, 1, 2, 0, 0, 0, 0, 0, 1, 1, 84.6, 0],\n",
       " [0, 0, 0, 2, 1, 0, 2, 0, 0, 1, 0, 0, 1, 1, 86.2, 1],\n",
       " [0, 1, 1, 55, 1, 0, 2, 0, 1, 1, 1, 1, 1, 2, 103.7, 0],\n",
       " [0, 1, 0, 21, 1, 1, 2, 0, 1, 1, 1, 0, 1, 0, 111.2, 1],\n",
       " [0, 1, 0, 70, 1, 1, 2, 1, 1, 0, 1, 2, 1, 3, 88.0, 0],\n",
       " [0, 1, 0, 61, 1, 1, 2, 0, 0, 1, 1, 0, 1, 0, 106.35, 0],\n",
       " [0, 1, 1, 43, 1, 0, 1, 1, 0, 1, 1, 2, 1, 3, 79.15, 0],\n",
       " [0, 0, 0, 47, 1, 1, 2, 0, 1, 1, 0, 1, 1, 0, 103.1, 0],\n",
       " [0, 0, 0, 5, 1, 0, 1, 0, 0, 1, 1, 0, 1, 3, 63.95, 0],\n",
       " [0, 0, 0, 62, 1, 1, 0, 0, 0, 0, 0, 2, 1, 3, 25.8, 0],\n",
       " [0, 1, 1, 16, 1, 0, 2, 0, 1, 1, 0, 0, 1, 3, 89.45, 1],\n",
       " [1, 1, 0, 7, 1, 1, 2, 0, 0, 0, 0, 0, 1, 2, 95.6, 1],\n",
       " [0, 1, 1, 14, 1, 1, 0, 0, 0, 0, 0, 0, 0, 1, 25.55, 0],\n",
       " [0, 1, 1, 60, 1, 0, 2, 0, 1, 1, 0, 1, 0, 0, 90.95, 1],\n",
       " [0, 1, 1, 34, 0, 0, 1, 0, 0, 1, 1, 0, 1, 0, 44.85, 0],\n",
       " [0, 1, 0, 50, 1, 1, 2, 1, 1, 0, 1, 1, 0, 0, 108.55, 1],\n",
       " [0, 1, 1, 38, 1, 1, 0, 0, 0, 0, 0, 2, 0, 3, 25.05, 0],\n",
       " [0, 1, 1, 70, 1, 0, 1, 1, 1, 1, 1, 1, 0, 3, 74.1, 0],\n",
       " [0, 1, 1, 37, 1, 1, 2, 0, 1, 0, 0, 0, 1, 0, 88.8, 0],\n",
       " [1, 0, 0, 4, 1, 0, 2, 0, 0, 0, 0, 0, 1, 0, 78.85, 1],\n",
       " [1, 1, 1, 60, 1, 1, 2, 1, 1, 0, 0, 0, 1, 0, 93.25, 0],\n",
       " [0, 1, 1, 62, 1, 0, 1, 1, 0, 1, 1, 1, 0, 3, 71.4, 0],\n",
       " [0, 0, 0, 1, 1, 0, 1, 0, 0, 0, 0, 0, 0, 1, 44.4, 1],\n",
       " [0, 0, 0, 36, 1, 0, 1, 1, 0, 1, 1, 0, 1, 3, 79.2, 0],\n",
       " [0, 0, 0, 44, 1, 0, 0, 0, 0, 0, 0, 2, 0, 3, 20.4, 0],\n",
       " [1, 0, 0, 55, 1, 1, 2, 0, 0, 1, 0, 1, 1, 0, 100.0, 1],\n",
       " [0, 1, 0, 72, 1, 1, 2, 1, 0, 1, 0, 2, 1, 3, 105.0, 0],\n",
       " [0, 1, 1, 12, 1, 0, 0, 0, 0, 0, 0, 1, 0, 2, 19.8, 1],\n",
       " [0, 0, 0, 13, 0, 0, 1, 1, 0, 0, 0, 0, 1, 2, 30.85, 0],\n",
       " [0, 0, 0, 1, 1, 0, 2, 0, 0, 0, 0, 0, 1, 0, 89.9, 1],\n",
       " [0, 1, 1, 15, 1, 0, 0, 0, 0, 0, 0, 1, 0, 1, 20.55, 0],\n",
       " [0, 0, 0, 65, 1, 0, 1, 1, 1, 1, 1, 2, 1, 2, 84.85, 0],\n",
       " [0, 1, 1, 12, 0, 0, 1, 1, 0, 0, 1, 1, 0, 3, 33.15, 0],\n",
       " [0, 1, 0, 72, 1, 1, 1, 1, 1, 1, 1, 2, 1, 3, 92.0, 0],\n",
       " [0, 1, 1, 72, 1, 1, 1, 1, 1, 1, 1, 2, 0, 3, 89.8, 0],\n",
       " [0, 1, 1, 72, 1, 1, 2, 1, 1, 1, 1, 2, 1, 2, 115.8, 0],\n",
       " [0, 0, 1, 52, 1, 1, 1, 1, 1, 0, 1, 2, 1, 1, 85.15, 0],\n",
       " [0, 0, 0, 2, 1, 1, 0, 0, 0, 0, 0, 0, 0, 1, 24.85, 0],\n",
       " [0, 0, 0, 5, 1, 0, 1, 1, 0, 0, 1, 0, 1, 0, 64.35, 0],\n",
       " [0, 0, 0, 68, 1, 0, 0, 0, 0, 0, 0, 2, 0, 3, 20.5, 0],\n",
       " [0, 0, 1, 62, 1, 1, 2, 0, 0, 1, 0, 1, 1, 0, 100.15, 1],\n",
       " [0, 0, 0, 72, 1, 1, 1, 1, 1, 0, 1, 2, 0, 3, 86.05, 0],\n",
       " [0, 0, 0, 1, 1, 0, 1, 0, 1, 0, 0, 0, 0, 0, 50.8, 1],\n",
       " [0, 1, 0, 66, 1, 1, 2, 1, 1, 0, 1, 1, 0, 0, 89.0, 0],\n",
       " [0, 1, 1, 72, 0, 0, 1, 1, 1, 1, 1, 2, 1, 3, 64.8, 0],\n",
       " [0, 0, 0, 26, 1, 0, 0, 0, 0, 0, 0, 1, 0, 3, 19.8, 0],\n",
       " [0, 1, 1, 64, 1, 1, 2, 1, 0, 1, 0, 2, 0, 2, 93.4, 0],\n",
       " [1, 1, 0, 20, 1, 0, 2, 0, 1, 0, 0, 0, 1, 0, 73.65, 1],\n",
       " [0, 0, 0, 3, 1, 0, 2, 0, 1, 0, 0, 0, 1, 0, 95.1, 1],\n",
       " [0, 0, 0, 22, 1, 1, 2, 0, 0, 0, 0, 0, 1, 3, 94.65, 1],\n",
       " [0, 1, 0, 4, 1, 0, 2, 0, 0, 1, 1, 0, 1, 1, 80.6, 1],\n",
       " [0, 1, 0, 62, 0, 0, 1, 0, 0, 0, 1, 2, 1, 2, 39.0, 0],\n",
       " [0, 0, 0, 5, 1, 0, 0, 0, 0, 0, 0, 0, 1, 1, 20.5, 0],\n",
       " [0, 1, 0, 59, 1, 1, 2, 0, 0, 0, 0, 1, 0, 0, 85.55, 1],\n",
       " [0, 0, 1, 3, 1, 1, 0, 0, 0, 0, 0, 2, 1, 1, 26.4, 0],\n",
       " [0, 1, 0, 72, 1, 1, 2, 1, 0, 1, 1, 2, 1, 2, 98.2, 0],\n",
       " [0, 1, 1, 57, 1, 0, 2, 0, 1, 1, 0, 1, 1, 3, 97.55, 0],\n",
       " [0, 0, 1, 66, 1, 0, 0, 0, 0, 0, 0, 2, 0, 3, 19.95, 0],\n",
       " [0, 0, 0, 60, 0, 0, 1, 0, 1, 0, 0, 0, 1, 0, 50.8, 1],\n",
       " [0, 0, 1, 45, 1, 1, 2, 0, 0, 1, 0, 2, 0, 2, 99.7, 0],\n",
       " [0, 0, 0, 3, 0, 0, 1, 0, 0, 0, 0, 0, 1, 3, 34.8, 0],\n",
       " [0, 0, 0, 15, 1, 0, 2, 1, 0, 1, 1, 0, 0, 0, 105.1, 1],\n",
       " [0, 0, 1, 51, 0, 0, 1, 1, 0, 1, 1, 1, 0, 2, 60.15, 0],\n",
       " [0, 0, 0, 60, 1, 1, 1, 1, 0, 1, 1, 1, 0, 0, 64.75, 0],\n",
       " [0, 0, 0, 33, 1, 1, 1, 0, 1, 0, 0, 0, 1, 2, 54.65, 0],\n",
       " [0, 0, 0, 10, 1, 0, 2, 1, 1, 1, 1, 0, 1, 0, 110.1, 1],\n",
       " [1, 0, 0, 26, 1, 0, 0, 0, 0, 0, 0, 1, 0, 3, 19.3, 0],\n",
       " [0, 0, 0, 6, 1, 0, 2, 0, 0, 1, 0, 0, 0, 0, 83.9, 1],\n",
       " [0, 1, 0, 67, 1, 1, 2, 1, 0, 1, 1, 1, 1, 0, 111.25, 0],\n",
       " [0, 1, 1, 49, 0, 0, 1, 1, 0, 0, 1, 1, 1, 3, 35.8, 0],\n",
       " [0, 0, 0, 1, 1, 0, 0, 0, 0, 0, 0, 0, 1, 1, 20.05, 0],\n",
       " [1, 0, 0, 7, 1, 0, 2, 0, 0, 1, 0, 0, 1, 0, 84.35, 0],\n",
       " [1, 0, 0, 27, 1, 1, 2, 1, 1, 1, 0, 1, 1, 2, 110.5, 0],\n",
       " [0, 1, 1, 37, 1, 0, 2, 0, 0, 0, 0, 1, 0, 3, 91.2, 0],\n",
       " [0, 1, 1, 63, 1, 1, 2, 1, 1, 1, 0, 0, 1, 0, 100.55, 1],\n",
       " [0, 1, 1, 31, 1, 1, 2, 1, 0, 1, 1, 0, 0, 0, 89.3, 0],\n",
       " [0, 1, 1, 50, 1, 1, 2, 0, 1, 1, 0, 0, 1, 2, 103.85, 1],\n",
       " [1, 0, 0, 32, 1, 1, 2, 0, 0, 1, 0, 0, 1, 3, 81.1, 0],\n",
       " [0, 0, 0, 1, 0, 0, 1, 0, 0, 0, 0, 0, 0, 0, 24.6, 1],\n",
       " [0, 1, 0, 63, 1, 1, 2, 0, 0, 0, 1, 1, 1, 3, 81.2, 0],\n",
       " [0, 0, 0, 30, 1, 1, 2, 1, 1, 0, 0, 0, 1, 3, 94.3, 0],\n",
       " [0, 1, 0, 71, 1, 1, 2, 1, 1, 1, 1, 2, 1, 2, 116.1, 0],\n",
       " [0, 0, 0, 53, 1, 1, 2, 0, 1, 1, 0, 2, 0, 0, 105.55, 0],\n",
       " [0, 0, 0, 12, 1, 0, 2, 1, 0, 0, 1, 0, 1, 2, 98.9, 1],\n",
       " [0, 1, 0, 50, 1, 1, 2, 1, 1, 0, 0, 0, 1, 3, 94.4, 0],\n",
       " [0, 0, 0, 2, 1, 0, 0, 0, 0, 0, 0, 0, 0, 1, 19.5, 0],\n",
       " [0, 0, 0, 9, 1, 1, 2, 0, 0, 1, 0, 0, 0, 3, 98.3, 1],\n",
       " [0, 0, 0, 17, 1, 0, 2, 1, 0, 0, 0, 0, 0, 0, 93.85, 1],\n",
       " [0, 1, 0, 56, 1, 0, 2, 1, 1, 1, 0, 1, 1, 3, 105.6, 0],\n",
       " [0, 1, 1, 67, 1, 0, 1, 1, 1, 1, 0, 2, 0, 3, 81.35, 0],\n",
       " [1, 0, 0, 9, 1, 1, 2, 0, 0, 1, 0, 0, 1, 0, 100.5, 1],\n",
       " [0, 0, 0, 4, 1, 0, 1, 0, 0, 0, 0, 0, 1, 0, 56.4, 0],\n",
       " [0, 0, 0, 19, 1, 0, 1, 0, 1, 0, 1, 1, 1, 2, 65.35, 0],\n",
       " [0, 0, 1, 8, 1, 0, 0, 0, 0, 0, 0, 0, 0, 1, 19.95, 0],\n",
       " [0, 0, 0, 71, 1, 1, 2, 0, 1, 1, 1, 2, 1, 0, 111.25, 0],\n",
       " [1, 0, 0, 10, 1, 0, 2, 0, 1, 0, 0, 0, 1, 0, 72.85, 1],\n",
       " [1, 0, 0, 15, 1, 1, 2, 0, 1, 0, 0, 0, 0, 3, 89.0, 0],\n",
       " [0, 1, 1, 72, 1, 1, 2, 1, 0, 1, 0, 1, 1, 2, 106.1, 0],\n",
       " [0, 0, 0, 12, 1, 0, 0, 0, 0, 0, 0, 1, 0, 3, 20.05, 0],\n",
       " [0, 1, 1, 72, 1, 1, 0, 0, 0, 0, 0, 2, 1, 2, 25.2, 0],\n",
       " [1, 1, 0, 1, 1, 1, 2, 0, 0, 0, 0, 0, 1, 0, 73.55, 1],\n",
       " [1, 0, 0, 23, 1, 0, 2, 1, 0, 0, 0, 0, 1, 2, 75.4, 0],\n",
       " [0, 0, 0, 72, 0, 0, 1, 1, 1, 1, 1, 2, 1, 2, 65.55, 0],\n",
       " [0, 0, 0, 26, 1, 1, 2, 0, 0, 1, 0, 0, 1, 0, 80.7, 0],\n",
       " [0, 0, 0, 21, 1, 0, 2, 0, 1, 1, 1, 1, 1, 1, 104.55, 0],\n",
       " [0, 1, 0, 60, 1, 1, 0, 0, 0, 0, 0, 1, 0, 2, 24.15, 0],\n",
       " [0, 0, 0, 12, 1, 0, 0, 0, 0, 0, 0, 0, 0, 1, 20.45, 0],\n",
       " [0, 1, 0, 16, 1, 1, 2, 0, 0, 0, 0, 0, 1, 0, 75.4, 0],\n",
       " [0, 1, 0, 63, 1, 1, 1, 1, 1, 0, 0, 1, 1, 3, 79.7, 0],\n",
       " [1, 0, 0, 22, 1, 0, 2, 1, 1, 0, 0, 0, 0, 0, 81.7, 0],\n",
       " [0, 1, 1, 32, 1, 0, 1, 1, 1, 1, 1, 0, 0, 2, 76.3, 0],\n",
       " [1, 0, 0, 3, 1, 1, 2, 0, 1, 0, 0, 0, 1, 0, 79.4, 1],\n",
       " [0, 0, 0, 13, 1, 0, 2, 0, 1, 1, 0, 0, 1, 0, 81.15, 1],\n",
       " [0, 1, 1, 68, 1, 1, 2, 0, 1, 0, 1, 2, 1, 3, 103.75, 0],\n",
       " [0, 1, 1, 30, 1, 0, 2, 0, 0, 1, 0, 1, 0, 0, 86.45, 0],\n",
       " [0, 0, 0, 16, 1, 0, 2, 0, 1, 0, 0, 0, 0, 2, 75.1, 0],\n",
       " [0, 0, 0, 33, 1, 0, 2, 0, 1, 0, 1, 2, 0, 2, 80.6, 0],\n",
       " [0, 1, 0, 72, 1, 0, 0, 0, 0, 0, 0, 2, 0, 3, 19.3, 0],\n",
       " [1, 0, 0, 4, 1, 1, 2, 0, 0, 0, 0, 0, 1, 0, 84.6, 1],\n",
       " [0, 0, 0, 12, 0, 0, 1, 1, 0, 0, 1, 1, 1, 1, 33.6, 0],\n",
       " [1, 1, 0, 4, 1, 1, 2, 0, 0, 0, 0, 0, 1, 0, 83.25, 0],\n",
       " [0, 0, 0, 6, 1, 1, 2, 1, 0, 0, 0, 0, 1, 0, 79.05, 1],\n",
       " [0, 1, 0, 65, 1, 1, 2, 0, 1, 1, 1, 1, 1, 3, 108.05, 0],\n",
       " [0, 0, 0, 15, 1, 0, 0, 0, 0, 0, 0, 0, 0, 1, 19.9, 0],\n",
       " [0, 0, 1, 24, 1, 0, 0, 0, 0, 0, 0, 1, 0, 2, 21.05, 0],\n",
       " [0, 0, 1, 13, 0, 0, 1, 0, 1, 0, 0, 0, 0, 0, 30.15, 0],\n",
       " [0, 0, 0, 24, 1, 0, 2, 0, 0, 0, 0, 0, 1, 3, 79.85, 0],\n",
       " [0, 1, 0, 72, 0, 0, 1, 1, 1, 1, 1, 2, 0, 2, 65.5, 0],\n",
       " [0, 1, 1, 54, 1, 1, 2, 1, 1, 0, 0, 0, 1, 2, 104.1, 0],\n",
       " [0, 0, 0, 3, 1, 1, 2, 0, 0, 0, 0, 0, 0, 2, 74.4, 1],\n",
       " [0, 1, 1, 4, 1, 0, 0, 0, 0, 0, 0, 0, 1, 1, 20.5, 0],\n",
       " [1, 1, 1, 32, 1, 1, 2, 0, 0, 1, 0, 0, 1, 1, 91.35, 0],\n",
       " [1, 0, 0, 35, 1, 1, 2, 0, 0, 1, 0, 0, 1, 0, 99.05, 1],\n",
       " [0, 1, 1, 35, 1, 0, 0, 0, 0, 0, 0, 2, 0, 2, 20.5, 0],\n",
       " [1, 0, 0, 2, 1, 0, 1, 0, 0, 0, 0, 0, 0, 1, 44.95, 1],\n",
       " [0, 0, 0, 8, 1, 0, 2, 0, 1, 0, 0, 0, 0, 0, 75.6, 0],\n",
       " [0, 0, 0, 22, 1, 0, 1, 1, 0, 0, 1, 0, 0, 1, 55.1, 0],\n",
       " [0, 0, 0, 15, 1, 0, 1, 1, 0, 1, 1, 0, 0, 0, 58.95, 0],\n",
       " [0, 0, 0, 22, 1, 1, 2, 0, 0, 0, 0, 0, 1, 0, 95.1, 0],\n",
       " [0, 1, 0, 1, 1, 0, 1, 0, 0, 0, 0, 0, 0, 3, 44.7, 1],\n",
       " [0, 1, 1, 71, 1, 1, 0, 0, 0, 0, 0, 2, 0, 2, 25.45, 0],\n",
       " [0, 0, 0, 4, 1, 0, 1, 1, 0, 1, 0, 0, 0, 0, 56.75, 0],\n",
       " [0, 0, 0, 25, 1, 1, 1, 1, 1, 1, 1, 0, 0, 2, 81.75, 0],\n",
       " [0, 1, 1, 32, 1, 0, 2, 0, 1, 0, 0, 0, 1, 0, 86.1, 0],\n",
       " [1, 1, 0, 7, 0, 0, 1, 1, 0, 0, 0, 0, 0, 2, 29.8, 0],\n",
       " [0, 0, 0, 17, 1, 0, 0, 0, 0, 0, 0, 1, 1, 1, 20.5, 0],\n",
       " [1, 1, 0, 8, 1, 0, 1, 1, 0, 0, 0, 0, 0, 2, 60.9, 0],\n",
       " [1, 0, 0, 56, 1, 1, 1, 1, 0, 1, 1, 2, 0, 2, 73.25, 0],\n",
       " [0, 0, 0, 1, 1, 0, 1, 0, 0, 0, 0, 0, 1, 1, 45.7, 1],\n",
       " [1, 0, 0, 8, 1, 0, 2, 1, 0, 0, 1, 0, 0, 3, 100.3, 1],\n",
       " [0, 0, 0, 7, 1, 0, 0, 0, 0, 0, 0, 0, 0, 0, 19.25, 1],\n",
       " [0, 0, 1, 3, 1, 0, 0, 0, 0, 0, 0, 0, 0, 1, 20.85, 0],\n",
       " [0, 0, 0, 71, 1, 0, 1, 1, 1, 1, 1, 2, 0, 3, 77.35, 0],\n",
       " [0, 0, 0, 2, 1, 1, 2, 0, 0, 0, 0, 0, 1, 0, 96.0, 1],\n",
       " [0, 0, 0, 1, 1, 0, 2, 0, 0, 0, 0, 0, 0, 0, 90.55, 1],\n",
       " [0, 1, 0, 49, 1, 1, 2, 1, 1, 0, 0, 0, 1, 2, 93.85, 0],\n",
       " [0, 0, 0, 58, 1, 0, 1, 0, 1, 1, 1, 2, 0, 2, 70.1, 0],\n",
       " [1, 1, 0, 44, 0, 0, 1, 0, 1, 0, 0, 0, 1, 0, 30.35, 1],\n",
       " [0, 1, 1, 59, 1, 0, 1, 0, 1, 0, 1, 2, 1, 3, 75.95, 0],\n",
       " [0, 0, 0, 71, 1, 1, 2, 1, 0, 1, 1, 2, 1, 0, 108.05, 1],\n",
       " [0, 0, 0, 1, 1, 0, 2, 0, 0, 0, 0, 0, 1, 0, 69.9, 1],\n",
       " [0, 0, 0, 11, 1, 1, 2, 0, 0, 0, 0, 0, 0, 0, 75.25, 0],\n",
       " [1, 1, 0, 62, 1, 1, 2, 0, 1, 1, 0, 1, 1, 0, 103.75, 1],\n",
       " [0, 1, 1, 35, 1, 0, 1, 1, 0, 0, 1, 1, 1, 2, 54.95, 0],\n",
       " [0, 0, 0, 20, 1, 0, 0, 0, 0, 0, 0, 0, 1, 2, 19.5, 0],\n",
       " [0, 1, 1, 40, 1, 0, 0, 0, 0, 0, 0, 2, 0, 1, 19.6, 0],\n",
       " [0, 0, 0, 39, 1, 0, 1, 1, 0, 0, 0, 1, 1, 0, 47.85, 0],\n",
       " [0, 0, 0, 1, 1, 1, 2, 0, 0, 0, 0, 0, 1, 0, 86.6, 1],\n",
       " [0, 1, 1, 72, 1, 1, 0, 0, 0, 0, 0, 2, 0, 2, 23.75, 0],\n",
       " [1, 1, 0, 33, 1, 1, 2, 0, 1, 0, 0, 0, 1, 2, 80.6, 1],\n",
       " [0, 0, 0, 12, 1, 0, 1, 0, 0, 0, 0, 0, 0, 2, 43.8, 0],\n",
       " [0, 0, 0, 1, 1, 0, 0, 0, 0, 0, 0, 0, 0, 2, 19.75, 0],\n",
       " [0, 0, 1, 27, 1, 0, 0, 0, 0, 0, 0, 0, 0, 1, 19.15, 0],\n",
       " [0, 1, 1, 34, 1, 0, 0, 0, 0, 0, 0, 1, 0, 3, 19.6, 0],\n",
       " [0, 1, 0, 56, 1, 0, 2, 1, 0, 1, 0, 2, 0, 2, 80.3, 0],\n",
       " [0, 0, 0, 58, 1, 1, 0, 0, 0, 0, 0, 2, 0, 3, 24.35, 0],\n",
       " [0, 1, 1, 22, 1, 1, 0, 0, 0, 0, 0, 2, 0, 3, 25.25, 0],\n",
       " [0, 1, 1, 10, 1, 1, 0, 0, 0, 0, 0, 2, 0, 3, 26.1, 0],\n",
       " [0, 0, 0, 13, 1, 0, 0, 0, 0, 0, 0, 2, 0, 3, 20.0, 0],\n",
       " [0, 0, 0, 35, 1, 1, 2, 0, 1, 0, 1, 0, 0, 3, 85.3, 1],\n",
       " [0, 0, 0, 34, 1, 0, 2, 0, 0, 0, 0, 0, 1, 3, 70.0, 1],\n",
       " [1, 0, 0, 4, 1, 1, 2, 0, 0, 0, 0, 0, 1, 0, 94.3, 1],\n",
       " [0, 1, 0, 72, 1, 0, 0, 0, 0, 0, 0, 2, 0, 2, 20.7, 0],\n",
       " [0, 0, 0, 2, 1, 0, 1, 0, 0, 0, 1, 0, 0, 0, 70.3, 0],\n",
       " [0, 0, 0, 7, 1, 0, 2, 0, 0, 1, 0, 0, 1, 0, 95.35, 1],\n",
       " [1, 1, 0, 27, 1, 1, 2, 0, 0, 0, 0, 0, 1, 0, 75.5, 1],\n",
       " [0, 1, 1, 4, 1, 0, 2, 0, 0, 0, 0, 0, 1, 1, 69.55, 0],\n",
       " ...]"
      ]
     },
     "execution_count": 2,
     "metadata": {},
     "output_type": "execute_result"
    }
   ],
   "source": [
    "telcom1"
   ]
  },
  {
   "cell_type": "code",
   "execution_count": null,
   "metadata": {},
   "outputs": [],
   "source": []
  },
  {
   "cell_type": "code",
   "execution_count": 3,
   "metadata": {},
   "outputs": [],
   "source": [
    "telcompos=[]\n",
    "telcomneg=[]\n",
    "for i in range(0,len(telcom1)):\n",
    "    if telcom1[i][15]==1:\n",
    "        telcompos.append(telcom1[i])\n",
    "    else:\n",
    "        telcomneg.append(telcom1[i])\n",
    "        "
   ]
  },
  {
   "cell_type": "code",
   "execution_count": 4,
   "metadata": {},
   "outputs": [
    {
     "data": {
      "text/plain": [
       "1869"
      ]
     },
     "execution_count": 4,
     "metadata": {},
     "output_type": "execute_result"
    }
   ],
   "source": [
    "len(telcompos)"
   ]
  },
  {
   "cell_type": "code",
   "execution_count": 20,
   "metadata": {},
   "outputs": [],
   "source": [
    "import DecisionTree"
   ]
  },
  {
   "cell_type": "code",
   "execution_count": 32,
   "metadata": {},
   "outputs": [
    {
     "name": "stdout",
     "output_type": "stream",
     "text": [
      "<class 'list'>\n"
     ]
    },
    {
     "name": "stderr",
     "output_type": "stream",
     "text": [
      "INFO:root:Training tree 1\n",
      "INFO:root:Training tree 2\n",
      "INFO:root:Training tree 3\n",
      "INFO:root:Training tree 4\n",
      "INFO:root:Training tree 5\n",
      "INFO:root:Training tree 6\n",
      "INFO:root:Training tree 7\n",
      "INFO:root:Training tree 8\n",
      "INFO:root:Training tree 9\n",
      "INFO:root:Training tree 10\n",
      "INFO:root:Training tree 11\n",
      "INFO:root:Training tree 12\n",
      "INFO:root:Training tree 13\n",
      "INFO:root:Training tree 14\n",
      "INFO:root:Training tree 15\n",
      "INFO:root:Training tree 16\n",
      "INFO:root:Training tree 17\n",
      "INFO:root:Training tree 18\n",
      "INFO:root:Training tree 19\n",
      "INFO:root:Training tree 20\n",
      "INFO:root:Training tree 21\n",
      "INFO:root:Training tree 22\n",
      "INFO:root:Training tree 23\n",
      "INFO:root:Training tree 24\n",
      "INFO:root:Training tree 25\n",
      "INFO:root:Training tree 26\n",
      "INFO:root:Training tree 27\n",
      "INFO:root:Training tree 28\n",
      "INFO:root:Training tree 29\n",
      "INFO:root:Training tree 30\n",
      "INFO:root:Training tree 31\n",
      "INFO:root:Training tree 32\n",
      "INFO:root:Training tree 33\n",
      "INFO:root:Training tree 34\n",
      "INFO:root:Training tree 35\n",
      "INFO:root:Training tree 36\n",
      "INFO:root:Training tree 37\n",
      "INFO:root:Training tree 38\n",
      "INFO:root:Training tree 39\n",
      "INFO:root:Training tree 40\n",
      "INFO:root:Training tree 41\n",
      "INFO:root:Training tree 42\n",
      "INFO:root:Training tree 43\n",
      "INFO:root:Training tree 44\n",
      "INFO:root:Training tree 45\n",
      "INFO:root:Training tree 46\n",
      "INFO:root:Training tree 47\n",
      "INFO:root:Training tree 48\n",
      "INFO:root:Training tree 49\n",
      "INFO:root:Training tree 50\n",
      "INFO:root:Training tree 51\n",
      "INFO:root:Training tree 52\n",
      "INFO:root:Training tree 53\n",
      "INFO:root:Training tree 54\n",
      "INFO:root:Training tree 55\n",
      "INFO:root:Training tree 56\n",
      "INFO:root:Training tree 57\n",
      "INFO:root:Training tree 58\n",
      "INFO:root:Training tree 59\n",
      "INFO:root:Training tree 60\n",
      "INFO:root:Error rate: 5.592417061611375\n"
     ]
    },
    {
     "name": "stdout",
     "output_type": "stream",
     "text": [
      "[[0.37955066 0.62044934 0.35234009 ... 0.66563478 0.25856044 0.74143956]\n",
      " [0.37955066 0.62044934 0.35234009 ... 0.66563478 0.25856044 0.74143956]\n",
      " [0.37955066 0.62044934 0.35234009 ... 0.66563478 0.25856044 0.74143956]\n",
      " ...\n",
      " [0.37955066 0.62044934 0.35234009 ... 0.66563478 0.25856044 0.74143956]\n",
      " [0.37955066 0.62044934 0.35234009 ... 0.66563478 0.25856044 0.74143956]\n",
      " [0.37955066 0.62044934 0.35234009 ... 0.66563478 0.25856044 0.74143956]]\n",
      "[0 0 0 ... 0 0 0]\n",
      "Error rate: 5.592417061611375\n",
      "Accuracy: 94.40758293838863\n",
      "Accuracy-cf: 0.9440758293838862\n",
      "Lift: 3.544000714732422\n",
      "Precision-cf: 0.8818011257035647\n",
      "Recall-cf: 0.8952380952380953\n"
     ]
    }
   ],
   "source": [
    "#!/usr/bin/env python3\n",
    "\n",
    "import CSVReader\n",
    "import logging\n",
    "import random\n",
    "from concurrent.futures import ProcessPoolExecutor\n",
    "from DecisionTree import DecisionTreeClassifier\n",
    "import matplotlib.pyplot as plt\n",
    "import scikitplot as skplt\n",
    "from numpy  import array\n",
    "\n",
    "\n",
    "class RandomForestClassifier(object):\n",
    "\n",
    "    \"\"\"\n",
    "    :param  nb_trees:       Number of decision trees to use\n",
    "    :param  nb_samples:     Number of samples to give to each tree\n",
    "    :param  max_depth:      Maximum depth of the trees\n",
    "    :param  max_workers:    Maximum number of processes to use for training\n",
    "    \"\"\"\n",
    "    def __init__(self, nb_trees, nb_samples, max_depth=-1, max_workers=1):\n",
    "        self.trees = []\n",
    "        self.nb_trees = nb_trees\n",
    "        self.nb_samples = nb_samples\n",
    "        self.max_depth = max_depth\n",
    "        self.max_workers = max_workers\n",
    "        self.alpha = random.uniform(0.25, 0.35)\n",
    "    \n",
    "    def sampler(self, data):\n",
    "            alpha = random.uniform(0.25, 0.35)\n",
    "            positive = random.sample(telcompos, int(alpha*self.nb_samples))\n",
    "            negative = random.sample(telcomneg, int((1-alpha)*self.nb_samples)+1)\n",
    "            total = positive+negative\n",
    "            return total\n",
    "    \"\"\"\n",
    "    Trains self.nb_trees number of decision trees.\n",
    "    :param  data:   A list of lists with the last element of each list being\n",
    "                    the value to predict\n",
    "    \"\"\"\n",
    "    def fit(self, data):\n",
    "        with ProcessPoolExecutor(max_workers=self.max_workers) as executor:\n",
    "            rand_fts = map(lambda x: [x, self.sampler(data)], range(self.nb_trees))\n",
    "            self.trees = list(executor.map(self.train_tree, rand_fts))\n",
    "\n",
    "    \"\"\"\n",
    "    Trains a single tree and returns it.\n",
    "    :param  data:   A List containing the index of the tree being trained\n",
    "                    and the data to train it\n",
    "    \"\"\"\n",
    "    def train_tree(self, data):\n",
    "        \n",
    "        logging.info('Training tree {}'.format(data[0] + 1))\n",
    "        tree = DecisionTreeClassifier(max_depth=self.max_depth)\n",
    "\n",
    "        tree.fit(data[1])\n",
    "        return tree\n",
    "\n",
    "    \"\"\"\n",
    "    Returns a prediction for the given feature. The result is the value that\n",
    "    gets the most votes.\n",
    "    :param  feature:    The features used to predict\n",
    "    \"\"\"\n",
    "    def predict(self, feature):\n",
    "        alpha = random.uniform(0.25, 0.35)\n",
    "        churn_weight = 1 - alpha\n",
    "        non_churn_weight = alpha\n",
    "        predictions = []\n",
    "        for tree in self.trees:\n",
    "            predictions.append(tree.predict(feature))\n",
    "        \n",
    "        result = (predictions.count(1)* churn_weight +  predictions.count(0)* non_churn_weight)/60    \n",
    "        #print(result)  \n",
    "        if result>=0.5:\n",
    "            return result,1\n",
    "        else:\n",
    "            return result,0\n",
    "\n",
    "        \n",
    "\n",
    "def test_rf():\n",
    "    from sklearn.model_selection import train_test_split\n",
    "\n",
    "    #data = CSVReader.read_csv(\"income.csv\")\n",
    "    data= telcom1\n",
    "    print(type(data))\n",
    "    train, test = train_test_split(data, test_size=0.3)\n",
    "\n",
    "    rf = RandomForestClassifier(nb_trees=60, nb_samples=2400, max_workers=4)\n",
    "    rf.fit(train)\n",
    "\n",
    "    errors = 0\n",
    "    features = [ft[:-1] for ft in test]\n",
    "    values = [ft[-1] for ft in test]\n",
    "    tp=0\n",
    "    tn=0\n",
    "    fp=0\n",
    "    fn=0\n",
    "    \n",
    "    \n",
    "    probab=[]\n",
    "    pro=[]\n",
    "    for feature, value in zip(features, values):\n",
    "        prob, prediction = rf.predict(feature)\n",
    "        pro.append(prob)\n",
    "        pro.append(1-prob)\n",
    "        probab.append(pro)\n",
    "        if prediction != value:\n",
    "            errors += 1\n",
    "        if prediction == 0 and value==0:\n",
    "            tn=tn+1\n",
    "        if prediction == 1 and value==1:\n",
    "            tp=tp+1\n",
    "        if prediction == 0 and value==1:\n",
    "            fn=fn+1\n",
    "        if prediction == 1 and value==0:\n",
    "            fp=fp+1\n",
    "    probab= array(probab)\n",
    "    values= array(values)\n",
    "    print(probab)   \n",
    "    print(values)\n",
    "    logging.info(\"Error rate: {}\".format(errors / len(features) * 100))\n",
    "    print(\"Error rate: {}\".format(errors / len(features) * 100))\n",
    "    print(\"Accuracy: {}\".format(100-errors / len(features) * 100))\n",
    "    print(\"Accuracy-cf: {}\".format((tp+tn) / len(features) ))\n",
    "    print(\"Lift: {}\".format((tp*len(features))/((tp+fp)*(tp+fn))))\n",
    "    print(\"Precision-cf: {}\".format(tp / (tp+fp) ))\n",
    "    print(\"Recall-cf: {}\".format(tp/ (tp+fn) ))\n",
    "\n",
    "if __name__ == '__main__':\n",
    "    logging.basicConfig(level=logging.INFO)\n",
    "    test_rf()"
   ]
  },
  {
   "cell_type": "code",
   "execution_count": null,
   "metadata": {},
   "outputs": [],
   "source": []
  }
 ],
 "metadata": {
  "kernelspec": {
   "display_name": "Python 3",
   "language": "python",
   "name": "python3"
  },
  "language_info": {
   "codemirror_mode": {
    "name": "ipython",
    "version": 3
   },
   "file_extension": ".py",
   "mimetype": "text/x-python",
   "name": "python",
   "nbconvert_exporter": "python",
   "pygments_lexer": "ipython3",
   "version": "3.7.3"
  }
 },
 "nbformat": 4,
 "nbformat_minor": 2
}
